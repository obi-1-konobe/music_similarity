{
 "cells": [
  {
   "cell_type": "code",
   "execution_count": 1,
   "metadata": {},
   "outputs": [],
   "source": [
    "import os\n",
    "import random\n",
    "import pickle\n",
    "import torch\n",
    "import torchvision\n",
    "import pandas as pd\n",
    "import numpy as np"
   ]
  },
  {
   "cell_type": "code",
   "execution_count": 2,
   "metadata": {},
   "outputs": [
    {
     "data": {
      "text/plain": [
       "device(type='cuda', index=0)"
      ]
     },
     "execution_count": 2,
     "metadata": {},
     "output_type": "execute_result"
    }
   ],
   "source": [
    "device = torch.device(\"cuda:0\" if torch.cuda.is_available() else \"cpu\")\n",
    "device"
   ]
  },
  {
   "cell_type": "code",
   "execution_count": 3,
   "metadata": {},
   "outputs": [],
   "source": [
    "random.seed(123)\n",
    "np.random.seed(123)\n",
    "torch.manual_seed(123)\n",
    "torch.cuda.manual_seed(123)\n",
    "torch.backends.cudnn.deterministic = True"
   ]
  },
  {
   "cell_type": "code",
   "execution_count": 41,
   "metadata": {},
   "outputs": [],
   "source": [
    "with open('../pickles_for_git/main_dict.pickle', 'rb') as f:\n",
    "    main_dict = pickle.load(f)"
   ]
  },
  {
   "cell_type": "code",
   "execution_count": 42,
   "metadata": {},
   "outputs": [
    {
     "data": {
      "text/plain": [
       "{'artist_name': 'AWOL',\n",
       " 'track_title': 'Food',\n",
       " 'artist_tags': [('post-punk', '100'),\n",
       "  ('hardcore', '80'),\n",
       "  ('rock', '60'),\n",
       "  ('punk', '60'),\n",
       "  ('hardcore punk', '60'),\n",
       "  ('Progressive metal', '40'),\n",
       "  ('Bumblefoot', '40'),\n",
       "  ('Ron Thal', '40'),\n",
       "  ('metalcore', '20'),\n",
       "  ('Hip-Hop', '20')],\n",
       " 'track_tags': [],\n",
       " 'similar_tracks': [],\n",
       " 'similar_list': [],\n",
       " 'genre': 'Hip-Hop',\n",
       " 'all_genres': '[21]',\n",
       " 'fma_tags': '[]',\n",
       " 'all_tags': ['hip_hop',\n",
       "  'detroit',\n",
       "  'rap',\n",
       "  'gangsta',\n",
       "  'midwest',\n",
       "  'midwest rap',\n",
       "  'gangsta',\n",
       "  'black',\n",
       "  'black music',\n",
       "  'flow']}"
      ]
     },
     "execution_count": 42,
     "metadata": {},
     "output_type": "execute_result"
    }
   ],
   "source": [
    "main_dict[2]"
   ]
  },
  {
   "cell_type": "code",
   "execution_count": 43,
   "metadata": {},
   "outputs": [],
   "source": [
    "def get_score(x, y):\n",
    "    answer_tags = main_dict[x]['all_tags']\n",
    "    query_tags = main_dict[y]['all_tags']\n",
    "    score = 0\n",
    "    i = 0\n",
    "    for tag in answer_tags:\n",
    "        if tag in query_tags:\n",
    "            i += 1\n",
    "    if i == 0:\n",
    "        return 0\n",
    "\n",
    "    precision = i / len(answer_tags)\n",
    "    recall = i / len(query_tags)\n",
    "    score = 2 * precision * recall / (precision + recall)\n",
    "    return score\n",
    "        "
   ]
  },
  {
   "cell_type": "code",
   "execution_count": 44,
   "metadata": {},
   "outputs": [
    {
     "data": {
      "text/plain": [
       "0.7407407407407407"
      ]
     },
     "execution_count": 44,
     "metadata": {},
     "output_type": "execute_result"
    }
   ],
   "source": [
    "get_score(190, 621)"
   ]
  },
  {
   "cell_type": "code",
   "execution_count": 89,
   "metadata": {},
   "outputs": [],
   "source": [
    "positiv_pairs = dict()\n",
    "main_list = list(main_dict.keys())\n",
    "for i in range(len(main_dict)):\n",
    "    idx_1 = main_list[i]\n",
    "    if len(main_dict[idx_1]['all_tags']) < 3:\n",
    "        continue\n",
    "    positiv_pairs[idx_1] = list()\n",
    "    for j in range(len(main_dict)):\n",
    "        idx_2 = main_list[j]\n",
    "        if idx_2 == idx_1:\n",
    "            continue\n",
    "        if set(main_dict[idx_1]['all_genres']) != set(main_dict[idx_2]['all_genres']):\n",
    "            continue\n",
    "        score = get_score(idx_1, idx_2)\n",
    "        if score >= 0.4:\n",
    "            positiv_pairs[idx_1].append(idx_2)\n",
    "    if len(positiv_pairs[idx_1]) == 0:\n",
    "        positiv_pairs.pop(idx_1)\n",
    "            \n",
    "            \n",
    "        \n",
    "            "
   ]
  },
  {
   "cell_type": "code",
   "execution_count": 91,
   "metadata": {},
   "outputs": [
    {
     "data": {
      "text/plain": [
       "6560"
      ]
     },
     "execution_count": 91,
     "metadata": {},
     "output_type": "execute_result"
    }
   ],
   "source": [
    "len(positiv_pairs)"
   ]
  },
  {
   "cell_type": "code",
   "execution_count": 96,
   "metadata": {},
   "outputs": [],
   "source": [
    "with open('../pickles_for_git/positiv.p', 'wb') as f:\n",
    "    pickle.dump(positiv_pairs, f)"
   ]
  },
  {
   "cell_type": "code",
   "execution_count": 97,
   "metadata": {},
   "outputs": [],
   "source": [
    "negativ_pairs = dict()\n",
    "main_list = list(main_dict.keys())\n",
    "for i in range(len(main_dict)):\n",
    "    idx_1 = main_list[i]\n",
    "    if len(main_dict[idx_1]['all_tags']) < 3:\n",
    "        continue\n",
    "    negativ_pairs[idx_1] = list()\n",
    "    for j in range(len(main_dict)):\n",
    "        idx_2 = main_list[j]\n",
    "        if idx_2 == idx_1:\n",
    "            continue\n",
    "        if len(set(main_dict[idx_1]['all_tags']) & set(main_dict[idx_2]['all_tags'])) == 0:\n",
    "            negativ_pairs[idx_1].append(idx_2)\n",
    "    if len(negativ_pairs[idx_1]) == 0:\n",
    "        negativ_pairs.pop(idx_1)"
   ]
  },
  {
   "cell_type": "code",
   "execution_count": 98,
   "metadata": {},
   "outputs": [
    {
     "data": {
      "text/plain": [
       "6843"
      ]
     },
     "execution_count": 98,
     "metadata": {},
     "output_type": "execute_result"
    }
   ],
   "source": [
    "len(negativ_pairs)"
   ]
  },
  {
   "cell_type": "code",
   "execution_count": 99,
   "metadata": {},
   "outputs": [],
   "source": [
    "with open('../pickles_for_git/negativ.p', 'wb') as f:\n",
    "    pickle.dump(negativ_pairs, f)"
   ]
  },
  {
   "cell_type": "code",
   "execution_count": 100,
   "metadata": {},
   "outputs": [
    {
     "data": {
      "text/plain": [
       "(7897, 2049)"
      ]
     },
     "execution_count": 100,
     "metadata": {},
     "output_type": "execute_result"
    }
   ],
   "source": [
    "df_train = pd.read_csv('../data/csv/train.csv')\n",
    "df_train.shape"
   ]
  },
  {
   "cell_type": "code",
   "execution_count": 103,
   "metadata": {},
   "outputs": [
    {
     "data": {
      "text/html": [
       "<div>\n",
       "<style scoped>\n",
       "    .dataframe tbody tr th:only-of-type {\n",
       "        vertical-align: middle;\n",
       "    }\n",
       "\n",
       "    .dataframe tbody tr th {\n",
       "        vertical-align: top;\n",
       "    }\n",
       "\n",
       "    .dataframe thead th {\n",
       "        text-align: right;\n",
       "    }\n",
       "</style>\n",
       "<table border=\"1\" class=\"dataframe\">\n",
       "  <thead>\n",
       "    <tr style=\"text-align: right;\">\n",
       "      <th></th>\n",
       "      <th>id</th>\n",
       "      <th>0</th>\n",
       "      <th>1</th>\n",
       "      <th>2</th>\n",
       "      <th>3</th>\n",
       "      <th>4</th>\n",
       "      <th>5</th>\n",
       "      <th>6</th>\n",
       "      <th>7</th>\n",
       "      <th>8</th>\n",
       "      <th>...</th>\n",
       "      <th>2038</th>\n",
       "      <th>2039</th>\n",
       "      <th>2040</th>\n",
       "      <th>2041</th>\n",
       "      <th>2042</th>\n",
       "      <th>2043</th>\n",
       "      <th>2044</th>\n",
       "      <th>2045</th>\n",
       "      <th>2046</th>\n",
       "      <th>2047</th>\n",
       "    </tr>\n",
       "  </thead>\n",
       "  <tbody>\n",
       "    <tr>\n",
       "      <th>4395</th>\n",
       "      <td>44780</td>\n",
       "      <td>0.021842</td>\n",
       "      <td>3.180349</td>\n",
       "      <td>3.496266</td>\n",
       "      <td>3.066512</td>\n",
       "      <td>2.382225</td>\n",
       "      <td>1.643121</td>\n",
       "      <td>2.912350</td>\n",
       "      <td>3.459743</td>\n",
       "      <td>0.107625</td>\n",
       "      <td>...</td>\n",
       "      <td>1.150135</td>\n",
       "      <td>9.767879</td>\n",
       "      <td>4.304694</td>\n",
       "      <td>0.760868</td>\n",
       "      <td>2.013256</td>\n",
       "      <td>2.232111</td>\n",
       "      <td>0.0</td>\n",
       "      <td>4.238208</td>\n",
       "      <td>2.349661</td>\n",
       "      <td>1.868011</td>\n",
       "    </tr>\n",
       "    <tr>\n",
       "      <th>6896</th>\n",
       "      <td>143303</td>\n",
       "      <td>0.000000</td>\n",
       "      <td>0.000000</td>\n",
       "      <td>7.167964</td>\n",
       "      <td>0.000000</td>\n",
       "      <td>0.000000</td>\n",
       "      <td>0.000000</td>\n",
       "      <td>0.000000</td>\n",
       "      <td>0.000000</td>\n",
       "      <td>0.000000</td>\n",
       "      <td>...</td>\n",
       "      <td>0.050632</td>\n",
       "      <td>0.225793</td>\n",
       "      <td>5.762378</td>\n",
       "      <td>1.829636</td>\n",
       "      <td>3.967636</td>\n",
       "      <td>2.907128</td>\n",
       "      <td>0.0</td>\n",
       "      <td>2.200015</td>\n",
       "      <td>1.308771</td>\n",
       "      <td>2.882554</td>\n",
       "    </tr>\n",
       "    <tr>\n",
       "      <th>5979</th>\n",
       "      <td>127996</td>\n",
       "      <td>0.577016</td>\n",
       "      <td>0.000000</td>\n",
       "      <td>4.992959</td>\n",
       "      <td>1.591914</td>\n",
       "      <td>0.385836</td>\n",
       "      <td>0.000000</td>\n",
       "      <td>0.000000</td>\n",
       "      <td>0.000000</td>\n",
       "      <td>0.000000</td>\n",
       "      <td>...</td>\n",
       "      <td>0.000000</td>\n",
       "      <td>0.000000</td>\n",
       "      <td>6.769474</td>\n",
       "      <td>1.655986</td>\n",
       "      <td>4.638580</td>\n",
       "      <td>4.655748</td>\n",
       "      <td>0.0</td>\n",
       "      <td>3.559631</td>\n",
       "      <td>2.663797</td>\n",
       "      <td>5.568622</td>\n",
       "    </tr>\n",
       "    <tr>\n",
       "      <th>854</th>\n",
       "      <td>98549</td>\n",
       "      <td>6.648037</td>\n",
       "      <td>9.589069</td>\n",
       "      <td>7.298048</td>\n",
       "      <td>2.744189</td>\n",
       "      <td>3.121323</td>\n",
       "      <td>0.419662</td>\n",
       "      <td>4.266093</td>\n",
       "      <td>4.569069</td>\n",
       "      <td>0.545057</td>\n",
       "      <td>...</td>\n",
       "      <td>6.130232</td>\n",
       "      <td>5.913578</td>\n",
       "      <td>0.000000</td>\n",
       "      <td>0.000000</td>\n",
       "      <td>4.360894</td>\n",
       "      <td>0.000000</td>\n",
       "      <td>0.0</td>\n",
       "      <td>5.975849</td>\n",
       "      <td>0.102119</td>\n",
       "      <td>1.756808</td>\n",
       "    </tr>\n",
       "    <tr>\n",
       "      <th>912</th>\n",
       "      <td>99364</td>\n",
       "      <td>1.581861</td>\n",
       "      <td>2.432273</td>\n",
       "      <td>5.686580</td>\n",
       "      <td>1.292741</td>\n",
       "      <td>0.429636</td>\n",
       "      <td>0.024540</td>\n",
       "      <td>0.915842</td>\n",
       "      <td>2.869539</td>\n",
       "      <td>0.521775</td>\n",
       "      <td>...</td>\n",
       "      <td>0.143558</td>\n",
       "      <td>8.438079</td>\n",
       "      <td>2.256808</td>\n",
       "      <td>3.168467</td>\n",
       "      <td>3.419915</td>\n",
       "      <td>3.590786</td>\n",
       "      <td>0.0</td>\n",
       "      <td>4.209648</td>\n",
       "      <td>2.885381</td>\n",
       "      <td>2.650276</td>\n",
       "    </tr>\n",
       "  </tbody>\n",
       "</table>\n",
       "<p>5 rows × 2049 columns</p>\n",
       "</div>"
      ],
      "text/plain": [
       "          id         0         1         2         3         4         5  \\\n",
       "4395   44780  0.021842  3.180349  3.496266  3.066512  2.382225  1.643121   \n",
       "6896  143303  0.000000  0.000000  7.167964  0.000000  0.000000  0.000000   \n",
       "5979  127996  0.577016  0.000000  4.992959  1.591914  0.385836  0.000000   \n",
       "854    98549  6.648037  9.589069  7.298048  2.744189  3.121323  0.419662   \n",
       "912    99364  1.581861  2.432273  5.686580  1.292741  0.429636  0.024540   \n",
       "\n",
       "             6         7         8  ...      2038      2039      2040  \\\n",
       "4395  2.912350  3.459743  0.107625  ...  1.150135  9.767879  4.304694   \n",
       "6896  0.000000  0.000000  0.000000  ...  0.050632  0.225793  5.762378   \n",
       "5979  0.000000  0.000000  0.000000  ...  0.000000  0.000000  6.769474   \n",
       "854   4.266093  4.569069  0.545057  ...  6.130232  5.913578  0.000000   \n",
       "912   0.915842  2.869539  0.521775  ...  0.143558  8.438079  2.256808   \n",
       "\n",
       "          2041      2042      2043  2044      2045      2046      2047  \n",
       "4395  0.760868  2.013256  2.232111   0.0  4.238208  2.349661  1.868011  \n",
       "6896  1.829636  3.967636  2.907128   0.0  2.200015  1.308771  2.882554  \n",
       "5979  1.655986  4.638580  4.655748   0.0  3.559631  2.663797  5.568622  \n",
       "854   0.000000  4.360894  0.000000   0.0  5.975849  0.102119  1.756808  \n",
       "912   3.168467  3.419915  3.590786   0.0  4.209648  2.885381  2.650276  \n",
       "\n",
       "[5 rows x 2049 columns]"
      ]
     },
     "execution_count": 103,
     "metadata": {},
     "output_type": "execute_result"
    }
   ],
   "source": [
    "df_train.sample(5)"
   ]
  },
  {
   "cell_type": "code",
   "execution_count": 104,
   "metadata": {},
   "outputs": [],
   "source": [
    "train_idx = df_train.id.values"
   ]
  },
  {
   "cell_type": "code",
   "execution_count": 107,
   "metadata": {},
   "outputs": [
    {
     "data": {
      "text/plain": [
       "array([     5,     10,    140, ..., 153337, 154303, 154306])"
      ]
     },
     "execution_count": 107,
     "metadata": {},
     "output_type": "execute_result"
    }
   ],
   "source": [
    "train_idx"
   ]
  },
  {
   "cell_type": "code",
   "execution_count": 108,
   "metadata": {},
   "outputs": [
    {
     "data": {
      "text/plain": [
       "136322"
      ]
     },
     "execution_count": 108,
     "metadata": {},
     "output_type": "execute_result"
    }
   ],
   "source": [
    "np.random.choice(train_idx, 1, replace=False)[0]"
   ]
  },
  {
   "cell_type": "code",
   "execution_count": 141,
   "metadata": {},
   "outputs": [],
   "source": [
    "i = 0\n",
    "triplet = list()\n",
    "while i < 10000:\n",
    "    query_id = np.random.choice(train_idx, 1, replace=False)[0]\n",
    "    try:\n",
    "        p_id = np.random.choice(positiv_pairs[query_id], 1, replace=False)[0]\n",
    "        n_id = np.random.choice(negativ_pairs[query_id], 1, replace=False)[0]\n",
    "    except KeyError:\n",
    "        continue\n",
    "    \n",
    "    if p_id not in train_idx or n_id not in train_idx:\n",
    "        continue\n",
    "    if (query_id, p_id, n_id) not in triplet:\n",
    "        triplet.append((query_id, p_id, n_id))\n",
    "        i += 1"
   ]
  },
  {
   "cell_type": "code",
   "execution_count": 142,
   "metadata": {},
   "outputs": [
    {
     "data": {
      "text/plain": [
       "10000"
      ]
     },
     "execution_count": 142,
     "metadata": {},
     "output_type": "execute_result"
    }
   ],
   "source": [
    "len(triplet)"
   ]
  },
  {
   "cell_type": "code",
   "execution_count": 143,
   "metadata": {},
   "outputs": [
    {
     "data": {
      "text/plain": [
       "5112"
      ]
     },
     "execution_count": 143,
     "metadata": {},
     "output_type": "execute_result"
    }
   ],
   "source": [
    "len(set([x[0] for x in triplet]))"
   ]
  },
  {
   "cell_type": "code",
   "execution_count": 144,
   "metadata": {},
   "outputs": [
    {
     "data": {
      "text/plain": [
       "(141139, 111793, 46842)"
      ]
     },
     "execution_count": 144,
     "metadata": {},
     "output_type": "execute_result"
    }
   ],
   "source": [
    "triplet[0]"
   ]
  },
  {
   "cell_type": "code",
   "execution_count": 145,
   "metadata": {},
   "outputs": [],
   "source": [
    "def find_img_path(idx):\n",
    "    name = f'{idx:06}.png'\n",
    "    base_path = '../data/spectrograms/train/'\n",
    "    for address, dirs, files in os.walk(base_path):\n",
    "        for img in files:\n",
    "            if img == name:\n",
    "                img_path = address + '/' + img\n",
    "                return img_path\n",
    "    print(name)"
   ]
  },
  {
   "cell_type": "code",
   "execution_count": 147,
   "metadata": {},
   "outputs": [],
   "source": [
    "trpl_with_path = [(find_img_path(x[0]), find_img_path(x[1]), find_img_path(x[2])) for x in triplet]"
   ]
  },
  {
   "cell_type": "code",
   "execution_count": 148,
   "metadata": {},
   "outputs": [
    {
     "data": {
      "text/plain": [
       "('../data/spectrograms/train/train/Instrumental/141139.png',\n",
       " '../data/spectrograms/train/train/Instrumental/111793.png',\n",
       " '../data/spectrograms/train/train/Pop/046842.png')"
      ]
     },
     "execution_count": 148,
     "metadata": {},
     "output_type": "execute_result"
    }
   ],
   "source": [
    "trpl_with_path[0]"
   ]
  },
  {
   "cell_type": "code",
   "execution_count": 152,
   "metadata": {},
   "outputs": [],
   "source": [
    "with open('../pickles_for_git/triplets.p', 'wb') as f:\n",
    "    pickle.dump(trpl_with_path, f)"
   ]
  },
  {
   "cell_type": "code",
   "execution_count": 153,
   "metadata": {},
   "outputs": [],
   "source": [
    "with open('../pickles_for_git/triplets.p', 'rb') as f:\n",
    "    tripls = pickle.load(f)"
   ]
  },
  {
   "cell_type": "code",
   "execution_count": 154,
   "metadata": {},
   "outputs": [
    {
     "data": {
      "text/plain": [
       "('../data/spectrograms/train/train/Instrumental/141139.png',\n",
       " '../data/spectrograms/train/train/Instrumental/111793.png',\n",
       " '../data/spectrograms/train/train/Pop/046842.png')"
      ]
     },
     "execution_count": 154,
     "metadata": {},
     "output_type": "execute_result"
    }
   ],
   "source": [
    "tripls[0]"
   ]
  },
  {
   "cell_type": "code",
   "execution_count": null,
   "metadata": {},
   "outputs": [],
   "source": []
  }
 ],
 "metadata": {
  "kernelspec": {
   "display_name": "dp_project",
   "language": "python",
   "name": "venv"
  },
  "language_info": {
   "codemirror_mode": {
    "name": "ipython",
    "version": 3
   },
   "file_extension": ".py",
   "mimetype": "text/x-python",
   "name": "python",
   "nbconvert_exporter": "python",
   "pygments_lexer": "ipython3",
   "version": "3.6.9"
  }
 },
 "nbformat": 4,
 "nbformat_minor": 4
}
