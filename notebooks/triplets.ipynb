{
 "cells": [
  {
   "cell_type": "code",
   "execution_count": 1,
   "metadata": {},
   "outputs": [],
   "source": [
    "import os\n",
    "import random\n",
    "import pickle\n",
    "import torch\n",
    "import torchvision\n",
    "import pandas as pd\n",
    "import numpy as np"
   ]
  },
  {
   "cell_type": "code",
   "execution_count": 2,
   "metadata": {},
   "outputs": [],
   "source": [
    "with open('../data/pickles/main_dict.pickle', 'rb') as f:\n",
    "    main_dict = pickle.load(f)"
   ]
  },
  {
   "cell_type": "code",
   "execution_count": 3,
   "metadata": {},
   "outputs": [],
   "source": [
    "def get_score(x, y):\n",
    "    answer_tags = main_dict[x]['all_tags']\n",
    "    query_tags = main_dict[y]['all_tags']\n",
    "    score = 0\n",
    "    i = 0\n",
    "    for tag in answer_tags:\n",
    "        if tag in query_tags:\n",
    "            i += 1\n",
    "    if i == 0:\n",
    "        return 0\n",
    "\n",
    "    precision = i / len(answer_tags)\n",
    "    recall = i / len(query_tags)\n",
    "    score = 2 * precision * recall / (precision + recall)\n",
    "    return score\n",
    "        "
   ]
  },
  {
   "cell_type": "code",
   "execution_count": 4,
   "metadata": {},
   "outputs": [
    {
     "data": {
      "text/plain": [
       "0.7407407407407407"
      ]
     },
     "execution_count": 4,
     "metadata": {},
     "output_type": "execute_result"
    }
   ],
   "source": [
    "get_score(190, 621)"
   ]
  },
  {
   "cell_type": "code",
   "execution_count": 5,
   "metadata": {},
   "outputs": [
    {
     "ename": "KeyboardInterrupt",
     "evalue": "",
     "output_type": "error",
     "traceback": [
      "\u001b[0;31m---------------------------------------------------------------------------\u001b[0m",
      "\u001b[0;31mKeyboardInterrupt\u001b[0m                         Traceback (most recent call last)",
      "\u001b[0;32m<ipython-input-5-5930c0653e5a>\u001b[0m in \u001b[0;36m<module>\u001b[0;34m\u001b[0m\n\u001b[1;32m      8\u001b[0m     \u001b[0;32mfor\u001b[0m \u001b[0mj\u001b[0m \u001b[0;32min\u001b[0m \u001b[0mrange\u001b[0m\u001b[0;34m(\u001b[0m\u001b[0mlen\u001b[0m\u001b[0;34m(\u001b[0m\u001b[0mmain_dict\u001b[0m\u001b[0;34m)\u001b[0m\u001b[0;34m)\u001b[0m\u001b[0;34m:\u001b[0m\u001b[0;34m\u001b[0m\u001b[0;34m\u001b[0m\u001b[0m\n\u001b[1;32m      9\u001b[0m         \u001b[0midx_2\u001b[0m \u001b[0;34m=\u001b[0m \u001b[0mmain_list\u001b[0m\u001b[0;34m[\u001b[0m\u001b[0mj\u001b[0m\u001b[0;34m]\u001b[0m\u001b[0;34m\u001b[0m\u001b[0;34m\u001b[0m\u001b[0m\n\u001b[0;32m---> 10\u001b[0;31m         \u001b[0;32mif\u001b[0m \u001b[0midx_2\u001b[0m \u001b[0;34m==\u001b[0m \u001b[0midx_1\u001b[0m\u001b[0;34m:\u001b[0m\u001b[0;34m\u001b[0m\u001b[0;34m\u001b[0m\u001b[0m\n\u001b[0m\u001b[1;32m     11\u001b[0m             \u001b[0;32mcontinue\u001b[0m\u001b[0;34m\u001b[0m\u001b[0;34m\u001b[0m\u001b[0m\n\u001b[1;32m     12\u001b[0m         \u001b[0;32mif\u001b[0m \u001b[0mset\u001b[0m\u001b[0;34m(\u001b[0m\u001b[0mmain_dict\u001b[0m\u001b[0;34m[\u001b[0m\u001b[0midx_1\u001b[0m\u001b[0;34m]\u001b[0m\u001b[0;34m[\u001b[0m\u001b[0;34m'all_genres'\u001b[0m\u001b[0;34m]\u001b[0m\u001b[0;34m)\u001b[0m \u001b[0;34m!=\u001b[0m \u001b[0mset\u001b[0m\u001b[0;34m(\u001b[0m\u001b[0mmain_dict\u001b[0m\u001b[0;34m[\u001b[0m\u001b[0midx_2\u001b[0m\u001b[0;34m]\u001b[0m\u001b[0;34m[\u001b[0m\u001b[0;34m'all_genres'\u001b[0m\u001b[0;34m]\u001b[0m\u001b[0;34m)\u001b[0m\u001b[0;34m:\u001b[0m\u001b[0;34m\u001b[0m\u001b[0;34m\u001b[0m\u001b[0m\n",
      "\u001b[0;31mKeyboardInterrupt\u001b[0m: "
     ]
    }
   ],
   "source": [
    "positiv_pairs = dict()\n",
    "main_list = list(main_dict.keys())\n",
    "for i in range(len(main_dict)):\n",
    "    idx_1 = main_list[i]\n",
    "    if len(main_dict[idx_1]['all_tags']) < 3:\n",
    "        continue\n",
    "    positiv_pairs[idx_1] = list()\n",
    "    for j in range(len(main_dict)):\n",
    "        idx_2 = main_list[j]\n",
    "        if idx_2 == idx_1:\n",
    "            continue\n",
    "        if set(main_dict[idx_1]['all_genres']) != set(main_dict[idx_2]['all_genres']):\n",
    "            continue\n",
    "        score = get_score(idx_1, idx_2)\n",
    "        if score >= 0.4:\n",
    "            positiv_pairs[idx_1].append(idx_2)\n",
    "    if len(positiv_pairs[idx_1]) == 0:\n",
    "        positiv_pairs.pop(idx_1)\n",
    "            \n",
    "            \n",
    "        \n",
    "            "
   ]
  },
  {
   "cell_type": "code",
   "execution_count": null,
   "metadata": {},
   "outputs": [],
   "source": [
    "len(positiv_pairs)"
   ]
  },
  {
   "cell_type": "code",
   "execution_count": 96,
   "metadata": {},
   "outputs": [],
   "source": [
    "with open('../pickles_for_git/positiv.p', 'wb') as f:\n",
    "    pickle.dump(positiv_pairs, f)"
   ]
  },
  {
   "cell_type": "code",
   "execution_count": 97,
   "metadata": {},
   "outputs": [],
   "source": [
    "negativ_pairs = dict()\n",
    "main_list = list(main_dict.keys())\n",
    "for i in range(len(main_dict)):\n",
    "    idx_1 = main_list[i]\n",
    "    if len(main_dict[idx_1]['all_tags']) < 3:\n",
    "        continue\n",
    "    negativ_pairs[idx_1] = list()\n",
    "    for j in range(len(main_dict)):\n",
    "        idx_2 = main_list[j]\n",
    "        if idx_2 == idx_1:\n",
    "            continue\n",
    "        if len(set(main_dict[idx_1]['all_tags']) & set(main_dict[idx_2]['all_tags'])) == 0:\n",
    "            negativ_pairs[idx_1].append(idx_2)\n",
    "    if len(negativ_pairs[idx_1]) == 0:\n",
    "        negativ_pairs.pop(idx_1)"
   ]
  },
  {
   "cell_type": "code",
   "execution_count": 98,
   "metadata": {},
   "outputs": [
    {
     "data": {
      "text/plain": [
       "6843"
      ]
     },
     "execution_count": 98,
     "metadata": {},
     "output_type": "execute_result"
    }
   ],
   "source": [
    "len(negativ_pairs)"
   ]
  },
  {
   "cell_type": "code",
   "execution_count": 99,
   "metadata": {},
   "outputs": [],
   "source": [
    "with open('../pickles_for_git/negativ.p', 'wb') as f:\n",
    "    pickle.dump(negativ_pairs, f)"
   ]
  },
  {
   "cell_type": "code",
   "execution_count": 6,
   "metadata": {},
   "outputs": [
    {
     "data": {
      "text/plain": [
       "(7897, 2049)"
      ]
     },
     "execution_count": 6,
     "metadata": {},
     "output_type": "execute_result"
    }
   ],
   "source": [
    "df_train = pd.read_csv('../data/csv/train.csv')\n",
    "df_train.shape"
   ]
  },
  {
   "cell_type": "code",
   "execution_count": 7,
   "metadata": {},
   "outputs": [
    {
     "data": {
      "text/html": [
       "<div>\n",
       "<style scoped>\n",
       "    .dataframe tbody tr th:only-of-type {\n",
       "        vertical-align: middle;\n",
       "    }\n",
       "\n",
       "    .dataframe tbody tr th {\n",
       "        vertical-align: top;\n",
       "    }\n",
       "\n",
       "    .dataframe thead th {\n",
       "        text-align: right;\n",
       "    }\n",
       "</style>\n",
       "<table border=\"1\" class=\"dataframe\">\n",
       "  <thead>\n",
       "    <tr style=\"text-align: right;\">\n",
       "      <th></th>\n",
       "      <th>id</th>\n",
       "      <th>0</th>\n",
       "      <th>1</th>\n",
       "      <th>2</th>\n",
       "      <th>3</th>\n",
       "      <th>4</th>\n",
       "      <th>5</th>\n",
       "      <th>6</th>\n",
       "      <th>7</th>\n",
       "      <th>8</th>\n",
       "      <th>...</th>\n",
       "      <th>2038</th>\n",
       "      <th>2039</th>\n",
       "      <th>2040</th>\n",
       "      <th>2041</th>\n",
       "      <th>2042</th>\n",
       "      <th>2043</th>\n",
       "      <th>2044</th>\n",
       "      <th>2045</th>\n",
       "      <th>2046</th>\n",
       "      <th>2047</th>\n",
       "    </tr>\n",
       "  </thead>\n",
       "  <tbody>\n",
       "    <tr>\n",
       "      <th>3296</th>\n",
       "      <td>26008</td>\n",
       "      <td>4.617371</td>\n",
       "      <td>8.720132</td>\n",
       "      <td>8.669876</td>\n",
       "      <td>0.992930</td>\n",
       "      <td>0.000000</td>\n",
       "      <td>2.674375</td>\n",
       "      <td>7.227406</td>\n",
       "      <td>2.502406</td>\n",
       "      <td>0.901238</td>\n",
       "      <td>...</td>\n",
       "      <td>3.745683</td>\n",
       "      <td>5.172704</td>\n",
       "      <td>6.297438</td>\n",
       "      <td>5.225374</td>\n",
       "      <td>0.000000</td>\n",
       "      <td>0.000000</td>\n",
       "      <td>0.0</td>\n",
       "      <td>1.590548</td>\n",
       "      <td>0.000000</td>\n",
       "      <td>0.189794</td>\n",
       "    </tr>\n",
       "    <tr>\n",
       "      <th>1458</th>\n",
       "      <td>80000</td>\n",
       "      <td>3.929991</td>\n",
       "      <td>2.650877</td>\n",
       "      <td>6.394147</td>\n",
       "      <td>2.109811</td>\n",
       "      <td>0.000000</td>\n",
       "      <td>1.332203</td>\n",
       "      <td>2.111559</td>\n",
       "      <td>3.409339</td>\n",
       "      <td>0.119490</td>\n",
       "      <td>...</td>\n",
       "      <td>2.503194</td>\n",
       "      <td>5.912471</td>\n",
       "      <td>7.428972</td>\n",
       "      <td>1.818782</td>\n",
       "      <td>1.278589</td>\n",
       "      <td>3.234374</td>\n",
       "      <td>0.0</td>\n",
       "      <td>1.734027</td>\n",
       "      <td>0.653902</td>\n",
       "      <td>1.996290</td>\n",
       "    </tr>\n",
       "    <tr>\n",
       "      <th>1517</th>\n",
       "      <td>81555</td>\n",
       "      <td>3.082262</td>\n",
       "      <td>1.950925</td>\n",
       "      <td>7.217719</td>\n",
       "      <td>0.271827</td>\n",
       "      <td>0.082024</td>\n",
       "      <td>0.000000</td>\n",
       "      <td>5.266066</td>\n",
       "      <td>0.000000</td>\n",
       "      <td>2.872050</td>\n",
       "      <td>...</td>\n",
       "      <td>3.409176</td>\n",
       "      <td>0.631545</td>\n",
       "      <td>10.590041</td>\n",
       "      <td>6.902850</td>\n",
       "      <td>0.807486</td>\n",
       "      <td>1.786445</td>\n",
       "      <td>0.0</td>\n",
       "      <td>1.934831</td>\n",
       "      <td>2.492859</td>\n",
       "      <td>0.834827</td>\n",
       "    </tr>\n",
       "    <tr>\n",
       "      <th>3897</th>\n",
       "      <td>125160</td>\n",
       "      <td>3.129672</td>\n",
       "      <td>6.073639</td>\n",
       "      <td>5.953879</td>\n",
       "      <td>2.659724</td>\n",
       "      <td>2.994831</td>\n",
       "      <td>0.195992</td>\n",
       "      <td>2.974214</td>\n",
       "      <td>1.041844</td>\n",
       "      <td>2.424673</td>\n",
       "      <td>...</td>\n",
       "      <td>4.002719</td>\n",
       "      <td>4.819555</td>\n",
       "      <td>4.598737</td>\n",
       "      <td>2.688082</td>\n",
       "      <td>3.801705</td>\n",
       "      <td>0.000000</td>\n",
       "      <td>0.0</td>\n",
       "      <td>5.789520</td>\n",
       "      <td>2.482530</td>\n",
       "      <td>1.525012</td>\n",
       "    </tr>\n",
       "    <tr>\n",
       "      <th>6270</th>\n",
       "      <td>132456</td>\n",
       "      <td>0.000000</td>\n",
       "      <td>2.319759</td>\n",
       "      <td>4.775220</td>\n",
       "      <td>1.698771</td>\n",
       "      <td>1.386433</td>\n",
       "      <td>0.000000</td>\n",
       "      <td>1.952732</td>\n",
       "      <td>0.000000</td>\n",
       "      <td>0.000000</td>\n",
       "      <td>...</td>\n",
       "      <td>0.000000</td>\n",
       "      <td>5.881092</td>\n",
       "      <td>5.072213</td>\n",
       "      <td>1.153139</td>\n",
       "      <td>6.719053</td>\n",
       "      <td>7.849669</td>\n",
       "      <td>0.0</td>\n",
       "      <td>4.607787</td>\n",
       "      <td>2.203102</td>\n",
       "      <td>5.885794</td>\n",
       "    </tr>\n",
       "  </tbody>\n",
       "</table>\n",
       "<p>5 rows × 2049 columns</p>\n",
       "</div>"
      ],
      "text/plain": [
       "          id         0         1         2         3         4         5  \\\n",
       "3296   26008  4.617371  8.720132  8.669876  0.992930  0.000000  2.674375   \n",
       "1458   80000  3.929991  2.650877  6.394147  2.109811  0.000000  1.332203   \n",
       "1517   81555  3.082262  1.950925  7.217719  0.271827  0.082024  0.000000   \n",
       "3897  125160  3.129672  6.073639  5.953879  2.659724  2.994831  0.195992   \n",
       "6270  132456  0.000000  2.319759  4.775220  1.698771  1.386433  0.000000   \n",
       "\n",
       "             6         7         8  ...      2038      2039       2040  \\\n",
       "3296  7.227406  2.502406  0.901238  ...  3.745683  5.172704   6.297438   \n",
       "1458  2.111559  3.409339  0.119490  ...  2.503194  5.912471   7.428972   \n",
       "1517  5.266066  0.000000  2.872050  ...  3.409176  0.631545  10.590041   \n",
       "3897  2.974214  1.041844  2.424673  ...  4.002719  4.819555   4.598737   \n",
       "6270  1.952732  0.000000  0.000000  ...  0.000000  5.881092   5.072213   \n",
       "\n",
       "          2041      2042      2043  2044      2045      2046      2047  \n",
       "3296  5.225374  0.000000  0.000000   0.0  1.590548  0.000000  0.189794  \n",
       "1458  1.818782  1.278589  3.234374   0.0  1.734027  0.653902  1.996290  \n",
       "1517  6.902850  0.807486  1.786445   0.0  1.934831  2.492859  0.834827  \n",
       "3897  2.688082  3.801705  0.000000   0.0  5.789520  2.482530  1.525012  \n",
       "6270  1.153139  6.719053  7.849669   0.0  4.607787  2.203102  5.885794  \n",
       "\n",
       "[5 rows x 2049 columns]"
      ]
     },
     "execution_count": 7,
     "metadata": {},
     "output_type": "execute_result"
    }
   ],
   "source": [
    "df_train.sample(5)"
   ]
  },
  {
   "cell_type": "code",
   "execution_count": 8,
   "metadata": {},
   "outputs": [],
   "source": [
    "train_idx = df_train.id.values"
   ]
  },
  {
   "cell_type": "code",
   "execution_count": 9,
   "metadata": {},
   "outputs": [
    {
     "data": {
      "text/plain": [
       "array([     5,     10,    140, ..., 153337, 154303, 154306])"
      ]
     },
     "execution_count": 9,
     "metadata": {},
     "output_type": "execute_result"
    }
   ],
   "source": [
    "train_idx"
   ]
  },
  {
   "cell_type": "code",
   "execution_count": 10,
   "metadata": {},
   "outputs": [
    {
     "data": {
      "text/plain": [
       "133976"
      ]
     },
     "execution_count": 10,
     "metadata": {},
     "output_type": "execute_result"
    }
   ],
   "source": [
    "np.random.choice(train_idx, 1, replace=False)[0]"
   ]
  },
  {
   "cell_type": "code",
   "execution_count": 12,
   "metadata": {},
   "outputs": [],
   "source": [
    "with open('../data/pickles/positiv.p', 'rb') as f:\n",
    "    positiv_pairs = pickle.load(f)\n",
    "\n",
    "with open('../data/pickles/negativ.p', 'rb') as f:\n",
    "    negativ_pairs = pickle.load(f)\n",
    "    \n",
    "with open('../data/pickles/triplets.p', 'rb') as f:\n",
    "    triplets = pickle.load(f)\n",
    "\n",
    "with open('../data/pickles/val_triplets.p', 'rb') as f:\n",
    "    val_triplets = pickle.load(f)"
   ]
  },
  {
   "cell_type": "code",
   "execution_count": 13,
   "metadata": {},
   "outputs": [],
   "source": [
    "all_trpl = triplets + val_triplets"
   ]
  },
  {
   "cell_type": "code",
   "execution_count": 14,
   "metadata": {},
   "outputs": [
    {
     "data": {
      "text/plain": [
       "12000"
      ]
     },
     "execution_count": 14,
     "metadata": {},
     "output_type": "execute_result"
    }
   ],
   "source": [
    "len(all_trpl)"
   ]
  },
  {
   "cell_type": "code",
   "execution_count": 15,
   "metadata": {},
   "outputs": [],
   "source": [
    "i = 0\n",
    "triplets_2 = list()\n",
    "while i < 10000:\n",
    "    query_id = np.random.choice(train_idx, 1, replace=False)[0]\n",
    "    try:\n",
    "        p_id = np.random.choice(positiv_pairs[query_id], 1, replace=False)[0]\n",
    "        n_id = np.random.choice(negativ_pairs[query_id], 1, replace=False)[0]\n",
    "    except KeyError:\n",
    "        continue\n",
    "    \n",
    "    if p_id not in train_idx or n_id not in train_idx:\n",
    "        continue\n",
    "    if (query_id, p_id, n_id) not in all_trpl and (query_id, p_id, n_id) not in triplets_2:\n",
    "        triplets_2.append((query_id, p_id, n_id))\n",
    "        i += 1"
   ]
  },
  {
   "cell_type": "code",
   "execution_count": 16,
   "metadata": {},
   "outputs": [
    {
     "data": {
      "text/plain": [
       "10000"
      ]
     },
     "execution_count": 16,
     "metadata": {},
     "output_type": "execute_result"
    }
   ],
   "source": [
    "len(triplets_2)"
   ]
  },
  {
   "cell_type": "code",
   "execution_count": 17,
   "metadata": {},
   "outputs": [
    {
     "data": {
      "text/plain": [
       "5092"
      ]
     },
     "execution_count": 17,
     "metadata": {},
     "output_type": "execute_result"
    }
   ],
   "source": [
    "len(set([x[0] for x in triplets_2]))"
   ]
  },
  {
   "cell_type": "code",
   "execution_count": 18,
   "metadata": {},
   "outputs": [
    {
     "data": {
      "text/plain": [
       "(69789, 30095, 141616)"
      ]
     },
     "execution_count": 18,
     "metadata": {},
     "output_type": "execute_result"
    }
   ],
   "source": [
    "triplets_2[0]"
   ]
  },
  {
   "cell_type": "code",
   "execution_count": 22,
   "metadata": {},
   "outputs": [],
   "source": [
    "def find_img_path(idx):\n",
    "    name = f'{idx:06}.png'\n",
    "    base_path = '../data/spectrograms/train/'\n",
    "    for address, dirs, files in os.walk(base_path):\n",
    "        for img in files:\n",
    "            if img == name:\n",
    "                img_path = address + '/' + img\n",
    "                return img_path\n",
    "    print(name)"
   ]
  },
  {
   "cell_type": "code",
   "execution_count": 27,
   "metadata": {},
   "outputs": [],
   "source": [
    "trpl_with_path = [(find_img_path(x[0]), find_img_path(x[1]), find_img_path(x[2])) for x in triplets_2]"
   ]
  },
  {
   "cell_type": "code",
   "execution_count": 28,
   "metadata": {},
   "outputs": [
    {
     "data": {
      "text/plain": [
       "('../data/spectrograms/train/train/Experimental/069789.png',\n",
       " '../data/spectrograms/train/train/Experimental/030095.png',\n",
       " '../data/spectrograms/train/train/Electronic/141616.png')"
      ]
     },
     "execution_count": 28,
     "metadata": {},
     "output_type": "execute_result"
    }
   ],
   "source": [
    "trpl_with_path[0]"
   ]
  },
  {
   "cell_type": "code",
   "execution_count": 29,
   "metadata": {},
   "outputs": [],
   "source": [
    "triplets_big = triplets + trpl_with_path"
   ]
  },
  {
   "cell_type": "code",
   "execution_count": 31,
   "metadata": {},
   "outputs": [],
   "source": [
    "with open('../data/pickles/triplets_big.p', 'wb') as f:\n",
    "    pickle.dump(triplets_big, f)"
   ]
  },
  {
   "cell_type": "code",
   "execution_count": 153,
   "metadata": {},
   "outputs": [],
   "source": [
    "with open('../pickles_for_git/triplets.p', 'rb') as f:\n",
    "    tripls = pickle.load(f)"
   ]
  },
  {
   "cell_type": "code",
   "execution_count": 154,
   "metadata": {},
   "outputs": [
    {
     "data": {
      "text/plain": [
       "('../data/spectrograms/train/train/Instrumental/141139.png',\n",
       " '../data/spectrograms/train/train/Instrumental/111793.png',\n",
       " '../data/spectrograms/train/train/Pop/046842.png')"
      ]
     },
     "execution_count": 154,
     "metadata": {},
     "output_type": "execute_result"
    }
   ],
   "source": [
    "tripls[0]"
   ]
  },
  {
   "cell_type": "code",
   "execution_count": 3,
   "metadata": {},
   "outputs": [],
   "source": [
    "with open('../data/pickles/val_triplets.p', 'rb') as f:\n",
    "    val_triplets = pickle.load(f)\n",
    "    \n",
    "with open('../data/pickles/triplets_big.p', 'rb') as f:\n",
    "    triplets = pickle.load(f)"
   ]
  },
  {
   "cell_type": "code",
   "execution_count": 8,
   "metadata": {},
   "outputs": [
    {
     "name": "stdout",
     "output_type": "stream",
     "text": [
      "['data/spectrograms/train/train/Instrumental/141139.png', 'data/spectrograms/train/train/Instrumental/111793.png', 'data/spectrograms/train/train/Pop/046842.png']\n"
     ]
    }
   ],
   "source": [
    "for i in triplets:\n",
    "    print([x[3:] for x in i])\n",
    "    break"
   ]
  },
  {
   "cell_type": "code",
   "execution_count": 7,
   "metadata": {},
   "outputs": [
    {
     "data": {
      "text/plain": [
       "('../data/spectrograms/train/train/Instrumental/141139.png',\n",
       " '../data/spectrograms/train/train/Instrumental/111793.png',\n",
       " '../data/spectrograms/train/train/Pop/046842.png')"
      ]
     },
     "execution_count": 7,
     "metadata": {},
     "output_type": "execute_result"
    }
   ],
   "source": [
    "triplets[0]"
   ]
  }
 ],
 "metadata": {
  "kernelspec": {
   "display_name": "dp_project",
   "language": "python",
   "name": "venv"
  },
  "language_info": {
   "codemirror_mode": {
    "name": "ipython",
    "version": 3
   },
   "file_extension": ".py",
   "mimetype": "text/x-python",
   "name": "python",
   "nbconvert_exporter": "python",
   "pygments_lexer": "ipython3",
   "version": "3.6.9"
  }
 },
 "nbformat": 4,
 "nbformat_minor": 4
}
