{
 "cells": [
  {
   "cell_type": "code",
   "execution_count": 78,
   "metadata": {},
   "outputs": [],
   "source": [
    "import pandas as pd\n",
    "import utils\n",
    "import pickle\n",
    "pd.set_option('display.max_columns', None)"
   ]
  },
  {
   "cell_type": "code",
   "execution_count": 95,
   "metadata": {},
   "outputs": [],
   "source": [
    "tracks = utils.load('../data/fma_metadata/tracks.csv')\n",
    "small = tracks[tracks['set', 'subset'] <= 'small']\n",
    "artist_name = small['artist', 'name']\n",
    "arist_id = small['artist', 'id']\n",
    "track_title = small['track', 'title']\n",
    "track_tags = small['track', 'tags']\n",
    "track_genre = small['track', 'genre_top']\n",
    "\n",
    "my_zip = zip(artist_name.values, track_title.values, small.values)\n",
    "zip_list = list(my_zip)"
   ]
  },
  {
   "cell_type": "code",
   "execution_count": 96,
   "metadata": {},
   "outputs": [
    {
     "data": {
      "text/plain": [
       "track_id\n",
       "64331       Electronic\n",
       "24432          Hip-Hop\n",
       "85343       Electronic\n",
       "105714            Folk\n",
       "71225          Hip-Hop\n",
       "109904            Folk\n",
       "73340       Electronic\n",
       "71509       Electronic\n",
       "108025    Instrumental\n",
       "52860     Experimental\n",
       "Name: (track, genre_top), dtype: object"
      ]
     },
     "execution_count": 96,
     "metadata": {},
     "output_type": "execute_result"
    }
   ],
   "source": [
    "small['track', 'genre_top'].sample(10)"
   ]
  },
  {
   "cell_type": "code",
   "execution_count": 87,
   "metadata": {},
   "outputs": [
    {
     "data": {
      "text/plain": [
       "MultiIndex([( 'album',          'comments'),\n",
       "            ( 'album',      'date_created'),\n",
       "            ( 'album',     'date_released'),\n",
       "            ( 'album',          'engineer'),\n",
       "            ( 'album',         'favorites'),\n",
       "            ( 'album',                'id'),\n",
       "            ( 'album',       'information'),\n",
       "            ( 'album',           'listens'),\n",
       "            ( 'album',          'producer'),\n",
       "            ( 'album',              'tags'),\n",
       "            ( 'album',             'title'),\n",
       "            ( 'album',            'tracks'),\n",
       "            ( 'album',              'type'),\n",
       "            ('artist', 'active_year_begin'),\n",
       "            ('artist',   'active_year_end'),\n",
       "            ('artist', 'associated_labels'),\n",
       "            ('artist',               'bio'),\n",
       "            ('artist',          'comments'),\n",
       "            ('artist',      'date_created'),\n",
       "            ('artist',         'favorites'),\n",
       "            ('artist',                'id'),\n",
       "            ('artist',          'latitude'),\n",
       "            ('artist',          'location'),\n",
       "            ('artist',         'longitude'),\n",
       "            ('artist',           'members'),\n",
       "            ('artist',              'name'),\n",
       "            ('artist',  'related_projects'),\n",
       "            ('artist',              'tags'),\n",
       "            ('artist',           'website'),\n",
       "            ('artist',    'wikipedia_page'),\n",
       "            (   'set',             'split'),\n",
       "            (   'set',            'subset'),\n",
       "            ( 'track',          'bit_rate'),\n",
       "            ( 'track',          'comments'),\n",
       "            ( 'track',          'composer'),\n",
       "            ( 'track',      'date_created'),\n",
       "            ( 'track',     'date_recorded'),\n",
       "            ( 'track',          'duration'),\n",
       "            ( 'track',         'favorites'),\n",
       "            ( 'track',         'genre_top'),\n",
       "            ( 'track',            'genres'),\n",
       "            ( 'track',        'genres_all'),\n",
       "            ( 'track',       'information'),\n",
       "            ( 'track',          'interest'),\n",
       "            ( 'track',     'language_code'),\n",
       "            ( 'track',           'license'),\n",
       "            ( 'track',           'listens'),\n",
       "            ( 'track',          'lyricist'),\n",
       "            ( 'track',            'number'),\n",
       "            ( 'track',         'publisher'),\n",
       "            ( 'track',              'tags'),\n",
       "            ( 'track',             'title')],\n",
       "           )"
      ]
     },
     "execution_count": 87,
     "metadata": {},
     "output_type": "execute_result"
    }
   ],
   "source": [
    "small.columns"
   ]
  },
  {
   "cell_type": "code",
   "execution_count": 85,
   "metadata": {},
   "outputs": [
    {
     "data": {
      "text/plain": [
       "track_id\n",
       "26638           [58, 404]\n",
       "49401           [38, 125]\n",
       "114289    [181, 182, 296]\n",
       "71243           [21, 100]\n",
       "73921                [10]\n",
       "Name: (track, genres), dtype: object"
      ]
     },
     "execution_count": 85,
     "metadata": {},
     "output_type": "execute_result"
    }
   ],
   "source": [
    "track_genre.sample(5)"
   ]
  },
  {
   "cell_type": "code",
   "execution_count": null,
   "metadata": {},
   "outputs": [],
   "source": []
  },
  {
   "cell_type": "code",
   "execution_count": 150,
   "metadata": {},
   "outputs": [],
   "source": [
    "with open('../data/pickles/new_main_dict.pickle', 'rb') as f:\n",
    "    main_dict = pickle.load(f)"
   ]
  },
  {
   "cell_type": "code",
   "execution_count": 151,
   "metadata": {},
   "outputs": [
    {
     "data": {
      "text/plain": [
       "8000"
      ]
     },
     "execution_count": 151,
     "metadata": {},
     "output_type": "execute_result"
    }
   ],
   "source": [
    "len(main_dict)"
   ]
  },
  {
   "cell_type": "code",
   "execution_count": 145,
   "metadata": {},
   "outputs": [
    {
     "data": {
      "text/plain": [
       "[]"
      ]
     },
     "execution_count": 145,
     "metadata": {},
     "output_type": "execute_result"
    }
   ],
   "source": [
    "eval(main_dict[2]['fma_tags'])"
   ]
  },
  {
   "cell_type": "code",
   "execution_count": 107,
   "metadata": {},
   "outputs": [
    {
     "data": {
      "text/plain": [
       "(164, 5)"
      ]
     },
     "execution_count": 107,
     "metadata": {},
     "output_type": "execute_result"
    }
   ],
   "source": [
    "genres_df = pd.read_csv('../data/fma_metadata/raw_genres.csv')\n",
    "genres_df.shape"
   ]
  },
  {
   "cell_type": "code",
   "execution_count": 112,
   "metadata": {},
   "outputs": [
    {
     "data": {
      "text/plain": [
       "'Hip-Hop'"
      ]
     },
     "execution_count": 112,
     "metadata": {},
     "output_type": "execute_result"
    }
   ],
   "source": [
    "genres_df[genres_df.genre_id == 21]['genre_title'].values[0]"
   ]
  },
  {
   "cell_type": "code",
   "execution_count": 152,
   "metadata": {},
   "outputs": [],
   "source": [
    "for idx in main_dict:\n",
    "    genres_list = eval(main_dict[idx]['all_genres'])\n",
    "    main_dict[idx]['all_tags'] = list()\n",
    "    for number in genres_list:\n",
    "#         print(genres_list)\n",
    "#         print(genres_df[genres_df.genre_id == number]['genre_title'].values)\n",
    "        title = genres_df[genres_df.genre_id == number]['genre_title'].values[0]\n",
    "        main_dict[idx]['all_tags'].append(title)"
   ]
  },
  {
   "cell_type": "code",
   "execution_count": 157,
   "metadata": {},
   "outputs": [
    {
     "data": {
      "text/plain": [
       "{'artist_name': 'Dott',\n",
       " 'track_title': 'This Christmas',\n",
       " 'artist_tags': [('seen live', '100'),\n",
       "  ('indie', '50'),\n",
       "  ('argentina', '50'),\n",
       "  ('under 2000 listeners', '50'),\n",
       "  ('meh', '50'),\n",
       "  ('SXSW 2014', '50'),\n",
       "  ('graveface', '50'),\n",
       "  ('graveface records', '50'),\n",
       "  ('popical island', '50')],\n",
       " 'track_tags': [],\n",
       " 'similar_tracks': [],\n",
       " 'similar_list': [],\n",
       " 'genre': 'Pop',\n",
       " 'all_genres': '[10]',\n",
       " 'fma_tags': \"['dott galway ireland irish junior85']\",\n",
       " 'all_tags': ['pop',\n",
       "  'argentina',\n",
       "  'graveface',\n",
       "  'dott galway ireland irish junior85',\n",
       "  'under 2000 listeners',\n",
       "  'sxsw 2014',\n",
       "  'graveface records',\n",
       "  'meh',\n",
       "  'seen live',\n",
       "  'indie',\n",
       "  'popical island']}"
      ]
     },
     "execution_count": 157,
     "metadata": {},
     "output_type": "execute_result"
    }
   ],
   "source": [
    "main_dict[73921]"
   ]
  },
  {
   "cell_type": "markdown",
   "metadata": {},
   "source": []
  },
  {
   "cell_type": "code",
   "execution_count": 154,
   "metadata": {},
   "outputs": [],
   "source": [
    "for idx in main_dict:\n",
    "    artist_tags = [x[0] for x in main_dict[idx]['artist_tags']]\n",
    "    fma_tags = eval(main_dict[idx]['fma_tags'])\n",
    "    track_tags = [x[0] for x in main_dict[idx]['track_tags']]\n",
    "    main_dict[idx]['all_tags'] += track_tags + artist_tags + fma_tags\n",
    "    \n",
    "    tags = main_dict[idx]['all_tags']\n",
    "    tags = list(map(lambda x: x.lower(), tags))\n",
    "    tags = list(set(tags))\n",
    "    main_dict[idx]['all_tags'] = tags"
   ]
  },
  {
   "cell_type": "code",
   "execution_count": null,
   "metadata": {},
   "outputs": [],
   "source": []
  },
  {
   "cell_type": "code",
   "execution_count": 158,
   "metadata": {},
   "outputs": [
    {
     "data": {
      "text/plain": [
       "8000"
      ]
     },
     "execution_count": 158,
     "metadata": {},
     "output_type": "execute_result"
    }
   ],
   "source": [
    "len(main_dict)"
   ]
  },
  {
   "cell_type": "code",
   "execution_count": null,
   "metadata": {},
   "outputs": [],
   "source": []
  },
  {
   "cell_type": "code",
   "execution_count": 140,
   "metadata": {},
   "outputs": [
    {
     "data": {
      "text/plain": [
       "['asd']"
      ]
     },
     "execution_count": 140,
     "metadata": {},
     "output_type": "execute_result"
    }
   ],
   "source": [
    "list(map(lambda x: x.lower(), ['Asd']))"
   ]
  },
  {
   "cell_type": "code",
   "execution_count": 75,
   "metadata": {},
   "outputs": [
    {
     "data": {
      "text/plain": [
       "8000"
      ]
     },
     "execution_count": 75,
     "metadata": {},
     "output_type": "execute_result"
    }
   ],
   "source": [
    "len(zip_list)"
   ]
  },
  {
   "cell_type": "code",
   "execution_count": 60,
   "metadata": {},
   "outputs": [
    {
     "data": {
      "text/plain": [
       "(109727, 39)"
      ]
     },
     "execution_count": 60,
     "metadata": {},
     "output_type": "execute_result"
    }
   ],
   "source": [
    "df = pd.read_csv('../../data/fma_metadata/raw_tracks.csv')\n",
    "df.shape"
   ]
  },
  {
   "cell_type": "code",
   "execution_count": 61,
   "metadata": {},
   "outputs": [
    {
     "data": {
      "text/html": [
       "<div>\n",
       "<style scoped>\n",
       "    .dataframe tbody tr th:only-of-type {\n",
       "        vertical-align: middle;\n",
       "    }\n",
       "\n",
       "    .dataframe tbody tr th {\n",
       "        vertical-align: top;\n",
       "    }\n",
       "\n",
       "    .dataframe thead th {\n",
       "        text-align: right;\n",
       "    }\n",
       "</style>\n",
       "<table border=\"1\" class=\"dataframe\">\n",
       "  <thead>\n",
       "    <tr style=\"text-align: right;\">\n",
       "      <th></th>\n",
       "      <th>track_id</th>\n",
       "      <th>album_id</th>\n",
       "      <th>album_title</th>\n",
       "      <th>album_url</th>\n",
       "      <th>artist_id</th>\n",
       "      <th>artist_name</th>\n",
       "      <th>artist_url</th>\n",
       "      <th>artist_website</th>\n",
       "      <th>license_image_file</th>\n",
       "      <th>license_image_file_large</th>\n",
       "      <th>license_parent_id</th>\n",
       "      <th>license_title</th>\n",
       "      <th>license_url</th>\n",
       "      <th>tags</th>\n",
       "      <th>track_bit_rate</th>\n",
       "      <th>track_comments</th>\n",
       "      <th>track_composer</th>\n",
       "      <th>track_copyright_c</th>\n",
       "      <th>track_copyright_p</th>\n",
       "      <th>track_date_created</th>\n",
       "      <th>track_date_recorded</th>\n",
       "      <th>track_disc_number</th>\n",
       "      <th>track_duration</th>\n",
       "      <th>track_explicit</th>\n",
       "      <th>track_explicit_notes</th>\n",
       "      <th>track_favorites</th>\n",
       "      <th>track_file</th>\n",
       "      <th>track_genres</th>\n",
       "      <th>track_image_file</th>\n",
       "      <th>track_information</th>\n",
       "      <th>track_instrumental</th>\n",
       "      <th>track_interest</th>\n",
       "      <th>track_language_code</th>\n",
       "      <th>track_listens</th>\n",
       "      <th>track_lyricist</th>\n",
       "      <th>track_number</th>\n",
       "      <th>track_publisher</th>\n",
       "      <th>track_title</th>\n",
       "      <th>track_url</th>\n",
       "    </tr>\n",
       "  </thead>\n",
       "  <tbody>\n",
       "    <tr>\n",
       "      <th>8208</th>\n",
       "      <td>13836</td>\n",
       "      <td>3245.0</td>\n",
       "      <td>Traverse</td>\n",
       "      <td>http://freemusicarchive.org/music/Micoland_amp...</td>\n",
       "      <td>3793</td>\n",
       "      <td>Micoland &amp;amp; Holly Bretton</td>\n",
       "      <td>http://freemusicarchive.org/music/Micoland_amp...</td>\n",
       "      <td>http://www.myspace.com/traversealbum</td>\n",
       "      <td>http://i.creativecommons.org/l/by-nc-nd/2.0/uk...</td>\n",
       "      <td>http://fma-files.s3.amazonaws.com/resources/im...</td>\n",
       "      <td>6.0</td>\n",
       "      <td>Attribution-Noncommercial-No Derivative Works ...</td>\n",
       "      <td>http://creativecommons.org/licenses/by-nc-nd/2...</td>\n",
       "      <td>[]</td>\n",
       "      <td>320000.0</td>\n",
       "      <td>0</td>\n",
       "      <td>NaN</td>\n",
       "      <td>NaN</td>\n",
       "      <td>NaN</td>\n",
       "      <td>5/27/2009 08:04:12 AM</td>\n",
       "      <td>NaN</td>\n",
       "      <td>1</td>\n",
       "      <td>04:27</td>\n",
       "      <td>NaN</td>\n",
       "      <td>NaN</td>\n",
       "      <td>2</td>\n",
       "      <td>music/WFMU/Micoland_amp_Holly_Bretton/Traverse...</td>\n",
       "      <td>[{'genre_id': '15', 'genre_title': 'Electronic...</td>\n",
       "      <td>https://freemusicarchive.org/file/images/track...</td>\n",
       "      <td>NaN</td>\n",
       "      <td>0</td>\n",
       "      <td>465</td>\n",
       "      <td>en</td>\n",
       "      <td>387</td>\n",
       "      <td>NaN</td>\n",
       "      <td>4</td>\n",
       "      <td>NaN</td>\n",
       "      <td>Unforseen Forces</td>\n",
       "      <td>http://freemusicarchive.org/music/Micoland_amp...</td>\n",
       "    </tr>\n",
       "    <tr>\n",
       "      <th>20652</th>\n",
       "      <td>31045</td>\n",
       "      <td>6519.0</td>\n",
       "      <td>Descending Shadows</td>\n",
       "      <td>http://freemusicarchive.org/music/Pierced_Arro...</td>\n",
       "      <td>239</td>\n",
       "      <td>Pierced Arrows</td>\n",
       "      <td>http://freemusicarchive.org/music/Pierced_Arrows/</td>\n",
       "      <td>http://piercedarrows.com/</td>\n",
       "      <td>http://fma-files.s3.amazonaws.com/resources/im...</td>\n",
       "      <td>http://fma-files.s3.amazonaws.com/resources/im...</td>\n",
       "      <td>NaN</td>\n",
       "      <td>FMA-Limited: Download Only</td>\n",
       "      <td>http://freemusicarchive.org/FMA_License</td>\n",
       "      <td>[]</td>\n",
       "      <td>320000.0</td>\n",
       "      <td>0</td>\n",
       "      <td>NaN</td>\n",
       "      <td>NaN</td>\n",
       "      <td>NaN</td>\n",
       "      <td>6/09/2010 01:01:24 PM</td>\n",
       "      <td>NaN</td>\n",
       "      <td>1</td>\n",
       "      <td>05:51</td>\n",
       "      <td>NaN</td>\n",
       "      <td>NaN</td>\n",
       "      <td>2</td>\n",
       "      <td>music/WFMU/Pierced_Arrows/Descending_Shadows/P...</td>\n",
       "      <td>[{'genre_id': '12', 'genre_title': 'Rock', 'ge...</td>\n",
       "      <td>https://freemusicarchive.org/file/images/album...</td>\n",
       "      <td>NaN</td>\n",
       "      <td>0</td>\n",
       "      <td>565</td>\n",
       "      <td>NaN</td>\n",
       "      <td>369</td>\n",
       "      <td>NaN</td>\n",
       "      <td>5</td>\n",
       "      <td>NaN</td>\n",
       "      <td>Paranoia</td>\n",
       "      <td>http://freemusicarchive.org/music/Pierced_Arro...</td>\n",
       "    </tr>\n",
       "    <tr>\n",
       "      <th>6016</th>\n",
       "      <td>10939</td>\n",
       "      <td>2678.0</td>\n",
       "      <td>love is overtaking me</td>\n",
       "      <td>http://freemusicarchive.org/music/Arthurs_Land...</td>\n",
       "      <td>2185</td>\n",
       "      <td>Arthur's Landing</td>\n",
       "      <td>http://freemusicarchive.org/music/Arthurs_Land...</td>\n",
       "      <td>www.myspace.com/arthurslanding</td>\n",
       "      <td>http://i.creativecommons.org/l/by-nc-sa/3.0/us...</td>\n",
       "      <td>http://fma-files.s3.amazonaws.com/resources/im...</td>\n",
       "      <td>5.0</td>\n",
       "      <td>Attribution-Noncommercial-Share Alike 3.0 Unit...</td>\n",
       "      <td>http://creativecommons.org/licenses/by-nc-sa/3...</td>\n",
       "      <td>[]</td>\n",
       "      <td>256000.0</td>\n",
       "      <td>0</td>\n",
       "      <td>NaN</td>\n",
       "      <td>NaN</td>\n",
       "      <td>NaN</td>\n",
       "      <td>4/16/2009 05:43:38 PM</td>\n",
       "      <td>NaN</td>\n",
       "      <td>1</td>\n",
       "      <td>05:42</td>\n",
       "      <td>NaN</td>\n",
       "      <td>NaN</td>\n",
       "      <td>2</td>\n",
       "      <td>music/ISSUE_Project_Room/Arthurs_Landing/love_...</td>\n",
       "      <td>NaN</td>\n",
       "      <td>NaN</td>\n",
       "      <td>NaN</td>\n",
       "      <td>0</td>\n",
       "      <td>1554</td>\n",
       "      <td>en</td>\n",
       "      <td>1206</td>\n",
       "      <td>NaN</td>\n",
       "      <td>0</td>\n",
       "      <td>NaN</td>\n",
       "      <td>Love is Overtaking Me</td>\n",
       "      <td>http://freemusicarchive.org/music/Arthurs_Land...</td>\n",
       "    </tr>\n",
       "    <tr>\n",
       "      <th>73553</th>\n",
       "      <td>108341</td>\n",
       "      <td>16855.0</td>\n",
       "      <td>Mean Machine</td>\n",
       "      <td>http://freemusicarchive.org/music/Azureflux/Me...</td>\n",
       "      <td>18846</td>\n",
       "      <td>Azureflux</td>\n",
       "      <td>http://freemusicarchive.org/music/Azureflux/</td>\n",
       "      <td>https://www.youtube.com/user/azuremakingsound</td>\n",
       "      <td>http://i.creativecommons.org/l/by-nc-sa/4.0/88...</td>\n",
       "      <td>http://fma-files.s3.amazonaws.com/resources/im...</td>\n",
       "      <td>5.0</td>\n",
       "      <td>Attribution-NonCommercial-ShareAlike</td>\n",
       "      <td>http://creativecommons.org/licenses/by-nc-sa/4.0/</td>\n",
       "      <td>['8bit']</td>\n",
       "      <td>320000.0</td>\n",
       "      <td>0</td>\n",
       "      <td>NaN</td>\n",
       "      <td>NaN</td>\n",
       "      <td>NaN</td>\n",
       "      <td>8/17/2014 10:15:14 AM</td>\n",
       "      <td>NaN</td>\n",
       "      <td>1</td>\n",
       "      <td>01:51</td>\n",
       "      <td>NaN</td>\n",
       "      <td>NaN</td>\n",
       "      <td>9</td>\n",
       "      <td>music/no_curator/Azureflux/Mean_Machine/Azuref...</td>\n",
       "      <td>[{'genre_id': '15', 'genre_title': 'Electronic...</td>\n",
       "      <td>https://freemusicarchive.org/file/images/track...</td>\n",
       "      <td>NaN</td>\n",
       "      <td>0</td>\n",
       "      <td>9393</td>\n",
       "      <td>NaN</td>\n",
       "      <td>7795</td>\n",
       "      <td>NaN</td>\n",
       "      <td>3</td>\n",
       "      <td>NaN</td>\n",
       "      <td>Beast Mode</td>\n",
       "      <td>http://freemusicarchive.org/music/Azureflux/Me...</td>\n",
       "    </tr>\n",
       "    <tr>\n",
       "      <th>31427</th>\n",
       "      <td>45216</td>\n",
       "      <td>8789.0</td>\n",
       "      <td>Orphans All Around Us</td>\n",
       "      <td>http://freemusicarchive.org/music/Rmeaajlimk/O...</td>\n",
       "      <td>10433</td>\n",
       "      <td>Rmeaajlimk</td>\n",
       "      <td>http://freemusicarchive.org/music/Rmeaajlimk/</td>\n",
       "      <td>NaN</td>\n",
       "      <td>http://i.creativecommons.org/l/by-nc-sa/3.0/us...</td>\n",
       "      <td>http://fma-files.s3.amazonaws.com/resources/im...</td>\n",
       "      <td>5.0</td>\n",
       "      <td>Attribution-NonCommercial-ShareAlike 3.0 Inter...</td>\n",
       "      <td>http://creativecommons.org/licenses/by-nc-sa/3.0/</td>\n",
       "      <td>[]</td>\n",
       "      <td>320000.0</td>\n",
       "      <td>0</td>\n",
       "      <td>NaN</td>\n",
       "      <td>NaN</td>\n",
       "      <td>NaN</td>\n",
       "      <td>3/11/2011 01:33:33 AM</td>\n",
       "      <td>NaN</td>\n",
       "      <td>1</td>\n",
       "      <td>05:18</td>\n",
       "      <td>NaN</td>\n",
       "      <td>NaN</td>\n",
       "      <td>0</td>\n",
       "      <td>music/no_curator/Rmeaajlimk/Orphans_All_Around...</td>\n",
       "      <td>[{'genre_id': '33', 'genre_title': 'Psych-Folk...</td>\n",
       "      <td>https://freemusicarchive.org/file/images/track...</td>\n",
       "      <td>NaN</td>\n",
       "      <td>0</td>\n",
       "      <td>735</td>\n",
       "      <td>NaN</td>\n",
       "      <td>115</td>\n",
       "      <td>NaN</td>\n",
       "      <td>5</td>\n",
       "      <td>NaN</td>\n",
       "      <td>Beside The Mark</td>\n",
       "      <td>http://freemusicarchive.org/music/Rmeaajlimk/O...</td>\n",
       "    </tr>\n",
       "  </tbody>\n",
       "</table>\n",
       "</div>"
      ],
      "text/plain": [
       "       track_id  album_id            album_title  \\\n",
       "8208      13836    3245.0               Traverse   \n",
       "20652     31045    6519.0     Descending Shadows   \n",
       "6016      10939    2678.0  love is overtaking me   \n",
       "73553    108341   16855.0           Mean Machine   \n",
       "31427     45216    8789.0  Orphans All Around Us   \n",
       "\n",
       "                                               album_url  artist_id  \\\n",
       "8208   http://freemusicarchive.org/music/Micoland_amp...       3793   \n",
       "20652  http://freemusicarchive.org/music/Pierced_Arro...        239   \n",
       "6016   http://freemusicarchive.org/music/Arthurs_Land...       2185   \n",
       "73553  http://freemusicarchive.org/music/Azureflux/Me...      18846   \n",
       "31427  http://freemusicarchive.org/music/Rmeaajlimk/O...      10433   \n",
       "\n",
       "                        artist_name  \\\n",
       "8208   Micoland &amp; Holly Bretton   \n",
       "20652                Pierced Arrows   \n",
       "6016               Arthur's Landing   \n",
       "73553                     Azureflux   \n",
       "31427                    Rmeaajlimk   \n",
       "\n",
       "                                              artist_url  \\\n",
       "8208   http://freemusicarchive.org/music/Micoland_amp...   \n",
       "20652  http://freemusicarchive.org/music/Pierced_Arrows/   \n",
       "6016   http://freemusicarchive.org/music/Arthurs_Land...   \n",
       "73553       http://freemusicarchive.org/music/Azureflux/   \n",
       "31427      http://freemusicarchive.org/music/Rmeaajlimk/   \n",
       "\n",
       "                                      artist_website  \\\n",
       "8208            http://www.myspace.com/traversealbum   \n",
       "20652                      http://piercedarrows.com/   \n",
       "6016                  www.myspace.com/arthurslanding   \n",
       "73553  https://www.youtube.com/user/azuremakingsound   \n",
       "31427                                            NaN   \n",
       "\n",
       "                                      license_image_file  \\\n",
       "8208   http://i.creativecommons.org/l/by-nc-nd/2.0/uk...   \n",
       "20652  http://fma-files.s3.amazonaws.com/resources/im...   \n",
       "6016   http://i.creativecommons.org/l/by-nc-sa/3.0/us...   \n",
       "73553  http://i.creativecommons.org/l/by-nc-sa/4.0/88...   \n",
       "31427  http://i.creativecommons.org/l/by-nc-sa/3.0/us...   \n",
       "\n",
       "                                license_image_file_large  license_parent_id  \\\n",
       "8208   http://fma-files.s3.amazonaws.com/resources/im...                6.0   \n",
       "20652  http://fma-files.s3.amazonaws.com/resources/im...                NaN   \n",
       "6016   http://fma-files.s3.amazonaws.com/resources/im...                5.0   \n",
       "73553  http://fma-files.s3.amazonaws.com/resources/im...                5.0   \n",
       "31427  http://fma-files.s3.amazonaws.com/resources/im...                5.0   \n",
       "\n",
       "                                           license_title  \\\n",
       "8208   Attribution-Noncommercial-No Derivative Works ...   \n",
       "20652                         FMA-Limited: Download Only   \n",
       "6016   Attribution-Noncommercial-Share Alike 3.0 Unit...   \n",
       "73553               Attribution-NonCommercial-ShareAlike   \n",
       "31427  Attribution-NonCommercial-ShareAlike 3.0 Inter...   \n",
       "\n",
       "                                             license_url      tags  \\\n",
       "8208   http://creativecommons.org/licenses/by-nc-nd/2...        []   \n",
       "20652            http://freemusicarchive.org/FMA_License        []   \n",
       "6016   http://creativecommons.org/licenses/by-nc-sa/3...        []   \n",
       "73553  http://creativecommons.org/licenses/by-nc-sa/4.0/  ['8bit']   \n",
       "31427  http://creativecommons.org/licenses/by-nc-sa/3.0/        []   \n",
       "\n",
       "       track_bit_rate  track_comments track_composer track_copyright_c  \\\n",
       "8208         320000.0               0            NaN               NaN   \n",
       "20652        320000.0               0            NaN               NaN   \n",
       "6016         256000.0               0            NaN               NaN   \n",
       "73553        320000.0               0            NaN               NaN   \n",
       "31427        320000.0               0            NaN               NaN   \n",
       "\n",
       "      track_copyright_p     track_date_created track_date_recorded  \\\n",
       "8208                NaN  5/27/2009 08:04:12 AM                 NaN   \n",
       "20652               NaN  6/09/2010 01:01:24 PM                 NaN   \n",
       "6016                NaN  4/16/2009 05:43:38 PM                 NaN   \n",
       "73553               NaN  8/17/2014 10:15:14 AM                 NaN   \n",
       "31427               NaN  3/11/2011 01:33:33 AM                 NaN   \n",
       "\n",
       "       track_disc_number track_duration track_explicit track_explicit_notes  \\\n",
       "8208                   1          04:27            NaN                  NaN   \n",
       "20652                  1          05:51            NaN                  NaN   \n",
       "6016                   1          05:42            NaN                  NaN   \n",
       "73553                  1          01:51            NaN                  NaN   \n",
       "31427                  1          05:18            NaN                  NaN   \n",
       "\n",
       "       track_favorites                                         track_file  \\\n",
       "8208                 2  music/WFMU/Micoland_amp_Holly_Bretton/Traverse...   \n",
       "20652                2  music/WFMU/Pierced_Arrows/Descending_Shadows/P...   \n",
       "6016                 2  music/ISSUE_Project_Room/Arthurs_Landing/love_...   \n",
       "73553                9  music/no_curator/Azureflux/Mean_Machine/Azuref...   \n",
       "31427                0  music/no_curator/Rmeaajlimk/Orphans_All_Around...   \n",
       "\n",
       "                                            track_genres  \\\n",
       "8208   [{'genre_id': '15', 'genre_title': 'Electronic...   \n",
       "20652  [{'genre_id': '12', 'genre_title': 'Rock', 'ge...   \n",
       "6016                                                 NaN   \n",
       "73553  [{'genre_id': '15', 'genre_title': 'Electronic...   \n",
       "31427  [{'genre_id': '33', 'genre_title': 'Psych-Folk...   \n",
       "\n",
       "                                        track_image_file track_information  \\\n",
       "8208   https://freemusicarchive.org/file/images/track...               NaN   \n",
       "20652  https://freemusicarchive.org/file/images/album...               NaN   \n",
       "6016                                                 NaN               NaN   \n",
       "73553  https://freemusicarchive.org/file/images/track...               NaN   \n",
       "31427  https://freemusicarchive.org/file/images/track...               NaN   \n",
       "\n",
       "       track_instrumental  track_interest track_language_code  track_listens  \\\n",
       "8208                    0             465                  en            387   \n",
       "20652                   0             565                 NaN            369   \n",
       "6016                    0            1554                  en           1206   \n",
       "73553                   0            9393                 NaN           7795   \n",
       "31427                   0             735                 NaN            115   \n",
       "\n",
       "      track_lyricist  track_number track_publisher            track_title  \\\n",
       "8208             NaN             4             NaN       Unforseen Forces   \n",
       "20652            NaN             5             NaN               Paranoia   \n",
       "6016             NaN             0             NaN  Love is Overtaking Me   \n",
       "73553            NaN             3             NaN             Beast Mode   \n",
       "31427            NaN             5             NaN        Beside The Mark   \n",
       "\n",
       "                                               track_url  \n",
       "8208   http://freemusicarchive.org/music/Micoland_amp...  \n",
       "20652  http://freemusicarchive.org/music/Pierced_Arro...  \n",
       "6016   http://freemusicarchive.org/music/Arthurs_Land...  \n",
       "73553  http://freemusicarchive.org/music/Azureflux/Me...  \n",
       "31427  http://freemusicarchive.org/music/Rmeaajlimk/O...  "
      ]
     },
     "execution_count": 61,
     "metadata": {},
     "output_type": "execute_result"
    }
   ],
   "source": [
    "df.sample(5)"
   ]
  },
  {
   "cell_type": "code",
   "execution_count": 57,
   "metadata": {},
   "outputs": [
    {
     "data": {
      "text/plain": [
       "71336    ['illegal art', 'gwilly edmondez', 'people lik...\n",
       "30673                                                   []\n",
       "96981                                                   []\n",
       "10608                                                   []\n",
       "95043                                                   []\n",
       "Name: tags, dtype: object"
      ]
     },
     "execution_count": 57,
     "metadata": {},
     "output_type": "execute_result"
    }
   ],
   "source": [
    "df.tags.sample(5)"
   ]
  },
  {
   "cell_type": "code",
   "execution_count": 49,
   "metadata": {},
   "outputs": [
    {
     "data": {
      "text/plain": [
       "'http://freemusicarchive.org/music/AWOL/AWOL_-_A_Way_Of_Life/Food'"
      ]
     },
     "execution_count": 49,
     "metadata": {},
     "output_type": "execute_result"
    }
   ],
   "source": [
    "df.track_url[0]"
   ]
  },
  {
   "cell_type": "code",
   "execution_count": null,
   "metadata": {},
   "outputs": [],
   "source": []
  }
 ],
 "metadata": {
  "kernelspec": {
   "display_name": "dp_project",
   "language": "python",
   "name": "venv"
  },
  "language_info": {
   "codemirror_mode": {
    "name": "ipython",
    "version": 3
   },
   "file_extension": ".py",
   "mimetype": "text/x-python",
   "name": "python",
   "nbconvert_exporter": "python",
   "pygments_lexer": "ipython3",
   "version": "3.6.9"
  }
 },
 "nbformat": 4,
 "nbformat_minor": 4
}
