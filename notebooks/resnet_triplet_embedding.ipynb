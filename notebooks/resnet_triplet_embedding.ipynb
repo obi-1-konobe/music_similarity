{
 "cells": [
  {
   "cell_type": "code",
   "execution_count": 1,
   "metadata": {},
   "outputs": [],
   "source": [
    "import os\n",
    "import random\n",
    "import pickle\n",
    "import torch\n",
    "import torchvision\n",
    "import pandas as pd\n",
    "import numpy as np"
   ]
  },
  {
   "cell_type": "code",
   "execution_count": 2,
   "metadata": {},
   "outputs": [
    {
     "data": {
      "text/plain": [
       "device(type='cuda', index=0)"
      ]
     },
     "execution_count": 2,
     "metadata": {},
     "output_type": "execute_result"
    }
   ],
   "source": [
    "device = torch.device(\"cuda:0\" if torch.cuda.is_available() else \"cpu\")\n",
    "device"
   ]
  },
  {
   "cell_type": "code",
   "execution_count": 3,
   "metadata": {},
   "outputs": [],
   "source": [
    "random.seed(123)\n",
    "np.random.seed(123)\n",
    "torch.manual_seed(123)\n",
    "torch.cuda.manual_seed(123)\n",
    "torch.backends.cudnn.deterministic = True"
   ]
  },
  {
   "cell_type": "code",
   "execution_count": 4,
   "metadata": {},
   "outputs": [],
   "source": [
    "import torchvision.transforms as transforms\n",
    "from torch import nn"
   ]
  },
  {
   "cell_type": "code",
   "execution_count": 7,
   "metadata": {},
   "outputs": [],
   "source": [
    "class EmbeddingNet(nn.Module):\n",
    "    \"\"\"EmbeddingNet using ResNet-101.\"\"\"\n",
    "\n",
    "    def __init__(self, resnet):\n",
    "        \"\"\"Initialize EmbeddingNet model.\"\"\"\n",
    "        super(EmbeddingNet, self).__init__()\n",
    "\n",
    "        # Everything except the last linear layer\n",
    "        self.features = nn.Sequential(*list(resnet.children())[:-1])\n",
    "        num_ftrs = resnet.fc.in_features\n",
    "        self.fc = nn.Linear(num_ftrs, 4096)\n",
    "\n",
    "    def forward(self, x):\n",
    "        \"\"\"Forward pass of EmbeddingNet.\"\"\"\n",
    "        out = self.features(x)\n",
    "        out = out.view(out.size(0), -1)\n",
    "        out = self.fc(out)\n",
    "\n",
    "        return out\n",
    "\n",
    "\n",
    "class TripletNet(torch.nn.Module):\n",
    "    \"\"\"Triplet Network.\"\"\"\n",
    "\n",
    "    def __init__(self, embeddingnet):\n",
    "        \"\"\"Triplet Network Builder.\"\"\"\n",
    "        super(TripletNet, self).__init__()\n",
    "        self.embeddingnet = embeddingnet\n",
    "\n",
    "    def forward(self, a, p, n):\n",
    "        \"\"\"Forward pass.\"\"\"\n",
    "        # anchor\n",
    "        embedded_a = self.embeddingnet(a)\n",
    "\n",
    "        # positive examples\n",
    "        embedded_p = self.embeddingnet(p)\n",
    "\n",
    "        # negative examples\n",
    "        embedded_n = self.embeddingnet(n)\n",
    "\n",
    "        return embedded_a, embedded_p, embedded_n\n",
    "    \n",
    "    \n",
    "class Flatten(torch.nn.Module):\n",
    "    def forward(self, x):\n",
    "        return x.view(x.shape[0], -1)"
   ]
  },
  {
   "cell_type": "code",
   "execution_count": 9,
   "metadata": {},
   "outputs": [],
   "source": [
    "model = torch.load('../data/pickles/models/24.12.0.15.pth')"
   ]
  },
  {
   "cell_type": "code",
   "execution_count": 10,
   "metadata": {},
   "outputs": [],
   "source": [
    "embd_net = model.embeddingnet"
   ]
  },
  {
   "cell_type": "code",
   "execution_count": 11,
   "metadata": {},
   "outputs": [],
   "source": [
    "class ImageFolderWithPaths(torchvision.datasets.ImageFolder):\n",
    "    def __getitem__(self, index):\n",
    "        original_tuple = super(ImageFolderWithPaths, self).__getitem__(index)\n",
    "        path = self.imgs[index][0]\n",
    "        tuple_with_path = (original_tuple + (path,))\n",
    "        return tuple_with_path"
   ]
  },
  {
   "cell_type": "code",
   "execution_count": 12,
   "metadata": {},
   "outputs": [],
   "source": [
    "# Normalize training set together with augmentation\n",
    "one_transform = transforms.Compose([\n",
    "    transforms.Grayscale(num_output_channels=1),\n",
    "#     transforms.Resize((224,224)),\n",
    "    transforms.ToTensor(),\n",
    "    transforms.Normalize([0.0069], [0.0033])\n",
    "])\n",
    "\n",
    "train_dir = '../data/spectrograms/train/train/'\n",
    "val_dir = '../data/spectrograms/train/val/'\n",
    "test_dir = '../data/spectrograms/test/'\n",
    "\n",
    "batch_size = 16\n",
    "test_dataset = ImageFolderWithPaths(test_dir, one_transform)\n",
    "test_dataloader = torch.utils.data.DataLoader(\n",
    "    test_dataset, batch_size=batch_size, shuffle=False, num_workers=8\n",
    ")\n",
    "\n",
    "train_dataset = ImageFolderWithPaths(train_dir, one_transform)\n",
    "val_dataset = ImageFolderWithPaths(val_dir, one_transform)\n",
    "\n",
    "train_dataloader = torch.utils.data.DataLoader(\n",
    "    train_dataset, batch_size=batch_size, shuffle=False, drop_last=False, num_workers=8\n",
    ")\n",
    "val_dataloader = torch.utils.data.DataLoader(\n",
    "    val_dataset, batch_size=batch_size, shuffle=False, num_workers=8\n",
    ")\n",
    "\n",
    "# class_names = train_dataset.classes\n",
    "\n",
    "\n",
    "# Loading Tiny ImageNet dataset\n",
    "# trplt_path = '../pickles_for_git/triplets.p'\n",
    "# batch_szie = 32\n",
    "# trainset = TripletDataset(triplet_path=trplt_path, transform=one_transform)\n",
    "# trainloader = torch.utils.data.DataLoader(trainset, batch_size=batch_szie, num_workers=8)\n",
    "\n",
    "# testset = TripletImageLoader(\n",
    "#     base_path=root, triplets_filename=\"\", transform=transform_test, train=False)\n",
    "# testloader = torch.utils.data.DataLoader(\n",
    "#     testset, batch_size=batch_size_test, num_workers=32)"
   ]
  },
  {
   "cell_type": "code",
   "execution_count": 13,
   "metadata": {},
   "outputs": [
    {
     "data": {
      "text/plain": [
       "(7, 97)"
      ]
     },
     "execution_count": 13,
     "metadata": {},
     "output_type": "execute_result"
    }
   ],
   "source": [
    "len(test_dataloader), len(test_dataset)"
   ]
  },
  {
   "cell_type": "code",
   "execution_count": 14,
   "metadata": {},
   "outputs": [],
   "source": [
    "def predict(model, test_loader):\n",
    "    with torch.no_grad():\n",
    "        logits = []\n",
    "    \n",
    "        for inputs, x, path in test_loader:\n",
    "            inputs = inputs.to(device)\n",
    "            model.eval()\n",
    "            outputs = model(inputs).cpu()\n",
    "            logits.append(outputs)\n",
    "            \n",
    "    probs = torch.nn.functional.softmax(torch.cat(logits), dim=-1).numpy()\n",
    "    return probs"
   ]
  },
  {
   "cell_type": "code",
   "execution_count": 15,
   "metadata": {},
   "outputs": [],
   "source": [
    "embd_net = embd_net.to(device)"
   ]
  },
  {
   "cell_type": "code",
   "execution_count": 16,
   "metadata": {},
   "outputs": [],
   "source": [
    "with torch.no_grad():\n",
    "    logits = []\n",
    "\n",
    "    for inputs, x, path in test_dataloader:\n",
    "        inputs = inputs.to(device)\n",
    "        embd_net.eval()\n",
    "        outputs = embd_net(inputs).cpu()\n",
    "        logits.append(outputs)\n",
    "        break"
   ]
  },
  {
   "cell_type": "code",
   "execution_count": 17,
   "metadata": {},
   "outputs": [
    {
     "data": {
      "text/plain": [
       "torch.Size([4096])"
      ]
     },
     "execution_count": 17,
     "metadata": {},
     "output_type": "execute_result"
    }
   ],
   "source": [
    "logits[0][0].shape"
   ]
  },
  {
   "cell_type": "code",
   "execution_count": 18,
   "metadata": {},
   "outputs": [],
   "source": [
    "with torch.no_grad():\n",
    "    logits = []\n",
    "    path_list = list()\n",
    "    for inputs, x, path in test_dataloader:\n",
    "        inputs = inputs.to(device)\n",
    "        embd_net.eval()\n",
    "        outputs = embd_net(inputs).cpu()\n",
    "        logits.append(outputs)\n",
    "        path_list.append(path)"
   ]
  },
  {
   "cell_type": "code",
   "execution_count": 19,
   "metadata": {},
   "outputs": [],
   "source": [
    "with torch.no_grad():\n",
    "#     logits = []\n",
    "#     path_list = list()\n",
    "    for inputs, x, path in val_dataloader:\n",
    "        inputs = inputs.to(device)\n",
    "        embd_net.eval()\n",
    "        outputs = embd_net(inputs).cpu()\n",
    "        logits.append(outputs)\n",
    "        path_list.append(path)"
   ]
  },
  {
   "cell_type": "code",
   "execution_count": 20,
   "metadata": {},
   "outputs": [],
   "source": [
    "with torch.no_grad():\n",
    "#     logits = []\n",
    "#     path_list = list()\n",
    "    for inputs, x, path in train_dataloader:\n",
    "        inputs = inputs.to(device)\n",
    "        embd_net.eval()\n",
    "        outputs = embd_net(inputs).cpu()\n",
    "        logits.append(outputs)\n",
    "        path_list.append(path)"
   ]
  },
  {
   "cell_type": "code",
   "execution_count": 21,
   "metadata": {},
   "outputs": [
    {
     "data": {
      "text/plain": [
       "'../data/spectrograms/test/unknown/000190.png'"
      ]
     },
     "execution_count": 21,
     "metadata": {},
     "output_type": "execute_result"
    }
   ],
   "source": [
    "path_list[0][0]"
   ]
  },
  {
   "cell_type": "code",
   "execution_count": 22,
   "metadata": {},
   "outputs": [
    {
     "data": {
      "text/plain": [
       "4096"
      ]
     },
     "execution_count": 22,
     "metadata": {},
     "output_type": "execute_result"
    }
   ],
   "source": [
    "logits[0][0].shape[0]"
   ]
  },
  {
   "cell_type": "code",
   "execution_count": 23,
   "metadata": {},
   "outputs": [],
   "source": [
    "emb_list = list()\n",
    "for i in logits:\n",
    "    for tens in i:\n",
    "        emb_list.append(tens.numpy())"
   ]
  },
  {
   "cell_type": "code",
   "execution_count": 24,
   "metadata": {},
   "outputs": [],
   "source": [
    "embeddings = pd.DataFrame(emb_list)"
   ]
  },
  {
   "cell_type": "code",
   "execution_count": 25,
   "metadata": {},
   "outputs": [],
   "source": [
    "track_list = list()\n",
    "for i in path_list:\n",
    "    for path in i:\n",
    "        name = path.split('/')[-1]\n",
    "        ids = name.split('.')[0]\n",
    "        track_list.append(ids)"
   ]
  },
  {
   "cell_type": "code",
   "execution_count": 26,
   "metadata": {},
   "outputs": [],
   "source": [
    "embeddings['id'] = track_list"
   ]
  },
  {
   "cell_type": "code",
   "execution_count": 27,
   "metadata": {},
   "outputs": [],
   "source": [
    "embeddings = embeddings[['id'] + list(np.arange(logits[0][0].shape[0]))]"
   ]
  },
  {
   "cell_type": "code",
   "execution_count": 28,
   "metadata": {},
   "outputs": [
    {
     "data": {
      "text/html": [
       "<div>\n",
       "<style scoped>\n",
       "    .dataframe tbody tr th:only-of-type {\n",
       "        vertical-align: middle;\n",
       "    }\n",
       "\n",
       "    .dataframe tbody tr th {\n",
       "        vertical-align: top;\n",
       "    }\n",
       "\n",
       "    .dataframe thead th {\n",
       "        text-align: right;\n",
       "    }\n",
       "</style>\n",
       "<table border=\"1\" class=\"dataframe\">\n",
       "  <thead>\n",
       "    <tr style=\"text-align: right;\">\n",
       "      <th></th>\n",
       "      <th>id</th>\n",
       "      <th>0</th>\n",
       "      <th>1</th>\n",
       "      <th>2</th>\n",
       "      <th>3</th>\n",
       "      <th>4</th>\n",
       "      <th>5</th>\n",
       "      <th>6</th>\n",
       "      <th>7</th>\n",
       "      <th>8</th>\n",
       "      <th>...</th>\n",
       "      <th>4086</th>\n",
       "      <th>4087</th>\n",
       "      <th>4088</th>\n",
       "      <th>4089</th>\n",
       "      <th>4090</th>\n",
       "      <th>4091</th>\n",
       "      <th>4092</th>\n",
       "      <th>4093</th>\n",
       "      <th>4094</th>\n",
       "      <th>4095</th>\n",
       "    </tr>\n",
       "  </thead>\n",
       "  <tbody>\n",
       "    <tr>\n",
       "      <th>0</th>\n",
       "      <td>000190</td>\n",
       "      <td>-0.098584</td>\n",
       "      <td>0.061195</td>\n",
       "      <td>-0.419897</td>\n",
       "      <td>-0.547398</td>\n",
       "      <td>-0.370505</td>\n",
       "      <td>-0.346276</td>\n",
       "      <td>0.174820</td>\n",
       "      <td>0.120204</td>\n",
       "      <td>-0.275544</td>\n",
       "      <td>...</td>\n",
       "      <td>-0.360226</td>\n",
       "      <td>-0.083810</td>\n",
       "      <td>0.240440</td>\n",
       "      <td>-0.139375</td>\n",
       "      <td>0.587489</td>\n",
       "      <td>0.326977</td>\n",
       "      <td>0.266145</td>\n",
       "      <td>0.440282</td>\n",
       "      <td>-0.074168</td>\n",
       "      <td>0.535761</td>\n",
       "    </tr>\n",
       "    <tr>\n",
       "      <th>1</th>\n",
       "      <td>000194</td>\n",
       "      <td>-0.232637</td>\n",
       "      <td>-0.040279</td>\n",
       "      <td>-0.337808</td>\n",
       "      <td>-0.594535</td>\n",
       "      <td>-0.365719</td>\n",
       "      <td>-0.361804</td>\n",
       "      <td>0.183087</td>\n",
       "      <td>0.232225</td>\n",
       "      <td>-0.299450</td>\n",
       "      <td>...</td>\n",
       "      <td>-0.313092</td>\n",
       "      <td>-0.069227</td>\n",
       "      <td>0.208865</td>\n",
       "      <td>-0.142131</td>\n",
       "      <td>0.597543</td>\n",
       "      <td>0.365311</td>\n",
       "      <td>0.396611</td>\n",
       "      <td>0.430305</td>\n",
       "      <td>-0.005214</td>\n",
       "      <td>0.525710</td>\n",
       "    </tr>\n",
       "    <tr>\n",
       "      <th>2</th>\n",
       "      <td>000667</td>\n",
       "      <td>-0.379676</td>\n",
       "      <td>0.236807</td>\n",
       "      <td>-0.321998</td>\n",
       "      <td>-0.436458</td>\n",
       "      <td>-0.143315</td>\n",
       "      <td>-0.499157</td>\n",
       "      <td>-0.018364</td>\n",
       "      <td>0.091818</td>\n",
       "      <td>-0.748339</td>\n",
       "      <td>...</td>\n",
       "      <td>-0.113017</td>\n",
       "      <td>0.171769</td>\n",
       "      <td>0.271148</td>\n",
       "      <td>-0.422386</td>\n",
       "      <td>0.066315</td>\n",
       "      <td>0.520129</td>\n",
       "      <td>0.695829</td>\n",
       "      <td>0.654227</td>\n",
       "      <td>-0.366704</td>\n",
       "      <td>0.240918</td>\n",
       "    </tr>\n",
       "    <tr>\n",
       "      <th>3</th>\n",
       "      <td>001040</td>\n",
       "      <td>-0.359856</td>\n",
       "      <td>0.092744</td>\n",
       "      <td>-0.198099</td>\n",
       "      <td>-0.400031</td>\n",
       "      <td>-0.346778</td>\n",
       "      <td>-0.366024</td>\n",
       "      <td>-0.014941</td>\n",
       "      <td>-0.000961</td>\n",
       "      <td>-0.667051</td>\n",
       "      <td>...</td>\n",
       "      <td>-0.355462</td>\n",
       "      <td>0.061808</td>\n",
       "      <td>0.185608</td>\n",
       "      <td>-0.402459</td>\n",
       "      <td>0.372494</td>\n",
       "      <td>0.606056</td>\n",
       "      <td>0.570929</td>\n",
       "      <td>0.537257</td>\n",
       "      <td>-0.110737</td>\n",
       "      <td>0.278486</td>\n",
       "    </tr>\n",
       "    <tr>\n",
       "      <th>4</th>\n",
       "      <td>001686</td>\n",
       "      <td>-0.345710</td>\n",
       "      <td>-0.027553</td>\n",
       "      <td>-0.309630</td>\n",
       "      <td>-0.537911</td>\n",
       "      <td>-0.210654</td>\n",
       "      <td>-0.444954</td>\n",
       "      <td>0.008424</td>\n",
       "      <td>-0.033211</td>\n",
       "      <td>-0.359033</td>\n",
       "      <td>...</td>\n",
       "      <td>-0.201391</td>\n",
       "      <td>0.084446</td>\n",
       "      <td>0.155775</td>\n",
       "      <td>-0.232248</td>\n",
       "      <td>0.569569</td>\n",
       "      <td>0.308580</td>\n",
       "      <td>0.157916</td>\n",
       "      <td>0.549588</td>\n",
       "      <td>-0.088380</td>\n",
       "      <td>0.511589</td>\n",
       "    </tr>\n",
       "    <tr>\n",
       "      <th>...</th>\n",
       "      <td>...</td>\n",
       "      <td>...</td>\n",
       "      <td>...</td>\n",
       "      <td>...</td>\n",
       "      <td>...</td>\n",
       "      <td>...</td>\n",
       "      <td>...</td>\n",
       "      <td>...</td>\n",
       "      <td>...</td>\n",
       "      <td>...</td>\n",
       "      <td>...</td>\n",
       "      <td>...</td>\n",
       "      <td>...</td>\n",
       "      <td>...</td>\n",
       "      <td>...</td>\n",
       "      <td>...</td>\n",
       "      <td>...</td>\n",
       "      <td>...</td>\n",
       "      <td>...</td>\n",
       "      <td>...</td>\n",
       "      <td>...</td>\n",
       "    </tr>\n",
       "    <tr>\n",
       "      <th>7989</th>\n",
       "      <td>149416</td>\n",
       "      <td>-0.339247</td>\n",
       "      <td>0.275376</td>\n",
       "      <td>-0.295336</td>\n",
       "      <td>-0.381422</td>\n",
       "      <td>-0.261239</td>\n",
       "      <td>-0.226931</td>\n",
       "      <td>-0.025675</td>\n",
       "      <td>-0.031743</td>\n",
       "      <td>-0.589388</td>\n",
       "      <td>...</td>\n",
       "      <td>-0.255606</td>\n",
       "      <td>0.062137</td>\n",
       "      <td>0.301709</td>\n",
       "      <td>-0.472495</td>\n",
       "      <td>0.328928</td>\n",
       "      <td>0.529615</td>\n",
       "      <td>0.523701</td>\n",
       "      <td>0.507561</td>\n",
       "      <td>-0.355751</td>\n",
       "      <td>0.259591</td>\n",
       "    </tr>\n",
       "    <tr>\n",
       "      <th>7990</th>\n",
       "      <td>149417</td>\n",
       "      <td>-0.328505</td>\n",
       "      <td>0.237160</td>\n",
       "      <td>-0.451192</td>\n",
       "      <td>-0.436901</td>\n",
       "      <td>-0.263571</td>\n",
       "      <td>-0.274049</td>\n",
       "      <td>0.045620</td>\n",
       "      <td>-0.031526</td>\n",
       "      <td>-0.682977</td>\n",
       "      <td>...</td>\n",
       "      <td>-0.263842</td>\n",
       "      <td>0.062594</td>\n",
       "      <td>0.341828</td>\n",
       "      <td>-0.528521</td>\n",
       "      <td>0.320702</td>\n",
       "      <td>0.614759</td>\n",
       "      <td>0.529854</td>\n",
       "      <td>0.605678</td>\n",
       "      <td>-0.406739</td>\n",
       "      <td>0.227682</td>\n",
       "    </tr>\n",
       "    <tr>\n",
       "      <th>7991</th>\n",
       "      <td>149452</td>\n",
       "      <td>-0.422952</td>\n",
       "      <td>0.006323</td>\n",
       "      <td>-0.414585</td>\n",
       "      <td>-0.525562</td>\n",
       "      <td>-0.238775</td>\n",
       "      <td>-0.253015</td>\n",
       "      <td>-0.026292</td>\n",
       "      <td>-0.042061</td>\n",
       "      <td>-0.807989</td>\n",
       "      <td>...</td>\n",
       "      <td>-0.175061</td>\n",
       "      <td>-0.058635</td>\n",
       "      <td>0.420576</td>\n",
       "      <td>-0.388243</td>\n",
       "      <td>0.348638</td>\n",
       "      <td>0.737439</td>\n",
       "      <td>0.446040</td>\n",
       "      <td>0.698253</td>\n",
       "      <td>-0.510255</td>\n",
       "      <td>0.070162</td>\n",
       "    </tr>\n",
       "    <tr>\n",
       "      <th>7992</th>\n",
       "      <td>149488</td>\n",
       "      <td>-0.291082</td>\n",
       "      <td>0.245929</td>\n",
       "      <td>-0.159964</td>\n",
       "      <td>-0.485578</td>\n",
       "      <td>-0.305785</td>\n",
       "      <td>-0.369605</td>\n",
       "      <td>0.030002</td>\n",
       "      <td>0.197271</td>\n",
       "      <td>-0.558694</td>\n",
       "      <td>...</td>\n",
       "      <td>-0.292513</td>\n",
       "      <td>0.119207</td>\n",
       "      <td>0.125497</td>\n",
       "      <td>-0.263927</td>\n",
       "      <td>0.387574</td>\n",
       "      <td>0.447500</td>\n",
       "      <td>0.883246</td>\n",
       "      <td>0.534130</td>\n",
       "      <td>-0.111221</td>\n",
       "      <td>0.529637</td>\n",
       "    </tr>\n",
       "    <tr>\n",
       "      <th>7993</th>\n",
       "      <td>149523</td>\n",
       "      <td>-0.427848</td>\n",
       "      <td>0.107574</td>\n",
       "      <td>-0.554660</td>\n",
       "      <td>-0.657131</td>\n",
       "      <td>-0.248601</td>\n",
       "      <td>-0.080139</td>\n",
       "      <td>0.057666</td>\n",
       "      <td>0.017332</td>\n",
       "      <td>-0.803724</td>\n",
       "      <td>...</td>\n",
       "      <td>-0.176798</td>\n",
       "      <td>-0.069593</td>\n",
       "      <td>0.613558</td>\n",
       "      <td>-0.407860</td>\n",
       "      <td>0.484515</td>\n",
       "      <td>0.691535</td>\n",
       "      <td>0.411558</td>\n",
       "      <td>0.521051</td>\n",
       "      <td>-0.495831</td>\n",
       "      <td>0.295693</td>\n",
       "    </tr>\n",
       "  </tbody>\n",
       "</table>\n",
       "<p>7994 rows × 4097 columns</p>\n",
       "</div>"
      ],
      "text/plain": [
       "          id         0         1         2         3         4         5  \\\n",
       "0     000190 -0.098584  0.061195 -0.419897 -0.547398 -0.370505 -0.346276   \n",
       "1     000194 -0.232637 -0.040279 -0.337808 -0.594535 -0.365719 -0.361804   \n",
       "2     000667 -0.379676  0.236807 -0.321998 -0.436458 -0.143315 -0.499157   \n",
       "3     001040 -0.359856  0.092744 -0.198099 -0.400031 -0.346778 -0.366024   \n",
       "4     001686 -0.345710 -0.027553 -0.309630 -0.537911 -0.210654 -0.444954   \n",
       "...      ...       ...       ...       ...       ...       ...       ...   \n",
       "7989  149416 -0.339247  0.275376 -0.295336 -0.381422 -0.261239 -0.226931   \n",
       "7990  149417 -0.328505  0.237160 -0.451192 -0.436901 -0.263571 -0.274049   \n",
       "7991  149452 -0.422952  0.006323 -0.414585 -0.525562 -0.238775 -0.253015   \n",
       "7992  149488 -0.291082  0.245929 -0.159964 -0.485578 -0.305785 -0.369605   \n",
       "7993  149523 -0.427848  0.107574 -0.554660 -0.657131 -0.248601 -0.080139   \n",
       "\n",
       "             6         7         8  ...      4086      4087      4088  \\\n",
       "0     0.174820  0.120204 -0.275544  ... -0.360226 -0.083810  0.240440   \n",
       "1     0.183087  0.232225 -0.299450  ... -0.313092 -0.069227  0.208865   \n",
       "2    -0.018364  0.091818 -0.748339  ... -0.113017  0.171769  0.271148   \n",
       "3    -0.014941 -0.000961 -0.667051  ... -0.355462  0.061808  0.185608   \n",
       "4     0.008424 -0.033211 -0.359033  ... -0.201391  0.084446  0.155775   \n",
       "...        ...       ...       ...  ...       ...       ...       ...   \n",
       "7989 -0.025675 -0.031743 -0.589388  ... -0.255606  0.062137  0.301709   \n",
       "7990  0.045620 -0.031526 -0.682977  ... -0.263842  0.062594  0.341828   \n",
       "7991 -0.026292 -0.042061 -0.807989  ... -0.175061 -0.058635  0.420576   \n",
       "7992  0.030002  0.197271 -0.558694  ... -0.292513  0.119207  0.125497   \n",
       "7993  0.057666  0.017332 -0.803724  ... -0.176798 -0.069593  0.613558   \n",
       "\n",
       "          4089      4090      4091      4092      4093      4094      4095  \n",
       "0    -0.139375  0.587489  0.326977  0.266145  0.440282 -0.074168  0.535761  \n",
       "1    -0.142131  0.597543  0.365311  0.396611  0.430305 -0.005214  0.525710  \n",
       "2    -0.422386  0.066315  0.520129  0.695829  0.654227 -0.366704  0.240918  \n",
       "3    -0.402459  0.372494  0.606056  0.570929  0.537257 -0.110737  0.278486  \n",
       "4    -0.232248  0.569569  0.308580  0.157916  0.549588 -0.088380  0.511589  \n",
       "...        ...       ...       ...       ...       ...       ...       ...  \n",
       "7989 -0.472495  0.328928  0.529615  0.523701  0.507561 -0.355751  0.259591  \n",
       "7990 -0.528521  0.320702  0.614759  0.529854  0.605678 -0.406739  0.227682  \n",
       "7991 -0.388243  0.348638  0.737439  0.446040  0.698253 -0.510255  0.070162  \n",
       "7992 -0.263927  0.387574  0.447500  0.883246  0.534130 -0.111221  0.529637  \n",
       "7993 -0.407860  0.484515  0.691535  0.411558  0.521051 -0.495831  0.295693  \n",
       "\n",
       "[7994 rows x 4097 columns]"
      ]
     },
     "execution_count": 28,
     "metadata": {},
     "output_type": "execute_result"
    }
   ],
   "source": [
    "embeddings"
   ]
  },
  {
   "cell_type": "code",
   "execution_count": 29,
   "metadata": {},
   "outputs": [],
   "source": [
    "embeddings.to_csv('../data/csv/resnet_triplet_embeddings.csv', index=False)"
   ]
  },
  {
   "cell_type": "code",
   "execution_count": null,
   "metadata": {},
   "outputs": [],
   "source": []
  }
 ],
 "metadata": {
  "kernelspec": {
   "display_name": "dp_project",
   "language": "python",
   "name": "venv"
  },
  "language_info": {
   "codemirror_mode": {
    "name": "ipython",
    "version": 3
   },
   "file_extension": ".py",
   "mimetype": "text/x-python",
   "name": "python",
   "nbconvert_exporter": "python",
   "pygments_lexer": "ipython3",
   "version": "3.6.9"
  }
 },
 "nbformat": 4,
 "nbformat_minor": 4
}
