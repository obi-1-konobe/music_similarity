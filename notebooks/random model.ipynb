{
 "cells": [
  {
   "cell_type": "code",
   "execution_count": 1,
   "metadata": {},
   "outputs": [],
   "source": [
    "import pandas as pd\n",
    "import random\n",
    "import pickle\n",
    "import math"
   ]
  },
  {
   "cell_type": "code",
   "execution_count": 3,
   "metadata": {},
   "outputs": [],
   "source": [
    "random.seed(3214)"
   ]
  },
  {
   "cell_type": "code",
   "execution_count": 2,
   "metadata": {},
   "outputs": [],
   "source": [
    "with open('../data/pickles/main_dict.pickle', 'rb') as f:\n",
    "    main_dict = pickle.load(f)"
   ]
  },
  {
   "cell_type": "code",
   "execution_count": 4,
   "metadata": {},
   "outputs": [],
   "source": [
    "df_train = pd.read_csv('../data/csv/train_2.csv', index_col=0)\n",
    "df_test = pd.read_csv('../data/csv/test_2.csv', index_col=0)"
   ]
  },
  {
   "cell_type": "code",
   "execution_count": 8,
   "metadata": {},
   "outputs": [],
   "source": [
    "def count_good_recommend(query_idx, answer_list, trhold):\n",
    "    counter = 0\n",
    "    query_id = int(df_test.iloc[query_idx].file[:-4])\n",
    "    relevant = [query_id]\n",
    "    query_tags = main_dict[query_id]['all_tags']\n",
    "    for idx in answer_list:\n",
    "        answer_id = int(df_train.iloc[idx].file[:-4])\n",
    "        answer_tags = main_dict[answer_id]['all_tags']\n",
    "        score = 0\n",
    "        i = 0\n",
    "        for tag in answer_tags:\n",
    "            if tag in query_tags:\n",
    "                i += 1\n",
    "        if i == 0:\n",
    "            continue\n",
    "        \n",
    "        precision = i / len(answer_tags)\n",
    "        recall = i / len(query_tags)\n",
    "        score = 2 * precision * recall / (precision + recall)\n",
    "        if score >= trhold:        \n",
    "            counter += 1\n",
    "            relevant.append(answer_id)\n",
    "    return counter, relevant"
   ]
  },
  {
   "cell_type": "code",
   "execution_count": 9,
   "metadata": {},
   "outputs": [],
   "source": [
    "def count_ndcg(neighbors, relevant_list):\n",
    "    dcg = 0\n",
    "    idcg = 0\n",
    "    for i in range(len(neighbors)):\n",
    "        track = int(df_train.iloc[neighbors[i]].file[:-4])\n",
    "        if track in relevant_list:\n",
    "            dcg += 1 / math.log(i + 2, 2)\n",
    "        idcg += 1 / math.log(i + 2, 2)\n",
    "    ndcg = dcg / idcg\n",
    "    return ndcg"
   ]
  },
  {
   "cell_type": "code",
   "execution_count": 35,
   "metadata": {},
   "outputs": [],
   "source": [
    "mean_ap = 0\n",
    "ndcg = 0\n",
    "for i in range(100):\n",
    "    random_recommendation = [random.randint(0, df_train.shape[0]) for j in range(10)]\n",
    "    relevant_num, relevant_list = count_good_recommend(i, random_recommendation, trhold=0.4)\n",
    "    p_at_10 = relevant_num / 10\n",
    "    mean_ap += p_at_10\n",
    "    ndcg += count_ndcg(random_recommendation, relevant_list[1:])\n",
    "mean_ap /= 100 \n",
    "mean_ndcg = ndcg / 100"
   ]
  },
  {
   "cell_type": "code",
   "execution_count": 36,
   "metadata": {},
   "outputs": [
    {
     "data": {
      "text/plain": [
       "0.005"
      ]
     },
     "execution_count": 36,
     "metadata": {},
     "output_type": "execute_result"
    }
   ],
   "source": [
    "mean_ap"
   ]
  },
  {
   "cell_type": "code",
   "execution_count": 37,
   "metadata": {},
   "outputs": [
    {
     "data": {
      "text/plain": [
       "0.005477892139975194"
      ]
     },
     "execution_count": 37,
     "metadata": {},
     "output_type": "execute_result"
    }
   ],
   "source": [
    "mean_ndcg"
   ]
  },
  {
   "cell_type": "code",
   "execution_count": null,
   "metadata": {},
   "outputs": [],
   "source": []
  },
  {
   "cell_type": "code",
   "execution_count": 25,
   "metadata": {},
   "outputs": [
    {
     "name": "stdout",
     "output_type": "stream",
     "text": [
      "0.0547 0.07774172386379154\n"
     ]
    }
   ],
   "source": [
    "ap = 0\n",
    "ndcg = 0\n",
    "for i in range(100):\n",
    "    mean_ap = 0\n",
    "    ndcg = 0\n",
    "    for i in range(100):\n",
    "        test_track = df_test.iloc[i].file\n",
    "        test_track_genre = main_dict[int(test_track[:-4])]['genre']\n",
    "        genre_recommendations = list()\n",
    "        while len(genre_recommendations) < 10:\n",
    "            idx = random.randint(0, df_train.shape[0] - 1)\n",
    "            track = df_train.iloc[idx].file\n",
    "            track_genre = main_dict[int(track[:-4])]['genre']\n",
    "            if track_genre == test_track_genre:\n",
    "                genre_recommendations.append(idx)\n",
    "\n",
    "        relevant_num, relevant_list = count_good_recommend(i, genre_recommendations, trhold=0.4)\n",
    "    #     print(test_track, relevant_list)\n",
    "        p_at_10 = relevant_num / 10\n",
    "        mean_ap += p_at_10\n",
    "        ndcg += count_ndcg(genre_recommendations, relevant_list[1:])\n",
    "    mean_ap /= 100 \n",
    "    mean_ndcg = ndcg / 100\n",
    "    ap += mean_ap\n",
    "    ndcg += mean_ndcg\n",
    "print(ap/100, ndcg/100)"
   ]
  },
  {
   "cell_type": "code",
   "execution_count": 23,
   "metadata": {},
   "outputs": [
    {
     "data": {
      "text/plain": [
       "0.060999999999999985"
      ]
     },
     "execution_count": 23,
     "metadata": {},
     "output_type": "execute_result"
    }
   ],
   "source": [
    "mean_ap"
   ]
  },
  {
   "cell_type": "code",
   "execution_count": 24,
   "metadata": {},
   "outputs": [
    {
     "data": {
      "text/plain": [
       "0.07063325577848421"
      ]
     },
     "execution_count": 24,
     "metadata": {},
     "output_type": "execute_result"
    }
   ],
   "source": [
    "mean_ndcg"
   ]
  },
  {
   "cell_type": "code",
   "execution_count": null,
   "metadata": {},
   "outputs": [],
   "source": []
  },
  {
   "cell_type": "code",
   "execution_count": null,
   "metadata": {},
   "outputs": [],
   "source": []
  },
  {
   "cell_type": "code",
   "execution_count": null,
   "metadata": {},
   "outputs": [],
   "source": []
  },
  {
   "cell_type": "code",
   "execution_count": null,
   "metadata": {},
   "outputs": [],
   "source": []
  },
  {
   "cell_type": "code",
   "execution_count": null,
   "metadata": {},
   "outputs": [],
   "source": []
  },
  {
   "cell_type": "code",
   "execution_count": null,
   "metadata": {},
   "outputs": [],
   "source": []
  },
  {
   "cell_type": "code",
   "execution_count": 37,
   "metadata": {},
   "outputs": [],
   "source": [
    "idx = random.randint(0, df_train.shape[0])"
   ]
  },
  {
   "cell_type": "code",
   "execution_count": 40,
   "metadata": {},
   "outputs": [],
   "source": [
    "track = df_train.iloc[idx].track\n",
    "    "
   ]
  },
  {
   "cell_type": "code",
   "execution_count": 71,
   "metadata": {},
   "outputs": [
    {
     "data": {
      "text/plain": [
       "'Hip-Hop'"
      ]
     },
     "execution_count": 71,
     "metadata": {},
     "output_type": "execute_result"
    }
   ],
   "source": [
    "main_dict[63804]['genre']"
   ]
  },
  {
   "cell_type": "code",
   "execution_count": 24,
   "metadata": {},
   "outputs": [
    {
     "data": {
      "text/plain": [
       "1.0"
      ]
     },
     "execution_count": 24,
     "metadata": {},
     "output_type": "execute_result"
    }
   ],
   "source": [
    "mean_ndcg"
   ]
  },
  {
   "cell_type": "code",
   "execution_count": 14,
   "metadata": {},
   "outputs": [
    {
     "data": {
      "text/plain": [
       "[2, 2, 2, 2, 2, 2, 2, 2, 2, 2]"
      ]
     },
     "execution_count": 14,
     "metadata": {},
     "output_type": "execute_result"
    }
   ],
   "source": [
    "i = 2\n",
    "[i for j in range(10)]"
   ]
  },
  {
   "cell_type": "code",
   "execution_count": 45,
   "metadata": {},
   "outputs": [
    {
     "data": {
      "text/plain": [
       "(7982, 338)"
      ]
     },
     "execution_count": 45,
     "metadata": {},
     "output_type": "execute_result"
    }
   ],
   "source": [
    "df.shape"
   ]
  }
 ],
 "metadata": {
  "kernelspec": {
   "display_name": "dp_project",
   "language": "python",
   "name": "dp_project"
  },
  "language_info": {
   "codemirror_mode": {
    "name": "ipython",
    "version": 3
   },
   "file_extension": ".py",
   "mimetype": "text/x-python",
   "name": "python",
   "nbconvert_exporter": "python",
   "pygments_lexer": "ipython3",
   "version": "3.6.9"
  }
 },
 "nbformat": 4,
 "nbformat_minor": 2
}
