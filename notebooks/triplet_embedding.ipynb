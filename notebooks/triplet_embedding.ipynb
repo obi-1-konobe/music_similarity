{
 "cells": [
  {
   "cell_type": "code",
   "execution_count": 1,
   "metadata": {},
   "outputs": [],
   "source": [
    "import os\n",
    "import random\n",
    "import pickle\n",
    "import torch\n",
    "import torchvision\n",
    "import pandas as pd\n",
    "import numpy as np"
   ]
  },
  {
   "cell_type": "code",
   "execution_count": 2,
   "metadata": {},
   "outputs": [
    {
     "data": {
      "text/plain": [
       "device(type='cuda', index=0)"
      ]
     },
     "execution_count": 2,
     "metadata": {},
     "output_type": "execute_result"
    }
   ],
   "source": [
    "device = torch.device(\"cuda:0\" if torch.cuda.is_available() else \"cpu\")\n",
    "device"
   ]
  },
  {
   "cell_type": "code",
   "execution_count": 3,
   "metadata": {},
   "outputs": [],
   "source": [
    "random.seed(123)\n",
    "np.random.seed(123)\n",
    "torch.manual_seed(123)\n",
    "torch.cuda.manual_seed(123)\n",
    "torch.backends.cudnn.deterministic = True"
   ]
  },
  {
   "cell_type": "code",
   "execution_count": 4,
   "metadata": {},
   "outputs": [],
   "source": [
    "import torchvision.transforms as transforms\n",
    "from torch import nn"
   ]
  },
  {
   "cell_type": "code",
   "execution_count": 5,
   "metadata": {},
   "outputs": [],
   "source": [
    "class EmbeddingNet(nn.Module):\n",
    "    \"\"\"EmbeddingNet using ResNet-101.\"\"\"\n",
    "\n",
    "    def __init__(self, resnet):\n",
    "        \"\"\"Initialize EmbeddingNet model.\"\"\"\n",
    "        super(EmbeddingNet, self).__init__()\n",
    "\n",
    "        # Everything except the last linear layer\n",
    "        self.features = nn.Sequential(*list(resnet.children())[:-2])\n",
    "        num_ftrs = resnet.dense.in_features\n",
    "        self.dense = nn.Linear(num_ftrs, 4096)\n",
    "\n",
    "    def forward(self, x):\n",
    "        \"\"\"Forward pass of EmbeddingNet.\"\"\"\n",
    "        out = self.features(x)\n",
    "#         out = out.view(out.size(0), -1)\n",
    "        out = self.dense(out)\n",
    "\n",
    "        return out\n",
    "\n",
    "\n",
    "class TripletNet(torch.nn.Module):\n",
    "    \"\"\"Triplet Network.\"\"\"\n",
    "\n",
    "    def __init__(self, embeddingnet):\n",
    "        \"\"\"Triplet Network Builder.\"\"\"\n",
    "        super(TripletNet, self).__init__()\n",
    "        self.embeddingnet = embeddingnet\n",
    "\n",
    "    def forward(self, a, p, n):\n",
    "        \"\"\"Forward pass.\"\"\"\n",
    "        # anchor\n",
    "        embedded_a = self.embeddingnet(a)\n",
    "\n",
    "        # positive examples\n",
    "        embedded_p = self.embeddingnet(p)\n",
    "\n",
    "        # negative examples\n",
    "        embedded_n = self.embeddingnet(n)\n",
    "\n",
    "        return embedded_a, embedded_p, embedded_n\n",
    "    \n",
    "\n",
    "class Flatten(torch.nn.Module):\n",
    "    def forward(self, x):\n",
    "        return x.view(x.shape[0], -1)"
   ]
  },
  {
   "cell_type": "code",
   "execution_count": 27,
   "metadata": {},
   "outputs": [],
   "source": [
    "model = torch.load('../data/pickles/models/23.12.0.20.pth')"
   ]
  },
  {
   "cell_type": "code",
   "execution_count": 28,
   "metadata": {},
   "outputs": [],
   "source": [
    "embd_net = model.embeddingnet"
   ]
  },
  {
   "cell_type": "code",
   "execution_count": 30,
   "metadata": {},
   "outputs": [],
   "source": [
    "class ImageFolderWithPaths(torchvision.datasets.ImageFolder):\n",
    "    def __getitem__(self, index):\n",
    "        original_tuple = super(ImageFolderWithPaths, self).__getitem__(index)\n",
    "        path = self.imgs[index][0]\n",
    "        tuple_with_path = (original_tuple + (path,))\n",
    "        return tuple_with_path"
   ]
  },
  {
   "cell_type": "code",
   "execution_count": 31,
   "metadata": {},
   "outputs": [],
   "source": [
    "# Normalize training set together with augmentation\n",
    "one_transform = transforms.Compose([\n",
    "    transforms.Grayscale(num_output_channels=1),\n",
    "#     transforms.Resize((224,224)),\n",
    "    transforms.ToTensor(),\n",
    "    transforms.Normalize([0.0069], [0.0033])\n",
    "])\n",
    "\n",
    "train_dir = '../data/spectrograms/train/train/'\n",
    "val_dir = '../data/spectrograms/train/val/'\n",
    "test_dir = '../data/spectrograms/test/'\n",
    "\n",
    "batch_size = 16\n",
    "test_dataset = ImageFolderWithPaths(test_dir, one_transform)\n",
    "test_dataloader = torch.utils.data.DataLoader(\n",
    "    test_dataset, batch_size=batch_size, shuffle=False, num_workers=8\n",
    ")\n",
    "\n",
    "train_dataset = ImageFolderWithPaths(train_dir, one_transform)\n",
    "val_dataset = ImageFolderWithPaths(val_dir, one_transform)\n",
    "\n",
    "train_dataloader = torch.utils.data.DataLoader(\n",
    "    train_dataset, batch_size=batch_size, shuffle=False, drop_last=False, num_workers=8\n",
    ")\n",
    "val_dataloader = torch.utils.data.DataLoader(\n",
    "    val_dataset, batch_size=batch_size, shuffle=False, num_workers=8\n",
    ")\n",
    "\n",
    "# class_names = train_dataset.classes\n",
    "\n",
    "\n",
    "# Loading Tiny ImageNet dataset\n",
    "# trplt_path = '../pickles_for_git/triplets.p'\n",
    "# batch_szie = 32\n",
    "# trainset = TripletDataset(triplet_path=trplt_path, transform=one_transform)\n",
    "# trainloader = torch.utils.data.DataLoader(trainset, batch_size=batch_szie, num_workers=8)\n",
    "\n",
    "# testset = TripletImageLoader(\n",
    "#     base_path=root, triplets_filename=\"\", transform=transform_test, train=False)\n",
    "# testloader = torch.utils.data.DataLoader(\n",
    "#     testset, batch_size=batch_size_test, num_workers=32)"
   ]
  },
  {
   "cell_type": "code",
   "execution_count": 32,
   "metadata": {},
   "outputs": [
    {
     "data": {
      "text/plain": [
       "(7, 97)"
      ]
     },
     "execution_count": 32,
     "metadata": {},
     "output_type": "execute_result"
    }
   ],
   "source": [
    "len(test_dataloader), len(test_dataset)"
   ]
  },
  {
   "cell_type": "code",
   "execution_count": 33,
   "metadata": {},
   "outputs": [],
   "source": [
    "def predict(model, test_loader):\n",
    "    with torch.no_grad():\n",
    "        logits = []\n",
    "    \n",
    "        for inputs, x, path in test_loader:\n",
    "            inputs = inputs.to(device)\n",
    "            model.eval()\n",
    "            outputs = model(inputs).cpu()\n",
    "            logits.append(outputs)\n",
    "            \n",
    "    probs = torch.nn.functional.softmax(torch.cat(logits), dim=-1).numpy()\n",
    "    return probs"
   ]
  },
  {
   "cell_type": "code",
   "execution_count": 34,
   "metadata": {},
   "outputs": [],
   "source": [
    "embd_net = embd_net.to(device)"
   ]
  },
  {
   "cell_type": "code",
   "execution_count": 35,
   "metadata": {},
   "outputs": [
    {
     "ename": "ModuleAttributeError",
     "evalue": "'EmbeddingNet' object has no attribute 'dense'",
     "output_type": "error",
     "traceback": [
      "\u001b[0;31m---------------------------------------------------------------------------\u001b[0m",
      "\u001b[0;31mModuleAttributeError\u001b[0m                      Traceback (most recent call last)",
      "\u001b[0;32m<ipython-input-35-cd7e6ef16f44>\u001b[0m in \u001b[0;36m<module>\u001b[0;34m\u001b[0m\n\u001b[1;32m      5\u001b[0m         \u001b[0minputs\u001b[0m \u001b[0;34m=\u001b[0m \u001b[0minputs\u001b[0m\u001b[0;34m.\u001b[0m\u001b[0mto\u001b[0m\u001b[0;34m(\u001b[0m\u001b[0mdevice\u001b[0m\u001b[0;34m)\u001b[0m\u001b[0;34m\u001b[0m\u001b[0;34m\u001b[0m\u001b[0m\n\u001b[1;32m      6\u001b[0m         \u001b[0membd_net\u001b[0m\u001b[0;34m.\u001b[0m\u001b[0meval\u001b[0m\u001b[0;34m(\u001b[0m\u001b[0;34m)\u001b[0m\u001b[0;34m\u001b[0m\u001b[0;34m\u001b[0m\u001b[0m\n\u001b[0;32m----> 7\u001b[0;31m         \u001b[0moutputs\u001b[0m \u001b[0;34m=\u001b[0m \u001b[0membd_net\u001b[0m\u001b[0;34m(\u001b[0m\u001b[0minputs\u001b[0m\u001b[0;34m)\u001b[0m\u001b[0;34m.\u001b[0m\u001b[0mcpu\u001b[0m\u001b[0;34m(\u001b[0m\u001b[0;34m)\u001b[0m\u001b[0;34m\u001b[0m\u001b[0;34m\u001b[0m\u001b[0m\n\u001b[0m\u001b[1;32m      8\u001b[0m         \u001b[0mlogits\u001b[0m\u001b[0;34m.\u001b[0m\u001b[0mappend\u001b[0m\u001b[0;34m(\u001b[0m\u001b[0moutputs\u001b[0m\u001b[0;34m)\u001b[0m\u001b[0;34m\u001b[0m\u001b[0;34m\u001b[0m\u001b[0m\n\u001b[1;32m      9\u001b[0m         \u001b[0;32mbreak\u001b[0m\u001b[0;34m\u001b[0m\u001b[0;34m\u001b[0m\u001b[0m\n",
      "\u001b[0;32m~/projects/dp/music_similarity/venv/lib/python3.6/site-packages/torch/nn/modules/module.py\u001b[0m in \u001b[0;36m_call_impl\u001b[0;34m(self, *input, **kwargs)\u001b[0m\n\u001b[1;32m    725\u001b[0m             \u001b[0mresult\u001b[0m \u001b[0;34m=\u001b[0m \u001b[0mself\u001b[0m\u001b[0;34m.\u001b[0m\u001b[0m_slow_forward\u001b[0m\u001b[0;34m(\u001b[0m\u001b[0;34m*\u001b[0m\u001b[0minput\u001b[0m\u001b[0;34m,\u001b[0m \u001b[0;34m**\u001b[0m\u001b[0mkwargs\u001b[0m\u001b[0;34m)\u001b[0m\u001b[0;34m\u001b[0m\u001b[0;34m\u001b[0m\u001b[0m\n\u001b[1;32m    726\u001b[0m         \u001b[0;32melse\u001b[0m\u001b[0;34m:\u001b[0m\u001b[0;34m\u001b[0m\u001b[0;34m\u001b[0m\u001b[0m\n\u001b[0;32m--> 727\u001b[0;31m             \u001b[0mresult\u001b[0m \u001b[0;34m=\u001b[0m \u001b[0mself\u001b[0m\u001b[0;34m.\u001b[0m\u001b[0mforward\u001b[0m\u001b[0;34m(\u001b[0m\u001b[0;34m*\u001b[0m\u001b[0minput\u001b[0m\u001b[0;34m,\u001b[0m \u001b[0;34m**\u001b[0m\u001b[0mkwargs\u001b[0m\u001b[0;34m)\u001b[0m\u001b[0;34m\u001b[0m\u001b[0;34m\u001b[0m\u001b[0m\n\u001b[0m\u001b[1;32m    728\u001b[0m         for hook in itertools.chain(\n\u001b[1;32m    729\u001b[0m                 \u001b[0m_global_forward_hooks\u001b[0m\u001b[0;34m.\u001b[0m\u001b[0mvalues\u001b[0m\u001b[0;34m(\u001b[0m\u001b[0;34m)\u001b[0m\u001b[0;34m,\u001b[0m\u001b[0;34m\u001b[0m\u001b[0;34m\u001b[0m\u001b[0m\n",
      "\u001b[0;32m<ipython-input-5-f08c7a53a433>\u001b[0m in \u001b[0;36mforward\u001b[0;34m(self, x)\u001b[0m\n\u001b[1;32m     15\u001b[0m         \u001b[0mout\u001b[0m \u001b[0;34m=\u001b[0m \u001b[0mself\u001b[0m\u001b[0;34m.\u001b[0m\u001b[0mfeatures\u001b[0m\u001b[0;34m(\u001b[0m\u001b[0mx\u001b[0m\u001b[0;34m)\u001b[0m\u001b[0;34m\u001b[0m\u001b[0;34m\u001b[0m\u001b[0m\n\u001b[1;32m     16\u001b[0m \u001b[0;31m#         out = out.view(out.size(0), -1)\u001b[0m\u001b[0;34m\u001b[0m\u001b[0;34m\u001b[0m\u001b[0;34m\u001b[0m\u001b[0m\n\u001b[0;32m---> 17\u001b[0;31m         \u001b[0mout\u001b[0m \u001b[0;34m=\u001b[0m \u001b[0mself\u001b[0m\u001b[0;34m.\u001b[0m\u001b[0mdense\u001b[0m\u001b[0;34m(\u001b[0m\u001b[0mout\u001b[0m\u001b[0;34m)\u001b[0m\u001b[0;34m\u001b[0m\u001b[0;34m\u001b[0m\u001b[0m\n\u001b[0m\u001b[1;32m     18\u001b[0m \u001b[0;34m\u001b[0m\u001b[0m\n\u001b[1;32m     19\u001b[0m         \u001b[0;32mreturn\u001b[0m \u001b[0mout\u001b[0m\u001b[0;34m\u001b[0m\u001b[0;34m\u001b[0m\u001b[0m\n",
      "\u001b[0;32m~/projects/dp/music_similarity/venv/lib/python3.6/site-packages/torch/nn/modules/module.py\u001b[0m in \u001b[0;36m__getattr__\u001b[0;34m(self, name)\u001b[0m\n\u001b[1;32m    777\u001b[0m                 \u001b[0;32mreturn\u001b[0m \u001b[0mmodules\u001b[0m\u001b[0;34m[\u001b[0m\u001b[0mname\u001b[0m\u001b[0;34m]\u001b[0m\u001b[0;34m\u001b[0m\u001b[0;34m\u001b[0m\u001b[0m\n\u001b[1;32m    778\u001b[0m         raise ModuleAttributeError(\"'{}' object has no attribute '{}'\".format(\n\u001b[0;32m--> 779\u001b[0;31m             type(self).__name__, name))\n\u001b[0m\u001b[1;32m    780\u001b[0m \u001b[0;34m\u001b[0m\u001b[0m\n\u001b[1;32m    781\u001b[0m     \u001b[0;32mdef\u001b[0m \u001b[0m__setattr__\u001b[0m\u001b[0;34m(\u001b[0m\u001b[0mself\u001b[0m\u001b[0;34m,\u001b[0m \u001b[0mname\u001b[0m\u001b[0;34m:\u001b[0m \u001b[0mstr\u001b[0m\u001b[0;34m,\u001b[0m \u001b[0mvalue\u001b[0m\u001b[0;34m:\u001b[0m \u001b[0mUnion\u001b[0m\u001b[0;34m[\u001b[0m\u001b[0mTensor\u001b[0m\u001b[0;34m,\u001b[0m \u001b[0;34m'Module'\u001b[0m\u001b[0;34m]\u001b[0m\u001b[0;34m)\u001b[0m \u001b[0;34m->\u001b[0m \u001b[0;32mNone\u001b[0m\u001b[0;34m:\u001b[0m\u001b[0;34m\u001b[0m\u001b[0;34m\u001b[0m\u001b[0m\n",
      "\u001b[0;31mModuleAttributeError\u001b[0m: 'EmbeddingNet' object has no attribute 'dense'"
     ]
    }
   ],
   "source": [
    "with torch.no_grad():\n",
    "    logits = []\n",
    "\n",
    "    for inputs, x, path in test_dataloader:\n",
    "        inputs = inputs.to(device)\n",
    "        embd_net.eval()\n",
    "        outputs = embd_net(inputs).cpu()\n",
    "        logits.append(outputs)\n",
    "        break"
   ]
  },
  {
   "cell_type": "code",
   "execution_count": 14,
   "metadata": {},
   "outputs": [
    {
     "data": {
      "text/plain": [
       "torch.Size([4096])"
      ]
     },
     "execution_count": 14,
     "metadata": {},
     "output_type": "execute_result"
    }
   ],
   "source": [
    "logits[0][0].shape"
   ]
  },
  {
   "cell_type": "code",
   "execution_count": 15,
   "metadata": {},
   "outputs": [],
   "source": [
    "with torch.no_grad():\n",
    "    logits = []\n",
    "    path_list = list()\n",
    "    for inputs, x, path in test_dataloader:\n",
    "        inputs = inputs.to(device)\n",
    "        embd_net.eval()\n",
    "        outputs = embd_net(inputs).cpu()\n",
    "        logits.append(outputs)\n",
    "        path_list.append(path)"
   ]
  },
  {
   "cell_type": "code",
   "execution_count": 16,
   "metadata": {},
   "outputs": [],
   "source": [
    "with torch.no_grad():\n",
    "#     logits = []\n",
    "#     path_list = list()\n",
    "    for inputs, x, path in val_dataloader:\n",
    "        inputs = inputs.to(device)\n",
    "        embd_net.eval()\n",
    "        outputs = embd_net(inputs).cpu()\n",
    "        logits.append(outputs)\n",
    "        path_list.append(path)"
   ]
  },
  {
   "cell_type": "code",
   "execution_count": 17,
   "metadata": {},
   "outputs": [],
   "source": [
    "with torch.no_grad():\n",
    "#     logits = []\n",
    "#     path_list = list()\n",
    "    for inputs, x, path in train_dataloader:\n",
    "        inputs = inputs.to(device)\n",
    "        embd_net.eval()\n",
    "        outputs = embd_net(inputs).cpu()\n",
    "        logits.append(outputs)\n",
    "        path_list.append(path)"
   ]
  },
  {
   "cell_type": "code",
   "execution_count": 18,
   "metadata": {},
   "outputs": [
    {
     "data": {
      "text/plain": [
       "'../data/spectrograms/test/unknown/000190.png'"
      ]
     },
     "execution_count": 18,
     "metadata": {},
     "output_type": "execute_result"
    }
   ],
   "source": [
    "path_list[0][0]"
   ]
  },
  {
   "cell_type": "code",
   "execution_count": 19,
   "metadata": {},
   "outputs": [
    {
     "data": {
      "text/plain": [
       "4096"
      ]
     },
     "execution_count": 19,
     "metadata": {},
     "output_type": "execute_result"
    }
   ],
   "source": [
    "logits[0][0].shape[0]"
   ]
  },
  {
   "cell_type": "code",
   "execution_count": 20,
   "metadata": {},
   "outputs": [],
   "source": [
    "emb_list = list()\n",
    "for i in logits:\n",
    "    for tens in i:\n",
    "        emb_list.append(tens.numpy())"
   ]
  },
  {
   "cell_type": "code",
   "execution_count": 21,
   "metadata": {},
   "outputs": [],
   "source": [
    "embeddings = pd.DataFrame(emb_list)"
   ]
  },
  {
   "cell_type": "code",
   "execution_count": 22,
   "metadata": {},
   "outputs": [],
   "source": [
    "track_list = list()\n",
    "for i in path_list:\n",
    "    for path in i:\n",
    "        name = path.split('/')[-1]\n",
    "        ids = name.split('.')[0]\n",
    "        track_list.append(ids)"
   ]
  },
  {
   "cell_type": "code",
   "execution_count": 23,
   "metadata": {},
   "outputs": [],
   "source": [
    "embeddings['id'] = track_list"
   ]
  },
  {
   "cell_type": "code",
   "execution_count": 24,
   "metadata": {},
   "outputs": [],
   "source": [
    "embeddings = embeddings[['id'] + list(np.arange(logits[0][0].shape[0]))]"
   ]
  },
  {
   "cell_type": "code",
   "execution_count": 25,
   "metadata": {},
   "outputs": [
    {
     "data": {
      "text/html": [
       "<div>\n",
       "<style scoped>\n",
       "    .dataframe tbody tr th:only-of-type {\n",
       "        vertical-align: middle;\n",
       "    }\n",
       "\n",
       "    .dataframe tbody tr th {\n",
       "        vertical-align: top;\n",
       "    }\n",
       "\n",
       "    .dataframe thead th {\n",
       "        text-align: right;\n",
       "    }\n",
       "</style>\n",
       "<table border=\"1\" class=\"dataframe\">\n",
       "  <thead>\n",
       "    <tr style=\"text-align: right;\">\n",
       "      <th></th>\n",
       "      <th>id</th>\n",
       "      <th>0</th>\n",
       "      <th>1</th>\n",
       "      <th>2</th>\n",
       "      <th>3</th>\n",
       "      <th>4</th>\n",
       "      <th>5</th>\n",
       "      <th>6</th>\n",
       "      <th>7</th>\n",
       "      <th>8</th>\n",
       "      <th>...</th>\n",
       "      <th>4086</th>\n",
       "      <th>4087</th>\n",
       "      <th>4088</th>\n",
       "      <th>4089</th>\n",
       "      <th>4090</th>\n",
       "      <th>4091</th>\n",
       "      <th>4092</th>\n",
       "      <th>4093</th>\n",
       "      <th>4094</th>\n",
       "      <th>4095</th>\n",
       "    </tr>\n",
       "  </thead>\n",
       "  <tbody>\n",
       "    <tr>\n",
       "      <th>0</th>\n",
       "      <td>000190</td>\n",
       "      <td>-1.276893</td>\n",
       "      <td>0.408302</td>\n",
       "      <td>0.291343</td>\n",
       "      <td>1.445127</td>\n",
       "      <td>0.996394</td>\n",
       "      <td>1.410408</td>\n",
       "      <td>-1.059028</td>\n",
       "      <td>-0.770857</td>\n",
       "      <td>-1.551588</td>\n",
       "      <td>...</td>\n",
       "      <td>0.829957</td>\n",
       "      <td>-1.234529</td>\n",
       "      <td>1.042391</td>\n",
       "      <td>0.312923</td>\n",
       "      <td>1.134506</td>\n",
       "      <td>-0.318664</td>\n",
       "      <td>-0.097139</td>\n",
       "      <td>0.573347</td>\n",
       "      <td>-0.352778</td>\n",
       "      <td>-0.140766</td>\n",
       "    </tr>\n",
       "    <tr>\n",
       "      <th>1</th>\n",
       "      <td>000194</td>\n",
       "      <td>-1.201204</td>\n",
       "      <td>0.363852</td>\n",
       "      <td>0.306437</td>\n",
       "      <td>1.436126</td>\n",
       "      <td>0.790721</td>\n",
       "      <td>1.532884</td>\n",
       "      <td>-1.076252</td>\n",
       "      <td>-0.828838</td>\n",
       "      <td>-1.447008</td>\n",
       "      <td>...</td>\n",
       "      <td>0.813164</td>\n",
       "      <td>-1.331910</td>\n",
       "      <td>1.028743</td>\n",
       "      <td>0.469838</td>\n",
       "      <td>1.227907</td>\n",
       "      <td>-0.257681</td>\n",
       "      <td>0.099148</td>\n",
       "      <td>0.683309</td>\n",
       "      <td>-0.243152</td>\n",
       "      <td>-0.111059</td>\n",
       "    </tr>\n",
       "    <tr>\n",
       "      <th>2</th>\n",
       "      <td>000667</td>\n",
       "      <td>-0.731311</td>\n",
       "      <td>-0.059756</td>\n",
       "      <td>0.043560</td>\n",
       "      <td>0.905223</td>\n",
       "      <td>0.973806</td>\n",
       "      <td>1.078042</td>\n",
       "      <td>-1.005939</td>\n",
       "      <td>-0.899546</td>\n",
       "      <td>-1.736002</td>\n",
       "      <td>...</td>\n",
       "      <td>0.443425</td>\n",
       "      <td>-0.823968</td>\n",
       "      <td>0.926827</td>\n",
       "      <td>0.747362</td>\n",
       "      <td>0.813988</td>\n",
       "      <td>-0.668154</td>\n",
       "      <td>-0.222066</td>\n",
       "      <td>0.720436</td>\n",
       "      <td>-0.123378</td>\n",
       "      <td>0.251941</td>\n",
       "    </tr>\n",
       "    <tr>\n",
       "      <th>3</th>\n",
       "      <td>001040</td>\n",
       "      <td>-0.930320</td>\n",
       "      <td>-0.344406</td>\n",
       "      <td>0.097284</td>\n",
       "      <td>0.841191</td>\n",
       "      <td>0.997342</td>\n",
       "      <td>1.034332</td>\n",
       "      <td>-1.212615</td>\n",
       "      <td>-0.921806</td>\n",
       "      <td>-1.487170</td>\n",
       "      <td>...</td>\n",
       "      <td>0.256667</td>\n",
       "      <td>-1.023019</td>\n",
       "      <td>0.620918</td>\n",
       "      <td>0.537424</td>\n",
       "      <td>0.959706</td>\n",
       "      <td>-0.558905</td>\n",
       "      <td>-0.188720</td>\n",
       "      <td>0.478831</td>\n",
       "      <td>0.025207</td>\n",
       "      <td>0.287220</td>\n",
       "    </tr>\n",
       "    <tr>\n",
       "      <th>4</th>\n",
       "      <td>001686</td>\n",
       "      <td>-0.840700</td>\n",
       "      <td>0.000242</td>\n",
       "      <td>0.204627</td>\n",
       "      <td>1.189205</td>\n",
       "      <td>0.889482</td>\n",
       "      <td>1.353601</td>\n",
       "      <td>-1.096324</td>\n",
       "      <td>-0.894396</td>\n",
       "      <td>-1.519699</td>\n",
       "      <td>...</td>\n",
       "      <td>0.338232</td>\n",
       "      <td>-0.943736</td>\n",
       "      <td>1.311060</td>\n",
       "      <td>0.589391</td>\n",
       "      <td>1.155286</td>\n",
       "      <td>-0.379741</td>\n",
       "      <td>0.113926</td>\n",
       "      <td>0.895250</td>\n",
       "      <td>-0.688248</td>\n",
       "      <td>-0.257464</td>\n",
       "    </tr>\n",
       "    <tr>\n",
       "      <th>...</th>\n",
       "      <td>...</td>\n",
       "      <td>...</td>\n",
       "      <td>...</td>\n",
       "      <td>...</td>\n",
       "      <td>...</td>\n",
       "      <td>...</td>\n",
       "      <td>...</td>\n",
       "      <td>...</td>\n",
       "      <td>...</td>\n",
       "      <td>...</td>\n",
       "      <td>...</td>\n",
       "      <td>...</td>\n",
       "      <td>...</td>\n",
       "      <td>...</td>\n",
       "      <td>...</td>\n",
       "      <td>...</td>\n",
       "      <td>...</td>\n",
       "      <td>...</td>\n",
       "      <td>...</td>\n",
       "      <td>...</td>\n",
       "      <td>...</td>\n",
       "    </tr>\n",
       "    <tr>\n",
       "      <th>7989</th>\n",
       "      <td>149416</td>\n",
       "      <td>-1.198173</td>\n",
       "      <td>-0.121649</td>\n",
       "      <td>0.101514</td>\n",
       "      <td>1.089058</td>\n",
       "      <td>0.838044</td>\n",
       "      <td>1.161070</td>\n",
       "      <td>-1.322232</td>\n",
       "      <td>-0.867880</td>\n",
       "      <td>-1.447068</td>\n",
       "      <td>...</td>\n",
       "      <td>0.334303</td>\n",
       "      <td>-1.067471</td>\n",
       "      <td>0.522970</td>\n",
       "      <td>0.386904</td>\n",
       "      <td>0.821854</td>\n",
       "      <td>-0.622950</td>\n",
       "      <td>-0.331727</td>\n",
       "      <td>0.344130</td>\n",
       "      <td>-0.144897</td>\n",
       "      <td>0.354650</td>\n",
       "    </tr>\n",
       "    <tr>\n",
       "      <th>7990</th>\n",
       "      <td>149417</td>\n",
       "      <td>-1.406448</td>\n",
       "      <td>-0.155011</td>\n",
       "      <td>0.223302</td>\n",
       "      <td>1.244829</td>\n",
       "      <td>0.684316</td>\n",
       "      <td>1.172671</td>\n",
       "      <td>-1.152496</td>\n",
       "      <td>-0.825584</td>\n",
       "      <td>-1.393516</td>\n",
       "      <td>...</td>\n",
       "      <td>0.463438</td>\n",
       "      <td>-1.044278</td>\n",
       "      <td>0.755577</td>\n",
       "      <td>-0.023398</td>\n",
       "      <td>1.021887</td>\n",
       "      <td>-0.581454</td>\n",
       "      <td>-0.363187</td>\n",
       "      <td>0.413588</td>\n",
       "      <td>-0.117126</td>\n",
       "      <td>0.255743</td>\n",
       "    </tr>\n",
       "    <tr>\n",
       "      <th>7991</th>\n",
       "      <td>149452</td>\n",
       "      <td>-1.108290</td>\n",
       "      <td>-0.116360</td>\n",
       "      <td>0.258910</td>\n",
       "      <td>0.874292</td>\n",
       "      <td>1.191722</td>\n",
       "      <td>1.027386</td>\n",
       "      <td>-1.324970</td>\n",
       "      <td>-0.913047</td>\n",
       "      <td>-1.032652</td>\n",
       "      <td>...</td>\n",
       "      <td>0.284604</td>\n",
       "      <td>-0.914654</td>\n",
       "      <td>1.015525</td>\n",
       "      <td>0.559520</td>\n",
       "      <td>1.123050</td>\n",
       "      <td>-0.592272</td>\n",
       "      <td>-0.406806</td>\n",
       "      <td>0.344648</td>\n",
       "      <td>-0.185501</td>\n",
       "      <td>0.395425</td>\n",
       "    </tr>\n",
       "    <tr>\n",
       "      <th>7992</th>\n",
       "      <td>149488</td>\n",
       "      <td>-1.120759</td>\n",
       "      <td>0.297402</td>\n",
       "      <td>0.120046</td>\n",
       "      <td>0.615894</td>\n",
       "      <td>0.744380</td>\n",
       "      <td>1.431480</td>\n",
       "      <td>-1.428654</td>\n",
       "      <td>-0.602216</td>\n",
       "      <td>-1.262241</td>\n",
       "      <td>...</td>\n",
       "      <td>0.527568</td>\n",
       "      <td>-0.822180</td>\n",
       "      <td>0.837380</td>\n",
       "      <td>0.738472</td>\n",
       "      <td>1.187538</td>\n",
       "      <td>-0.778346</td>\n",
       "      <td>-0.043030</td>\n",
       "      <td>0.591897</td>\n",
       "      <td>-0.388566</td>\n",
       "      <td>0.131399</td>\n",
       "    </tr>\n",
       "    <tr>\n",
       "      <th>7993</th>\n",
       "      <td>149523</td>\n",
       "      <td>-0.967052</td>\n",
       "      <td>0.154306</td>\n",
       "      <td>-0.074595</td>\n",
       "      <td>0.987587</td>\n",
       "      <td>0.792968</td>\n",
       "      <td>1.159178</td>\n",
       "      <td>-1.370960</td>\n",
       "      <td>-0.468206</td>\n",
       "      <td>-1.427798</td>\n",
       "      <td>...</td>\n",
       "      <td>0.288532</td>\n",
       "      <td>-0.909990</td>\n",
       "      <td>1.379007</td>\n",
       "      <td>0.517933</td>\n",
       "      <td>1.096137</td>\n",
       "      <td>-0.527618</td>\n",
       "      <td>-0.046390</td>\n",
       "      <td>0.727821</td>\n",
       "      <td>-0.679360</td>\n",
       "      <td>-0.417453</td>\n",
       "    </tr>\n",
       "  </tbody>\n",
       "</table>\n",
       "<p>7994 rows × 4097 columns</p>\n",
       "</div>"
      ],
      "text/plain": [
       "          id         0         1         2         3         4         5  \\\n",
       "0     000190 -1.276893  0.408302  0.291343  1.445127  0.996394  1.410408   \n",
       "1     000194 -1.201204  0.363852  0.306437  1.436126  0.790721  1.532884   \n",
       "2     000667 -0.731311 -0.059756  0.043560  0.905223  0.973806  1.078042   \n",
       "3     001040 -0.930320 -0.344406  0.097284  0.841191  0.997342  1.034332   \n",
       "4     001686 -0.840700  0.000242  0.204627  1.189205  0.889482  1.353601   \n",
       "...      ...       ...       ...       ...       ...       ...       ...   \n",
       "7989  149416 -1.198173 -0.121649  0.101514  1.089058  0.838044  1.161070   \n",
       "7990  149417 -1.406448 -0.155011  0.223302  1.244829  0.684316  1.172671   \n",
       "7991  149452 -1.108290 -0.116360  0.258910  0.874292  1.191722  1.027386   \n",
       "7992  149488 -1.120759  0.297402  0.120046  0.615894  0.744380  1.431480   \n",
       "7993  149523 -0.967052  0.154306 -0.074595  0.987587  0.792968  1.159178   \n",
       "\n",
       "             6         7         8  ...      4086      4087      4088  \\\n",
       "0    -1.059028 -0.770857 -1.551588  ...  0.829957 -1.234529  1.042391   \n",
       "1    -1.076252 -0.828838 -1.447008  ...  0.813164 -1.331910  1.028743   \n",
       "2    -1.005939 -0.899546 -1.736002  ...  0.443425 -0.823968  0.926827   \n",
       "3    -1.212615 -0.921806 -1.487170  ...  0.256667 -1.023019  0.620918   \n",
       "4    -1.096324 -0.894396 -1.519699  ...  0.338232 -0.943736  1.311060   \n",
       "...        ...       ...       ...  ...       ...       ...       ...   \n",
       "7989 -1.322232 -0.867880 -1.447068  ...  0.334303 -1.067471  0.522970   \n",
       "7990 -1.152496 -0.825584 -1.393516  ...  0.463438 -1.044278  0.755577   \n",
       "7991 -1.324970 -0.913047 -1.032652  ...  0.284604 -0.914654  1.015525   \n",
       "7992 -1.428654 -0.602216 -1.262241  ...  0.527568 -0.822180  0.837380   \n",
       "7993 -1.370960 -0.468206 -1.427798  ...  0.288532 -0.909990  1.379007   \n",
       "\n",
       "          4089      4090      4091      4092      4093      4094      4095  \n",
       "0     0.312923  1.134506 -0.318664 -0.097139  0.573347 -0.352778 -0.140766  \n",
       "1     0.469838  1.227907 -0.257681  0.099148  0.683309 -0.243152 -0.111059  \n",
       "2     0.747362  0.813988 -0.668154 -0.222066  0.720436 -0.123378  0.251941  \n",
       "3     0.537424  0.959706 -0.558905 -0.188720  0.478831  0.025207  0.287220  \n",
       "4     0.589391  1.155286 -0.379741  0.113926  0.895250 -0.688248 -0.257464  \n",
       "...        ...       ...       ...       ...       ...       ...       ...  \n",
       "7989  0.386904  0.821854 -0.622950 -0.331727  0.344130 -0.144897  0.354650  \n",
       "7990 -0.023398  1.021887 -0.581454 -0.363187  0.413588 -0.117126  0.255743  \n",
       "7991  0.559520  1.123050 -0.592272 -0.406806  0.344648 -0.185501  0.395425  \n",
       "7992  0.738472  1.187538 -0.778346 -0.043030  0.591897 -0.388566  0.131399  \n",
       "7993  0.517933  1.096137 -0.527618 -0.046390  0.727821 -0.679360 -0.417453  \n",
       "\n",
       "[7994 rows x 4097 columns]"
      ]
     },
     "execution_count": 25,
     "metadata": {},
     "output_type": "execute_result"
    }
   ],
   "source": [
    "embeddings"
   ]
  },
  {
   "cell_type": "code",
   "execution_count": 26,
   "metadata": {},
   "outputs": [],
   "source": [
    "embeddings.to_csv('../data/csv/triplet_embeddings.csv', index=False)"
   ]
  },
  {
   "cell_type": "code",
   "execution_count": null,
   "metadata": {},
   "outputs": [],
   "source": []
  }
 ],
 "metadata": {
  "kernelspec": {
   "display_name": "dp_project",
   "language": "python",
   "name": "venv"
  },
  "language_info": {
   "codemirror_mode": {
    "name": "ipython",
    "version": 3
   },
   "file_extension": ".py",
   "mimetype": "text/x-python",
   "name": "python",
   "nbconvert_exporter": "python",
   "pygments_lexer": "ipython3",
   "version": "3.6.9"
  }
 },
 "nbformat": 4,
 "nbformat_minor": 4
}
