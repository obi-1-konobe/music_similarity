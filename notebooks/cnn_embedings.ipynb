{
 "cells": [
  {
   "cell_type": "code",
   "execution_count": 15,
   "metadata": {},
   "outputs": [],
   "source": [
    "import os\n",
    "import random\n",
    "import pickle\n",
    "import torch\n",
    "import torchvision\n",
    "import pandas as pd\n",
    "import numpy as np"
   ]
  },
  {
   "cell_type": "code",
   "execution_count": 18,
   "metadata": {},
   "outputs": [],
   "source": [
    "import torchvision.transforms as transforms"
   ]
  },
  {
   "cell_type": "code",
   "execution_count": 6,
   "metadata": {},
   "outputs": [
    {
     "data": {
      "text/plain": [
       "True"
      ]
     },
     "execution_count": 6,
     "metadata": {},
     "output_type": "execute_result"
    }
   ],
   "source": [
    "torch.cuda.is_available()"
   ]
  },
  {
   "cell_type": "code",
   "execution_count": 7,
   "metadata": {},
   "outputs": [],
   "source": [
    "device = torch.device(\"cuda:0\" if torch.cuda.is_available() else \"cpu\")"
   ]
  },
  {
   "cell_type": "code",
   "execution_count": 9,
   "metadata": {},
   "outputs": [],
   "source": [
    "random.seed(123)\n",
    "np.random.seed(123)\n",
    "torch.manual_seed(123)\n",
    "torch.cuda.manual_seed(123)\n",
    "torch.backends.cudnn.deterministic = True"
   ]
  },
  {
   "cell_type": "code",
   "execution_count": 11,
   "metadata": {},
   "outputs": [],
   "source": [
    "class Flatten(torch.nn.Module):\n",
    "    def forward(self, x):\n",
    "        return x.view(x.shape[0], -1)"
   ]
  },
  {
   "cell_type": "code",
   "execution_count": 12,
   "metadata": {},
   "outputs": [],
   "source": [
    "with open('../pickles_for_git/model_6051.p', 'rb') as f:\n",
    "    model = pickle.load(f)"
   ]
  },
  {
   "cell_type": "code",
   "execution_count": 26,
   "metadata": {},
   "outputs": [],
   "source": [
    "with open('../pickles_for_git/main_dict.pickle', 'rb') as f:\n",
    "    main_dict = pickle.load(f)"
   ]
  },
  {
   "cell_type": "code",
   "execution_count": 16,
   "metadata": {},
   "outputs": [],
   "source": [
    "class ImageFolderWithPaths(torchvision.datasets.ImageFolder):\n",
    "    def __getitem__(self, index):\n",
    "        original_tuple = super(ImageFolderWithPaths, self).__getitem__(index)\n",
    "        path = self.imgs[index][0]\n",
    "        tuple_with_path = (original_tuple + (path,))\n",
    "        return tuple_with_path"
   ]
  },
  {
   "cell_type": "code",
   "execution_count": 20,
   "metadata": {},
   "outputs": [],
   "source": [
    "train_dir = '../data/spectrograms/train/train/'\n",
    "val_dir = '../data/spectrograms/train/val/'\n",
    "test_dir = '../data/spectrograms/test/'"
   ]
  },
  {
   "cell_type": "code",
   "execution_count": 88,
   "metadata": {},
   "outputs": [],
   "source": [
    "one_transform = transforms.Compose([\n",
    "    transforms.Grayscale(num_output_channels=1),\n",
    "    transforms.ToTensor(),\n",
    "    transforms.Normalize([0.0069], [0.0033])\n",
    "])\n",
    "\n",
    "train_dataset = ImageFolderWithPaths(train_dir, one_transform)\n",
    "val_dataset = ImageFolderWithPaths(val_dir, one_transform)\n",
    "\n",
    "batch_size = 4\n",
    "train_dataloader = torch.utils.data.DataLoader(\n",
    "    train_dataset, batch_size=batch_size, shuffle=False, drop_last=False, num_workers=8\n",
    ")\n",
    "val_dataloader = torch.utils.data.DataLoader(\n",
    "    val_dataset, batch_size=batch_size, shuffle=False, num_workers=8\n",
    ")\n",
    "\n",
    "class_names = train_dataset.classes"
   ]
  },
  {
   "cell_type": "code",
   "execution_count": 22,
   "metadata": {},
   "outputs": [],
   "source": [
    "test_dataset = ImageFolderWithPaths(test_dir, one_transform)\n",
    "test_dataloader = torch.utils.data.DataLoader(\n",
    "    test_dataset, batch_size=batch_size, shuffle=False, num_workers=8\n",
    ")"
   ]
  },
  {
   "cell_type": "code",
   "execution_count": 23,
   "metadata": {},
   "outputs": [],
   "source": [
    "def predict(model, test_loader):\n",
    "    with torch.no_grad():\n",
    "        logits = []\n",
    "    \n",
    "        for inputs, x, path in test_loader:\n",
    "            inputs = inputs.to(device)\n",
    "            model.eval()\n",
    "            outputs = model(inputs).cpu()\n",
    "            logits.append(outputs)\n",
    "            \n",
    "    probs = torch.nn.functional.softmax(torch.cat(logits), dim=-1).numpy()\n",
    "    return probs"
   ]
  },
  {
   "cell_type": "code",
   "execution_count": 24,
   "metadata": {},
   "outputs": [],
   "source": [
    "probs = predict(model, test_dataloader)\n",
    "preds = np.argmax(probs, axis=1)\n",
    "preds = [class_names[x]for x in preds]"
   ]
  },
  {
   "cell_type": "code",
   "execution_count": 27,
   "metadata": {},
   "outputs": [],
   "source": [
    "true_class = list()\n",
    "for x in test_dataset:\n",
    "    path = x[2]\n",
    "    name = path.split('/')[5].strip('.png')\n",
    "    genre = main_dict[int(name)]['genre']\n",
    "    true_class.append(genre)"
   ]
  },
  {
   "cell_type": "code",
   "execution_count": 28,
   "metadata": {},
   "outputs": [
    {
     "data": {
      "text/plain": [
       "0.7010309278350515"
      ]
     },
     "execution_count": 28,
     "metadata": {},
     "output_type": "execute_result"
    }
   ],
   "source": [
    "np.array(np.array(true_class) == np.array(preds)).sum() / len(preds)"
   ]
  },
  {
   "cell_type": "code",
   "execution_count": 34,
   "metadata": {},
   "outputs": [
    {
     "data": {
      "text/plain": [
       "0.7012677559517543"
      ]
     },
     "execution_count": 34,
     "metadata": {},
     "output_type": "execute_result"
    }
   ],
   "source": [
    "from sklearn.metrics import f1_score\n",
    "f1_score(true_class, preds, average='weighted')"
   ]
  },
  {
   "cell_type": "code",
   "execution_count": 37,
   "metadata": {},
   "outputs": [],
   "source": [
    "with torch.no_grad():\n",
    "    logits = []\n",
    "\n",
    "    for inputs, x, path in test_dataloader:\n",
    "        inputs = inputs.to(device)\n",
    "        model.eval()\n",
    "        outputs = model(inputs).cpu()\n",
    "        logits.append(outputs)\n",
    "        break"
   ]
  },
  {
   "cell_type": "code",
   "execution_count": 38,
   "metadata": {},
   "outputs": [
    {
     "data": {
      "text/plain": [
       "torch.Size([4, 8])"
      ]
     },
     "execution_count": 38,
     "metadata": {},
     "output_type": "execute_result"
    }
   ],
   "source": [
    "outputs.shape"
   ]
  },
  {
   "cell_type": "code",
   "execution_count": 42,
   "metadata": {},
   "outputs": [
    {
     "data": {
      "text/plain": [
       "tensor([3.9162e-06, 2.7901e-03, 4.8492e-11, 2.3906e-06, 7.8391e-09, 1.2519e-05,\n",
       "        5.9468e-05, 9.9998e-01])"
      ]
     },
     "execution_count": 42,
     "metadata": {},
     "output_type": "execute_result"
    }
   ],
   "source": [
    "outputs[3]"
   ]
  },
  {
   "cell_type": "code",
   "execution_count": 50,
   "metadata": {},
   "outputs": [],
   "source": [
    "flat_model = model[:-2]"
   ]
  },
  {
   "cell_type": "code",
   "execution_count": 85,
   "metadata": {},
   "outputs": [],
   "source": [
    "with torch.no_grad():\n",
    "    logits = []\n",
    "    path_list = list()\n",
    "    for inputs, x, path in test_dataloader:\n",
    "        inputs = inputs.to(device)\n",
    "        flat_model.eval()\n",
    "        outputs = flat_model(inputs).cpu()\n",
    "        logits.append(outputs)\n",
    "        path_list.append(path)"
   ]
  },
  {
   "cell_type": "code",
   "execution_count": 89,
   "metadata": {},
   "outputs": [],
   "source": [
    "with torch.no_grad():\n",
    "#     logits = []\n",
    "#     path_list = list()\n",
    "    for inputs, x, path in val_dataloader:\n",
    "        inputs = inputs.to(device)\n",
    "        flat_model.eval()\n",
    "        outputs = flat_model(inputs).cpu()\n",
    "        logits.append(outputs)\n",
    "        path_list.append(path)"
   ]
  },
  {
   "cell_type": "code",
   "execution_count": 91,
   "metadata": {},
   "outputs": [],
   "source": [
    "with torch.no_grad():\n",
    "#     logits = []\n",
    "#     path_list = list()\n",
    "    for inputs, x, path in train_dataloader:\n",
    "        inputs = inputs.to(device)\n",
    "        flat_model.eval()\n",
    "        outputs = flat_model(inputs).cpu()\n",
    "        logits.append(outputs)\n",
    "        path_list.append(path)"
   ]
  },
  {
   "cell_type": "code",
   "execution_count": 92,
   "metadata": {},
   "outputs": [
    {
     "data": {
      "text/plain": [
       "2000"
      ]
     },
     "execution_count": 92,
     "metadata": {},
     "output_type": "execute_result"
    }
   ],
   "source": [
    "len(path_list)"
   ]
  },
  {
   "cell_type": "code",
   "execution_count": 82,
   "metadata": {},
   "outputs": [
    {
     "data": {
      "text/plain": [
       "'../data/spectrograms/test/unknown/000190.png'"
      ]
     },
     "execution_count": 82,
     "metadata": {},
     "output_type": "execute_result"
    }
   ],
   "source": [
    "path_list[0][0]"
   ]
  },
  {
   "cell_type": "code",
   "execution_count": 83,
   "metadata": {},
   "outputs": [
    {
     "data": {
      "text/plain": [
       "tensor([0.0000, 1.9347, 8.2890,  ..., 2.3243, 2.3456, 2.4686])"
      ]
     },
     "execution_count": 83,
     "metadata": {},
     "output_type": "execute_result"
    }
   ],
   "source": [
    "logits[0][0]"
   ]
  },
  {
   "cell_type": "code",
   "execution_count": 99,
   "metadata": {},
   "outputs": [],
   "source": [
    "emb_list = list()\n",
    "for i in logits:\n",
    "    for tens in i:\n",
    "        emb_list.append(tens.numpy())"
   ]
  },
  {
   "cell_type": "code",
   "execution_count": 102,
   "metadata": {},
   "outputs": [],
   "source": [
    "embedings = pd.DataFrame(emb_list)"
   ]
  },
  {
   "cell_type": "code",
   "execution_count": 103,
   "metadata": {},
   "outputs": [],
   "source": [
    "track_list = list()\n",
    "for i in path_list:\n",
    "    for path in i:\n",
    "        name = path.split('/')[-1]\n",
    "        ids = name.split('.')[0]\n",
    "        track_list.append(ids)"
   ]
  },
  {
   "cell_type": "code",
   "execution_count": 106,
   "metadata": {},
   "outputs": [],
   "source": [
    "embedings['id'] = track_list"
   ]
  },
  {
   "cell_type": "code",
   "execution_count": 107,
   "metadata": {},
   "outputs": [
    {
     "data": {
      "text/html": [
       "<div>\n",
       "<style scoped>\n",
       "    .dataframe tbody tr th:only-of-type {\n",
       "        vertical-align: middle;\n",
       "    }\n",
       "\n",
       "    .dataframe tbody tr th {\n",
       "        vertical-align: top;\n",
       "    }\n",
       "\n",
       "    .dataframe thead th {\n",
       "        text-align: right;\n",
       "    }\n",
       "</style>\n",
       "<table border=\"1\" class=\"dataframe\">\n",
       "  <thead>\n",
       "    <tr style=\"text-align: right;\">\n",
       "      <th></th>\n",
       "      <th>0</th>\n",
       "      <th>1</th>\n",
       "      <th>2</th>\n",
       "      <th>3</th>\n",
       "      <th>4</th>\n",
       "      <th>5</th>\n",
       "      <th>6</th>\n",
       "      <th>7</th>\n",
       "      <th>8</th>\n",
       "      <th>9</th>\n",
       "      <th>...</th>\n",
       "      <th>2039</th>\n",
       "      <th>2040</th>\n",
       "      <th>2041</th>\n",
       "      <th>2042</th>\n",
       "      <th>2043</th>\n",
       "      <th>2044</th>\n",
       "      <th>2045</th>\n",
       "      <th>2046</th>\n",
       "      <th>2047</th>\n",
       "      <th>id</th>\n",
       "    </tr>\n",
       "  </thead>\n",
       "  <tbody>\n",
       "    <tr>\n",
       "      <th>0</th>\n",
       "      <td>0.000000</td>\n",
       "      <td>1.934654</td>\n",
       "      <td>8.288989</td>\n",
       "      <td>0.911272</td>\n",
       "      <td>0.000000</td>\n",
       "      <td>0.836374</td>\n",
       "      <td>2.723937</td>\n",
       "      <td>3.236278</td>\n",
       "      <td>0.196896</td>\n",
       "      <td>0.136825</td>\n",
       "      <td>...</td>\n",
       "      <td>8.378351</td>\n",
       "      <td>6.188560</td>\n",
       "      <td>2.416295</td>\n",
       "      <td>3.059616</td>\n",
       "      <td>8.658876</td>\n",
       "      <td>0.0</td>\n",
       "      <td>2.324260</td>\n",
       "      <td>2.345611</td>\n",
       "      <td>2.468582</td>\n",
       "      <td>000190</td>\n",
       "    </tr>\n",
       "    <tr>\n",
       "      <th>1</th>\n",
       "      <td>0.570574</td>\n",
       "      <td>0.906143</td>\n",
       "      <td>7.809146</td>\n",
       "      <td>0.685275</td>\n",
       "      <td>0.025747</td>\n",
       "      <td>0.831038</td>\n",
       "      <td>0.122490</td>\n",
       "      <td>0.159591</td>\n",
       "      <td>0.213468</td>\n",
       "      <td>0.715388</td>\n",
       "      <td>...</td>\n",
       "      <td>5.331222</td>\n",
       "      <td>6.732090</td>\n",
       "      <td>2.042198</td>\n",
       "      <td>4.235939</td>\n",
       "      <td>6.969593</td>\n",
       "      <td>0.0</td>\n",
       "      <td>3.396771</td>\n",
       "      <td>1.152505</td>\n",
       "      <td>4.091938</td>\n",
       "      <td>000194</td>\n",
       "    </tr>\n",
       "    <tr>\n",
       "      <th>2</th>\n",
       "      <td>0.610264</td>\n",
       "      <td>3.641630</td>\n",
       "      <td>2.293852</td>\n",
       "      <td>3.537972</td>\n",
       "      <td>2.972309</td>\n",
       "      <td>1.229408</td>\n",
       "      <td>0.385535</td>\n",
       "      <td>0.513138</td>\n",
       "      <td>1.706599</td>\n",
       "      <td>4.169592</td>\n",
       "      <td>...</td>\n",
       "      <td>2.355113</td>\n",
       "      <td>5.586826</td>\n",
       "      <td>0.000000</td>\n",
       "      <td>4.113567</td>\n",
       "      <td>3.054376</td>\n",
       "      <td>0.0</td>\n",
       "      <td>4.640083</td>\n",
       "      <td>2.106162</td>\n",
       "      <td>3.239305</td>\n",
       "      <td>000667</td>\n",
       "    </tr>\n",
       "    <tr>\n",
       "      <th>3</th>\n",
       "      <td>4.522550</td>\n",
       "      <td>4.245885</td>\n",
       "      <td>4.302017</td>\n",
       "      <td>2.959141</td>\n",
       "      <td>4.187956</td>\n",
       "      <td>0.454045</td>\n",
       "      <td>3.671622</td>\n",
       "      <td>4.877146</td>\n",
       "      <td>1.351015</td>\n",
       "      <td>5.414358</td>\n",
       "      <td>...</td>\n",
       "      <td>5.870000</td>\n",
       "      <td>1.112780</td>\n",
       "      <td>0.000000</td>\n",
       "      <td>6.024055</td>\n",
       "      <td>0.767975</td>\n",
       "      <td>0.0</td>\n",
       "      <td>7.130897</td>\n",
       "      <td>1.967405</td>\n",
       "      <td>2.922061</td>\n",
       "      <td>001040</td>\n",
       "    </tr>\n",
       "    <tr>\n",
       "      <th>4</th>\n",
       "      <td>0.972875</td>\n",
       "      <td>3.906113</td>\n",
       "      <td>5.861447</td>\n",
       "      <td>0.201382</td>\n",
       "      <td>0.168771</td>\n",
       "      <td>0.000000</td>\n",
       "      <td>5.051270</td>\n",
       "      <td>3.065430</td>\n",
       "      <td>1.117101</td>\n",
       "      <td>4.355967</td>\n",
       "      <td>...</td>\n",
       "      <td>2.962019</td>\n",
       "      <td>1.074586</td>\n",
       "      <td>3.008203</td>\n",
       "      <td>0.712963</td>\n",
       "      <td>4.901093</td>\n",
       "      <td>0.0</td>\n",
       "      <td>1.748662</td>\n",
       "      <td>4.261450</td>\n",
       "      <td>1.371169</td>\n",
       "      <td>001686</td>\n",
       "    </tr>\n",
       "    <tr>\n",
       "      <th>...</th>\n",
       "      <td>...</td>\n",
       "      <td>...</td>\n",
       "      <td>...</td>\n",
       "      <td>...</td>\n",
       "      <td>...</td>\n",
       "      <td>...</td>\n",
       "      <td>...</td>\n",
       "      <td>...</td>\n",
       "      <td>...</td>\n",
       "      <td>...</td>\n",
       "      <td>...</td>\n",
       "      <td>...</td>\n",
       "      <td>...</td>\n",
       "      <td>...</td>\n",
       "      <td>...</td>\n",
       "      <td>...</td>\n",
       "      <td>...</td>\n",
       "      <td>...</td>\n",
       "      <td>...</td>\n",
       "      <td>...</td>\n",
       "      <td>...</td>\n",
       "    </tr>\n",
       "    <tr>\n",
       "      <th>7989</th>\n",
       "      <td>0.937852</td>\n",
       "      <td>3.475553</td>\n",
       "      <td>2.832040</td>\n",
       "      <td>3.414687</td>\n",
       "      <td>4.226087</td>\n",
       "      <td>1.560897</td>\n",
       "      <td>0.403958</td>\n",
       "      <td>0.000000</td>\n",
       "      <td>1.562922</td>\n",
       "      <td>2.878870</td>\n",
       "      <td>...</td>\n",
       "      <td>6.187293</td>\n",
       "      <td>6.350399</td>\n",
       "      <td>0.000000</td>\n",
       "      <td>5.330186</td>\n",
       "      <td>0.872463</td>\n",
       "      <td>0.0</td>\n",
       "      <td>7.229657</td>\n",
       "      <td>2.248746</td>\n",
       "      <td>2.465659</td>\n",
       "      <td>149416</td>\n",
       "    </tr>\n",
       "    <tr>\n",
       "      <th>7990</th>\n",
       "      <td>0.442045</td>\n",
       "      <td>2.818931</td>\n",
       "      <td>2.934993</td>\n",
       "      <td>2.895631</td>\n",
       "      <td>4.263456</td>\n",
       "      <td>2.120693</td>\n",
       "      <td>1.922541</td>\n",
       "      <td>2.216130</td>\n",
       "      <td>0.581613</td>\n",
       "      <td>3.662995</td>\n",
       "      <td>...</td>\n",
       "      <td>7.112364</td>\n",
       "      <td>4.539965</td>\n",
       "      <td>0.456817</td>\n",
       "      <td>4.598337</td>\n",
       "      <td>0.000000</td>\n",
       "      <td>0.0</td>\n",
       "      <td>6.543571</td>\n",
       "      <td>1.480223</td>\n",
       "      <td>2.564905</td>\n",
       "      <td>149417</td>\n",
       "    </tr>\n",
       "    <tr>\n",
       "      <th>7991</th>\n",
       "      <td>3.401756</td>\n",
       "      <td>9.156358</td>\n",
       "      <td>5.577356</td>\n",
       "      <td>3.741688</td>\n",
       "      <td>4.383796</td>\n",
       "      <td>0.521133</td>\n",
       "      <td>0.299287</td>\n",
       "      <td>0.623174</td>\n",
       "      <td>3.219270</td>\n",
       "      <td>4.339592</td>\n",
       "      <td>...</td>\n",
       "      <td>4.736887</td>\n",
       "      <td>4.945627</td>\n",
       "      <td>0.000000</td>\n",
       "      <td>7.103370</td>\n",
       "      <td>2.790202</td>\n",
       "      <td>0.0</td>\n",
       "      <td>8.010686</td>\n",
       "      <td>1.356030</td>\n",
       "      <td>2.773219</td>\n",
       "      <td>149452</td>\n",
       "    </tr>\n",
       "    <tr>\n",
       "      <th>7992</th>\n",
       "      <td>2.623586</td>\n",
       "      <td>0.000000</td>\n",
       "      <td>6.798588</td>\n",
       "      <td>3.333807</td>\n",
       "      <td>3.605097</td>\n",
       "      <td>0.500432</td>\n",
       "      <td>0.080584</td>\n",
       "      <td>0.000000</td>\n",
       "      <td>3.436022</td>\n",
       "      <td>2.563543</td>\n",
       "      <td>...</td>\n",
       "      <td>5.750184</td>\n",
       "      <td>2.148381</td>\n",
       "      <td>2.091455</td>\n",
       "      <td>6.100538</td>\n",
       "      <td>0.633380</td>\n",
       "      <td>0.0</td>\n",
       "      <td>6.476285</td>\n",
       "      <td>0.000000</td>\n",
       "      <td>2.936096</td>\n",
       "      <td>149488</td>\n",
       "    </tr>\n",
       "    <tr>\n",
       "      <th>7993</th>\n",
       "      <td>4.443962</td>\n",
       "      <td>0.000000</td>\n",
       "      <td>8.079236</td>\n",
       "      <td>0.000000</td>\n",
       "      <td>0.000000</td>\n",
       "      <td>0.000000</td>\n",
       "      <td>0.000000</td>\n",
       "      <td>0.344342</td>\n",
       "      <td>0.401279</td>\n",
       "      <td>2.324531</td>\n",
       "      <td>...</td>\n",
       "      <td>4.649518</td>\n",
       "      <td>0.425948</td>\n",
       "      <td>5.169591</td>\n",
       "      <td>2.662427</td>\n",
       "      <td>2.480424</td>\n",
       "      <td>0.0</td>\n",
       "      <td>3.157772</td>\n",
       "      <td>2.723856</td>\n",
       "      <td>3.481289</td>\n",
       "      <td>149523</td>\n",
       "    </tr>\n",
       "  </tbody>\n",
       "</table>\n",
       "<p>7994 rows × 2049 columns</p>\n",
       "</div>"
      ],
      "text/plain": [
       "             0         1         2         3         4         5         6  \\\n",
       "0     0.000000  1.934654  8.288989  0.911272  0.000000  0.836374  2.723937   \n",
       "1     0.570574  0.906143  7.809146  0.685275  0.025747  0.831038  0.122490   \n",
       "2     0.610264  3.641630  2.293852  3.537972  2.972309  1.229408  0.385535   \n",
       "3     4.522550  4.245885  4.302017  2.959141  4.187956  0.454045  3.671622   \n",
       "4     0.972875  3.906113  5.861447  0.201382  0.168771  0.000000  5.051270   \n",
       "...        ...       ...       ...       ...       ...       ...       ...   \n",
       "7989  0.937852  3.475553  2.832040  3.414687  4.226087  1.560897  0.403958   \n",
       "7990  0.442045  2.818931  2.934993  2.895631  4.263456  2.120693  1.922541   \n",
       "7991  3.401756  9.156358  5.577356  3.741688  4.383796  0.521133  0.299287   \n",
       "7992  2.623586  0.000000  6.798588  3.333807  3.605097  0.500432  0.080584   \n",
       "7993  4.443962  0.000000  8.079236  0.000000  0.000000  0.000000  0.000000   \n",
       "\n",
       "             7         8         9  ...      2039      2040      2041  \\\n",
       "0     3.236278  0.196896  0.136825  ...  8.378351  6.188560  2.416295   \n",
       "1     0.159591  0.213468  0.715388  ...  5.331222  6.732090  2.042198   \n",
       "2     0.513138  1.706599  4.169592  ...  2.355113  5.586826  0.000000   \n",
       "3     4.877146  1.351015  5.414358  ...  5.870000  1.112780  0.000000   \n",
       "4     3.065430  1.117101  4.355967  ...  2.962019  1.074586  3.008203   \n",
       "...        ...       ...       ...  ...       ...       ...       ...   \n",
       "7989  0.000000  1.562922  2.878870  ...  6.187293  6.350399  0.000000   \n",
       "7990  2.216130  0.581613  3.662995  ...  7.112364  4.539965  0.456817   \n",
       "7991  0.623174  3.219270  4.339592  ...  4.736887  4.945627  0.000000   \n",
       "7992  0.000000  3.436022  2.563543  ...  5.750184  2.148381  2.091455   \n",
       "7993  0.344342  0.401279  2.324531  ...  4.649518  0.425948  5.169591   \n",
       "\n",
       "          2042      2043  2044      2045      2046      2047      id  \n",
       "0     3.059616  8.658876   0.0  2.324260  2.345611  2.468582  000190  \n",
       "1     4.235939  6.969593   0.0  3.396771  1.152505  4.091938  000194  \n",
       "2     4.113567  3.054376   0.0  4.640083  2.106162  3.239305  000667  \n",
       "3     6.024055  0.767975   0.0  7.130897  1.967405  2.922061  001040  \n",
       "4     0.712963  4.901093   0.0  1.748662  4.261450  1.371169  001686  \n",
       "...        ...       ...   ...       ...       ...       ...     ...  \n",
       "7989  5.330186  0.872463   0.0  7.229657  2.248746  2.465659  149416  \n",
       "7990  4.598337  0.000000   0.0  6.543571  1.480223  2.564905  149417  \n",
       "7991  7.103370  2.790202   0.0  8.010686  1.356030  2.773219  149452  \n",
       "7992  6.100538  0.633380   0.0  6.476285  0.000000  2.936096  149488  \n",
       "7993  2.662427  2.480424   0.0  3.157772  2.723856  3.481289  149523  \n",
       "\n",
       "[7994 rows x 2049 columns]"
      ]
     },
     "execution_count": 107,
     "metadata": {},
     "output_type": "execute_result"
    }
   ],
   "source": [
    "embedings"
   ]
  },
  {
   "cell_type": "code",
   "execution_count": 109,
   "metadata": {},
   "outputs": [],
   "source": [
    "embedings = embedings[['id'] + list(np.arange(2048))]"
   ]
  },
  {
   "cell_type": "code",
   "execution_count": 110,
   "metadata": {},
   "outputs": [],
   "source": [
    "embedings.to_csv('../data/csv/cnn_embedings.csv', index=False)"
   ]
  },
  {
   "cell_type": "code",
   "execution_count": null,
   "metadata": {},
   "outputs": [],
   "source": []
  }
 ],
 "metadata": {
  "kernelspec": {
   "display_name": "dp_project",
   "language": "python",
   "name": "venv"
  },
  "language_info": {
   "codemirror_mode": {
    "name": "ipython",
    "version": 3
   },
   "file_extension": ".py",
   "mimetype": "text/x-python",
   "name": "python",
   "nbconvert_exporter": "python",
   "pygments_lexer": "ipython3",
   "version": "3.6.9"
  }
 },
 "nbformat": 4,
 "nbformat_minor": 4
}
