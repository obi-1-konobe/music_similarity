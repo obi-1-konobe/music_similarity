{
 "cells": [
  {
   "cell_type": "code",
   "execution_count": 1,
   "metadata": {},
   "outputs": [],
   "source": [
    "import pandas as pd\n",
    "import os\n",
    "from sklearn.preprocessing import StandardScaler\n",
    "from sklearn.decomposition import PCA\n",
    "import matplotlib.pyplot as plt\n",
    "from mpl_toolkits.mplot3d import Axes3D\n",
    "from sklearn.neighbors import NearestNeighbors\n",
    "import pickle\n",
    "import random\n",
    "import math\n",
    "from sklearn.metrics.pairwise import cosine_similarity"
   ]
  },
  {
   "cell_type": "code",
   "execution_count": 2,
   "metadata": {},
   "outputs": [],
   "source": [
    "random.seed(3214)"
   ]
  },
  {
   "cell_type": "code",
   "execution_count": 2,
   "metadata": {},
   "outputs": [],
   "source": [
    "with open('../data/pickles/main_dict.pickle', 'rb') as f:\n",
    "    main_dict = pickle.load(f)"
   ]
  },
  {
   "cell_type": "code",
   "execution_count": 3,
   "metadata": {},
   "outputs": [],
   "source": [
    "df_train = pd.read_csv('../data/csv/train_2.csv', index_col=0)\n",
    "df_test = pd.read_csv('../data/csv/test_2.csv', index_col=0)"
   ]
  },
  {
   "cell_type": "code",
   "execution_count": 4,
   "metadata": {},
   "outputs": [],
   "source": [
    "df_train = df_train.drop(df_train.columns[1:553], axis=1)\n",
    "df_test = df_test.drop(df_test.columns[1:553], axis=1)"
   ]
  },
  {
   "cell_type": "code",
   "execution_count": 5,
   "metadata": {},
   "outputs": [],
   "source": [
    "features_train = df_train.drop(['file'], 1)\n",
    "features_test = df_test.drop(['file'], 1)"
   ]
  },
  {
   "cell_type": "code",
   "execution_count": 6,
   "metadata": {},
   "outputs": [],
   "source": [
    "scaler = StandardScaler()\n",
    "scaler.fit(features_train)\n",
    "X_train = scaler.transform(features_train)\n",
    "X_test = scaler.transform(features_test)"
   ]
  },
  {
   "cell_type": "code",
   "execution_count": 7,
   "metadata": {},
   "outputs": [
    {
     "data": {
      "text/plain": [
       "(7882, 77)"
      ]
     },
     "execution_count": 7,
     "metadata": {},
     "output_type": "execute_result"
    }
   ],
   "source": [
    "X_train.shape"
   ]
  },
  {
   "cell_type": "code",
   "execution_count": 8,
   "metadata": {},
   "outputs": [
    {
     "data": {
      "text/plain": [
       "(100, 77)"
      ]
     },
     "execution_count": 8,
     "metadata": {},
     "output_type": "execute_result"
    }
   ],
   "source": [
    "X_test.shape"
   ]
  },
  {
   "cell_type": "code",
   "execution_count": 13,
   "metadata": {},
   "outputs": [],
   "source": [
    "def count_good_recommend(query_idx, answer_list, trhold):\n",
    "    counter = 0\n",
    "    query_id = int(df_test.iloc[query_idx].file[:-4])\n",
    "    relevant = [query_id]\n",
    "    query_tags = main_dict[query_id]['all_tags']\n",
    "    for idx in answer_list:\n",
    "        answer_id = int(df_train.iloc[idx].file[:-4])\n",
    "        answer_tags = main_dict[answer_id]['all_tags']\n",
    "        score = 0\n",
    "        i = 0\n",
    "        for tag in answer_tags:\n",
    "            if tag in query_tags:\n",
    "                i += 1\n",
    "        if i == 0:\n",
    "            continue\n",
    "        \n",
    "        precision = i / len(answer_tags)\n",
    "        recall = i / len(query_tags)\n",
    "        score = 2 * precision * recall / (precision + recall)\n",
    "        if score >= trhold:        \n",
    "            counter += 1\n",
    "            relevant.append(answer_id)\n",
    "    return counter, relevant"
   ]
  },
  {
   "cell_type": "code",
   "execution_count": 17,
   "metadata": {},
   "outputs": [],
   "source": [
    "def count_ndcg(neighbors, relevant_list):\n",
    "    dcg = 0\n",
    "    idcg = 0\n",
    "    for i in range(len(neighbors)):\n",
    "        track = int(df_train.iloc[neighbors[i]].file[:-4])\n",
    "        if track in relevant_list:\n",
    "            dcg += 1 / math.log(i + 2, 2)\n",
    "        idcg += 1 / math.log(i + 2, 2)\n",
    "    ndcg = dcg / idcg\n",
    "    return ndcg"
   ]
  },
  {
   "cell_type": "code",
   "execution_count": 25,
   "metadata": {},
   "outputs": [
    {
     "data": {
      "text/plain": [
       "NearestNeighbors(algorithm='brute', leaf_size=30, metric='mahalanobis',\n",
       "                 metric_params=None, n_jobs=None, n_neighbors=10, p=2,\n",
       "                 radius=1.0)"
      ]
     },
     "execution_count": 25,
     "metadata": {},
     "output_type": "execute_result"
    }
   ],
   "source": [
    "neigh = NearestNeighbors(10, metric='mahalanobis', algorithm='brute')\n",
    "neigh.fit(X_train)"
   ]
  },
  {
   "cell_type": "code",
   "execution_count": 26,
   "metadata": {},
   "outputs": [
    {
     "name": "stdout",
     "output_type": "stream",
     "text": [
      "mahalanobis 0.087 0.10417105109157106\n"
     ]
    }
   ],
   "source": [
    "mean_ap = 0\n",
    "ndcg = 0\n",
    "for i in range(100):\n",
    "    neighbors = neigh.kneighbors([X_test[i]])[1][0]\n",
    "    relevant_num, relevant_list = count_good_recommend(i, neighbors, trhold=0.4)\n",
    "#     print(relevant_list)\n",
    "\n",
    "    p_at_10 = relevant_num / 10\n",
    "    mean_ap += p_at_10\n",
    "    ndcg += count_ndcg(neighbors, relevant_list[1:])\n",
    "mean_ap /= 100 \n",
    "mean_ndcg = ndcg / 100\n",
    "print(neigh.metric, mean_ap, mean_ndcg)"
   ]
  },
  {
   "cell_type": "code",
   "execution_count": 23,
   "metadata": {},
   "outputs": [
    {
     "name": "stdout",
     "output_type": "stream",
     "text": [
      "euclidean 0.09899999999999995 0.11141956880491329\n",
      "manhattan 0.10599999999999993 0.12524688935720543\n",
      "chebyshev 0.04800000000000001 0.053965634893757795\n"
     ]
    }
   ],
   "source": [
    "for dist in ['euclidean', 'manhattan', 'chebyshev']:\n",
    "    neigh = NearestNeighbors(10, metric=dist)\n",
    "    neigh.fit(X_train)\n",
    "    mean_ap = 0\n",
    "    ndcg = 0\n",
    "    for i in range(100):\n",
    "        neighbors = neigh.kneighbors([X_test[i]])[1][0]\n",
    "        relevant_num, relevant_list = count_good_recommend(i, neighbors, trhold=0.4)\n",
    "    #     print(relevant_list)\n",
    "\n",
    "        p_at_10 = relevant_num / 10\n",
    "        mean_ap += p_at_10\n",
    "        ndcg += count_ndcg(neighbors, relevant_list[1:])\n",
    "    mean_ap /= 100 \n",
    "    mean_ndcg = ndcg / 100\n",
    "    print(neigh.metric, mean_ap, mean_ndcg)"
   ]
  },
  {
   "cell_type": "code",
   "execution_count": 27,
   "metadata": {},
   "outputs": [],
   "source": [
    "cos_similarity_mtx = cosine_similarity(X_test, X_train)"
   ]
  },
  {
   "cell_type": "code",
   "execution_count": 29,
   "metadata": {},
   "outputs": [],
   "source": [
    "mean_ap = 0\n",
    "ndcg = 0\n",
    "for i in range(100):\n",
    "    arr = cos_similarity_mtx[i]\n",
    "    neighbors = arr.argsort()[-10:][::-1]\n",
    "    relevant_num, relevant_list = count_good_recommend(i, neighbors, trhold=0.4)\n",
    "#     print(relevant_list)\n",
    "#     print(relevant_list[0], [df_train.iloc[x].track[:-4] for x in neighbors])\n",
    "    p_at_10 = relevant_num / 10\n",
    "    mean_ap += p_at_10\n",
    "    ndcg += count_ndcg(neighbors, relevant_list[1:])\n",
    "mean_ap /= 100 \n",
    "mean_ndcg = ndcg / 100"
   ]
  },
  {
   "cell_type": "code",
   "execution_count": 30,
   "metadata": {},
   "outputs": [
    {
     "data": {
      "text/plain": [
       "0.11199999999999993"
      ]
     },
     "execution_count": 30,
     "metadata": {},
     "output_type": "execute_result"
    }
   ],
   "source": [
    "mean_ap"
   ]
  },
  {
   "cell_type": "code",
   "execution_count": 31,
   "metadata": {},
   "outputs": [
    {
     "data": {
      "text/plain": [
       "0.12419061246513172"
      ]
     },
     "execution_count": 31,
     "metadata": {},
     "output_type": "execute_result"
    }
   ],
   "source": [
    "mean_ndcg"
   ]
  },
  {
   "cell_type": "code",
   "execution_count": null,
   "metadata": {},
   "outputs": [],
   "source": []
  },
  {
   "cell_type": "code",
   "execution_count": null,
   "metadata": {},
   "outputs": [],
   "source": []
  },
  {
   "cell_type": "code",
   "execution_count": 108,
   "metadata": {},
   "outputs": [
    {
     "name": "stdout",
     "output_type": "stream",
     "text": [
      "010673.mp3 030682.mp3 028480.mp3\n",
      "066643.mp3 091468.mp3 091468.mp3\n",
      "000194.mp3 006331.mp3 000211.mp3\n",
      "074421.mp3 148214.mp3 148214.mp3\n",
      "131553.mp3 123835.mp3 029961.mp3\n",
      "024431.mp3 024422.mp3 036987.mp3\n",
      "144469.mp3 091934.mp3 095724.mp3\n",
      "087100.mp3 087106.mp3 087106.mp3\n",
      "069204.mp3 006439.mp3 035549.mp3\n",
      "027454.mp3 026655.mp3 026655.mp3\n",
      "004835.mp3 055430.mp3 059721.mp3\n",
      "000667.mp3 049401.mp3 049401.mp3\n",
      "014063.mp3 072072.mp3 149452.mp3\n",
      "137171.mp3 119828.mp3 119828.mp3\n",
      "061172.mp3 011868.mp3 097814.mp3\n",
      "107579.mp3 073170.mp3 073170.mp3\n",
      "137171.mp3 119828.mp3 119828.mp3\n",
      "024901.mp3 117057.mp3 012737.mp3\n",
      "048463.mp3 025378.mp3 045102.mp3\n",
      "145550.mp3 064249.mp3 091790.mp3\n",
      "011786.mp3 124917.mp3 124917.mp3\n",
      "073764.mp3 017499.mp3 070655.mp3\n",
      "012394.mp3 066539.mp3 084157.mp3\n",
      "073761.mp3 082917.mp3 082917.mp3\n",
      "108962.mp3 127299.mp3 127299.mp3\n",
      "000190.mp3 000621.mp3 038833.mp3\n",
      "062337.mp3 091851.mp3 004799.mp3\n",
      "064093.mp3 145750.mp3 139933.mp3\n",
      "004233.mp3 011682.mp3 011682.mp3\n",
      "075752.mp3 109670.mp3 110070.mp3\n",
      "124702.mp3 011782.mp3 011782.mp3\n",
      "073368.mp3 122683.mp3 122683.mp3\n",
      "004079.mp3 004073.mp3 099260.mp3\n",
      "055121.mp3 108493.mp3 108493.mp3\n",
      "039357.mp3 147886.mp3 147886.mp3\n",
      "081554.mp3 120327.mp3 128470.mp3\n",
      "043020.mp3 059708.mp3 059708.mp3\n",
      "017607.mp3 080751.mp3 012355.mp3\n",
      "117886.mp3 117885.mp3 117885.mp3\n",
      "067016.mp3 113262.mp3 113262.mp3\n",
      "026021.mp3 092562.mp3 152258.mp3\n",
      "043696.mp3 043590.mp3 139637.mp3\n",
      "055235.mp3 036965.mp3 036965.mp3\n",
      "039291.mp3 127498.mp3 125614.mp3\n",
      "063470.mp3 123866.mp3 063471.mp3\n",
      "069204.mp3 006439.mp3 035549.mp3\n",
      "022476.mp3 149842.mp3 112088.mp3\n",
      "087097.mp3 126559.mp3 126559.mp3\n",
      "026600.mp3 011682.mp3 115849.mp3\n",
      "024898.mp3 057892.mp3 115700.mp3\n",
      "012050.mp3 012065.mp3 012046.mp3\n",
      "108879.mp3 093918.mp3 093918.mp3\n",
      "057273.mp3 113268.mp3 113268.mp3\n",
      "051305.mp3 108019.mp3 108019.mp3\n",
      "033020.mp3 149842.mp3 087106.mp3\n",
      "124754.mp3 142079.mp3 035299.mp3\n",
      "110261.mp3 095910.mp3 055113.mp3\n",
      "049073.mp3 042984.mp3 042984.mp3\n",
      "035462.mp3 061011.mp3 116455.mp3\n",
      "131657.mp3 131656.mp3 131656.mp3\n",
      "003720.mp3 092881.mp3 138021.mp3\n",
      "044799.mp3 044952.mp3 097043.mp3\n",
      "124876.mp3 133434.mp3 133434.mp3\n",
      "097886.mp3 097887.mp3 097887.mp3\n",
      "093075.mp3 017611.mp3 017611.mp3\n",
      "117288.mp3 122932.mp3 051114.mp3\n",
      "001040.mp3 073560.mp3 098251.mp3\n",
      "113343.mp3 097940.mp3 131980.mp3\n",
      "099419.mp3 068551.mp3 068551.mp3\n",
      "099411.mp3 094035.mp3 094035.mp3\n",
      "133803.mp3 133793.mp3 133793.mp3\n",
      "104282.mp3 117943.mp3 140791.mp3\n",
      "025234.mp3 025227.mp3 025227.mp3\n",
      "040233.mp3 010386.mp3 010386.mp3\n",
      "075752.mp3 109670.mp3 110070.mp3\n",
      "010382.mp3 051278.mp3 051278.mp3\n",
      "125161.mp3 110450.mp3 110450.mp3\n",
      "085027.mp3 116709.mp3 107592.mp3\n",
      "127720.mp3 110983.mp3 110983.mp3\n",
      "040851.mp3 114293.mp3 114293.mp3\n",
      "001686.mp3 004080.mp3 035608.mp3\n",
      "073365.mp3 140584.mp3 140584.mp3\n",
      "005264.mp3 073770.mp3 083715.mp3\n",
      "019759.mp3 081083.mp3 019758.mp3\n",
      "041568.mp3 122936.mp3 125825.mp3\n",
      "024429.mp3 110690.mp3 119545.mp3\n",
      "086788.mp3 111306.mp3 045154.mp3\n",
      "152418.mp3 093986.mp3 093986.mp3\n",
      "064630.mp3 071690.mp3 019689.mp3\n",
      "085832.mp3 004522.mp3 144592.mp3\n",
      "075317.mp3 071253.mp3 044796.mp3\n",
      "021401.mp3 013930.mp3 115267.mp3\n",
      "071620.mp3 071617.mp3 071617.mp3\n",
      "112315.mp3 087153.mp3 133563.mp3\n",
      "044948.mp3 044951.mp3 084485.mp3\n",
      "025603.mp3 128477.mp3 054479.mp3\n",
      "075417.mp3 119939.mp3 119939.mp3\n",
      "125154.mp3 064522.mp3 043867.mp3\n",
      "075436.mp3 141297.mp3 141297.mp3\n",
      "063655.mp3 033278.mp3 141297.mp3\n"
     ]
    }
   ],
   "source": [
    "for i in range(100):\n",
    "    arr = cos_similarity_mtx[i]\n",
    "    cos_neighbors = arr.argsort()[-1:][::-1]\n",
    "    euclid_neighbors = neigh.kneighbors([X_test[i]])[1][0]\n",
    "    test = df_test.iloc[i].track\n",
    "    euclid_recom = df_train.iloc[euclid_neighbors[0]].track\n",
    "    cos_recom = df_train.iloc[cos_neighbors[0]].track\n",
    "\n",
    "    print(test, euclid_recom, cos_recom)"
   ]
  },
  {
   "cell_type": "code",
   "execution_count": null,
   "metadata": {},
   "outputs": [],
   "source": []
  },
  {
   "cell_type": "code",
   "execution_count": null,
   "metadata": {},
   "outputs": [],
   "source": []
  },
  {
   "cell_type": "code",
   "execution_count": null,
   "metadata": {},
   "outputs": [],
   "source": []
  },
  {
   "cell_type": "code",
   "execution_count": null,
   "metadata": {},
   "outputs": [],
   "source": []
  },
  {
   "cell_type": "code",
   "execution_count": 67,
   "metadata": {},
   "outputs": [],
   "source": [
    "cos_similarity_mtx = cosine_similarity(X_test, X_train)"
   ]
  },
  {
   "cell_type": "code",
   "execution_count": 73,
   "metadata": {},
   "outputs": [],
   "source": [
    "arr = cos_similarity_mtx[0]"
   ]
  },
  {
   "cell_type": "code",
   "execution_count": 76,
   "metadata": {},
   "outputs": [
    {
     "data": {
      "text/plain": [
       "array([ 659, 6443, 2378,   71, 1067, 7035, 2826, 2379, 7715, 7009])"
      ]
     },
     "execution_count": 76,
     "metadata": {},
     "output_type": "execute_result"
    }
   ],
   "source": [
    "arr.argsort()[-10:][::-1]"
   ]
  },
  {
   "cell_type": "code",
   "execution_count": 84,
   "metadata": {},
   "outputs": [],
   "source": [
    "cos_similarity_mtx[0].sort()"
   ]
  },
  {
   "cell_type": "code",
   "execution_count": 85,
   "metadata": {},
   "outputs": [
    {
     "data": {
      "text/plain": [
       "array([0.76576922, 0.77147324, 0.78109024, 0.78396155, 0.78587406,\n",
       "       0.78773973, 0.80250647, 0.80814343, 0.81528035, 0.83231566])"
      ]
     },
     "execution_count": 85,
     "metadata": {},
     "output_type": "execute_result"
    }
   ],
   "source": [
    "cos_similarity_mtx[0][-10:]"
   ]
  },
  {
   "cell_type": "code",
   "execution_count": 87,
   "metadata": {},
   "outputs": [
    {
     "data": {
      "text/plain": [
       "1.0"
      ]
     },
     "execution_count": 87,
     "metadata": {},
     "output_type": "execute_result"
    }
   ],
   "source": [
    "math.cos(0)"
   ]
  },
  {
   "cell_type": "code",
   "execution_count": null,
   "metadata": {},
   "outputs": [],
   "source": []
  },
  {
   "cell_type": "code",
   "execution_count": null,
   "metadata": {},
   "outputs": [],
   "source": []
  },
  {
   "cell_type": "code",
   "execution_count": null,
   "metadata": {},
   "outputs": [],
   "source": []
  },
  {
   "cell_type": "code",
   "execution_count": null,
   "metadata": {},
   "outputs": [],
   "source": []
  },
  {
   "cell_type": "code",
   "execution_count": 22,
   "metadata": {},
   "outputs": [
    {
     "name": "stdout",
     "output_type": "stream",
     "text": [
      "euclidean meanAP 0.09299999999999997, meanNDCG 0.10454909808110224\n"
     ]
    }
   ],
   "source": [
    "print(f'euclidean meanAP {mean_ap}, meanNDCG {mean_ndcg}')"
   ]
  },
  {
   "cell_type": "code",
   "execution_count": 29,
   "metadata": {},
   "outputs": [
    {
     "name": "stdout",
     "output_type": "stream",
     "text": [
      "namhattan meanAP 0.06899999999999998, meanNDCG 0.08812867556608356\n"
     ]
    }
   ],
   "source": [
    "print(f'namhattan meanAP {mean_ap}, meanNDCG {mean_ndcg}')"
   ]
  },
  {
   "cell_type": "code",
   "execution_count": 36,
   "metadata": {},
   "outputs": [
    {
     "name": "stdout",
     "output_type": "stream",
     "text": [
      "chebyshev meanAP 0.05899999999999998, meanNDCG 0.0732865384316484\n"
     ]
    }
   ],
   "source": [
    "print(f'chebyshev meanAP {mean_ap}, meanNDCG {mean_ndcg}')"
   ]
  },
  {
   "cell_type": "code",
   "execution_count": 45,
   "metadata": {},
   "outputs": [
    {
     "name": "stdout",
     "output_type": "stream",
     "text": [
      "mahalanobis meanAP 0.04799999999999999, meanNDCG 0.056724564869462514\n"
     ]
    }
   ],
   "source": [
    "print(f'mahalanobis meanAP {mean_ap}, meanNDCG {mean_ndcg}')"
   ]
  },
  {
   "cell_type": "code",
   "execution_count": null,
   "metadata": {},
   "outputs": [],
   "source": []
  }
 ],
 "metadata": {
  "kernelspec": {
   "display_name": "dp_project",
   "language": "python",
   "name": "dp_project"
  },
  "language_info": {
   "codemirror_mode": {
    "name": "ipython",
    "version": 3
   },
   "file_extension": ".py",
   "mimetype": "text/x-python",
   "name": "python",
   "nbconvert_exporter": "python",
   "pygments_lexer": "ipython3",
   "version": "3.6.9"
  }
 },
 "nbformat": 4,
 "nbformat_minor": 2
}
