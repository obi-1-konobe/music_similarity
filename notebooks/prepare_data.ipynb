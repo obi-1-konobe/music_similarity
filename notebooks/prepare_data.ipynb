{
 "cells": [
  {
   "cell_type": "code",
   "execution_count": 1,
   "metadata": {},
   "outputs": [],
   "source": [
    "import pandas as pd\n",
    "import pickle\n",
    "import os"
   ]
  },
  {
   "cell_type": "code",
   "execution_count": 2,
   "metadata": {},
   "outputs": [],
   "source": [
    "with open('../data/test.txt', 'r') as f:\n",
    "    data = f.readlines()"
   ]
  },
  {
   "cell_type": "code",
   "execution_count": 9,
   "metadata": {},
   "outputs": [],
   "source": [
    "test_tracks = [x.split()[0] for x in data]"
   ]
  },
  {
   "cell_type": "code",
   "execution_count": 32,
   "metadata": {},
   "outputs": [
    {
     "data": {
      "text/plain": [
       "97"
      ]
     },
     "execution_count": 32,
     "metadata": {},
     "output_type": "execute_result"
    }
   ],
   "source": [
    "len(set(test_tracks))"
   ]
  },
  {
   "cell_type": "code",
   "execution_count": 15,
   "metadata": {},
   "outputs": [
    {
     "data": {
      "text/plain": [
       "'000003'"
      ]
     },
     "execution_count": 15,
     "metadata": {},
     "output_type": "execute_result"
    }
   ],
   "source": [
    "f\"{3:06d}\""
   ]
  },
  {
   "cell_type": "code",
   "execution_count": 16,
   "metadata": {},
   "outputs": [],
   "source": [
    "with open('../data/pickles/main_dict.pickle', 'rb') as f:\n",
    "    main_dict = pickle.load(f)"
   ]
  },
  {
   "cell_type": "code",
   "execution_count": 17,
   "metadata": {},
   "outputs": [
    {
     "data": {
      "text/plain": [
       "{'artist_name': 'AWOL',\n",
       " 'track_title': 'Food',\n",
       " 'artist_tags': [('post-punk', '100'),\n",
       "  ('hardcore', '80'),\n",
       "  ('rock', '60'),\n",
       "  ('punk', '60'),\n",
       "  ('hardcore punk', '60'),\n",
       "  ('Progressive metal', '40'),\n",
       "  ('Bumblefoot', '40'),\n",
       "  ('Ron Thal', '40'),\n",
       "  ('metalcore', '20'),\n",
       "  ('Hip-Hop', '20')],\n",
       " 'track_tags': [],\n",
       " 'similar_tracks': [],\n",
       " 'similar_list': [],\n",
       " 'genre': 'Hip-Hop',\n",
       " 'all_genres': '[21]',\n",
       " 'fma_tags': '[]',\n",
       " 'all_tags': ['rock',\n",
       "  'bumblefoot',\n",
       "  'punk',\n",
       "  'hip-hop',\n",
       "  'metalcore',\n",
       "  'hardcore punk',\n",
       "  'ron thal',\n",
       "  'progressive metal',\n",
       "  'post-punk',\n",
       "  'hardcore']}"
      ]
     },
     "execution_count": 17,
     "metadata": {},
     "output_type": "execute_result"
    }
   ],
   "source": [
    "main_dict[2]"
   ]
  },
  {
   "cell_type": "code",
   "execution_count": 22,
   "metadata": {},
   "outputs": [],
   "source": [
    "rows = list()\n",
    "for idx in main_dict:\n",
    "    rows.append([\n",
    "        idx,\n",
    "        main_dict[idx]['artist_name'],\n",
    "        main_dict[idx]['track_title'],\n",
    "        main_dict[idx]['genre'],\n",
    "        f\"{idx:06d}.mp3\",\n",
    "        main_dict[idx]['all_tags']\n",
    "    ])"
   ]
  },
  {
   "cell_type": "code",
   "execution_count": 24,
   "metadata": {},
   "outputs": [
    {
     "data": {
      "text/plain": [
       "8000"
      ]
     },
     "execution_count": 24,
     "metadata": {},
     "output_type": "execute_result"
    }
   ],
   "source": [
    "len(rows)"
   ]
  },
  {
   "cell_type": "code",
   "execution_count": 28,
   "metadata": {},
   "outputs": [],
   "source": [
    "df = pd.DataFrame(data=rows, columns=['id', 'artist', 'title','genre', 'track', 'tags'])"
   ]
  },
  {
   "cell_type": "code",
   "execution_count": 30,
   "metadata": {},
   "outputs": [],
   "source": [
    "df['test'] = [1 if x in test_tracks else 0 for x in df['track']]"
   ]
  },
  {
   "cell_type": "code",
   "execution_count": 31,
   "metadata": {},
   "outputs": [
    {
     "data": {
      "text/plain": [
       "97"
      ]
     },
     "execution_count": 31,
     "metadata": {},
     "output_type": "execute_result"
    }
   ],
   "source": [
    "df['test'].sum()"
   ]
  },
  {
   "cell_type": "code",
   "execution_count": 35,
   "metadata": {},
   "outputs": [
    {
     "data": {
      "text/html": [
       "<div>\n",
       "<style scoped>\n",
       "    .dataframe tbody tr th:only-of-type {\n",
       "        vertical-align: middle;\n",
       "    }\n",
       "\n",
       "    .dataframe tbody tr th {\n",
       "        vertical-align: top;\n",
       "    }\n",
       "\n",
       "    .dataframe thead th {\n",
       "        text-align: right;\n",
       "    }\n",
       "</style>\n",
       "<table border=\"1\" class=\"dataframe\">\n",
       "  <thead>\n",
       "    <tr style=\"text-align: right;\">\n",
       "      <th></th>\n",
       "      <th>id</th>\n",
       "      <th>artist</th>\n",
       "      <th>title</th>\n",
       "      <th>genre</th>\n",
       "      <th>track</th>\n",
       "      <th>tags</th>\n",
       "      <th>test</th>\n",
       "    </tr>\n",
       "  </thead>\n",
       "  <tbody>\n",
       "    <tr>\n",
       "      <th>6</th>\n",
       "      <td>190</td>\n",
       "      <td>Ed Askew</td>\n",
       "      <td>Castle Of Stars</td>\n",
       "      <td>Folk</td>\n",
       "      <td>000190.mp3</td>\n",
       "      <td>[poetry, psychedelic folk, folk, experimental,...</td>\n",
       "      <td>1</td>\n",
       "    </tr>\n",
       "    <tr>\n",
       "      <th>8</th>\n",
       "      <td>194</td>\n",
       "      <td>Ed Askew</td>\n",
       "      <td>All I want to Do</td>\n",
       "      <td>Folk</td>\n",
       "      <td>000194.mp3</td>\n",
       "      <td>[experimental, psychedelic folk, folk, people ...</td>\n",
       "      <td>1</td>\n",
       "    </tr>\n",
       "    <tr>\n",
       "      <th>33</th>\n",
       "      <td>667</td>\n",
       "      <td>Explode Into Colors</td>\n",
       "      <td>Sharpen The Knife</td>\n",
       "      <td>International</td>\n",
       "      <td>000667.mp3</td>\n",
       "      <td>[experimental, no-wave, international, dub, 00...</td>\n",
       "      <td>1</td>\n",
       "    </tr>\n",
       "    <tr>\n",
       "      <th>61</th>\n",
       "      <td>1040</td>\n",
       "      <td>Lightning Bolt</td>\n",
       "      <td>Dracula Mountain</td>\n",
       "      <td>Rock</td>\n",
       "      <td>001040.mp3</td>\n",
       "      <td>[rock, experimental, avant-garde, noise rock, ...</td>\n",
       "      <td>1</td>\n",
       "    </tr>\n",
       "    <tr>\n",
       "      <th>137</th>\n",
       "      <td>3720</td>\n",
       "      <td>Indian Jewelry</td>\n",
       "      <td>Walking on the Water</td>\n",
       "      <td>Rock</td>\n",
       "      <td>003720.mp3</td>\n",
       "      <td>[rock, experimental, drone, metaphysique, nois...</td>\n",
       "      <td>1</td>\n",
       "    </tr>\n",
       "    <tr>\n",
       "      <th>...</th>\n",
       "      <td>...</td>\n",
       "      <td>...</td>\n",
       "      <td>...</td>\n",
       "      <td>...</td>\n",
       "      <td>...</td>\n",
       "      <td>...</td>\n",
       "      <td>...</td>\n",
       "    </tr>\n",
       "    <tr>\n",
       "      <th>7329</th>\n",
       "      <td>1686</td>\n",
       "      <td>The Sounds of Taraab</td>\n",
       "      <td>Rufiji</td>\n",
       "      <td>International</td>\n",
       "      <td>001686.mp3</td>\n",
       "      <td>[international]</td>\n",
       "      <td>1</td>\n",
       "    </tr>\n",
       "    <tr>\n",
       "      <th>7337</th>\n",
       "      <td>4233</td>\n",
       "      <td>The Sounds of Taraab</td>\n",
       "      <td>Interview</td>\n",
       "      <td>International</td>\n",
       "      <td>004233.mp3</td>\n",
       "      <td>[middle east, international, african]</td>\n",
       "      <td>1</td>\n",
       "    </tr>\n",
       "    <tr>\n",
       "      <th>7374</th>\n",
       "      <td>27454</td>\n",
       "      <td>Sun Araw</td>\n",
       "      <td>Track 1</td>\n",
       "      <td>Experimental</td>\n",
       "      <td>027454.mp3</td>\n",
       "      <td>[experimental, sun araw, drone, le club suburbia]</td>\n",
       "      <td>1</td>\n",
       "    </tr>\n",
       "    <tr>\n",
       "      <th>7386</th>\n",
       "      <td>40851</td>\n",
       "      <td>Str8 Sounds</td>\n",
       "      <td>Moving Toward You</td>\n",
       "      <td>Electronic</td>\n",
       "      <td>040851.mp3</td>\n",
       "      <td>[electronic]</td>\n",
       "      <td>1</td>\n",
       "    </tr>\n",
       "    <tr>\n",
       "      <th>7554</th>\n",
       "      <td>110261</td>\n",
       "      <td>Kellee Maize &amp; J. Glaze Productions</td>\n",
       "      <td>Mad Humans (J. Glaze Remix)</td>\n",
       "      <td>Hip-Hop</td>\n",
       "      <td>110261.mp3</td>\n",
       "      <td>[electro pop, electronic dance, rap, electroni...</td>\n",
       "      <td>1</td>\n",
       "    </tr>\n",
       "  </tbody>\n",
       "</table>\n",
       "<p>97 rows × 7 columns</p>\n",
       "</div>"
      ],
      "text/plain": [
       "          id                               artist  \\\n",
       "6        190                             Ed Askew   \n",
       "8        194                             Ed Askew   \n",
       "33       667                  Explode Into Colors   \n",
       "61      1040                       Lightning Bolt   \n",
       "137     3720                       Indian Jewelry   \n",
       "...      ...                                  ...   \n",
       "7329    1686                 The Sounds of Taraab   \n",
       "7337    4233                 The Sounds of Taraab   \n",
       "7374   27454                             Sun Araw   \n",
       "7386   40851                          Str8 Sounds   \n",
       "7554  110261  Kellee Maize & J. Glaze Productions   \n",
       "\n",
       "                            title          genre       track  \\\n",
       "6                 Castle Of Stars           Folk  000190.mp3   \n",
       "8                All I want to Do           Folk  000194.mp3   \n",
       "33              Sharpen The Knife  International  000667.mp3   \n",
       "61               Dracula Mountain           Rock  001040.mp3   \n",
       "137          Walking on the Water           Rock  003720.mp3   \n",
       "...                           ...            ...         ...   \n",
       "7329                       Rufiji  International  001686.mp3   \n",
       "7337                    Interview  International  004233.mp3   \n",
       "7374                      Track 1   Experimental  027454.mp3   \n",
       "7386            Moving Toward You     Electronic  040851.mp3   \n",
       "7554  Mad Humans (J. Glaze Remix)        Hip-Hop  110261.mp3   \n",
       "\n",
       "                                                   tags  test  \n",
       "6     [poetry, psychedelic folk, folk, experimental,...     1  \n",
       "8     [experimental, psychedelic folk, folk, people ...     1  \n",
       "33    [experimental, no-wave, international, dub, 00...     1  \n",
       "61    [rock, experimental, avant-garde, noise rock, ...     1  \n",
       "137   [rock, experimental, drone, metaphysique, nois...     1  \n",
       "...                                                 ...   ...  \n",
       "7329                                    [international]     1  \n",
       "7337              [middle east, international, african]     1  \n",
       "7374  [experimental, sun araw, drone, le club suburbia]     1  \n",
       "7386                                       [electronic]     1  \n",
       "7554  [electro pop, electronic dance, rap, electroni...     1  \n",
       "\n",
       "[97 rows x 7 columns]"
      ]
     },
     "execution_count": 35,
     "metadata": {},
     "output_type": "execute_result"
    }
   ],
   "source": [
    "df[df['test'] == 1]"
   ]
  },
  {
   "cell_type": "code",
   "execution_count": 38,
   "metadata": {},
   "outputs": [],
   "source": [
    "df_2 = df[df['test'] == 0]"
   ]
  },
  {
   "cell_type": "code",
   "execution_count": 41,
   "metadata": {},
   "outputs": [],
   "source": [
    "genres = df_2.genre.unique()"
   ]
  },
  {
   "cell_type": "code",
   "execution_count": 95,
   "metadata": {},
   "outputs": [
    {
     "data": {
      "text/plain": [
       "'/home/obi-1-konobe/projects/dp/music_similarity/data/spectrograms/train/val'"
      ]
     },
     "execution_count": 95,
     "metadata": {},
     "output_type": "execute_result"
    }
   ],
   "source": [
    "start_dir = os.getcwd()\n",
    "os.chdir('../data/spectrograms/train/val')\n",
    "os.getcwd()"
   ]
  },
  {
   "cell_type": "code",
   "execution_count": 96,
   "metadata": {},
   "outputs": [],
   "source": [
    "for genre in genres:\n",
    "    os.system(f'mkdir {genre}')"
   ]
  },
  {
   "cell_type": "code",
   "execution_count": 97,
   "metadata": {},
   "outputs": [
    {
     "data": {
      "text/plain": [
       "'/home/obi-1-konobe/projects/dp/music_similarity/notebooks'"
      ]
     },
     "execution_count": 97,
     "metadata": {},
     "output_type": "execute_result"
    }
   ],
   "source": [
    "os.chdir(start_dir)\n",
    "os.getcwd()"
   ]
  },
  {
   "cell_type": "code",
   "execution_count": 51,
   "metadata": {},
   "outputs": [],
   "source": [
    "path = '../data/spectrograms/'\n",
    "for x in os.listdir(path):\n",
    "    if x.endswith('png'):\n",
    "        old_name = f'{path}{x}'\n",
    "        new_name = old_name[:-4] + 'png'\n",
    "        os.rename(old_name, new_name)"
   ]
  },
  {
   "cell_type": "code",
   "execution_count": 53,
   "metadata": {},
   "outputs": [],
   "source": [
    "for x in os.listdir(path):\n",
    "    if x.endswith('png'):\n",
    "        name = x.split('.')[0]\n",
    "        genre = main_dict[int(name)]['genre']\n",
    "        src = f'{path}{x}'\n",
    "        dist = f'{path}{genre}/{x}'\n",
    "        os.replace(src, dist)"
   ]
  },
  {
   "cell_type": "code",
   "execution_count": 71,
   "metadata": {},
   "outputs": [],
   "source": [
    "i = 0\n",
    "test_id = df[df.test == 1]['id'].values\n",
    "for genre in genres:\n",
    "    for spec in os.listdir(f'{path}{genre}'):\n",
    "        name = spec.split('.')[0]\n",
    "        i += 1\n",
    "        if int(name) in test_id:\n",
    "            src = f'{path}{genre}/{spec}'\n",
    "            dist = f'{path}test/{spec}'\n",
    "            os.replace(src, dist)\n",
    "           \n",
    "    "
   ]
  },
  {
   "cell_type": "code",
   "execution_count": 86,
   "metadata": {},
   "outputs": [
    {
     "data": {
      "text/plain": [
       "True"
      ]
     },
     "execution_count": 86,
     "metadata": {},
     "output_type": "execute_result"
    }
   ],
   "source": [
    "set(map(lambda x: int(x.split('.')[0]), os.listdir(f'{path}test'))) == set(test_id)"
   ]
  },
  {
   "cell_type": "code",
   "execution_count": 84,
   "metadata": {},
   "outputs": [
    {
     "data": {
      "text/plain": [
       "{'artist_name': \"Z'EV\",\n",
       " 'track_title': 'Seventh Movement',\n",
       " 'artist_tags': [('industrial', '100'),\n",
       "  ('experimental', '83'),\n",
       "  ('noise', '71'),\n",
       "  ('dark ambient', '63'),\n",
       "  ('Avant-Garde', '49'),\n",
       "  ('ambient', '14'),\n",
       "  ('seen live', '12'),\n",
       "  ('percussion', '10'),\n",
       "  ('avantgarde', '7'),\n",
       "  ('abstract', '6')],\n",
       " 'track_tags': [],\n",
       " 'similar_tracks': [(\"Z'EV\", 'Fifth Movement', 1.0),\n",
       "  (\"Z'EV\", 'VII', 1.0),\n",
       "  (\"Z'EV\", \"Buzzin' Fly, Part 4\", 1.0),\n",
       "  (\"Z'EV\", \"Buzzin' Fly, Part 5\", 1.0),\n",
       "  (\"Z'EV\", 'The Last Köln Concert (Excerpt)', 1.0),\n",
       "  (\"Z'EV\", 'Advanced Behind', 1.0),\n",
       "  (\"Z'EV\", 'Dead Ends To Nothing', 1.0),\n",
       "  (\"Z'EV\", 'Over Again', 1.0),\n",
       "  (\"Z'EV\", 'Mechanical Skin', 1.0),\n",
       "  (\"Z'EV\", 'Just Initials', 1.0),\n",
       "  (\"Z'EV\", \"When Your Body Touches A Wild Animal'S\", 1.0),\n",
       "  (\"Z'EV\", 'Wrapt In A Blanket', 1.0),\n",
       "  (\"Z'EV\", 'Der Muter Object', 1.0),\n",
       "  (\"Z'EV\", \"Don't Say This\", 1.0),\n",
       "  (\"Z'EV\",\n",
       "   \"Cyn'd Dc: For David Cortner: In Memory of Arthur Lee From Bido Lido's On\",\n",
       "   1.0),\n",
       "  ('Уроды', 'Охота на Леонида Ильича (партийная легенда)', 0.988),\n",
       "  ('Уроды', 'Водору шрам', 0.988),\n",
       "  ('Boyd Rice & Frank Tovey', 'Extractions 1-6', 0.985),\n",
       "  ('Boyd Rice & Frank Tovey', 'Easy Listening - Ex 2', 0.985),\n",
       "  ('S·Core', 'A Blatant Lie', 0.978),\n",
       "  ('Nurse With Wound', 'Home Is Where the Heart Is', 0.976),\n",
       "  ('Nurse With Wound',\n",
       "   'The Part Of Me Which Is That Part In You Is Now Dead',\n",
       "   0.974),\n",
       "  ('Nurse With Wound', 'You Walrus Hurt The One You Love (Edit 2)', 0.969),\n",
       "  ('Nurse With Wound', \"Ballade de l'humeur vagabonde\", 0.969),\n",
       "  ('Nurse With Wound',\n",
       "   'Rock and Roll Session (feat. Jean-Hervé Peron)',\n",
       "   0.969),\n",
       "  ('Nurse With Wound', 'Lumbs Sister, Part 9', 0.969),\n",
       "  ('Controlled Bleeding', 'Veal (Live At CBGB - 1980)', 0.967),\n",
       "  ('Controlled Bleeding', 'Dakening Skies', 0.967),\n",
       "  ('S·Core', 'Introit', 0.966),\n",
       "  ('S·Core', 'Heartbeat', 0.966),\n",
       "  ('Controlled Bleeding', 'Live 1991 - N.Y.C. (Part 4)', 0.964),\n",
       "  ('Non', 'King Of Beast', 0.962),\n",
       "  ('Non', 'Selection 7', 0.961),\n",
       "  ('Non', 'Soundtrack #5', 0.961),\n",
       "  ('Non', '夢を忘れないで （New Lotin Version）', 0.961),\n",
       "  ('Non', '痛み', 0.961),\n",
       "  ('Non', 'Soundtrack #4', 0.961),\n",
       "  ('Non', 'I hope so〜明日へ', 0.961),\n",
       "  ('___dREàgänN||||||', 'Feaver Of Separation', 0.958),\n",
       "  ('SPK', 'Victim', 0.957),\n",
       "  ('SPK', '\"John\"', 0.957),\n",
       "  ('SPK', 'Who Want It', 0.957),\n",
       "  ('SPK', 'Murderers Robbers', 0.957),\n",
       "  ('SPK', 'Knock Knock', 0.957),\n",
       "  ('SPK', 'Paper Chase', 0.957),\n",
       "  ('SPK', \"Blowin' Me\", 0.957),\n",
       "  ('SPK', 'The Throne', 0.957),\n",
       "  ('SPK', \"Showin' Out\", 0.957),\n",
       "  ('SPK', '24/7', 0.957),\n",
       "  ('SPK', 'Crunch Time', 0.957),\n",
       "  ('SPK', 'Forgive Me for My Sins', 0.957),\n",
       "  ('SPK', 'The Ghetto', 0.957),\n",
       "  ('Шесть Мёртвых Болгар', 'Четыре рода встреч со смертью', 0.956),\n",
       "  ('Шесть Мёртвых Болгар', 'Алеф (Х.Л.Борхес)', 0.956),\n",
       "  ('Nocturnal Emissions', 'Load', 0.955),\n",
       "  ('Current 93 / Sickness of Snakes',\n",
       "   'His Body Was a Playground for the Nazi Elite',\n",
       "   0.953),\n",
       "  ('Current 93 / Sickness of Snakes', 'The Swelling of Leeches', 0.953),\n",
       "  ('Premature Ejaculation', 'ice pick', 0.95),\n",
       "  ('Premature Ejaculation', \"In Eden's Garden\", 0.95),\n",
       "  ('Premature Ejaculation', 'Tragedy. Sickness And Disease', 0.95),\n",
       "  ('Empirical Sleeping Consort', 'The pendulum', 0.949),\n",
       "  ('Empirical Sleeping Consort', \"I think I'll go eat worms\", 0.949),\n",
       "  ('Empirical Sleeping Consort',\n",
       "   'Erosion / Eyes Open/Eyes Closed / a Moment on a Particular Window / Eyes Closed/Eyes Open / The New Nature of Man: Reference One to Four / Never Guide Oblivion / Eyes Closed/Eyes Closed / Reluctance / An Isolated Inciden / Driftwood',\n",
       "   0.949),\n",
       "  ('Zos Kia/Coil', 'Poisons', 0.948),\n",
       "  ('Zos Kia/Coil', 'Rape', 0.948),\n",
       "  ('Nocturnal Emissions', 'Sealing a Phase', 0.948),\n",
       "  ('Nocturnal Emissions',\n",
       "   'Live at Die Ganze Baeckerei, Augsburg 17.11.11',\n",
       "   0.948),\n",
       "  ('Nocturnal Emissions', 'No Sarifice', 0.948),\n",
       "  ('Master/Slave Relationship', 'Voices', 0.946),\n",
       "  ('Master/Slave Relationship', 'To The End of These Male Longings', 0.946),\n",
       "  ('Zos Kia', 'Be Like Me', 0.946),\n",
       "  ('Älymystö', 'Ihmisennahkaa', 0.946),\n",
       "  ('LegionBM', 'Russia (mx)', 0.946),\n",
       "  ('Silence & Strength', 'Optimus Maximus', 0.946),\n",
       "  ('Life Toward Twilight',\n",
       "   'Only at the end do saints come marching in',\n",
       "   0.946),\n",
       "  ('Subterrestrial', 'Universal Mind', 0.946),\n",
       "  ('John Watermann', 'Cows In ¾ Mourning, Maybe', 0.946),\n",
       "  ('John Watermann', 'Seventh Shudder Project_ Power Ho', 0.946),\n",
       "  ('John Watermann', '[untitled]', 0.946),\n",
       "  ('Bruce Lamont', 'Deconstructing Self-Destruction', 0.945),\n",
       "  ('Dark Madder', 'Monster', 0.945),\n",
       "  ('Dark Madder', 'Ambient Groove', 0.945),\n",
       "  ('Dark Madder', 'Dark Wishes', 0.945),\n",
       "  ('Zos Kia', 'Violation', 0.945),\n",
       "  ('Maurizio Bianchi', '4026 B.C.E.', 0.943),\n",
       "  ('Maurizio Bianchi', '2370 B.C.E.', 0.943),\n",
       "  ('Einstürzende Neubauten', 'Prolog', 0.94),\n",
       "  ('Blackmouth', 'Inner Alien', 0.94),\n",
       "  ('Blackmouth', 'The Burn', 0.94),\n",
       "  ('Coil', 'Egyptian Basses', 0.94),\n",
       "  ('Coil', 'Journey to Avebury', 0.94),\n",
       "  ('Coil', 'Bullfighter', 0.94),\n",
       "  ('Coil', 'A Ostia (The Death of Pasolini)', 0.94),\n",
       "  ('Coil', 'Glowworms/Waveforms / Obsidian Monarch (full version)', 0.94)],\n",
       " 'similar_list': [],\n",
       " 'genre': 'Experimental',\n",
       " 'all_genres': '[1, 38]',\n",
       " 'fma_tags': '[]',\n",
       " 'all_tags': ['experimental',\n",
       "  'avant-garde',\n",
       "  'percussion',\n",
       "  'avantgarde',\n",
       "  'industrial',\n",
       "  'seen live',\n",
       "  'dark ambient',\n",
       "  'ambient',\n",
       "  'noise',\n",
       "  'abstract']}"
      ]
     },
     "execution_count": 84,
     "metadata": {},
     "output_type": "execute_result"
    }
   ],
   "source": [
    "main_dict[7554]"
   ]
  },
  {
   "cell_type": "code",
   "execution_count": 98,
   "metadata": {},
   "outputs": [],
   "source": [
    "i = 0\n",
    "path = '../data/spectrograms/train/'\n",
    "for genre in genres:\n",
    "    for spec in os.listdir(f'{path}{genre}'):\n",
    "        src = f'{path}{genre}/{spec}'\n",
    "        if i % 10 == 0:\n",
    "            dist_folder = 'val/'\n",
    "        else:\n",
    "            dist_folder = 'train/'\n",
    "        dist = f'{path}{dist_folder}{genre}/{spec}'\n",
    "        os.replace(src, dist)\n",
    "        i += 1"
   ]
  },
  {
   "cell_type": "code",
   "execution_count": 91,
   "metadata": {},
   "outputs": [
    {
     "data": {
      "text/plain": [
       "1"
      ]
     },
     "execution_count": 91,
     "metadata": {},
     "output_type": "execute_result"
    }
   ],
   "source": [
    "11 % 10"
   ]
  },
  {
   "cell_type": "code",
   "execution_count": null,
   "metadata": {},
   "outputs": [],
   "source": []
  },
  {
   "cell_type": "code",
   "execution_count": 67,
   "metadata": {},
   "outputs": [
    {
     "data": {
      "text/plain": [
       "190"
      ]
     },
     "execution_count": 67,
     "metadata": {},
     "output_type": "execute_result"
    }
   ],
   "source": [
    "int('000190.png'.split('.')[0])"
   ]
  },
  {
   "cell_type": "code",
   "execution_count": 72,
   "metadata": {},
   "outputs": [
    {
     "data": {
      "text/plain": [
       "(97,)"
      ]
     },
     "execution_count": 72,
     "metadata": {},
     "output_type": "execute_result"
    }
   ],
   "source": [
    "test_id.shape"
   ]
  },
  {
   "cell_type": "code",
   "execution_count": 57,
   "metadata": {},
   "outputs": [
    {
     "data": {
      "text/plain": [
       "array(['Hip-Hop', 'Pop', 'Folk', 'Experimental', 'Rock', 'International',\n",
       "       'Electronic', 'Instrumental'], dtype=object)"
      ]
     },
     "execution_count": 57,
     "metadata": {},
     "output_type": "execute_result"
    }
   ],
   "source": [
    "genres"
   ]
  },
  {
   "cell_type": "code",
   "execution_count": 70,
   "metadata": {},
   "outputs": [
    {
     "data": {
      "text/plain": [
       "190"
      ]
     },
     "execution_count": 70,
     "metadata": {},
     "output_type": "execute_result"
    }
   ],
   "source": [
    "df[df.test == 1]['id'].values[0]"
   ]
  }
 ],
 "metadata": {
  "kernelspec": {
   "display_name": "dp_project",
   "language": "python",
   "name": "venv"
  },
  "language_info": {
   "codemirror_mode": {
    "name": "ipython",
    "version": 3
   },
   "file_extension": ".py",
   "mimetype": "text/x-python",
   "name": "python",
   "nbconvert_exporter": "python",
   "pygments_lexer": "ipython3",
   "version": "3.6.9"
  }
 },
 "nbformat": 4,
 "nbformat_minor": 4
}
