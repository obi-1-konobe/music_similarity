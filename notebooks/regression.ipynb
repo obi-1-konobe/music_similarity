{
 "cells": [
  {
   "cell_type": "code",
   "execution_count": 1,
   "metadata": {},
   "outputs": [],
   "source": [
    "import pandas as pd\n",
    "import os\n",
    "from sklearn.preprocessing import StandardScaler\n",
    "from sklearn.decomposition import PCA\n",
    "import matplotlib.pyplot as plt\n",
    "from mpl_toolkits.mplot3d import Axes3D\n",
    "from sklearn.neighbors import NearestNeighbors\n",
    "import pickle\n",
    "import random\n",
    "import math\n",
    "import numpy as np\n",
    "from sklearn.model_selection import train_test_split\n",
    "from sklearn.ensemble import GradientBoostingRegressor, GradientBoostingClassifier\n",
    "from sklearn.metrics import mean_squared_error, r2_score\n",
    "from sklearn.model_selection import RandomizedSearchCV\n",
    "from sklearn.linear_model import LinearRegression, LogisticRegression, SGDRegressor\n",
    "from lightgbm import LGBMRegressor, LGBMClassifier\n",
    "from sklearn.svm import SVR, SVC\n",
    "from sklearn.metrics import classification_report\n",
    "from sklearn.metrics.pairwise import cosine_similarity"
   ]
  },
  {
   "cell_type": "code",
   "execution_count": 2,
   "metadata": {},
   "outputs": [],
   "source": [
    "random.seed(3214)"
   ]
  },
  {
   "cell_type": "code",
   "execution_count": 3,
   "metadata": {},
   "outputs": [],
   "source": [
    "with open('../data/pickles/main_dict.pickle', 'rb') as f:\n",
    "    main_dict = pickle.load(f)"
   ]
  },
  {
   "cell_type": "code",
   "execution_count": 4,
   "metadata": {},
   "outputs": [],
   "source": [
    "df_train = pd.read_csv('../data/csv/train_2.csv', index_col=0)\n",
    "df_test = pd.read_csv('../data/csv/test_2.csv', index_col=0)"
   ]
  },
  {
   "cell_type": "code",
   "execution_count": 5,
   "metadata": {},
   "outputs": [],
   "source": [
    "df_train = df_train.drop(df_train.columns[1:553], axis=1)\n",
    "df_test = df_test.drop(df_test.columns[1:553], axis=1)"
   ]
  },
  {
   "cell_type": "code",
   "execution_count": 6,
   "metadata": {},
   "outputs": [],
   "source": [
    "features_train = df_train.drop(['file'], 1)\n",
    "features_test = df_test.drop(['file'], 1)"
   ]
  },
  {
   "cell_type": "code",
   "execution_count": 7,
   "metadata": {},
   "outputs": [],
   "source": [
    "scaler = StandardScaler()\n",
    "scaler.fit(features_train)\n",
    "X_train = scaler.transform(features_train)\n",
    "X_test = scaler.transform(features_test)"
   ]
  },
  {
   "cell_type": "code",
   "execution_count": 8,
   "metadata": {},
   "outputs": [],
   "source": [
    "# pca = PCA(0.95)\n",
    "# pca.fit(X_train)\n",
    "# X_train = pca.transform(X_train)\n",
    "# X_test = pca.transform(X_test)"
   ]
  },
  {
   "cell_type": "code",
   "execution_count": 9,
   "metadata": {},
   "outputs": [
    {
     "data": {
      "text/plain": [
       "(7882, 77)"
      ]
     },
     "execution_count": 9,
     "metadata": {},
     "output_type": "execute_result"
    }
   ],
   "source": [
    "X_train.shape"
   ]
  },
  {
   "cell_type": "code",
   "execution_count": 10,
   "metadata": {},
   "outputs": [
    {
     "data": {
      "text/plain": [
       "(100, 77)"
      ]
     },
     "execution_count": 10,
     "metadata": {},
     "output_type": "execute_result"
    }
   ],
   "source": [
    "X_test.shape"
   ]
  },
  {
   "cell_type": "code",
   "execution_count": 11,
   "metadata": {},
   "outputs": [],
   "source": [
    "with open('../data/tags_similarity.txt', 'r') as f:\n",
    "    data = f.readlines()"
   ]
  },
  {
   "cell_type": "code",
   "execution_count": 12,
   "metadata": {},
   "outputs": [
    {
     "data": {
      "text/plain": [
       "34116"
      ]
     },
     "execution_count": 12,
     "metadata": {},
     "output_type": "execute_result"
    }
   ],
   "source": [
    "len(data)"
   ]
  },
  {
   "cell_type": "code",
   "execution_count": 13,
   "metadata": {},
   "outputs": [],
   "source": [
    "all_similarity = [x.strip('\\n').split() for x in data]"
   ]
  },
  {
   "cell_type": "code",
   "execution_count": 14,
   "metadata": {},
   "outputs": [],
   "source": [
    "sc = [float(x[2]) for x in all_similarity]"
   ]
  },
  {
   "cell_type": "code",
   "execution_count": 15,
   "metadata": {},
   "outputs": [
    {
     "data": {
      "image/png": "[encoded data removed]",
      "text/plain": [
       "<Figure size 432x288 with 1 Axes>"
      ]
     },
     "metadata": {
      "needs_background": "light"
     },
     "output_type": "display_data"
    }
   ],
   "source": [
    "plt.hist(sc, bins=10)\n",
    "plt.show()"
   ]
  },
  {
   "cell_type": "code",
   "execution_count": 16,
   "metadata": {},
   "outputs": [
    {
     "data": {
      "text/html": [
       "<div>\n",
       "<style scoped>\n",
       "    .dataframe tbody tr th:only-of-type {\n",
       "        vertical-align: middle;\n",
       "    }\n",
       "\n",
       "    .dataframe tbody tr th {\n",
       "        vertical-align: top;\n",
       "    }\n",
       "\n",
       "    .dataframe thead th {\n",
       "        text-align: right;\n",
       "    }\n",
       "</style>\n",
       "<table border=\"1\" class=\"dataframe\">\n",
       "  <thead>\n",
       "    <tr style=\"text-align: right;\">\n",
       "      <th></th>\n",
       "      <th>file</th>\n",
       "      <th>average_loudness</th>\n",
       "      <th>dynamic_complexity</th>\n",
       "      <th>beats_count</th>\n",
       "      <th>bpm</th>\n",
       "      <th>onset_rate</th>\n",
       "      <th>danceability</th>\n",
       "      <th>chords_changes</th>\n",
       "      <th>chords_number</th>\n",
       "      <th>mfcc1_mean.8</th>\n",
       "      <th>...</th>\n",
       "      <th>pitch_salience.min.8</th>\n",
       "      <th>pitch_salience.std.8</th>\n",
       "      <th>chords.max.8</th>\n",
       "      <th>chords.mean.8</th>\n",
       "      <th>chords.min.8</th>\n",
       "      <th>chords.std.8</th>\n",
       "      <th>hpcp.max.8</th>\n",
       "      <th>hpcp.mean.8</th>\n",
       "      <th>hpcp.min.8</th>\n",
       "      <th>hpcp.std.8</th>\n",
       "    </tr>\n",
       "  </thead>\n",
       "  <tbody>\n",
       "    <tr>\n",
       "      <th>0</th>\n",
       "      <td>113360.mp3</td>\n",
       "      <td>0.735970</td>\n",
       "      <td>5.961013</td>\n",
       "      <td>57</td>\n",
       "      <td>110.600258</td>\n",
       "      <td>2.767721</td>\n",
       "      <td>1.203128</td>\n",
       "      <td>0.085008</td>\n",
       "      <td>0.020093</td>\n",
       "      <td>-858.344360</td>\n",
       "      <td>...</td>\n",
       "      <td>0.104731</td>\n",
       "      <td>0.131907</td>\n",
       "      <td>0.839291</td>\n",
       "      <td>0.532144</td>\n",
       "      <td>0.258613</td>\n",
       "      <td>0.124811</td>\n",
       "      <td>35.831059</td>\n",
       "      <td>14.959072</td>\n",
       "      <td>3.070178</td>\n",
       "      <td>7.288480</td>\n",
       "    </tr>\n",
       "    <tr>\n",
       "      <th>1</th>\n",
       "      <td>113564.mp3</td>\n",
       "      <td>0.968318</td>\n",
       "      <td>1.603451</td>\n",
       "      <td>61</td>\n",
       "      <td>124.743881</td>\n",
       "      <td>5.735518</td>\n",
       "      <td>1.081261</td>\n",
       "      <td>0.088099</td>\n",
       "      <td>0.026275</td>\n",
       "      <td>-667.543823</td>\n",
       "      <td>...</td>\n",
       "      <td>0.259244</td>\n",
       "      <td>0.097776</td>\n",
       "      <td>0.691749</td>\n",
       "      <td>0.467287</td>\n",
       "      <td>0.207034</td>\n",
       "      <td>0.111577</td>\n",
       "      <td>35.785088</td>\n",
       "      <td>13.921927</td>\n",
       "      <td>2.618005</td>\n",
       "      <td>6.847598</td>\n",
       "    </tr>\n",
       "    <tr>\n",
       "      <th>2</th>\n",
       "      <td>113950.mp3</td>\n",
       "      <td>0.866255</td>\n",
       "      <td>5.594617</td>\n",
       "      <td>72</td>\n",
       "      <td>147.022476</td>\n",
       "      <td>3.601372</td>\n",
       "      <td>0.990250</td>\n",
       "      <td>0.034003</td>\n",
       "      <td>0.010819</td>\n",
       "      <td>-810.841736</td>\n",
       "      <td>...</td>\n",
       "      <td>0.112524</td>\n",
       "      <td>0.130163</td>\n",
       "      <td>0.770893</td>\n",
       "      <td>0.615786</td>\n",
       "      <td>0.365535</td>\n",
       "      <td>0.079525</td>\n",
       "      <td>35.804550</td>\n",
       "      <td>15.433070</td>\n",
       "      <td>2.676239</td>\n",
       "      <td>7.629828</td>\n",
       "    </tr>\n",
       "    <tr>\n",
       "      <th>3</th>\n",
       "      <td>113267.mp3</td>\n",
       "      <td>0.978087</td>\n",
       "      <td>1.169995</td>\n",
       "      <td>79</td>\n",
       "      <td>161.498962</td>\n",
       "      <td>3.267912</td>\n",
       "      <td>1.071076</td>\n",
       "      <td>0.047913</td>\n",
       "      <td>0.010819</td>\n",
       "      <td>-618.257324</td>\n",
       "      <td>...</td>\n",
       "      <td>0.273620</td>\n",
       "      <td>0.119000</td>\n",
       "      <td>0.741139</td>\n",
       "      <td>0.547176</td>\n",
       "      <td>0.267749</td>\n",
       "      <td>0.099131</td>\n",
       "      <td>35.739342</td>\n",
       "      <td>10.841406</td>\n",
       "      <td>2.722672</td>\n",
       "      <td>5.521516</td>\n",
       "    </tr>\n",
       "    <tr>\n",
       "      <th>4</th>\n",
       "      <td>113261.mp3</td>\n",
       "      <td>0.958599</td>\n",
       "      <td>2.754046</td>\n",
       "      <td>44</td>\n",
       "      <td>90.023399</td>\n",
       "      <td>4.601753</td>\n",
       "      <td>1.261835</td>\n",
       "      <td>0.151468</td>\n",
       "      <td>0.024730</td>\n",
       "      <td>-656.268799</td>\n",
       "      <td>...</td>\n",
       "      <td>0.136364</td>\n",
       "      <td>0.138839</td>\n",
       "      <td>0.663160</td>\n",
       "      <td>0.460699</td>\n",
       "      <td>0.237102</td>\n",
       "      <td>0.089502</td>\n",
       "      <td>35.844589</td>\n",
       "      <td>11.433019</td>\n",
       "      <td>3.062327</td>\n",
       "      <td>5.329480</td>\n",
       "    </tr>\n",
       "    <tr>\n",
       "      <th>...</th>\n",
       "      <td>...</td>\n",
       "      <td>...</td>\n",
       "      <td>...</td>\n",
       "      <td>...</td>\n",
       "      <td>...</td>\n",
       "      <td>...</td>\n",
       "      <td>...</td>\n",
       "      <td>...</td>\n",
       "      <td>...</td>\n",
       "      <td>...</td>\n",
       "      <td>...</td>\n",
       "      <td>...</td>\n",
       "      <td>...</td>\n",
       "      <td>...</td>\n",
       "      <td>...</td>\n",
       "      <td>...</td>\n",
       "      <td>...</td>\n",
       "      <td>...</td>\n",
       "      <td>...</td>\n",
       "      <td>...</td>\n",
       "      <td>...</td>\n",
       "    </tr>\n",
       "    <tr>\n",
       "      <th>7877</th>\n",
       "      <td>029040.mp3</td>\n",
       "      <td>0.601901</td>\n",
       "      <td>4.741628</td>\n",
       "      <td>46</td>\n",
       "      <td>94.569443</td>\n",
       "      <td>4.835176</td>\n",
       "      <td>1.093997</td>\n",
       "      <td>0.075734</td>\n",
       "      <td>0.015456</td>\n",
       "      <td>-746.406067</td>\n",
       "      <td>...</td>\n",
       "      <td>0.037965</td>\n",
       "      <td>0.156953</td>\n",
       "      <td>0.627632</td>\n",
       "      <td>0.452549</td>\n",
       "      <td>0.259658</td>\n",
       "      <td>0.089888</td>\n",
       "      <td>35.813511</td>\n",
       "      <td>13.423307</td>\n",
       "      <td>3.492393</td>\n",
       "      <td>6.177996</td>\n",
       "    </tr>\n",
       "    <tr>\n",
       "      <th>7878</th>\n",
       "      <td>029255.mp3</td>\n",
       "      <td>0.651028</td>\n",
       "      <td>5.826573</td>\n",
       "      <td>80</td>\n",
       "      <td>178.205734</td>\n",
       "      <td>3.197506</td>\n",
       "      <td>0.835034</td>\n",
       "      <td>0.084877</td>\n",
       "      <td>0.018519</td>\n",
       "      <td>-733.472656</td>\n",
       "      <td>...</td>\n",
       "      <td>0.140011</td>\n",
       "      <td>0.139329</td>\n",
       "      <td>0.697704</td>\n",
       "      <td>0.469045</td>\n",
       "      <td>0.260135</td>\n",
       "      <td>0.084404</td>\n",
       "      <td>35.851913</td>\n",
       "      <td>16.614149</td>\n",
       "      <td>0.000000</td>\n",
       "      <td>10.594819</td>\n",
       "    </tr>\n",
       "    <tr>\n",
       "      <th>7879</th>\n",
       "      <td>029526.mp3</td>\n",
       "      <td>0.957812</td>\n",
       "      <td>2.884877</td>\n",
       "      <td>64</td>\n",
       "      <td>129.861832</td>\n",
       "      <td>3.201220</td>\n",
       "      <td>1.139050</td>\n",
       "      <td>0.063369</td>\n",
       "      <td>0.009274</td>\n",
       "      <td>-659.415771</td>\n",
       "      <td>...</td>\n",
       "      <td>0.225821</td>\n",
       "      <td>0.115231</td>\n",
       "      <td>0.569408</td>\n",
       "      <td>0.446405</td>\n",
       "      <td>0.227650</td>\n",
       "      <td>0.060741</td>\n",
       "      <td>35.851040</td>\n",
       "      <td>20.483692</td>\n",
       "      <td>4.004978</td>\n",
       "      <td>8.654058</td>\n",
       "    </tr>\n",
       "    <tr>\n",
       "      <th>7880</th>\n",
       "      <td>029245.mp3</td>\n",
       "      <td>0.969260</td>\n",
       "      <td>2.810955</td>\n",
       "      <td>69</td>\n",
       "      <td>140.128616</td>\n",
       "      <td>3.630502</td>\n",
       "      <td>1.424422</td>\n",
       "      <td>0.067901</td>\n",
       "      <td>0.013889</td>\n",
       "      <td>-651.825989</td>\n",
       "      <td>...</td>\n",
       "      <td>0.287203</td>\n",
       "      <td>0.092962</td>\n",
       "      <td>0.747907</td>\n",
       "      <td>0.542799</td>\n",
       "      <td>0.222208</td>\n",
       "      <td>0.104758</td>\n",
       "      <td>35.841602</td>\n",
       "      <td>13.581528</td>\n",
       "      <td>3.772308</td>\n",
       "      <td>6.252968</td>\n",
       "    </tr>\n",
       "    <tr>\n",
       "      <th>7881</th>\n",
       "      <td>029721.mp3</td>\n",
       "      <td>0.917490</td>\n",
       "      <td>2.963248</td>\n",
       "      <td>65</td>\n",
       "      <td>132.114212</td>\n",
       "      <td>5.495713</td>\n",
       "      <td>1.069831</td>\n",
       "      <td>0.050926</td>\n",
       "      <td>0.004630</td>\n",
       "      <td>-672.145203</td>\n",
       "      <td>...</td>\n",
       "      <td>0.036285</td>\n",
       "      <td>0.174070</td>\n",
       "      <td>0.733114</td>\n",
       "      <td>0.539003</td>\n",
       "      <td>0.337832</td>\n",
       "      <td>0.077000</td>\n",
       "      <td>35.773361</td>\n",
       "      <td>13.658305</td>\n",
       "      <td>2.770735</td>\n",
       "      <td>6.819605</td>\n",
       "    </tr>\n",
       "  </tbody>\n",
       "</table>\n",
       "<p>7882 rows × 78 columns</p>\n",
       "</div>"
      ],
      "text/plain": [
       "            file  average_loudness  dynamic_complexity  beats_count  \\\n",
       "0     113360.mp3          0.735970            5.961013           57   \n",
       "1     113564.mp3          0.968318            1.603451           61   \n",
       "2     113950.mp3          0.866255            5.594617           72   \n",
       "3     113267.mp3          0.978087            1.169995           79   \n",
       "4     113261.mp3          0.958599            2.754046           44   \n",
       "...          ...               ...                 ...          ...   \n",
       "7877  029040.mp3          0.601901            4.741628           46   \n",
       "7878  029255.mp3          0.651028            5.826573           80   \n",
       "7879  029526.mp3          0.957812            2.884877           64   \n",
       "7880  029245.mp3          0.969260            2.810955           69   \n",
       "7881  029721.mp3          0.917490            2.963248           65   \n",
       "\n",
       "             bpm  onset_rate  danceability  chords_changes  chords_number  \\\n",
       "0     110.600258    2.767721      1.203128        0.085008       0.020093   \n",
       "1     124.743881    5.735518      1.081261        0.088099       0.026275   \n",
       "2     147.022476    3.601372      0.990250        0.034003       0.010819   \n",
       "3     161.498962    3.267912      1.071076        0.047913       0.010819   \n",
       "4      90.023399    4.601753      1.261835        0.151468       0.024730   \n",
       "...          ...         ...           ...             ...            ...   \n",
       "7877   94.569443    4.835176      1.093997        0.075734       0.015456   \n",
       "7878  178.205734    3.197506      0.835034        0.084877       0.018519   \n",
       "7879  129.861832    3.201220      1.139050        0.063369       0.009274   \n",
       "7880  140.128616    3.630502      1.424422        0.067901       0.013889   \n",
       "7881  132.114212    5.495713      1.069831        0.050926       0.004630   \n",
       "\n",
       "      mfcc1_mean.8  ...  pitch_salience.min.8  pitch_salience.std.8  \\\n",
       "0      -858.344360  ...              0.104731              0.131907   \n",
       "1      -667.543823  ...              0.259244              0.097776   \n",
       "2      -810.841736  ...              0.112524              0.130163   \n",
       "3      -618.257324  ...              0.273620              0.119000   \n",
       "4      -656.268799  ...              0.136364              0.138839   \n",
       "...            ...  ...                   ...                   ...   \n",
       "7877   -746.406067  ...              0.037965              0.156953   \n",
       "7878   -733.472656  ...              0.140011              0.139329   \n",
       "7879   -659.415771  ...              0.225821              0.115231   \n",
       "7880   -651.825989  ...              0.287203              0.092962   \n",
       "7881   -672.145203  ...              0.036285              0.174070   \n",
       "\n",
       "      chords.max.8  chords.mean.8  chords.min.8  chords.std.8  hpcp.max.8  \\\n",
       "0         0.839291       0.532144      0.258613      0.124811   35.831059   \n",
       "1         0.691749       0.467287      0.207034      0.111577   35.785088   \n",
       "2         0.770893       0.615786      0.365535      0.079525   35.804550   \n",
       "3         0.741139       0.547176      0.267749      0.099131   35.739342   \n",
       "4         0.663160       0.460699      0.237102      0.089502   35.844589   \n",
       "...            ...            ...           ...           ...         ...   \n",
       "7877      0.627632       0.452549      0.259658      0.089888   35.813511   \n",
       "7878      0.697704       0.469045      0.260135      0.084404   35.851913   \n",
       "7879      0.569408       0.446405      0.227650      0.060741   35.851040   \n",
       "7880      0.747907       0.542799      0.222208      0.104758   35.841602   \n",
       "7881      0.733114       0.539003      0.337832      0.077000   35.773361   \n",
       "\n",
       "      hpcp.mean.8  hpcp.min.8  hpcp.std.8  \n",
       "0       14.959072    3.070178    7.288480  \n",
       "1       13.921927    2.618005    6.847598  \n",
       "2       15.433070    2.676239    7.629828  \n",
       "3       10.841406    2.722672    5.521516  \n",
       "4       11.433019    3.062327    5.329480  \n",
       "...           ...         ...         ...  \n",
       "7877    13.423307    3.492393    6.177996  \n",
       "7878    16.614149    0.000000   10.594819  \n",
       "7879    20.483692    4.004978    8.654058  \n",
       "7880    13.581528    3.772308    6.252968  \n",
       "7881    13.658305    2.770735    6.819605  \n",
       "\n",
       "[7882 rows x 78 columns]"
      ]
     },
     "execution_count": 16,
     "metadata": {},
     "output_type": "execute_result"
    }
   ],
   "source": [
    "df_train_2 = df_train.reset_index(drop=True)\n",
    "df_train_2"
   ]
  },
  {
   "cell_type": "code",
   "execution_count": 17,
   "metadata": {},
   "outputs": [],
   "source": [
    "features = list()\n",
    "target = list()\n",
    "for tupple in all_similarity:\n",
    "    idx_1 = df_train_2[df_train_2.file == tupple[0]].index[0]\n",
    "    idx_2 = df_train_2[df_train_2.file == tupple[1]].index[0]\n",
    "    arr_1 = X_train[idx_1]\n",
    "    arr_2 = X_train[idx_2]\n",
    "    combo = np.hstack((arr_1, arr_2))\n",
    "    features.append(combo)\n",
    "    target.append(float(tupple[2]))"
   ]
  },
  {
   "cell_type": "code",
   "execution_count": 18,
   "metadata": {},
   "outputs": [],
   "source": [
    "features_train, features_test, target_train, target_test = train_test_split(\n",
    "    features,\n",
    "    target,\n",
    "    random_state=123\n",
    ")"
   ]
  },
  {
   "cell_type": "code",
   "execution_count": 19,
   "metadata": {},
   "outputs": [
    {
     "name": "stderr",
     "output_type": "stream",
     "text": [
      "/home/obi-1-konobe/projects/mag/dp/dp_project/venv/lib/python3.6/site-packages/lightgbm/engine.py:148: UserWarning: Found `num_iteration` in params. Will use it instead of argument\n",
      "  warnings.warn(\"Found `{}` in params. Will use it instead of argument\".format(alias))\n"
     ]
    },
    {
     "name": "stdout",
     "output_type": "stream",
     "text": [
      "rmse 0.0005161095370617439/0.056882255501221696 r2 0.9952258669407895/0.46755556886556804\n"
     ]
    }
   ],
   "source": [
    "lgbm = LGBMRegressor(num_iteration=10000, max_depth=5, reg_lambda=0.8, reg_alpha=0.6)\n",
    "lgbm.fit(features_train, target_train)\n",
    "y_pred_train = lgbm.predict(features_train)\n",
    "y_pred_test = lgbm.predict(features_test)\n",
    "rmse_train = mean_squared_error(target_train, y_pred_train)\n",
    "rmse_test = mean_squared_error(target_test, y_pred_test)\n",
    "r2_train = r2_score(target_train, y_pred_train)\n",
    "r2_test = r2_score(target_test, y_pred_test)\n",
    "print(f'rmse {rmse_train}/{rmse_test} r2 {r2_train}/{r2_test}')"
   ]
  },
  {
   "cell_type": "code",
   "execution_count": 20,
   "metadata": {},
   "outputs": [],
   "source": [
    "cos_similarity_mtx = cosine_similarity(X_test, X_train)"
   ]
  },
  {
   "cell_type": "code",
   "execution_count": 21,
   "metadata": {},
   "outputs": [],
   "source": [
    "def count_good_recommend(query_idx, answer_list, trhold):\n",
    "    counter = 0\n",
    "    query_id = int(df_test.iloc[query_idx].file[:-4])\n",
    "    relevant = [query_id]\n",
    "    query_tags = main_dict[query_id]['all_tags']\n",
    "    for idx in answer_list:\n",
    "        answer_id = int(df_train.iloc[idx].file[:-4])\n",
    "        answer_tags = main_dict[answer_id]['all_tags']\n",
    "        score = 0\n",
    "        i = 0\n",
    "        for tag in answer_tags:\n",
    "            if tag in query_tags:\n",
    "                i += 1\n",
    "        if i == 0:\n",
    "            continue\n",
    "        \n",
    "        precision = i / len(answer_tags)\n",
    "        recall = i / len(query_tags)\n",
    "        score = 2 * precision * recall / (precision + recall)\n",
    "        if score >= trhold:        \n",
    "            counter += 1\n",
    "            relevant.append(answer_id)\n",
    "    return counter, relevant"
   ]
  },
  {
   "cell_type": "code",
   "execution_count": 22,
   "metadata": {},
   "outputs": [],
   "source": [
    "def count_ndcg(neighbors, relevant_list):\n",
    "    dcg = 0\n",
    "    idcg = 0\n",
    "    for i in range(len(neighbors)):\n",
    "        track = int(df_train.iloc[neighbors[i]].file[:-4])\n",
    "        if track in relevant_list:\n",
    "            dcg += 1 / math.log(i + 2, 2)\n",
    "        idcg += 1 / math.log(i + 2, 2)\n",
    "    ndcg = dcg / idcg\n",
    "    return ndcg"
   ]
  },
  {
   "cell_type": "code",
   "execution_count": 23,
   "metadata": {},
   "outputs": [],
   "source": [
    "def rank_by_model(model, neighb, arr_test):\n",
    "    result = list()\n",
    "    for idx in neighb:\n",
    "        arr_2 = X_train[idx]\n",
    "        combo = np.hstack((arr_test, arr_2))\n",
    "        score = model.predict([combo])\n",
    "        result.append((idx, score))\n",
    "    top_10 = sorted(result, key=lambda x: x[1], reverse=True)[:10]\n",
    "    top_10 = [x[0] for x in top_10]\n",
    "\n",
    "    return top_10"
   ]
  },
  {
   "cell_type": "code",
   "execution_count": 24,
   "metadata": {},
   "outputs": [
    {
     "name": "stdout",
     "output_type": "stream",
     "text": [
      "0.12399999999999994 0.13702756544131903\n"
     ]
    }
   ],
   "source": [
    "mean_ap = 0\n",
    "ndcg = 0\n",
    "for i in range(100):\n",
    "    arr = cos_similarity_mtx[i]\n",
    "    neighbors = arr.argsort()[-100:][::-1]\n",
    "    level_2 = rank_by_model(lgbm, neighbors, X_test[i])\n",
    "    relevant_num, relevant_list = count_good_recommend(i, level_2, trhold=0.4)\n",
    "#     print(relevant_list)\n",
    "#     print(relevant_list[0], [df_train.iloc[x].file[:-4] for x in level_2])\n",
    "    p_at_10 = relevant_num / 10\n",
    "    mean_ap += p_at_10\n",
    "    ndcg += count_ndcg(level_2, relevant_list[1:])\n",
    "mean_ap /= 100 \n",
    "mean_ndcg = ndcg / 100\n",
    "print(mean_ap, mean_ndcg)"
   ]
  },
  {
   "cell_type": "code",
   "execution_count": 35,
   "metadata": {},
   "outputs": [],
   "source": [
    "from lightgbm import plot_importance\n",
    "import seaborn as sns"
   ]
  },
  {
   "cell_type": "code",
   "execution_count": 33,
   "metadata": {},
   "outputs": [
    {
     "data": {
      "text/plain": [
       "<matplotlib.axes._subplots.AxesSubplot at 0x7fed6bf03a90>"
      ]
     },
     "execution_count": 33,
     "metadata": {},
     "output_type": "execute_result"
    },
    {
     "data": {
      "image/png": "[encoded data removed]",
      "text/plain": [
       "<Figure size 720x2160 with 1 Axes>"
      ]
     },
     "metadata": {
      "needs_background": "light"
     },
     "output_type": "display_data"
    }
   ],
   "source": [
    "plot_importance(lgbm, figsize=(10,30), importance_type='split')"
   ]
  },
  {
   "cell_type": "code",
   "execution_count": 34,
   "metadata": {},
   "outputs": [],
   "source": [
    "def plotImp(model, X , num = 20):\n",
    "    feature_imp = pd.DataFrame({'Value':model.feature_importance(),'Feature':X.columns})\n",
    "    plt.figure(figsize=(40, 20))\n",
    "    sns.set(font_scale = 5)\n",
    "    sns.barplot(x=\"Value\", y=\"Feature\", data=feature_imp.sort_values(by=\"Value\", \n",
    "                                                        ascending=False)[0:num])\n",
    "    plt.title('LightGBM Features (avg over folds)')\n",
    "    plt.tight_layout()\n",
    "#     plt.savefig('lgbm_importances-01.png')\n",
    "    plt.show()"
   ]
  },
  {
   "cell_type": "code",
   "execution_count": 42,
   "metadata": {},
   "outputs": [
    {
     "data": {
      "text/html": [
       "<div>\n",
       "<style scoped>\n",
       "    .dataframe tbody tr th:only-of-type {\n",
       "        vertical-align: middle;\n",
       "    }\n",
       "\n",
       "    .dataframe tbody tr th {\n",
       "        vertical-align: top;\n",
       "    }\n",
       "\n",
       "    .dataframe thead th {\n",
       "        text-align: right;\n",
       "    }\n",
       "</style>\n",
       "<table border=\"1\" class=\"dataframe\">\n",
       "  <thead>\n",
       "    <tr style=\"text-align: right;\">\n",
       "      <th></th>\n",
       "      <th>average_loudness</th>\n",
       "      <th>dynamic_complexity</th>\n",
       "      <th>beats_count</th>\n",
       "      <th>bpm</th>\n",
       "      <th>onset_rate</th>\n",
       "      <th>danceability</th>\n",
       "      <th>chords_changes</th>\n",
       "      <th>chords_number</th>\n",
       "      <th>mfcc1_mean.8</th>\n",
       "      <th>mfcc2_mean.8</th>\n",
       "      <th>...</th>\n",
       "      <th>pitch_salience.min.8</th>\n",
       "      <th>pitch_salience.std.8</th>\n",
       "      <th>chords.max.8</th>\n",
       "      <th>chords.mean.8</th>\n",
       "      <th>chords.min.8</th>\n",
       "      <th>chords.std.8</th>\n",
       "      <th>hpcp.max.8</th>\n",
       "      <th>hpcp.mean.8</th>\n",
       "      <th>hpcp.min.8</th>\n",
       "      <th>hpcp.std.8</th>\n",
       "    </tr>\n",
       "  </thead>\n",
       "  <tbody>\n",
       "    <tr>\n",
       "      <th>0</th>\n",
       "      <td>0.735970</td>\n",
       "      <td>5.961013</td>\n",
       "      <td>57</td>\n",
       "      <td>110.600258</td>\n",
       "      <td>2.767721</td>\n",
       "      <td>1.203128</td>\n",
       "      <td>0.085008</td>\n",
       "      <td>0.020093</td>\n",
       "      <td>-858.344360</td>\n",
       "      <td>210.550842</td>\n",
       "      <td>...</td>\n",
       "      <td>0.104731</td>\n",
       "      <td>0.131907</td>\n",
       "      <td>0.839291</td>\n",
       "      <td>0.532144</td>\n",
       "      <td>0.258613</td>\n",
       "      <td>0.124811</td>\n",
       "      <td>35.831059</td>\n",
       "      <td>14.959072</td>\n",
       "      <td>3.070178</td>\n",
       "      <td>7.288480</td>\n",
       "    </tr>\n",
       "    <tr>\n",
       "      <th>1</th>\n",
       "      <td>0.968318</td>\n",
       "      <td>1.603451</td>\n",
       "      <td>61</td>\n",
       "      <td>124.743881</td>\n",
       "      <td>5.735518</td>\n",
       "      <td>1.081261</td>\n",
       "      <td>0.088099</td>\n",
       "      <td>0.026275</td>\n",
       "      <td>-667.543823</td>\n",
       "      <td>155.661987</td>\n",
       "      <td>...</td>\n",
       "      <td>0.259244</td>\n",
       "      <td>0.097776</td>\n",
       "      <td>0.691749</td>\n",
       "      <td>0.467287</td>\n",
       "      <td>0.207034</td>\n",
       "      <td>0.111577</td>\n",
       "      <td>35.785088</td>\n",
       "      <td>13.921927</td>\n",
       "      <td>2.618005</td>\n",
       "      <td>6.847598</td>\n",
       "    </tr>\n",
       "    <tr>\n",
       "      <th>2</th>\n",
       "      <td>0.866255</td>\n",
       "      <td>5.594617</td>\n",
       "      <td>72</td>\n",
       "      <td>147.022476</td>\n",
       "      <td>3.601372</td>\n",
       "      <td>0.990250</td>\n",
       "      <td>0.034003</td>\n",
       "      <td>0.010819</td>\n",
       "      <td>-810.841736</td>\n",
       "      <td>175.682144</td>\n",
       "      <td>...</td>\n",
       "      <td>0.112524</td>\n",
       "      <td>0.130163</td>\n",
       "      <td>0.770893</td>\n",
       "      <td>0.615786</td>\n",
       "      <td>0.365535</td>\n",
       "      <td>0.079525</td>\n",
       "      <td>35.804550</td>\n",
       "      <td>15.433070</td>\n",
       "      <td>2.676239</td>\n",
       "      <td>7.629828</td>\n",
       "    </tr>\n",
       "    <tr>\n",
       "      <th>3</th>\n",
       "      <td>0.978087</td>\n",
       "      <td>1.169995</td>\n",
       "      <td>79</td>\n",
       "      <td>161.498962</td>\n",
       "      <td>3.267912</td>\n",
       "      <td>1.071076</td>\n",
       "      <td>0.047913</td>\n",
       "      <td>0.010819</td>\n",
       "      <td>-618.257324</td>\n",
       "      <td>151.434280</td>\n",
       "      <td>...</td>\n",
       "      <td>0.273620</td>\n",
       "      <td>0.119000</td>\n",
       "      <td>0.741139</td>\n",
       "      <td>0.547176</td>\n",
       "      <td>0.267749</td>\n",
       "      <td>0.099131</td>\n",
       "      <td>35.739342</td>\n",
       "      <td>10.841406</td>\n",
       "      <td>2.722672</td>\n",
       "      <td>5.521516</td>\n",
       "    </tr>\n",
       "    <tr>\n",
       "      <th>4</th>\n",
       "      <td>0.958599</td>\n",
       "      <td>2.754046</td>\n",
       "      <td>44</td>\n",
       "      <td>90.023399</td>\n",
       "      <td>4.601753</td>\n",
       "      <td>1.261835</td>\n",
       "      <td>0.151468</td>\n",
       "      <td>0.024730</td>\n",
       "      <td>-656.268799</td>\n",
       "      <td>99.321548</td>\n",
       "      <td>...</td>\n",
       "      <td>0.136364</td>\n",
       "      <td>0.138839</td>\n",
       "      <td>0.663160</td>\n",
       "      <td>0.460699</td>\n",
       "      <td>0.237102</td>\n",
       "      <td>0.089502</td>\n",
       "      <td>35.844589</td>\n",
       "      <td>11.433019</td>\n",
       "      <td>3.062327</td>\n",
       "      <td>5.329480</td>\n",
       "    </tr>\n",
       "    <tr>\n",
       "      <th>...</th>\n",
       "      <td>...</td>\n",
       "      <td>...</td>\n",
       "      <td>...</td>\n",
       "      <td>...</td>\n",
       "      <td>...</td>\n",
       "      <td>...</td>\n",
       "      <td>...</td>\n",
       "      <td>...</td>\n",
       "      <td>...</td>\n",
       "      <td>...</td>\n",
       "      <td>...</td>\n",
       "      <td>...</td>\n",
       "      <td>...</td>\n",
       "      <td>...</td>\n",
       "      <td>...</td>\n",
       "      <td>...</td>\n",
       "      <td>...</td>\n",
       "      <td>...</td>\n",
       "      <td>...</td>\n",
       "      <td>...</td>\n",
       "      <td>...</td>\n",
       "    </tr>\n",
       "    <tr>\n",
       "      <th>7981</th>\n",
       "      <td>0.601901</td>\n",
       "      <td>4.741628</td>\n",
       "      <td>46</td>\n",
       "      <td>94.569443</td>\n",
       "      <td>4.835176</td>\n",
       "      <td>1.093997</td>\n",
       "      <td>0.075734</td>\n",
       "      <td>0.015456</td>\n",
       "      <td>-746.406067</td>\n",
       "      <td>145.601059</td>\n",
       "      <td>...</td>\n",
       "      <td>0.037965</td>\n",
       "      <td>0.156953</td>\n",
       "      <td>0.627632</td>\n",
       "      <td>0.452549</td>\n",
       "      <td>0.259658</td>\n",
       "      <td>0.089888</td>\n",
       "      <td>35.813511</td>\n",
       "      <td>13.423307</td>\n",
       "      <td>3.492393</td>\n",
       "      <td>6.177996</td>\n",
       "    </tr>\n",
       "    <tr>\n",
       "      <th>7982</th>\n",
       "      <td>0.651028</td>\n",
       "      <td>5.826573</td>\n",
       "      <td>80</td>\n",
       "      <td>178.205734</td>\n",
       "      <td>3.197506</td>\n",
       "      <td>0.835034</td>\n",
       "      <td>0.084877</td>\n",
       "      <td>0.018519</td>\n",
       "      <td>-733.472656</td>\n",
       "      <td>152.343552</td>\n",
       "      <td>...</td>\n",
       "      <td>0.140011</td>\n",
       "      <td>0.139329</td>\n",
       "      <td>0.697704</td>\n",
       "      <td>0.469045</td>\n",
       "      <td>0.260135</td>\n",
       "      <td>0.084404</td>\n",
       "      <td>35.851913</td>\n",
       "      <td>16.614149</td>\n",
       "      <td>0.000000</td>\n",
       "      <td>10.594819</td>\n",
       "    </tr>\n",
       "    <tr>\n",
       "      <th>7983</th>\n",
       "      <td>0.957812</td>\n",
       "      <td>2.884877</td>\n",
       "      <td>64</td>\n",
       "      <td>129.861832</td>\n",
       "      <td>3.201220</td>\n",
       "      <td>1.139050</td>\n",
       "      <td>0.063369</td>\n",
       "      <td>0.009274</td>\n",
       "      <td>-659.415771</td>\n",
       "      <td>76.092545</td>\n",
       "      <td>...</td>\n",
       "      <td>0.225821</td>\n",
       "      <td>0.115231</td>\n",
       "      <td>0.569408</td>\n",
       "      <td>0.446405</td>\n",
       "      <td>0.227650</td>\n",
       "      <td>0.060741</td>\n",
       "      <td>35.851040</td>\n",
       "      <td>20.483692</td>\n",
       "      <td>4.004978</td>\n",
       "      <td>8.654058</td>\n",
       "    </tr>\n",
       "    <tr>\n",
       "      <th>7984</th>\n",
       "      <td>0.969260</td>\n",
       "      <td>2.810955</td>\n",
       "      <td>69</td>\n",
       "      <td>140.128616</td>\n",
       "      <td>3.630502</td>\n",
       "      <td>1.424422</td>\n",
       "      <td>0.067901</td>\n",
       "      <td>0.013889</td>\n",
       "      <td>-651.825989</td>\n",
       "      <td>132.384949</td>\n",
       "      <td>...</td>\n",
       "      <td>0.287203</td>\n",
       "      <td>0.092962</td>\n",
       "      <td>0.747907</td>\n",
       "      <td>0.542799</td>\n",
       "      <td>0.222208</td>\n",
       "      <td>0.104758</td>\n",
       "      <td>35.841602</td>\n",
       "      <td>13.581528</td>\n",
       "      <td>3.772308</td>\n",
       "      <td>6.252968</td>\n",
       "    </tr>\n",
       "    <tr>\n",
       "      <th>7985</th>\n",
       "      <td>0.917490</td>\n",
       "      <td>2.963248</td>\n",
       "      <td>65</td>\n",
       "      <td>132.114212</td>\n",
       "      <td>5.495713</td>\n",
       "      <td>1.069831</td>\n",
       "      <td>0.050926</td>\n",
       "      <td>0.004630</td>\n",
       "      <td>-672.145203</td>\n",
       "      <td>128.273010</td>\n",
       "      <td>...</td>\n",
       "      <td>0.036285</td>\n",
       "      <td>0.174070</td>\n",
       "      <td>0.733114</td>\n",
       "      <td>0.539003</td>\n",
       "      <td>0.337832</td>\n",
       "      <td>0.077000</td>\n",
       "      <td>35.773361</td>\n",
       "      <td>13.658305</td>\n",
       "      <td>2.770735</td>\n",
       "      <td>6.819605</td>\n",
       "    </tr>\n",
       "  </tbody>\n",
       "</table>\n",
       "<p>15764 rows × 77 columns</p>\n",
       "</div>"
      ],
      "text/plain": [
       "      average_loudness  dynamic_complexity  beats_count         bpm  \\\n",
       "0             0.735970            5.961013           57  110.600258   \n",
       "1             0.968318            1.603451           61  124.743881   \n",
       "2             0.866255            5.594617           72  147.022476   \n",
       "3             0.978087            1.169995           79  161.498962   \n",
       "4             0.958599            2.754046           44   90.023399   \n",
       "...                ...                 ...          ...         ...   \n",
       "7981          0.601901            4.741628           46   94.569443   \n",
       "7982          0.651028            5.826573           80  178.205734   \n",
       "7983          0.957812            2.884877           64  129.861832   \n",
       "7984          0.969260            2.810955           69  140.128616   \n",
       "7985          0.917490            2.963248           65  132.114212   \n",
       "\n",
       "      onset_rate  danceability  chords_changes  chords_number  mfcc1_mean.8  \\\n",
       "0       2.767721      1.203128        0.085008       0.020093   -858.344360   \n",
       "1       5.735518      1.081261        0.088099       0.026275   -667.543823   \n",
       "2       3.601372      0.990250        0.034003       0.010819   -810.841736   \n",
       "3       3.267912      1.071076        0.047913       0.010819   -618.257324   \n",
       "4       4.601753      1.261835        0.151468       0.024730   -656.268799   \n",
       "...          ...           ...             ...            ...           ...   \n",
       "7981    4.835176      1.093997        0.075734       0.015456   -746.406067   \n",
       "7982    3.197506      0.835034        0.084877       0.018519   -733.472656   \n",
       "7983    3.201220      1.139050        0.063369       0.009274   -659.415771   \n",
       "7984    3.630502      1.424422        0.067901       0.013889   -651.825989   \n",
       "7985    5.495713      1.069831        0.050926       0.004630   -672.145203   \n",
       "\n",
       "      mfcc2_mean.8  ...  pitch_salience.min.8  pitch_salience.std.8  \\\n",
       "0       210.550842  ...              0.104731              0.131907   \n",
       "1       155.661987  ...              0.259244              0.097776   \n",
       "2       175.682144  ...              0.112524              0.130163   \n",
       "3       151.434280  ...              0.273620              0.119000   \n",
       "4        99.321548  ...              0.136364              0.138839   \n",
       "...            ...  ...                   ...                   ...   \n",
       "7981    145.601059  ...              0.037965              0.156953   \n",
       "7982    152.343552  ...              0.140011              0.139329   \n",
       "7983     76.092545  ...              0.225821              0.115231   \n",
       "7984    132.384949  ...              0.287203              0.092962   \n",
       "7985    128.273010  ...              0.036285              0.174070   \n",
       "\n",
       "      chords.max.8  chords.mean.8  chords.min.8  chords.std.8  hpcp.max.8  \\\n",
       "0         0.839291       0.532144      0.258613      0.124811   35.831059   \n",
       "1         0.691749       0.467287      0.207034      0.111577   35.785088   \n",
       "2         0.770893       0.615786      0.365535      0.079525   35.804550   \n",
       "3         0.741139       0.547176      0.267749      0.099131   35.739342   \n",
       "4         0.663160       0.460699      0.237102      0.089502   35.844589   \n",
       "...            ...            ...           ...           ...         ...   \n",
       "7981      0.627632       0.452549      0.259658      0.089888   35.813511   \n",
       "7982      0.697704       0.469045      0.260135      0.084404   35.851913   \n",
       "7983      0.569408       0.446405      0.227650      0.060741   35.851040   \n",
       "7984      0.747907       0.542799      0.222208      0.104758   35.841602   \n",
       "7985      0.733114       0.539003      0.337832      0.077000   35.773361   \n",
       "\n",
       "      hpcp.mean.8  hpcp.min.8  hpcp.std.8  \n",
       "0       14.959072    3.070178    7.288480  \n",
       "1       13.921927    2.618005    6.847598  \n",
       "2       15.433070    2.676239    7.629828  \n",
       "3       10.841406    2.722672    5.521516  \n",
       "4       11.433019    3.062327    5.329480  \n",
       "...           ...         ...         ...  \n",
       "7981    13.423307    3.492393    6.177996  \n",
       "7982    16.614149    0.000000   10.594819  \n",
       "7983    20.483692    4.004978    8.654058  \n",
       "7984    13.581528    3.772308    6.252968  \n",
       "7985    13.658305    2.770735    6.819605  \n",
       "\n",
       "[15764 rows x 77 columns]"
      ]
     },
     "execution_count": 42,
     "metadata": {},
     "output_type": "execute_result"
    }
   ],
   "source": [
    "imp = pd.concat([df_train.drop(columns=['file']), df_train.drop(columns=['file'])])\n",
    "imp"
   ]
  },
  {
   "cell_type": "code",
   "execution_count": null,
   "metadata": {},
   "outputs": [],
   "source": []
  },
  {
   "cell_type": "code",
   "execution_count": null,
   "metadata": {},
   "outputs": [],
   "source": []
  },
  {
   "cell_type": "code",
   "execution_count": null,
   "metadata": {},
   "outputs": [],
   "source": []
  },
  {
   "cell_type": "code",
   "execution_count": 79,
   "metadata": {},
   "outputs": [],
   "source": [
    "with_similar = list()\n",
    "for idx in main_dict:\n",
    "    if len(main_dict[idx]['similar_list']) > 0:\n",
    "        with_similar.append(idx)"
   ]
  },
  {
   "cell_type": "code",
   "execution_count": 87,
   "metadata": {},
   "outputs": [],
   "source": [
    "features = list()\n",
    "target = list()\n",
    "for idx in with_similar:\n",
    "    track_1 = \"{:06d}\".format(idx) + '.mp3'\n",
    "    if track_1 in df_train_2.file.values:\n",
    "        id_1 = df_train_2[df_train_2.file == track_1].index[0]\n",
    "        arr_1 = X_train[id_1]\n",
    "        for pair in main_dict[idx]['similar_list']:\n",
    "            artist, title, _ = pair\n",
    "            for idx_2 in main_dict:\n",
    "                if main_dict[idx_2]['artist_name'] == artist and main_dict[idx_2]['track_title'] == title:\n",
    "                    track_2 = \"{:06d}\".format(idx_2) + '.mp3'\n",
    "                    if track_2 in df_train_2.file.values:\n",
    "                        id_2 = df_train_2[df_train_2.file == track_2].index[0]\n",
    "                        arr_2 = X_train[id_2]\n",
    "                        combo = np.hstack((arr_1, arr_2))\n",
    "                        features.append(combo)\n",
    "                        target.append(1)\n",
    "                        break"
   ]
  },
  {
   "cell_type": "code",
   "execution_count": 88,
   "metadata": {},
   "outputs": [
    {
     "data": {
      "text/plain": [
       "1898"
      ]
     },
     "execution_count": 88,
     "metadata": {},
     "output_type": "execute_result"
    }
   ],
   "source": [
    "len(target)"
   ]
  },
  {
   "cell_type": "code",
   "execution_count": 90,
   "metadata": {},
   "outputs": [],
   "source": [
    "while len(features) < 1898 * 2:\n",
    "    pair = random.sample(list(df_train_2.file.values), 2)\n",
    "    id_1 = int(pair[0][:-4])\n",
    "    id_2 = int(pair[1][:-4])\n",
    "    if len(set(main_dict[id_1]['all_genres']) & set(main_dict[id_2]['all_genres'])) == 0:\n",
    "        idx_1 = df_train_2[df_train_2.file == pair[0]].index[0]\n",
    "        idx_2 = df_train_2[df_train_2.file == pair[1]].index[0]\n",
    "        arr_1 = X_train[idx_1]\n",
    "        arr_2 = X_train[idx_2]\n",
    "        combo = np.hstack((arr_1, arr_2))\n",
    "        features.append(combo)\n",
    "        target.append(0) "
   ]
  },
  {
   "cell_type": "code",
   "execution_count": 91,
   "metadata": {},
   "outputs": [
    {
     "data": {
      "text/plain": [
       "3796"
      ]
     },
     "execution_count": 91,
     "metadata": {},
     "output_type": "execute_result"
    }
   ],
   "source": [
    "len(features)"
   ]
  },
  {
   "cell_type": "code",
   "execution_count": 92,
   "metadata": {},
   "outputs": [],
   "source": [
    "features_train, features_test, target_train, target_test = train_test_split(\n",
    "    features,\n",
    "    target,\n",
    "    test_size=0.1, \n",
    "    random_state=123\n",
    ")"
   ]
  },
  {
   "cell_type": "code",
   "execution_count": 93,
   "metadata": {},
   "outputs": [],
   "source": [
    "lgbm_c = LGBMClassifier(num_iteration=10000, max_depth=5, reg_lambda=0.8, reg_alpha=0.6)"
   ]
  },
  {
   "cell_type": "code",
   "execution_count": 94,
   "metadata": {},
   "outputs": [
    {
     "name": "stderr",
     "output_type": "stream",
     "text": [
      "/home/obi-1-konobe/projects/mag/dp/dp_project/venv/lib/python3.6/site-packages/lightgbm/engine.py:148: UserWarning: Found `num_iteration` in params. Will use it instead of argument\n",
      "  warnings.warn(\"Found `{}` in params. Will use it instead of argument\".format(alias))\n"
     ]
    },
    {
     "data": {
      "text/plain": [
       "LGBMClassifier(boosting_type='gbdt', class_weight=None, colsample_bytree=1.0,\n",
       "               importance_type='split', learning_rate=0.1, max_depth=5,\n",
       "               min_child_samples=20, min_child_weight=0.001, min_split_gain=0.0,\n",
       "               n_estimators=100, n_jobs=-1, num_iteration=10000, num_leaves=31,\n",
       "               objective=None, random_state=None, reg_alpha=0.6, reg_lambda=0.8,\n",
       "               silent=True, subsample=1.0, subsample_for_bin=200000,\n",
       "               subsample_freq=0)"
      ]
     },
     "execution_count": 94,
     "metadata": {},
     "output_type": "execute_result"
    }
   ],
   "source": [
    "lgbm_c.fit(features_train, target_train)"
   ]
  },
  {
   "cell_type": "code",
   "execution_count": 100,
   "metadata": {
    "scrolled": true
   },
   "outputs": [],
   "source": [
    "target_pred = lgbm_c.predict(features_test)\n",
    "# target_pred[:,1]"
   ]
  },
  {
   "cell_type": "code",
   "execution_count": 101,
   "metadata": {},
   "outputs": [],
   "source": [
    "target_train_pred = lgbm_c.predict(features_train)"
   ]
  },
  {
   "cell_type": "code",
   "execution_count": 102,
   "metadata": {},
   "outputs": [
    {
     "name": "stdout",
     "output_type": "stream",
     "text": [
      "              precision    recall  f1-score   support\n",
      "\n",
      "           0       0.86      0.80      0.83       197\n",
      "           1       0.80      0.86      0.83       183\n",
      "\n",
      "    accuracy                           0.83       380\n",
      "   macro avg       0.83      0.83      0.83       380\n",
      "weighted avg       0.83      0.83      0.83       380\n",
      "\n"
     ]
    }
   ],
   "source": [
    "print(classification_report(target_test, target_pred))"
   ]
  },
  {
   "cell_type": "code",
   "execution_count": 107,
   "metadata": {},
   "outputs": [],
   "source": [
    "def count_good_recommend(query_idx, answer_list, trhold):\n",
    "    counter = 0\n",
    "    query_id = int(df_test.iloc[query_idx].file[:-4])\n",
    "    relevant = [query_id]\n",
    "    query_tags = main_dict[query_id]['all_tags']\n",
    "    for idx in answer_list:\n",
    "        answer_id = int(df_train.iloc[idx].file[:-4])\n",
    "        answer_tags = main_dict[answer_id]['all_tags']\n",
    "        score = 0\n",
    "        i = 0\n",
    "        for tag in answer_tags:\n",
    "            if tag in query_tags:\n",
    "                i += 1\n",
    "        if i == 0:\n",
    "            continue\n",
    "        \n",
    "        precision = i / len(answer_tags)\n",
    "        recall = i / len(query_tags)\n",
    "        score = 2 * precision * recall / (precision + recall)\n",
    "        if score >= trhold:        \n",
    "            counter += 1\n",
    "            relevant.append(answer_id)\n",
    "    return counter, relevant"
   ]
  },
  {
   "cell_type": "code",
   "execution_count": 108,
   "metadata": {},
   "outputs": [],
   "source": [
    "def count_ndcg(neighbors, relevant_list):\n",
    "    dcg = 0\n",
    "    idcg = 0\n",
    "    for i in range(len(neighbors)):\n",
    "        track = int(df_train.iloc[neighbors[i]].file[:-4])\n",
    "        if track in relevant_list:\n",
    "            dcg += 1 / math.log(i + 2, 2)\n",
    "        idcg += 1 / math.log(i + 2, 2)\n",
    "    ndcg = dcg / idcg\n",
    "    return ndcg"
   ]
  },
  {
   "cell_type": "code",
   "execution_count": 109,
   "metadata": {},
   "outputs": [],
   "source": [
    "def rank_by_model(model, neighb, arr_test):\n",
    "    result = list()\n",
    "    for idx in neighb:\n",
    "        arr_2 = X_train[idx]\n",
    "        combo = np.hstack((arr_test, arr_2))\n",
    "        score = model.predict_proba([combo])[:,1]\n",
    "        result.append((idx, score))\n",
    "    top_10 = sorted(result, key=lambda x: x[1], reverse=True)[:10]\n",
    "    top_10 = [x[0] for x in top_10]\n",
    "\n",
    "    return top_10"
   ]
  },
  {
   "cell_type": "code",
   "execution_count": 110,
   "metadata": {
    "scrolled": true
   },
   "outputs": [],
   "source": [
    "mean_ap = 0\n",
    "ndcg = 0\n",
    "for i in range(100):\n",
    "    arr = cos_similarity_mtx[i]\n",
    "    neighbors = arr.argsort()[-100:][::-1]\n",
    "    level_2 = rank_by_model(lgbm_c, neighbors, X_test[i])\n",
    "    relevant_num, relevant_list = count_good_recommend(i, level_2, trhold=0.3)\n",
    "#     print(relevant_list)\n",
    "#     print(relevant_list[0], [df_train.iloc[x].track[:-4] for x in level_2])\n",
    "    p_at_10 = relevant_num / 10\n",
    "    mean_ap += p_at_10\n",
    "    ndcg += count_ndcg(level_2, relevant_list[1:])\n",
    "mean_ap /= 100 \n",
    "mean_ndcg = ndcg / 100"
   ]
  },
  {
   "cell_type": "code",
   "execution_count": 111,
   "metadata": {},
   "outputs": [
    {
     "data": {
      "text/plain": [
       "0.11899999999999988"
      ]
     },
     "execution_count": 111,
     "metadata": {},
     "output_type": "execute_result"
    }
   ],
   "source": [
    "mean_ap"
   ]
  },
  {
   "cell_type": "code",
   "execution_count": 112,
   "metadata": {},
   "outputs": [
    {
     "data": {
      "text/plain": [
       "0.11627015309857963"
      ]
     },
     "execution_count": 112,
     "metadata": {},
     "output_type": "execute_result"
    }
   ],
   "source": [
    "mean_ndcg"
   ]
  },
  {
   "cell_type": "code",
   "execution_count": null,
   "metadata": {},
   "outputs": [],
   "source": []
  },
  {
   "cell_type": "code",
   "execution_count": null,
   "metadata": {},
   "outputs": [],
   "source": []
  },
  {
   "cell_type": "code",
   "execution_count": null,
   "metadata": {},
   "outputs": [],
   "source": []
  },
  {
   "cell_type": "code",
   "execution_count": null,
   "metadata": {},
   "outputs": [],
   "source": []
  },
  {
   "cell_type": "code",
   "execution_count": null,
   "metadata": {},
   "outputs": [],
   "source": []
  },
  {
   "cell_type": "code",
   "execution_count": null,
   "metadata": {},
   "outputs": [],
   "source": []
  },
  {
   "cell_type": "code",
   "execution_count": null,
   "metadata": {},
   "outputs": [],
   "source": []
  },
  {
   "cell_type": "code",
   "execution_count": null,
   "metadata": {},
   "outputs": [],
   "source": []
  },
  {
   "cell_type": "code",
   "execution_count": 300,
   "metadata": {},
   "outputs": [],
   "source": [
    "cos_similarity_mtx = cosine_similarity(X_test, X_train)"
   ]
  },
  {
   "cell_type": "code",
   "execution_count": 301,
   "metadata": {
    "scrolled": true
   },
   "outputs": [
    {
     "name": "stdout",
     "output_type": "stream",
     "text": [
      "10673 ['028477', '102195', '106953', '085816', '028485', '111378', '069791', '028482', '047707', '111397']\n",
      "66643 ['092949', '051269', '067237', '098077', '138041', '013556', '091084', '091468', '142577', '036322']\n",
      "194 ['143218', '032800', '097587', '127870', '120309', '016747', '053576', '016744', '087189', '105915']\n",
      "74421 ['004080', '142528', '020704', '072058', '148214', '104009', '101112', '148215', '056520', '085291']\n",
      "131553 ['023013', '114201', '123835', '144173', '087644', '021404', '040842', '013571', '055827', '086634']\n",
      "24431 ['097961', '051111', '056695', '070655', '052035', '115475', '036961', '126516', '131326', '051260']\n",
      "144469 ['075432', '012486', '052954', '091897', '006407', '006406', '077519', '110927', '114396', '127192']\n",
      "87100 ['093364', '010439', '075607', '010440', '010385', '123488', '116451', '133449', '051776', '057628']\n",
      "69204 ['044821', '075378', '070654', '084096', '070770', '141593', '070768', '139937', '035549', '110771']\n",
      "27454 ['080004', '040239', '075442', '080003', '087185', '116547', '019415', '122628', '052449', '113934']\n",
      "4835 ['040235', '048452', '009511', '038785', '099374', '021400', '040938', '091162', '084158', '038817']\n",
      "667 ['017635', '017631', '062184', '017634', '017637', '033415', '108050', '136705', '017636', '029350']\n",
      "14063 ['072072', '044804', '054626', '105141', '054625', '124477', '064006', '115762', '115761', '131656']\n",
      "137171 ['010388', '012488', '012484', '120309', '010385', '113281', '016158', '063252', '122623', '105915']\n",
      "61172 ['026008', '055119', '019729', '039605', '053457', '055827', '097814', '129887', '140939', '113809']\n",
      "107579 ['069768', '116451', '082915', '005158', '123763', '010250', '060170', '127520', '108473', '064896']\n",
      "137171 ['010388', '012488', '012484', '120309', '010385', '113281', '016158', '063252', '122623', '105915']\n",
      "24901 ['012737', '063251', '028479', '110983', '040242', '028484', '028477', '079978', '069791', '010993']\n",
      "48463 ['129092', '072232', '003908', '133431', '067707', '127910', '130923', '075442', '130922', '129096']\n",
      "145550 ['032800', '067597', '097589', '145552', '003532', '110691', '066187', '145555', '038826', '113276']\n",
      "11786 ['152262', '100975', '051954', '073768', '130650', '130170', '127804', '125299', '071231', '010192']\n",
      "73764 ['056695', '092551', '070655', '051113', '056800', '011765', '036961', '097570', '114534', '025802']\n",
      "12394 ['011504', '087191', '075440', '012059', '129090', '012488', '012514', '113281', '129093', '043843']\n",
      "73761 ['028484', '030519', '110690', '028479', '047069', '030522', '100497', '053591', '085836', '144934']\n",
      "108962 ['044804', '112065', '054625', '052522', '112733', '011933', '054624', '047510', '054626', '080836']\n",
      "190 ['097587', '087189', '142530', '067597', '001701', '010444', '056518', '042129', '038824', '108866']\n",
      "62337 ['029272', '129091', '138256', '046024', '044821', '041965', '085816', '040239', '111378', '041961']\n",
      "64093 ['100975', '064517', '084096', '056695', '100973', '075378', '026629', '068891', '138580', '142091']\n",
      "4233 ['117970', '075751', '032339', '042235', '062165', '069826', '061160', '141567', '011674', '149690']\n",
      "75752 ['075378', '035527', '051954', '053301', '075419', '036435', '071157', '030090', '145750', '096657']\n",
      "124702 ['117970', '129887', '098551', '075751', '097373', '075376', '108492', '140939', '142092', '152545']\n",
      "73368 ['134794', '028548', '064618', '128477', '086077', '049473', '085311', '123821', '016338', '136469']\n",
      "4079 ['023013', '075379', '098551', '112065', '114290', '129887', '021404', '055285', '132568', '098555']\n",
      "55121 ['075419', '026008', '061160', '075401', '152545', '069826', '075390', '129806', '147267', '140939']\n",
      "39357 ['098551', '011922', '026008', '052633', '075373', '134510', '075401', '056036', '114297', '147267']\n",
      "81554 ['097961', '076129', '054667', '051260', '022472', '028548', '120297', '060048', '122628', '120299']\n",
      "43020 ['048452', '035608', '092548', '032336', '109189', '009511', '059669', '030198', '058054', '097587']\n",
      "17607 ['040234', '040241', '010439', '069195', '003272', '010440', '012355', '075607', '063456', '059078']\n",
      "117886 ['131764', '040242', '129090', '085692', '129096', '012065', '105720', '010441', '110654', '143237']\n",
      "67016 ['129096', '129093', '012064', '004037', '109903', '095724', '034147', '049068', '105915', '045518']\n",
      "26021 ['100973', '127804', '100975', '084096', '075378', '134823', '056030', '091088', '108230', '071173']\n",
      "43696 ['109543', '129092', '012049', '120309', '127870', '043022', '010385', '052447', '133437', '063161']\n",
      "55235 ['100973', '075378', '124753', '084096', '068891', '070660', '068531', '089474', '044792', '104283']\n",
      "39291 ['052035', '056247', '051112', '105662', '127494', '072074', '125614', '118070', '051114', '056800']\n",
      "63470 ['111658', '112733', '134094', '048368', '010670', '038961', '000995', '028477', '138065', '050543']\n",
      "69204 ['044821', '075378', '070654', '084096', '070770', '141593', '070768', '139937', '035549', '110771']\n",
      "22476 ['149777', '069764', '055289', '009918', '037920', '014590', '022478', '038784', '055290', '059666']\n",
      "87097 ['111222', '087103', '086486', '081803', '133561', '065038', '133580', '116101', '084201', '126557']\n",
      "26600 ['117970', '123968', '075751', '040237', '042235', '077952', '097986', '026008', '026904', '123965']\n",
      "24898 ['063251', '149777', '010447', '069764', '143239', '063472', '058115', '005006', '000995', '040938']\n",
      "12050 ['063251', '012062', '063255', '041095', '073369', '040242', '012060', '048367', '012046', '012065']\n",
      "108879 ['010439', '042310', '145027', '003908', '116451', '003905', '110927', '003909', '060775', '082915']\n",
      "57273 ['098237', '051113', '051262', '105719', '013804', '126516', '115475', '118070', '051111', '105662']\n",
      "51305 ['087096', '010668', '133456', '116451', '035199', '040245', '086484', '000715', '139773', '133449']\n",
      "33020 ['117991', '131771', '097285', '040241', '010447', '133447', '012045', '069762', '109543', '118739']\n",
      "124754 ['152262', '127804', '100972', '069828', '075399', '114293', '075401', '149687', '125299', '142079']\n",
      "110261 ['098556', '055119', '098557', '026008', '114291', '099260', '075399', '129887', '075393', '095910']\n",
      "49073 ['012737', '009918', '010670', '040986', '108339', '124394', '111658', '124477', '112317', '149777']\n",
      "35462 ['010439', '012067', '086259', '123488', '114374', '052045', '012486', '016997', '051776', '062180']\n",
      "131657 ['108502', '040986', '054624', '048368', '054626', '112733', '049067', '105141', '143319', '131656']\n",
      "3720 ['041192', '041191', '041095', '120150', '024216', '116383', '003724', '011508', '126979', '057628']\n",
      "44799 ['030521', '013596', '073792', '071512', '072071', '028477', '038887', '075386', '134919', '100497']\n",
      "124876 ['010447', '040241', '012045', '131771', '069764', '097285', '041191', '144600', '009918', '124394']\n",
      "97886 ['108502', '054626', '054624', '112733', '048368', '108504', '145068', '054623', '096935', '143319']\n",
      "93075 ['117970', '042235', '062165', '077952', '048443', '107027', '058166', '064364', '144423', '108420']\n",
      "117288 ['051117', '056247', '056797', '052035', '076375', '126283', '051114', '129879', '126716', '129185']\n",
      "1040 ['054626', '108502', '143319', '064006', '087152', '108504', '133272', '054624', '039359', '040121']\n",
      "113343 ['010388', '012067', '106342', '131985', '065685', '133544', '112977', '073772', '107597', '110630']\n",
      "99419 ['106953', '012737', '041192', '111658', '028479', '119922', '085816', '000995', '124394', '049061']\n",
      "99411 ['086037', '010447', '028479', '041192', '040241', '109543', '110654', '040242', '053589', '124394']\n",
      "133803 ['027550', '121737', '091933', '093716', '027549', '130963', '007709', '096759', '006517', '117628']\n",
      "104282 ['100497', '084096', '010186', '048864', '075378', '084095', '058539', '064519', '048437', '139937']\n",
      "25234 ['049064', '030520', '110684', '049062', '079973', '000897', '010983', '145183', '112788', '134389']\n",
      "40233 ['010447', '041191', '063251', '041192', '012737', '129090', '110983', '040242', '040241', '012062']\n",
      "75752 ['075378', '035527', '051954', '053301', '075419', '036435', '071157', '030090', '145750', '096657']\n",
      "10382 ['069764', '040234', '010440', '040241', '009918', '041191', '063456', '139876', '010444', '040232']\n",
      "125161 ['124912', '085838', '121473', '148114', '145727', '100497', '110778', '098578', '148113', '073767']\n",
      "85027 ['064994', '098237', '010668', '054667', '116451', '054158', '069768', '004450', '061006', '118950']\n",
      "127720 ['012737', '028477', '108502', '120323', '085816', '028484', '086419', '047895', '125778', '110983']\n",
      "40851 ['105145', '075399', '095910', '055119', '089815', '114291', '071251', '075373', '112066', '052633']\n",
      "1686 ['004080', '142528', '004075', '001704', '029465', '035608', '116882', '004078', '033460', '131446']\n"
     ]
    },
    {
     "name": "stdout",
     "output_type": "stream",
     "text": [
      "73365 ['110690', '092574', '086039', '085836', '013708', '049473', '004521', '052449', '055186', '081576']\n",
      "5264 ['112065', '021404', '075379', '055285', '098555', '126047', '099260', '087237', '060994', '098551']\n",
      "19759 ['040239', '085836', '038781', '075194', '149103', '057819', '100497', '154413', '124912', '029720']\n",
      "41568 ['056519', '097589', '083440', '115176', '049849', '129188', '126283', '116871', '145476', '056797']\n",
      "24429 ['110690', '069822', '053591', '133452', '040239', '035549', '124870', '048864', '122628', '045392']\n",
      "86788 ['108502', '040986', '058542', '087152', '064006', '112314', '021895', '096935', '054624', '054626']\n",
      "152418 ['069764', '040235', '122398', '009918', '038817', '040232', '014590', '004836', '038776', '084158']\n",
      "64630 ['140939', '011922', '054470', '073768', '114061', '026008', '043857', '071231', '107129', '025605']\n",
      "85832 ['110690', '075442', '069791', '085836', '092546', '087185', '080001', '046024', '052449', '116116']\n",
      "75317 ['075379', '098556', '129887', '098551', '022091', '064007', '011922', '023010', '075376', '120200']\n",
      "21401 ['013325', '108503', '036959', '035544', '057820', '027552', '029245', '027549', '145743', '040182']\n",
      "71620 ['054626', '112733', '009511', '115761', '071371', '126183', '143319', '145068', '099442', '050543']\n",
      "112315 ['096935', '038887', '048368', '058542', '091083', '120316', '111658', '112314', '126183', '087153']\n",
      "44948 ['027549', '013747', '098556', '056693', '107181', '130927', '075403', '030486', '036616', '019184']\n",
      "25603 ['141593', '013708', '040123', '097959', '131020', '128477', '144473', '142552', '081565', '047198']\n",
      "75417 ['030521', '152262', '100972', '127804', '075393', '142078', '075398', '075399', '038899', '014391']\n",
      "125154 ['026008', '144173', '068891', '040845', '152262', '061160', '114297', '111223', '143290', '075390']\n",
      "75436 ['092574', '013708', '086039', '051113', '114044', '111400', '105719', '114048', '027855', '127542']\n",
      "63655 ['098237', '120299', '010668', '092952', '056798', '104434', '139773', '081576', '144592', '052449']\n"
     ]
    }
   ],
   "source": [
    "mean_ap = 0\n",
    "ndcg = 0\n",
    "for i in range(100):\n",
    "    arr = cos_similarity_mtx[i]\n",
    "    neighbors = arr.argsort()[-100:][::-1]\n",
    "    level_2 = rank_by_model(lgbm, neighbors, X_test[i])\n",
    "    relevant_num, relevant_list = count_good_recommend(i, level_2, trhold=0.3)\n",
    "#     relevant_num, relevant_list = count_good_recommend(i, neighbors, trhold=0.4)\n",
    "#     print(relevant_list)\n",
    "    print(relevant_list[0], [df_train.iloc[x].track[:-4] for x in level_2])\n",
    "    p_at_10 = relevant_num / 10\n",
    "    mean_ap += p_at_10\n",
    "    ndcg += count_ndcg(neighbors, relevant_list[1:])\n",
    "mean_ap /= 100 \n",
    "mean_ndcg = ndcg / 100"
   ]
  },
  {
   "cell_type": "code",
   "execution_count": 291,
   "metadata": {},
   "outputs": [
    {
     "data": {
      "text/plain": [
       "0.12099999999999995"
      ]
     },
     "execution_count": 291,
     "metadata": {},
     "output_type": "execute_result"
    }
   ],
   "source": [
    "mean_ap"
   ]
  },
  {
   "cell_type": "code",
   "execution_count": 292,
   "metadata": {},
   "outputs": [
    {
     "data": {
      "text/plain": [
       "0.013384470428357782"
      ]
     },
     "execution_count": 292,
     "metadata": {},
     "output_type": "execute_result"
    }
   ],
   "source": [
    "mean_ndcg"
   ]
  },
  {
   "cell_type": "code",
   "execution_count": 298,
   "metadata": {},
   "outputs": [
    {
     "data": {
      "text/plain": [
       "[6645, 4701, 7183, 3518, 4410, 7236, 3979, 1258, 7490, 7097]"
      ]
     },
     "execution_count": 298,
     "metadata": {},
     "output_type": "execute_result"
    }
   ],
   "source": []
  },
  {
   "cell_type": "code",
   "execution_count": 304,
   "metadata": {},
   "outputs": [
    {
     "ename": "ValueError",
     "evalue": "Number of features of the model must match the input. Model n_features_ is 206 and input n_features is 103 ",
     "output_type": "error",
     "traceback": [
      "\u001b[0;31m---------------------------------------------------------------------------\u001b[0m",
      "\u001b[0;31mValueError\u001b[0m                                Traceback (most recent call last)",
      "\u001b[0;32m<ipython-input-304-78cda7851f25>\u001b[0m in \u001b[0;36m<module>\u001b[0;34m\u001b[0m\n\u001b[0;32m----> 1\u001b[0;31m \u001b[0ma\u001b[0m \u001b[0;34m=\u001b[0m \u001b[0mlgbm\u001b[0m\u001b[0;34m.\u001b[0m\u001b[0mpredict_proba\u001b[0m\u001b[0;34m(\u001b[0m\u001b[0mX_train\u001b[0m\u001b[0;34m)\u001b[0m\u001b[0;34m\u001b[0m\u001b[0;34m\u001b[0m\u001b[0m\n\u001b[0m",
      "\u001b[0;32m~/projects/mag/dp/dp_project/venv/lib/python3.6/site-packages/lightgbm/sklearn.py\u001b[0m in \u001b[0;36mpredict_proba\u001b[0;34m(self, X, raw_score, num_iteration, pred_leaf, pred_contrib, **kwargs)\u001b[0m\n\u001b[1;32m    861\u001b[0m         \"\"\"\n\u001b[1;32m    862\u001b[0m         result = super(LGBMClassifier, self).predict(X, raw_score, num_iteration,\n\u001b[0;32m--> 863\u001b[0;31m                                                      pred_leaf, pred_contrib, **kwargs)\n\u001b[0m\u001b[1;32m    864\u001b[0m         \u001b[0;32mif\u001b[0m \u001b[0mself\u001b[0m\u001b[0;34m.\u001b[0m\u001b[0m_n_classes\u001b[0m \u001b[0;34m>\u001b[0m \u001b[0;36m2\u001b[0m \u001b[0;32mor\u001b[0m \u001b[0mraw_score\u001b[0m \u001b[0;32mor\u001b[0m \u001b[0mpred_leaf\u001b[0m \u001b[0;32mor\u001b[0m \u001b[0mpred_contrib\u001b[0m\u001b[0;34m:\u001b[0m\u001b[0;34m\u001b[0m\u001b[0;34m\u001b[0m\u001b[0m\n\u001b[1;32m    865\u001b[0m             \u001b[0;32mreturn\u001b[0m \u001b[0mresult\u001b[0m\u001b[0;34m\u001b[0m\u001b[0;34m\u001b[0m\u001b[0m\n",
      "\u001b[0;32m~/projects/mag/dp/dp_project/venv/lib/python3.6/site-packages/lightgbm/sklearn.py\u001b[0m in \u001b[0;36mpredict\u001b[0;34m(self, X, raw_score, num_iteration, pred_leaf, pred_contrib, **kwargs)\u001b[0m\n\u001b[1;32m    661\u001b[0m                              \u001b[0;34m\"match the input. Model n_features_ is %s and \"\u001b[0m\u001b[0;34m\u001b[0m\u001b[0;34m\u001b[0m\u001b[0m\n\u001b[1;32m    662\u001b[0m                              \u001b[0;34m\"input n_features is %s \"\u001b[0m\u001b[0;34m\u001b[0m\u001b[0;34m\u001b[0m\u001b[0m\n\u001b[0;32m--> 663\u001b[0;31m                              % (self._n_features, n_features))\n\u001b[0m\u001b[1;32m    664\u001b[0m         return self.booster_.predict(X, raw_score=raw_score, num_iteration=num_iteration,\n\u001b[1;32m    665\u001b[0m                                      pred_leaf=pred_leaf, pred_contrib=pred_contrib, **kwargs)\n",
      "\u001b[0;31mValueError\u001b[0m: Number of features of the model must match the input. Model n_features_ is 206 and input n_features is 103 "
     ]
    }
   ],
   "source": [
    "a = lgbm.predict_proba(X_train)"
   ]
  },
  {
   "cell_type": "code",
   "execution_count": null,
   "metadata": {},
   "outputs": [],
   "source": []
  },
  {
   "cell_type": "markdown",
   "metadata": {},
   "source": [
    "87097 ['081660', '132566', '108024', '108022', '133970', '024217', '108017', '061007', '132448', '142098']"
   ]
  },
  {
   "cell_type": "markdown",
   "metadata": {},
   "source": [
    "87097 ['126559', '087103', '108885', '087101', '126321', '121987', '142098', '125657', '108024', '086481']"
   ]
  },
  {
   "cell_type": "markdown",
   "metadata": {},
   "source": [
    "87097 ['111222', '087103', '086486', '133561', '065038', '064994', '028274', '077522', '087099', '098237']"
   ]
  },
  {
   "cell_type": "markdown",
   "metadata": {},
   "source": [
    "87097 ['111222', '087103', '086486', '081803', '133561', '065038', '133580', '116101', '084201', '126557']"
   ]
  },
  {
   "cell_type": "code",
   "execution_count": 103,
   "metadata": {},
   "outputs": [],
   "source": [
    "df_test_2 = df_test.reset_index(drop=True)\n"
   ]
  },
  {
   "cell_type": "code",
   "execution_count": 302,
   "metadata": {},
   "outputs": [],
   "source": [
    "track_1 = '087097.mp3'\n",
    "track_2 = '126557.mp3'"
   ]
  },
  {
   "cell_type": "code",
   "execution_count": 303,
   "metadata": {},
   "outputs": [
    {
     "data": {
      "text/plain": [
       "array([0.37847317])"
      ]
     },
     "execution_count": 303,
     "metadata": {},
     "output_type": "execute_result"
    }
   ],
   "source": [
    "idx_1 = df_test_2[df_test_2.track == track_1].index[0]\n",
    "idx_2 = df_train_2[df_train_2.track == track_2].index[0]\n",
    "arr_1 = X_test[idx_1]\n",
    "arr_2 = X_train[idx_2]\n",
    "combo = np.hstack((arr_1, arr_2))\n",
    "lgbm.predict_proba([combo])[:,1]"
   ]
  },
  {
   "cell_type": "code",
   "execution_count": 176,
   "metadata": {},
   "outputs": [
    {
     "data": {
      "text/plain": [
       "1.0"
      ]
     },
     "execution_count": 176,
     "metadata": {},
     "output_type": "execute_result"
    }
   ],
   "source": [
    "tags_1 = main_dict[int(track_1[:-4])]['all_tags']\n",
    "tags_2 = main_dict[int(track_2[:-4])]['all_tags']\n",
    "intersection = set(tags_1) & set(tags_2)\n",
    "\n",
    "precision = len(intersection) / len(tags_1)\n",
    "recall = len(intersection) / len(tags_2)\n",
    "score = 2 * precision * recall / (precision + recall)\n",
    "score = round(score, 2)\n",
    "score"
   ]
  },
  {
   "cell_type": "code",
   "execution_count": 177,
   "metadata": {},
   "outputs": [
    {
     "data": {
      "text/plain": [
       "['idm',\n",
       " 'ambient',\n",
       " 'electronic',\n",
       " 'instrumental',\n",
       " 'chillout',\n",
       " 'electronica',\n",
       " 'post-rock',\n",
       " 'classic',\n",
       " 'electro',\n",
       " 'soundtrack']"
      ]
     },
     "execution_count": 177,
     "metadata": {},
     "output_type": "execute_result"
    }
   ],
   "source": [
    "tags_1"
   ]
  },
  {
   "cell_type": "code",
   "execution_count": 178,
   "metadata": {},
   "outputs": [
    {
     "data": {
      "text/plain": [
       "['idm',\n",
       " 'ambient',\n",
       " 'electronic',\n",
       " 'instrumental',\n",
       " 'chillout',\n",
       " 'electronica',\n",
       " 'post-rock',\n",
       " 'classic',\n",
       " 'electro',\n",
       " 'soundtrack']"
      ]
     },
     "execution_count": 178,
     "metadata": {},
     "output_type": "execute_result"
    }
   ],
   "source": [
    "tags_2"
   ]
  },
  {
   "cell_type": "code",
   "execution_count": null,
   "metadata": {},
   "outputs": [],
   "source": []
  },
  {
   "cell_type": "code",
   "execution_count": null,
   "metadata": {},
   "outputs": [],
   "source": []
  },
  {
   "cell_type": "code",
   "execution_count": 182,
   "metadata": {},
   "outputs": [],
   "source": [
    "result = list()\n",
    "for idx in main_dict:\n",
    "    if len(main_dict[idx]['similar_list']) > 0:\n",
    "        result.append(idx)"
   ]
  },
  {
   "cell_type": "code",
   "execution_count": 191,
   "metadata": {},
   "outputs": [
    {
     "data": {
      "text/plain": [
       "1138"
      ]
     },
     "execution_count": 191,
     "metadata": {},
     "output_type": "execute_result"
    }
   ],
   "source": [
    "len(result)"
   ]
  },
  {
   "cell_type": "code",
   "execution_count": 211,
   "metadata": {},
   "outputs": [
    {
     "data": {
      "text/plain": [
       "1"
      ]
     },
     "execution_count": 211,
     "metadata": {},
     "output_type": "execute_result"
    }
   ],
   "source": [
    "len(set(main_dict[534]['all_genres']) & set(main_dict[540]['all_genres']))"
   ]
  },
  {
   "cell_type": "code",
   "execution_count": 190,
   "metadata": {},
   "outputs": [
    {
     "data": {
      "text/plain": [
       "{'artist_name': 'Charles Manson',\n",
       " 'track_title': 'The Black Pirate',\n",
       " 'artist_tags': [('folk', '100'),\n",
       "  ('singer-songwriter', '58'),\n",
       "  ('psychedelic', '54'),\n",
       "  ('experimental', '36'),\n",
       "  ('misunderstood geniuses', '27'),\n",
       "  ('acoustic', '20'),\n",
       "  ('psychedelic folk', '12'),\n",
       "  ('serial killer', '9'),\n",
       "  ('american', '8'),\n",
       "  ('acid folk', '8')],\n",
       " 'track_tags': [('counter-culture', '100')],\n",
       " 'similar_tracks': [('Charles Manson', 'Brother Gun', 1.0),\n",
       "  ('Charles Manson', 'Angels Fear To Tread', 0.82),\n",
       "  ('Tim Buckley', 'No Man Can Find The War', 0.311),\n",
       "  ('Jasmina Maschina', 'Love You More & More', 0.012),\n",
       "  ('Jasmina Maschina', 'Joyrider', 0.012),\n",
       "  ('Ween', 'Duke of Denim', 0.012),\n",
       "  ('Damien Youth', 'Bride of the Asylum', 0.011),\n",
       "  ('Donovan', 'Cosmic Wheels', 0.011),\n",
       "  ('Damien Youth', 'The Girl With the Serpent Eyes', 0.011),\n",
       "  ('Damien Youth', 'Fran (Ex Left Banke - The Beckies Cover)', 0.011),\n",
       "  ('Damien Youth', 'The Telepath (Unreleased Track)', 0.011),\n",
       "  ('Damien Youth', 'Test Tube Jesus (Unreleased version)', 0.011),\n",
       "  ('Damien Youth', 'Son of God (Unreleased Band version)', 0.011),\n",
       "  ('Damien Youth', 'Iva Lang (Unreleased Track)', 0.011),\n",
       "  ('Damien Youth', 'Radio future?', 0.011),\n",
       "  ('Damien Youth', 'Great deeds', 0.011),\n",
       "  ('Damien Youth', 'Happy Death', 0.011),\n",
       "  ('Damien Youth', 'Radio spirit?', 0.011),\n",
       "  ('Judee Sill', 'The Lamb Ran Away With the Crown', 0.011),\n",
       "  ('Mick Softley', 'Gypsy', 0.011),\n",
       "  ('Mick Softley', \"You Go Your Way, I'll Go Mine\", 0.011),\n",
       "  ('Chriss Sutherland', 'My Mind Blues III', 0.011),\n",
       "  ('Rodriguez', 'Tequila (Boom Boom Version)', 0.011),\n",
       "  ('Rodriguez', \"You'd Like To Admit It (1967)\", 0.011),\n",
       "  ('Rodriguez', 'Borriquito (Flamenco Radio Mix)', 0.011),\n",
       "  ('Peter Yarrow', 'Day Is Done--Peter Yarrow', 0.011),\n",
       "  ('Loudon Wainwright III', 'Lullaby', 0.011),\n",
       "  ('Loudon Wainwright III', 'Motel Blues', 0.011),\n",
       "  ('Elyse Weinberg', 'The Shining One', 0.011),\n",
       "  ('Donovan', 'Beat Cafe', 0.011),\n",
       "  ('Elyse Weinberg', 'Break It Wide Open', 0.011),\n",
       "  ('Samara Lubelski', 'The Boy Who Bought the Cosmos', 0.011),\n",
       "  ('Tim Buckley', 'Introduction', 0.011),\n",
       "  ('Begushkin', \"King's Curse\", 0.011),\n",
       "  ('Begushkin', 'Gone To Hell', 0.011),\n",
       "  ('Iron & Wine', 'Godless Brother in Love', 0.011),\n",
       "  ('Eric Chenaux', 'Old Peculiar', 0.011),\n",
       "  ('The Singer Not The Song', 'Where are you going, Judas?', 0.011),\n",
       "  ('The Singer Not The Song', \"King's Cross Waltz\", 0.011),\n",
       "  ('Chriss Sutherland', 'JOLIE HOLLAND', 0.011),\n",
       "  ('Matt The Electrician', 'Crying', 0.011),\n",
       "  ('Matt The Electrician', 'Got Your Back', 0.011),\n",
       "  ('Simon & Garfunkel', 'A Poem on the Underground Wall (Demo)', 0.011),\n",
       "  ('Ed Askew', 'Little Infinite Love Song', 0.011),\n",
       "  ('Peter, Paul & Mary',\n",
       "   'Where Have All The Flowers Gone (Remastered LP Version)',\n",
       "   0.011),\n",
       "  ('Phil Ochs', 'The Passing of My Life', 0.011),\n",
       "  ('Elyse', 'What You Call It', 0.011),\n",
       "  ('Birch Book', 'Whisper In The Pine', 0.011),\n",
       "  ('Ellis Paul', 'River', 0.011),\n",
       "  ('Jackie Greene', 'Shaken', 0.011),\n",
       "  ('Jackie Greene', 'Uphill Mountain', 0.011),\n",
       "  ('Dan Bern', 'Hannibal', 0.011),\n",
       "  ('Gary Jules', 'Nothing', 0.011),\n",
       "  ('Korey Dane', 'little house on 1st street', 0.011),\n",
       "  ('Korey Dane', 'All of the West Side', 0.011),\n",
       "  ('Josh Ritter', 'Here at the Right Time', 0.011),\n",
       "  ('Peter Yarrow', \"Froggie Went A Courtin'\", 0.011),\n",
       "  ('Catherine Feeny', \"The Shape You're In\", 0.011),\n",
       "  ('Donovan', 'Car-Car Song', 0.011),\n",
       "  ('Donovan', 'Ne Ya', 0.011),\n",
       "  ('Donovan', 'Oh Deed I Give', 0.011),\n",
       "  ('Donovan', '[radio announcers]', 0.011),\n",
       "  ('Donovan', '[crowd/radio announcers]', 0.011),\n",
       "  ('Donovan', 'Slavic Mind', 0.011),\n",
       "  ('Donovan', 'Spearhead', 0.011),\n",
       "  ('Donovan', 'Hey Gyp (Dig The Slowness)(Bonus Track)', 0.011),\n",
       "  ('Donovan', 'Sidewalk (Demo)', 0.011),\n",
       "  ('Donovan', 'Fallen (Rynecologist remix)', 0.011),\n",
       "  ('Donovan', 'FX 1', 0.011),\n",
       "  ('Donovan', 'Fallen', 0.011),\n",
       "  ('Donovan', 'Wayzer', 0.011),\n",
       "  ('Donovan', 'FX 1 (Canblaster & Panteros666 remix)', 0.011),\n",
       "  ('Donovan', 'Days off Sorrow', 0.011),\n",
       "  ('Elvis Perkins', 'Teneme en Tu Corazón (Keep Me In Your Heart)', 0.011),\n",
       "  ('Phaedra', 'The Sea', 0.011),\n",
       "  ('Phaedra', 'Honeydewed Autumn', 0.011),\n",
       "  ('Samara Lubelski', 'All the Tired Horses', 0.011),\n",
       "  ('Phaedra', 'Holy Roller', 0.011),\n",
       "  ('Phaedra', 'Deep Street', 0.011),\n",
       "  ('dankennedy', 'Cyanide', 0.01),\n",
       "  ('Dino Valente', 'Everything Is Gonna Be OK', 0.01),\n",
       "  ('Dino Valente', 'Birdses', 0.01),\n",
       "  ('Richie Havens', 'Scarlet Flames', 0.01),\n",
       "  ('Richie Havens', \"I Don't Wanna Know\", 0.01),\n",
       "  ('Joshua James', 'Winter Storm', 0.01),\n",
       "  ('Nathaniel Rateliff', 'Nothing To Show For', 0.01),\n",
       "  ('Nathaniel Rateliff', 'All Or Nothing', 0.01),\n",
       "  ('Jess Klein', 'Make Love', 0.01),\n",
       "  ('Greg Graffin', 'Cold As The Clay', 0.01),\n",
       "  ('John Gorka', 'Outside', 0.01),\n",
       "  ('John Gorka', 'Shapes', 0.01),\n",
       "  ('Magpahi', 'Horses In The Night', 0.01),\n",
       "  ('Magpahi', 'Horses', 0.01),\n",
       "  ('Jonathan Wilson', 'Sing To You', 0.01),\n",
       "  ('Jonathan Wilson', 'Can We Really Party Today', 0.01)],\n",
       " 'similar_list': [],\n",
       " 'all_tags': ['folk',\n",
       "  'psychedelic',\n",
       "  'acid folk',\n",
       "  'american',\n",
       "  'experimental',\n",
       "  'counter-culture',\n",
       "  'acoustic',\n",
       "  'misunderstood geniuses',\n",
       "  'singer-songwriter',\n",
       "  'psychedelic folk',\n",
       "  'serial killer'],\n",
       " 'genre': 'Folk',\n",
       " 'all_genres': ['Folk']}"
      ]
     },
     "execution_count": 190,
     "metadata": {},
     "output_type": "execute_result"
    }
   ],
   "source": [
    "main_dict[540]"
   ]
  },
  {
   "cell_type": "code",
   "execution_count": 189,
   "metadata": {},
   "outputs": [
    {
     "name": "stdout",
     "output_type": "stream",
     "text": [
      "540\n"
     ]
    }
   ],
   "source": [
    "for idx in main_dict:\n",
    "    if main_dict[idx]['artist_name'] == 'Charles Manson' and main_dict[idx]['track_title'] == 'The Black Pirate':\n",
    "        print(idx)\n",
    "        break"
   ]
  },
  {
   "cell_type": "code",
   "execution_count": 111,
   "metadata": {},
   "outputs": [
    {
     "data": {
      "text/html": [
       "<div>\n",
       "<style scoped>\n",
       "    .dataframe tbody tr th:only-of-type {\n",
       "        vertical-align: middle;\n",
       "    }\n",
       "\n",
       "    .dataframe tbody tr th {\n",
       "        vertical-align: top;\n",
       "    }\n",
       "\n",
       "    .dataframe thead th {\n",
       "        text-align: right;\n",
       "    }\n",
       "</style>\n",
       "<table border=\"1\" class=\"dataframe\">\n",
       "  <thead>\n",
       "    <tr style=\"text-align: right;\">\n",
       "      <th></th>\n",
       "      <th>track</th>\n",
       "      <th>1_mfcc_1</th>\n",
       "      <th>1_mfcc_2</th>\n",
       "      <th>1_mfcc_3</th>\n",
       "      <th>1_mfcc_4</th>\n",
       "      <th>1_mfcc_5</th>\n",
       "      <th>1_mfcc_6</th>\n",
       "      <th>1_mfcc_7</th>\n",
       "      <th>1_mfcc_8</th>\n",
       "      <th>1_mfcc_9</th>\n",
       "      <th>...</th>\n",
       "      <th>all_ss_min</th>\n",
       "      <th>all_ss_std</th>\n",
       "      <th>all_sf_max</th>\n",
       "      <th>all_sf_mean</th>\n",
       "      <th>all_sf_min</th>\n",
       "      <th>all_sf_std</th>\n",
       "      <th>all_zcr_max</th>\n",
       "      <th>all_zcr_mean</th>\n",
       "      <th>all_zcr_min</th>\n",
       "      <th>all_zcr_std</th>\n",
       "    </tr>\n",
       "  </thead>\n",
       "  <tbody>\n",
       "    <tr>\n",
       "      <th>47</th>\n",
       "      <td>087097.mp3</td>\n",
       "      <td>-815.897278</td>\n",
       "      <td>330.361633</td>\n",
       "      <td>-24.059116</td>\n",
       "      <td>-18.602432</td>\n",
       "      <td>20.005129</td>\n",
       "      <td>-4.015804</td>\n",
       "      <td>-11.668517</td>\n",
       "      <td>-7.022644</td>\n",
       "      <td>-0.156837</td>\n",
       "      <td>...</td>\n",
       "      <td>2.436082</td>\n",
       "      <td>2.976102</td>\n",
       "      <td>0.252494</td>\n",
       "      <td>0.05244</td>\n",
       "      <td>0.012415</td>\n",
       "      <td>0.031541</td>\n",
       "      <td>0.037598</td>\n",
       "      <td>0.018503</td>\n",
       "      <td>0.005859</td>\n",
       "      <td>0.005123</td>\n",
       "    </tr>\n",
       "  </tbody>\n",
       "</table>\n",
       "<p>1 rows × 338 columns</p>\n",
       "</div>"
      ],
      "text/plain": [
       "         track    1_mfcc_1    1_mfcc_2   1_mfcc_3   1_mfcc_4   1_mfcc_5  \\\n",
       "47  087097.mp3 -815.897278  330.361633 -24.059116 -18.602432  20.005129   \n",
       "\n",
       "    1_mfcc_6   1_mfcc_7  1_mfcc_8  1_mfcc_9  ...  all_ss_min  all_ss_std  \\\n",
       "47 -4.015804 -11.668517 -7.022644 -0.156837  ...    2.436082    2.976102   \n",
       "\n",
       "    all_sf_max  all_sf_mean  all_sf_min  all_sf_std  all_zcr_max  \\\n",
       "47    0.252494      0.05244    0.012415    0.031541     0.037598   \n",
       "\n",
       "    all_zcr_mean  all_zcr_min  all_zcr_std  \n",
       "47      0.018503     0.005859     0.005123  \n",
       "\n",
       "[1 rows x 338 columns]"
      ]
     },
     "execution_count": 111,
     "metadata": {},
     "output_type": "execute_result"
    }
   ],
   "source": [
    "df_test_2[df_test_2.track == '087097.mp3']"
   ]
  },
  {
   "cell_type": "code",
   "execution_count": 109,
   "metadata": {},
   "outputs": [
    {
     "data": {
      "text/html": [
       "<div>\n",
       "<style scoped>\n",
       "    .dataframe tbody tr th:only-of-type {\n",
       "        vertical-align: middle;\n",
       "    }\n",
       "\n",
       "    .dataframe tbody tr th {\n",
       "        vertical-align: top;\n",
       "    }\n",
       "\n",
       "    .dataframe thead th {\n",
       "        text-align: right;\n",
       "    }\n",
       "</style>\n",
       "<table border=\"1\" class=\"dataframe\">\n",
       "  <thead>\n",
       "    <tr style=\"text-align: right;\">\n",
       "      <th></th>\n",
       "      <th>track</th>\n",
       "      <th>1_mfcc_1</th>\n",
       "      <th>1_mfcc_2</th>\n",
       "      <th>1_mfcc_3</th>\n",
       "      <th>1_mfcc_4</th>\n",
       "      <th>1_mfcc_5</th>\n",
       "      <th>1_mfcc_6</th>\n",
       "      <th>1_mfcc_7</th>\n",
       "      <th>1_mfcc_8</th>\n",
       "      <th>1_mfcc_9</th>\n",
       "      <th>...</th>\n",
       "      <th>all_ss_min</th>\n",
       "      <th>all_ss_std</th>\n",
       "      <th>all_sf_max</th>\n",
       "      <th>all_sf_mean</th>\n",
       "      <th>all_sf_min</th>\n",
       "      <th>all_sf_std</th>\n",
       "      <th>all_zcr_max</th>\n",
       "      <th>all_zcr_mean</th>\n",
       "      <th>all_zcr_min</th>\n",
       "      <th>all_zcr_std</th>\n",
       "    </tr>\n",
       "  </thead>\n",
       "  <tbody>\n",
       "    <tr>\n",
       "      <th>0</th>\n",
       "      <td>010673.mp3</td>\n",
       "      <td>-626.681091</td>\n",
       "      <td>132.151154</td>\n",
       "      <td>11.753740</td>\n",
       "      <td>45.711430</td>\n",
       "      <td>-0.209040</td>\n",
       "      <td>10.068515</td>\n",
       "      <td>-0.682384</td>\n",
       "      <td>5.395576</td>\n",
       "      <td>-4.435939</td>\n",
       "      <td>...</td>\n",
       "      <td>0.461337</td>\n",
       "      <td>0.281160</td>\n",
       "      <td>0.329500</td>\n",
       "      <td>0.124018</td>\n",
       "      <td>0.027167</td>\n",
       "      <td>0.045374</td>\n",
       "      <td>0.130859</td>\n",
       "      <td>0.031217</td>\n",
       "      <td>0.003418</td>\n",
       "      <td>0.019365</td>\n",
       "    </tr>\n",
       "    <tr>\n",
       "      <th>1</th>\n",
       "      <td>066643.mp3</td>\n",
       "      <td>-687.945374</td>\n",
       "      <td>141.427277</td>\n",
       "      <td>-16.972485</td>\n",
       "      <td>19.092112</td>\n",
       "      <td>6.906140</td>\n",
       "      <td>3.117708</td>\n",
       "      <td>6.967309</td>\n",
       "      <td>-2.045398</td>\n",
       "      <td>-7.208217</td>\n",
       "      <td>...</td>\n",
       "      <td>-0.111801</td>\n",
       "      <td>0.627290</td>\n",
       "      <td>0.380662</td>\n",
       "      <td>0.080697</td>\n",
       "      <td>0.000165</td>\n",
       "      <td>0.061523</td>\n",
       "      <td>0.282227</td>\n",
       "      <td>0.049509</td>\n",
       "      <td>0.002930</td>\n",
       "      <td>0.025951</td>\n",
       "    </tr>\n",
       "    <tr>\n",
       "      <th>2</th>\n",
       "      <td>000194.mp3</td>\n",
       "      <td>-782.241943</td>\n",
       "      <td>178.044266</td>\n",
       "      <td>-29.330959</td>\n",
       "      <td>18.219608</td>\n",
       "      <td>-14.123279</td>\n",
       "      <td>-10.458302</td>\n",
       "      <td>-16.387886</td>\n",
       "      <td>-5.279102</td>\n",
       "      <td>-16.686710</td>\n",
       "      <td>...</td>\n",
       "      <td>0.276664</td>\n",
       "      <td>0.634153</td>\n",
       "      <td>0.264619</td>\n",
       "      <td>0.043619</td>\n",
       "      <td>0.000129</td>\n",
       "      <td>0.038136</td>\n",
       "      <td>0.169922</td>\n",
       "      <td>0.037896</td>\n",
       "      <td>0.001953</td>\n",
       "      <td>0.017058</td>\n",
       "    </tr>\n",
       "    <tr>\n",
       "      <th>3</th>\n",
       "      <td>074421.mp3</td>\n",
       "      <td>-623.853394</td>\n",
       "      <td>122.672737</td>\n",
       "      <td>17.257471</td>\n",
       "      <td>4.505549</td>\n",
       "      <td>0.719744</td>\n",
       "      <td>-2.922961</td>\n",
       "      <td>-5.741470</td>\n",
       "      <td>-1.727011</td>\n",
       "      <td>-18.558123</td>\n",
       "      <td>...</td>\n",
       "      <td>0.421106</td>\n",
       "      <td>0.539590</td>\n",
       "      <td>0.264868</td>\n",
       "      <td>0.082399</td>\n",
       "      <td>0.007031</td>\n",
       "      <td>0.040712</td>\n",
       "      <td>0.224121</td>\n",
       "      <td>0.051835</td>\n",
       "      <td>0.009277</td>\n",
       "      <td>0.032241</td>\n",
       "    </tr>\n",
       "    <tr>\n",
       "      <th>4</th>\n",
       "      <td>131553.mp3</td>\n",
       "      <td>-645.512512</td>\n",
       "      <td>74.718880</td>\n",
       "      <td>12.483846</td>\n",
       "      <td>45.145756</td>\n",
       "      <td>38.911320</td>\n",
       "      <td>16.187067</td>\n",
       "      <td>6.199753</td>\n",
       "      <td>0.013115</td>\n",
       "      <td>-3.431449</td>\n",
       "      <td>...</td>\n",
       "      <td>0.100123</td>\n",
       "      <td>0.391042</td>\n",
       "      <td>0.335317</td>\n",
       "      <td>0.112432</td>\n",
       "      <td>0.000625</td>\n",
       "      <td>0.050604</td>\n",
       "      <td>0.271973</td>\n",
       "      <td>0.079668</td>\n",
       "      <td>0.008789</td>\n",
       "      <td>0.049538</td>\n",
       "    </tr>\n",
       "    <tr>\n",
       "      <th>...</th>\n",
       "      <td>...</td>\n",
       "      <td>...</td>\n",
       "      <td>...</td>\n",
       "      <td>...</td>\n",
       "      <td>...</td>\n",
       "      <td>...</td>\n",
       "      <td>...</td>\n",
       "      <td>...</td>\n",
       "      <td>...</td>\n",
       "      <td>...</td>\n",
       "      <td>...</td>\n",
       "      <td>...</td>\n",
       "      <td>...</td>\n",
       "      <td>...</td>\n",
       "      <td>...</td>\n",
       "      <td>...</td>\n",
       "      <td>...</td>\n",
       "      <td>...</td>\n",
       "      <td>...</td>\n",
       "      <td>...</td>\n",
       "      <td>...</td>\n",
       "    </tr>\n",
       "    <tr>\n",
       "      <th>95</th>\n",
       "      <td>025603.mp3</td>\n",
       "      <td>-705.887451</td>\n",
       "      <td>168.620865</td>\n",
       "      <td>34.891018</td>\n",
       "      <td>33.937485</td>\n",
       "      <td>15.525203</td>\n",
       "      <td>2.845042</td>\n",
       "      <td>-8.320030</td>\n",
       "      <td>2.128073</td>\n",
       "      <td>10.097413</td>\n",
       "      <td>...</td>\n",
       "      <td>0.422947</td>\n",
       "      <td>1.021024</td>\n",
       "      <td>0.493078</td>\n",
       "      <td>0.113007</td>\n",
       "      <td>0.003961</td>\n",
       "      <td>0.076067</td>\n",
       "      <td>0.147949</td>\n",
       "      <td>0.026009</td>\n",
       "      <td>0.002441</td>\n",
       "      <td>0.020538</td>\n",
       "    </tr>\n",
       "    <tr>\n",
       "      <th>96</th>\n",
       "      <td>075417.mp3</td>\n",
       "      <td>-637.247192</td>\n",
       "      <td>73.643715</td>\n",
       "      <td>17.631123</td>\n",
       "      <td>33.222134</td>\n",
       "      <td>11.122272</td>\n",
       "      <td>9.398943</td>\n",
       "      <td>12.663881</td>\n",
       "      <td>11.582001</td>\n",
       "      <td>10.201411</td>\n",
       "      <td>...</td>\n",
       "      <td>0.267713</td>\n",
       "      <td>0.341603</td>\n",
       "      <td>0.467992</td>\n",
       "      <td>0.120776</td>\n",
       "      <td>0.001821</td>\n",
       "      <td>0.087565</td>\n",
       "      <td>0.348633</td>\n",
       "      <td>0.081037</td>\n",
       "      <td>0.009766</td>\n",
       "      <td>0.044586</td>\n",
       "    </tr>\n",
       "    <tr>\n",
       "      <th>97</th>\n",
       "      <td>125154.mp3</td>\n",
       "      <td>-694.168884</td>\n",
       "      <td>92.781448</td>\n",
       "      <td>59.304184</td>\n",
       "      <td>42.092861</td>\n",
       "      <td>12.254707</td>\n",
       "      <td>19.374973</td>\n",
       "      <td>4.323670</td>\n",
       "      <td>7.782975</td>\n",
       "      <td>-5.282559</td>\n",
       "      <td>...</td>\n",
       "      <td>-0.067733</td>\n",
       "      <td>0.774724</td>\n",
       "      <td>0.482886</td>\n",
       "      <td>0.110169</td>\n",
       "      <td>0.003097</td>\n",
       "      <td>0.075931</td>\n",
       "      <td>0.317871</td>\n",
       "      <td>0.064865</td>\n",
       "      <td>0.002441</td>\n",
       "      <td>0.054606</td>\n",
       "    </tr>\n",
       "    <tr>\n",
       "      <th>98</th>\n",
       "      <td>075436.mp3</td>\n",
       "      <td>-800.051819</td>\n",
       "      <td>241.068558</td>\n",
       "      <td>40.636051</td>\n",
       "      <td>-0.057632</td>\n",
       "      <td>6.397528</td>\n",
       "      <td>-18.648108</td>\n",
       "      <td>-1.818632</td>\n",
       "      <td>3.204657</td>\n",
       "      <td>-0.186070</td>\n",
       "      <td>...</td>\n",
       "      <td>0.923011</td>\n",
       "      <td>1.546881</td>\n",
       "      <td>1.210505</td>\n",
       "      <td>0.112725</td>\n",
       "      <td>0.010022</td>\n",
       "      <td>0.145565</td>\n",
       "      <td>0.138184</td>\n",
       "      <td>0.015291</td>\n",
       "      <td>0.000488</td>\n",
       "      <td>0.012997</td>\n",
       "    </tr>\n",
       "    <tr>\n",
       "      <th>99</th>\n",
       "      <td>063655.mp3</td>\n",
       "      <td>-758.179688</td>\n",
       "      <td>233.961899</td>\n",
       "      <td>28.287888</td>\n",
       "      <td>11.515189</td>\n",
       "      <td>6.204473</td>\n",
       "      <td>16.416714</td>\n",
       "      <td>-10.615239</td>\n",
       "      <td>0.827990</td>\n",
       "      <td>5.827968</td>\n",
       "      <td>...</td>\n",
       "      <td>1.715050</td>\n",
       "      <td>0.839399</td>\n",
       "      <td>1.088153</td>\n",
       "      <td>0.082296</td>\n",
       "      <td>0.024415</td>\n",
       "      <td>0.079127</td>\n",
       "      <td>0.032227</td>\n",
       "      <td>0.012229</td>\n",
       "      <td>0.000488</td>\n",
       "      <td>0.004685</td>\n",
       "    </tr>\n",
       "  </tbody>\n",
       "</table>\n",
       "<p>100 rows × 338 columns</p>\n",
       "</div>"
      ],
      "text/plain": [
       "         track    1_mfcc_1    1_mfcc_2   1_mfcc_3   1_mfcc_4   1_mfcc_5  \\\n",
       "0   010673.mp3 -626.681091  132.151154  11.753740  45.711430  -0.209040   \n",
       "1   066643.mp3 -687.945374  141.427277 -16.972485  19.092112   6.906140   \n",
       "2   000194.mp3 -782.241943  178.044266 -29.330959  18.219608 -14.123279   \n",
       "3   074421.mp3 -623.853394  122.672737  17.257471   4.505549   0.719744   \n",
       "4   131553.mp3 -645.512512   74.718880  12.483846  45.145756  38.911320   \n",
       "..         ...         ...         ...        ...        ...        ...   \n",
       "95  025603.mp3 -705.887451  168.620865  34.891018  33.937485  15.525203   \n",
       "96  075417.mp3 -637.247192   73.643715  17.631123  33.222134  11.122272   \n",
       "97  125154.mp3 -694.168884   92.781448  59.304184  42.092861  12.254707   \n",
       "98  075436.mp3 -800.051819  241.068558  40.636051  -0.057632   6.397528   \n",
       "99  063655.mp3 -758.179688  233.961899  28.287888  11.515189   6.204473   \n",
       "\n",
       "     1_mfcc_6   1_mfcc_7   1_mfcc_8   1_mfcc_9  ...  all_ss_min  all_ss_std  \\\n",
       "0   10.068515  -0.682384   5.395576  -4.435939  ...    0.461337    0.281160   \n",
       "1    3.117708   6.967309  -2.045398  -7.208217  ...   -0.111801    0.627290   \n",
       "2  -10.458302 -16.387886  -5.279102 -16.686710  ...    0.276664    0.634153   \n",
       "3   -2.922961  -5.741470  -1.727011 -18.558123  ...    0.421106    0.539590   \n",
       "4   16.187067   6.199753   0.013115  -3.431449  ...    0.100123    0.391042   \n",
       "..        ...        ...        ...        ...  ...         ...         ...   \n",
       "95   2.845042  -8.320030   2.128073  10.097413  ...    0.422947    1.021024   \n",
       "96   9.398943  12.663881  11.582001  10.201411  ...    0.267713    0.341603   \n",
       "97  19.374973   4.323670   7.782975  -5.282559  ...   -0.067733    0.774724   \n",
       "98 -18.648108  -1.818632   3.204657  -0.186070  ...    0.923011    1.546881   \n",
       "99  16.416714 -10.615239   0.827990   5.827968  ...    1.715050    0.839399   \n",
       "\n",
       "    all_sf_max  all_sf_mean  all_sf_min  all_sf_std  all_zcr_max  \\\n",
       "0     0.329500     0.124018    0.027167    0.045374     0.130859   \n",
       "1     0.380662     0.080697    0.000165    0.061523     0.282227   \n",
       "2     0.264619     0.043619    0.000129    0.038136     0.169922   \n",
       "3     0.264868     0.082399    0.007031    0.040712     0.224121   \n",
       "4     0.335317     0.112432    0.000625    0.050604     0.271973   \n",
       "..         ...          ...         ...         ...          ...   \n",
       "95    0.493078     0.113007    0.003961    0.076067     0.147949   \n",
       "96    0.467992     0.120776    0.001821    0.087565     0.348633   \n",
       "97    0.482886     0.110169    0.003097    0.075931     0.317871   \n",
       "98    1.210505     0.112725    0.010022    0.145565     0.138184   \n",
       "99    1.088153     0.082296    0.024415    0.079127     0.032227   \n",
       "\n",
       "    all_zcr_mean  all_zcr_min  all_zcr_std  \n",
       "0       0.031217     0.003418     0.019365  \n",
       "1       0.049509     0.002930     0.025951  \n",
       "2       0.037896     0.001953     0.017058  \n",
       "3       0.051835     0.009277     0.032241  \n",
       "4       0.079668     0.008789     0.049538  \n",
       "..           ...          ...          ...  \n",
       "95      0.026009     0.002441     0.020538  \n",
       "96      0.081037     0.009766     0.044586  \n",
       "97      0.064865     0.002441     0.054606  \n",
       "98      0.015291     0.000488     0.012997  \n",
       "99      0.012229     0.000488     0.004685  \n",
       "\n",
       "[100 rows x 338 columns]"
      ]
     },
     "execution_count": 109,
     "metadata": {},
     "output_type": "execute_result"
    }
   ],
   "source": [
    "df_test_2"
   ]
  },
  {
   "cell_type": "code",
   "execution_count": 84,
   "metadata": {},
   "outputs": [
    {
     "data": {
      "text/plain": [
       "array([[-7.74647705e+02,  1.26531204e+02,  1.43112164e+01,\n",
       "         1.14453869e+01, -8.95931244e+00, -9.55889320e+00,\n",
       "        -1.35218897e+01,  2.28147745e+00,  1.78788033e+01,\n",
       "         7.60553885e+00,  6.46068764e+00,  5.74957466e+00,\n",
       "         2.95985079e+00,  4.32843555e+03,  1.02788281e+03,\n",
       "         1.08554832e+02,  9.14352112e+02,  1.19996819e+02,\n",
       "         1.40324879e+01, -1.35242832e+00,  1.88848228e+01,\n",
       "         1.13695312e+04,  1.68837732e+03,  8.61328125e+01,\n",
       "         2.64714722e+03,  9.10147858e+00,  2.54628015e+00,\n",
       "         4.16384824e-02,  1.58443892e+00,  3.64557415e-01,\n",
       "         7.18303695e-02,  6.19487313e-04,  7.85310268e-02,\n",
       "         3.59863281e-01,  5.66855259e-02,  2.44140625e-03,\n",
       "         6.01763166e-02, -8.02175903e+02,  1.36923691e+02,\n",
       "         2.09778728e+01,  2.03402443e+01,  2.40463424e+00,\n",
       "         6.60363150e+00,  4.70998526e+00,  1.70874729e+01,\n",
       "         2.93335152e+01,  1.52756615e+01,  3.09140229e+00,\n",
       "        -4.18995047e+00, -4.08248231e-03,  3.83288086e+03,\n",
       "         9.27881042e+02,  1.20879173e+02,  7.97208679e+02,\n",
       "         8.48578415e+01,  1.22790804e+01, -2.66991377e-01,\n",
       "         1.43941631e+01,  9.00087891e+03,  1.16551550e+03,\n",
       "         8.61328125e+01,  1.81028174e+03,  7.84780502e+00,\n",
       "         2.49319339e+00,  6.51308239e-01,  1.31867266e+00,\n",
       "         2.63026744e-01,  5.00130169e-02,  1.46052323e-03,\n",
       "         5.82804233e-02,  1.69921875e-01,  4.10492979e-02,\n",
       "         2.92968750e-03,  3.66450921e-02, -8.04397461e+02,\n",
       "         1.29418152e+02,  3.51322670e+01,  2.75383320e+01,\n",
       "        -7.97988117e-01,  4.91665697e+00,  7.66467857e+00,\n",
       "         2.57366085e+01,  3.94292984e+01,  1.40669508e+01,\n",
       "        -4.23120308e+00, -6.86283207e+00, -7.09716606e+00,\n",
       "         3.26499463e+03,  8.96017334e+02,  1.14676666e+02,\n",
       "         7.41068237e+02,  1.03300125e+02,  1.48340359e+01,\n",
       "        -3.38033676e-01,  1.98144646e+01,  9.49614258e+03,\n",
       "         1.13061731e+03,  1.07666016e+02,  1.85773596e+03,\n",
       "         8.44008255e+00,  2.68021226e+00,  6.31851137e-01,\n",
       "         1.65440083e+00,  3.19236904e-01,  6.03751317e-02,\n",
       "         5.43497177e-03,  7.22903982e-02,  1.81640625e-01,\n",
       "         3.86555977e-02,  3.41796875e-03,  3.69952135e-02,\n",
       "        -7.45410950e+02,  1.46857620e+02,  7.71288204e+00,\n",
       "         7.20489693e+00, -5.73023856e-01,  5.04810762e+00,\n",
       "         1.98350751e+00,  1.30570965e+01,  2.63864670e+01,\n",
       "         1.57464905e+01,  5.71754980e+00, -2.61280537e+00,\n",
       "         3.19754386e+00,  4.13584033e+03,  9.33205811e+02,\n",
       "         1.29625443e+02,  6.99195740e+02,  1.10120186e+02,\n",
       "         1.39033079e+01, -4.92667198e-01,  1.69319954e+01,\n",
       "         1.02282715e+04,  1.21773975e+03,  8.61328125e+01,\n",
       "         2.01444092e+03,  7.61223125e+00,  2.59740686e+00,\n",
       "         6.32871568e-01,  1.39134204e+00,  3.69615644e-01,\n",
       "         6.81689531e-02,  3.90351261e-03,  7.47796297e-02,\n",
       "         2.19238281e-01,  4.42680269e-02,  2.44140625e-03,\n",
       "         3.79948951e-02, -8.41519653e+02,  1.19528389e+02,\n",
       "         4.59421539e+01,  3.10706692e+01, -1.20904639e-01,\n",
       "         5.38775015e+00,  5.97867298e+00,  2.53039055e+01,\n",
       "         3.81048317e+01,  1.24848814e+01, -2.53772926e+00,\n",
       "        -8.34154320e+00, -1.01099186e+01,  3.94099927e+03,\n",
       "         8.48052795e+02,  1.14013901e+02,  8.24256165e+02,\n",
       "         1.15920494e+02,  1.33868322e+01, -1.23485959e+00,\n",
       "         1.93763866e+01,  1.06589355e+04,  1.10673340e+03,\n",
       "         8.61328125e+01,  2.19094580e+03,  8.46048546e+00,\n",
       "         2.58878970e+00,  4.43312287e-01,  1.68023872e+00,\n",
       "         2.57575750e-01,  5.04260287e-02,  1.37693249e-03,\n",
       "         5.83269298e-02,  2.73925781e-01,  3.92364860e-02,\n",
       "         4.88281250e-04,  4.30450551e-02, -7.54965149e+02,\n",
       "         1.55815140e+02,  1.88764420e+01,  1.00988169e+01,\n",
       "        -4.87799025e+00, -1.09166336e+00, -6.18702316e+00,\n",
       "         4.46407604e+00,  2.04085674e+01,  1.48626986e+01,\n",
       "         1.06232052e+01,  2.24166632e+00,  2.89727259e+00,\n",
       "         3.69633813e+03,  8.13180786e+02,  2.21260910e+02,\n",
       "         6.04946960e+02,  8.63238144e+01,  1.60275898e+01,\n",
       "        -3.17743063e-01,  1.75801353e+01,  1.00775391e+04,\n",
       "         1.09138708e+03,  8.61328125e+01,  1.84129248e+03,\n",
       "         7.79713583e+00,  2.84328294e+00,  6.13185406e-01,\n",
       "         1.49615204e+00,  3.28937262e-01,  6.28334880e-02,\n",
       "         3.47110117e-03,  6.66241795e-02,  2.01660156e-01,\n",
       "         3.99240069e-02,  2.44140625e-03,  3.54190394e-02,\n",
       "        -8.32781860e+02,  1.13690140e+02,  3.77761993e+01,\n",
       "         2.78479176e+01, -4.81176913e-01,  5.29124451e+00,\n",
       "         5.36077547e+00,  2.44590855e+01,  3.98140373e+01,\n",
       "         1.62932911e+01, -9.75976288e-01, -7.54590988e+00,\n",
       "        -7.36654902e+00,  3.81669385e+03,  9.23906616e+02,\n",
       "         1.19197578e+02,  7.97890137e+02,  1.19925034e+02,\n",
       "         1.09368143e+01, -3.73797655e-01,  1.66437931e+01,\n",
       "         1.02067383e+04,  1.21650354e+03,  8.61328125e+01,\n",
       "         2.15903125e+03,  9.09699726e+00,  2.33113980e+00,\n",
       "         6.01067305e-01,  1.47233844e+00,  2.84622937e-01,\n",
       "         5.17937355e-02,  9.65783605e-04,  6.56318590e-02,\n",
       "         1.87500000e-01,  4.26712930e-02,  4.88281250e-04,\n",
       "         4.02515270e-02, -7.74769287e+02,  1.35783798e+02,\n",
       "         5.20986557e+01,  3.07298164e+01, -9.17999446e-01,\n",
       "         1.03375540e+01, -5.93937516e-01,  1.74333453e+00,\n",
       "         1.45731440e+01,  9.16437626e+00,  9.51349163e+00,\n",
       "         2.39529681e+00, -1.94788468e+00,  3.66491235e+03,\n",
       "         7.62621155e+02,  1.08418472e+02,  8.19057861e+02,\n",
       "         1.01213196e+02,  1.25391054e+01, -2.79309988e-01,\n",
       "         1.71429272e+01,  1.00990723e+04,  1.14199414e+03,\n",
       "         1.07666016e+02,  2.20198706e+03,  8.40118217e+00,\n",
       "         2.57440305e+00,  5.74510038e-01,  1.61195409e+00,\n",
       "         4.71893102e-01,  8.09899271e-02,  2.54301797e-03,\n",
       "         9.16079208e-02,  2.03125000e-01,  4.05051485e-02,\n",
       "         2.44140625e-03,  4.80947383e-02,  5.20000000e+01,\n",
       "         1.05944366e+02,  5.16263962e+00,  2.02358627e+00,\n",
       "        -7.79307739e+02,  1.33275497e+02,  2.76428165e+01,\n",
       "         2.02069035e+01, -1.86499727e+00,  2.98137522e+00,\n",
       "         8.10454071e-01,  1.52523928e+01,  2.93894272e+01,\n",
       "         1.35259504e+01,  3.12772703e+00, -2.76124167e+00,\n",
       "        -2.23336720e+00,  4.32843115e+03,  8.99242859e+02,\n",
       "         1.08554375e+02,  7.81374084e+02,  1.35699081e+02,\n",
       "         1.34538603e+01, -1.35242772e+00,  1.73094254e+01,\n",
       "         1.13479980e+04,  1.20557690e+03,  8.61328125e+01,\n",
       "         2.08234619e+03,  9.33219337e+00,  2.57608557e+00,\n",
       "         4.16365005e-02,  1.51967394e+00,  4.25652593e-01,\n",
       "         6.62154928e-02,  5.82764798e-04,  7.65433460e-02,\n",
       "         3.59863281e-01,  4.34253328e-02,  1.46484375e-03,\n",
       "         4.32823189e-02]])"
      ]
     },
     "execution_count": 84,
     "metadata": {},
     "output_type": "execute_result"
    }
   ],
   "source": [
    "df_train[df_train.track == '081512.mp3'].drop(columns=['track']).values"
   ]
  },
  {
   "cell_type": "code",
   "execution_count": null,
   "metadata": {},
   "outputs": [],
   "source": []
  },
  {
   "cell_type": "code",
   "execution_count": 39,
   "metadata": {},
   "outputs": [
    {
     "data": {
      "text/plain": [
       "{'abstract',\n",
       " 'abstract hip hop',\n",
       " 'braindance',\n",
       " 'breakbeat',\n",
       " 'breakcore',\n",
       " 'drum & bass',\n",
       " 'dubstep',\n",
       " 'electronic',\n",
       " 'electronica',\n",
       " 'glitch',\n",
       " 'idm',\n",
       " 'under 2000 listeners'}"
      ]
     },
     "execution_count": 39,
     "metadata": {},
     "output_type": "execute_result"
    }
   ],
   "source": [
    "a = main_dict[84096]['all_tags']\n",
    "b = main_dict[136994]['all_tags']\n",
    "set(a) & set(a)"
   ]
  },
  {
   "cell_type": "code",
   "execution_count": null,
   "metadata": {},
   "outputs": [],
   "source": []
  }
 ],
 "metadata": {
  "kernelspec": {
   "display_name": "dp_project",
   "language": "python",
   "name": "venv"
  },
  "language_info": {
   "codemirror_mode": {
    "name": "ipython",
    "version": 3
   },
   "file_extension": ".py",
   "mimetype": "text/x-python",
   "name": "python",
   "nbconvert_exporter": "python",
   "pygments_lexer": "ipython3",
   "version": "3.6.9"
  }
 },
 "nbformat": 4,
 "nbformat_minor": 2
}
