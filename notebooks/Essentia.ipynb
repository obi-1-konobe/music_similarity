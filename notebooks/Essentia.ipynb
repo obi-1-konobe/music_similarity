{
 "cells": [
  {
   "cell_type": "code",
   "execution_count": 102,
   "metadata": {},
   "outputs": [],
   "source": [
    "import essentia\n",
    "import essentia.standard as es\n",
    "from time import time\n",
    "import pickle\n",
    "import json\n",
    "import os"
   ]
  },
  {
   "cell_type": "code",
   "execution_count": 38,
   "metadata": {},
   "outputs": [],
   "source": [
    "features, features_frames = es.MusicExtractor(lowlevelStats=['mean', 'stdev'],startTime=26, endTime=30)('../data/fma_small/000/000002.mp3')"
   ]
  },
  {
   "cell_type": "code",
   "execution_count": 39,
   "metadata": {},
   "outputs": [
    {
     "data": {
      "text/plain": [
       "-638.92267"
      ]
     },
     "execution_count": 39,
     "metadata": {},
     "output_type": "execute_result"
    }
   ],
   "source": [
    "features['lowlevel.mfcc.mean'][0]"
   ]
  },
  {
   "cell_type": "code",
   "execution_count": 40,
   "metadata": {},
   "outputs": [
    {
     "data": {
      "text/plain": [
       "(173, 13)"
      ]
     },
     "execution_count": 40,
     "metadata": {},
     "output_type": "execute_result"
    }
   ],
   "source": [
    "features_frames['lowlevel.mfcc'].shape"
   ]
  },
  {
   "cell_type": "code",
   "execution_count": 24,
   "metadata": {},
   "outputs": [
    {
     "data": {
      "text/plain": [
       "164.47596740722656"
      ]
     },
     "execution_count": 24,
     "metadata": {},
     "output_type": "execute_result"
    }
   ],
   "source": [
    "features['rhythm.bpm']"
   ]
  },
  {
   "cell_type": "code",
   "execution_count": 8,
   "metadata": {},
   "outputs": [
    {
     "data": {
      "text/plain": [
       "array([ 0.67337865,  1.3583673 ,  2.043356  ,  2.7399547 ,  3.4249432 ,\n",
       "        4.121542  ,  4.8181405 ,  5.526349  ,  6.2461677 ,  6.9659863 ,\n",
       "        7.685805  ,  8.405623  ,  9.137052  ,  9.868481  , 10.588299  ,\n",
       "       11.308118  , 12.027936  , 12.747755  , 13.467573  , 14.187392  ,\n",
       "       14.91882   , 15.638639  , 16.370068  , 17.089886  , 17.809706  ,\n",
       "       18.529524  , 19.249342  , 19.98077   , 20.712198  , 21.432018  ,\n",
       "       22.151836  , 22.871655  , 23.591473  , 24.311293  , 25.03111   ,\n",
       "       25.762539  , 26.493967  , 27.213787  , 27.933605  , 28.653423  ,\n",
       "       29.373241  ], dtype=float32)"
      ]
     },
     "execution_count": 8,
     "metadata": {},
     "output_type": "execute_result"
    }
   ],
   "source": [
    "features['rhythm.beats_position']"
   ]
  },
  {
   "cell_type": "code",
   "execution_count": 9,
   "metadata": {},
   "outputs": [
    {
     "data": {
      "text/plain": [
       "'C'"
      ]
     },
     "execution_count": 9,
     "metadata": {},
     "output_type": "execute_result"
    }
   ],
   "source": [
    "features['tonal.key_edma.key']"
   ]
  },
  {
   "cell_type": "code",
   "execution_count": 10,
   "metadata": {},
   "outputs": [
    {
     "data": {
      "text/plain": [
       "'minor'"
      ]
     },
     "execution_count": 10,
     "metadata": {},
     "output_type": "execute_result"
    }
   ],
   "source": [
    "features['tonal.key_edma.scale']"
   ]
  },
  {
   "cell_type": "code",
   "execution_count": 44,
   "metadata": {},
   "outputs": [
    {
     "data": {
      "text/plain": [
       "[4, 8, 12, 16, 20, 24, 28, 32]"
      ]
     },
     "execution_count": 44,
     "metadata": {},
     "output_type": "execute_result"
    }
   ],
   "source": [
    "list(range(4, 33, 4))"
   ]
  },
  {
   "cell_type": "code",
   "execution_count": 48,
   "metadata": {},
   "outputs": [
    {
     "name": "stdout",
     "output_type": "stream",
     "text": [
      "[-782.24194    178.04427    -29.33096     18.219608   -14.123279\n",
      "  -10.458302   -16.387886    -5.279102   -16.68671     -5.5704045\n",
      "  -12.179911    -8.721708    -8.576142 ] \n",
      "\n",
      "[-7.3960785e+02  1.6433290e+02 -2.9829983e+01  2.2564503e+01\n",
      " -1.6886063e+01  5.7645869e-01 -1.8423183e+01 -4.1991863e+00\n",
      " -1.6359388e+01 -1.6037829e+00 -1.3481624e+01 -8.6878595e+00\n",
      " -8.3690863e+00] \n",
      "\n",
      "[-7.5497327e+02  1.6216634e+02 -3.2188164e+01  2.1275850e+01\n",
      " -1.3377007e+01 -1.1823744e+00 -1.5949624e+01 -7.3852005e+00\n",
      " -1.5537603e+01 -1.9926023e-01 -1.3446214e+01 -7.1635923e+00\n",
      " -3.4603844e+00] \n",
      "\n",
      "[-693.18866    157.68295    -28.537563    18.657686   -16.641008\n",
      "   -2.2618816  -23.568048    -6.1789517  -17.609562    -7.902905\n",
      "  -11.860891    -7.0216227   -1.9019995] \n",
      "\n",
      "[-689.8773     163.03923    -28.827768    25.054117   -17.42305\n",
      "   -5.6239815  -12.404603    -3.9681904  -13.636511    -4.8980703\n",
      "  -14.106862    -4.407666    -3.4345865] \n",
      "\n",
      "[-6.6739746e+02  1.6163048e+02 -2.4296829e+01  1.9346067e+01\n",
      " -1.8507528e+01 -4.4911890e+00 -1.9842995e+01 -1.8294243e+00\n",
      " -1.9166035e+01 -4.9837618e+00 -1.4039747e+01 -7.1147566e+00\n",
      " -6.1530030e-01] \n",
      "\n",
      "[-724.1465     181.78842    -33.66721     24.441639   -19.947584\n",
      "   -8.203675   -15.889692    -6.8662515  -19.795334    -9.092789\n",
      "  -12.5946665   -7.032051   -11.780298 ] \n",
      "\n",
      "[-769.3355     158.65265    -22.20933     20.140495   -12.302606\n",
      "   -5.561876   -15.021091    -7.3065615  -13.372364    -9.140371\n",
      "  -12.98532     -8.632923   -11.46738  ] \n",
      "\n",
      "-4.277632713317871\n"
     ]
    }
   ],
   "source": [
    "a = time()\n",
    "for i in range(4, 33, 4):\n",
    "    start = i - 4\n",
    "    end = i\n",
    "    features, features_frames = es.MusicExtractor(\n",
    "        lowlevelStats=['mean', 'stdev'],\n",
    "        startTime=start, \n",
    "        endTime=end\n",
    "    )('../data/fma_small/000/000194.mp3')\n",
    "    print(features['lowlevel.mfcc.mean'], '\\n')\n",
    "    \n",
    "b = time()\n",
    "print(a - b)"
   ]
  },
  {
   "cell_type": "code",
   "execution_count": 55,
   "metadata": {},
   "outputs": [
    {
     "data": {
      "text/plain": [
       "0.7087987065315247"
      ]
     },
     "execution_count": 55,
     "metadata": {},
     "output_type": "execute_result"
    }
   ],
   "source": [
    "features['rhythm.danceability']"
   ]
  },
  {
   "cell_type": "code",
   "execution_count": 83,
   "metadata": {},
   "outputs": [],
   "source": [
    "outputFrames=0\n",
    "outputFormat='json'\n",
    "features, features_frames = es.MusicExtractor(\n",
    "        lowlevelStats=['mean', 'stdev', 'min', 'max'],\n",
    "        \n",
    "#         startTime=start, \n",
    "#         endTime=end\n",
    "    )('../data/fma_small/000/000194.mp3')\n"
   ]
  },
  {
   "cell_type": "code",
   "execution_count": 84,
   "metadata": {},
   "outputs": [
    {
     "ename": "TypeError",
     "evalue": "can't pickle essentia.Pool objects",
     "output_type": "error",
     "traceback": [
      "\u001b[0;31m---------------------------------------------------------------------------\u001b[0m",
      "\u001b[0;31mTypeError\u001b[0m                                 Traceback (most recent call last)",
      "\u001b[0;32m<ipython-input-84-ddf967fc7417>\u001b[0m in \u001b[0;36m<module>\u001b[0;34m\u001b[0m\n\u001b[1;32m      1\u001b[0m \u001b[0;32mwith\u001b[0m \u001b[0mopen\u001b[0m\u001b[0;34m(\u001b[0m\u001b[0;34m'1.pickle'\u001b[0m\u001b[0;34m,\u001b[0m \u001b[0;34m'wb'\u001b[0m\u001b[0;34m)\u001b[0m \u001b[0;32mas\u001b[0m \u001b[0mf\u001b[0m\u001b[0;34m:\u001b[0m\u001b[0;34m\u001b[0m\u001b[0;34m\u001b[0m\u001b[0m\n\u001b[0;32m----> 2\u001b[0;31m     \u001b[0mpickle\u001b[0m\u001b[0;34m.\u001b[0m\u001b[0mdump\u001b[0m\u001b[0;34m(\u001b[0m\u001b[0mfeatures\u001b[0m\u001b[0;34m,\u001b[0m \u001b[0mf\u001b[0m\u001b[0;34m)\u001b[0m\u001b[0;34m\u001b[0m\u001b[0;34m\u001b[0m\u001b[0m\n\u001b[0m",
      "\u001b[0;31mTypeError\u001b[0m: can't pickle essentia.Pool objects"
     ]
    }
   ],
   "source": [
    "with open('1.pickle', 'wb') as f:\n",
    "    pickle.dump(features, f)"
   ]
  },
  {
   "cell_type": "code",
   "execution_count": 93,
   "metadata": {},
   "outputs": [],
   "source": [
    "from essentia.standard import YamlOutput\n",
    "output = YamlOutput(filename = 'mfcc.sig')"
   ]
  },
  {
   "cell_type": "code",
   "execution_count": 94,
   "metadata": {},
   "outputs": [],
   "source": [
    "output(features)"
   ]
  },
  {
   "cell_type": "code",
   "execution_count": 108,
   "metadata": {},
   "outputs": [
    {
     "ename": "ValueError",
     "evalue": "YamlOutput.compute requires 1 argument(s), 2 given",
     "output_type": "error",
     "traceback": [
      "\u001b[0;31m---------------------------------------------------------------------------\u001b[0m",
      "\u001b[0;31mValueError\u001b[0m                                Traceback (most recent call last)",
      "\u001b[0;32m<ipython-input-108-8cb70c5da6d3>\u001b[0m in \u001b[0;36m<module>\u001b[0;34m\u001b[0m\n\u001b[0;32m----> 1\u001b[0;31m \u001b[0mYamlOutput\u001b[0m\u001b[0;34m(\u001b[0m\u001b[0mfilename\u001b[0m\u001b[0;34m=\u001b[0m\u001b[0;34m'mfcc.json'\u001b[0m\u001b[0;34m,\u001b[0m \u001b[0mformat\u001b[0m\u001b[0;34m=\u001b[0m\u001b[0;34m\"json\"\u001b[0m\u001b[0;34m)\u001b[0m\u001b[0;34m(\u001b[0m\u001b[0mfeatures\u001b[0m\u001b[0;34m,\u001b[0m \u001b[0mfeatures\u001b[0m\u001b[0;34m)\u001b[0m\u001b[0;34m\u001b[0m\u001b[0;34m\u001b[0m\u001b[0m\n\u001b[0m",
      "\u001b[0;32m~/projects/mag/dp/dp_project/venv/lib/python3.6/site-packages/essentia/standard.py\u001b[0m in \u001b[0;36m__call__\u001b[0;34m(self, *args)\u001b[0m\n\u001b[1;32m    121\u001b[0m \u001b[0;34m\u001b[0m\u001b[0m\n\u001b[1;32m    122\u001b[0m         \u001b[0;32mdef\u001b[0m \u001b[0m__call__\u001b[0m\u001b[0;34m(\u001b[0m\u001b[0mself\u001b[0m\u001b[0;34m,\u001b[0m \u001b[0;34m*\u001b[0m\u001b[0margs\u001b[0m\u001b[0;34m)\u001b[0m\u001b[0;34m:\u001b[0m\u001b[0;34m\u001b[0m\u001b[0;34m\u001b[0m\u001b[0m\n\u001b[0;32m--> 123\u001b[0;31m             \u001b[0;32mreturn\u001b[0m \u001b[0mself\u001b[0m\u001b[0;34m.\u001b[0m\u001b[0mcompute\u001b[0m\u001b[0;34m(\u001b[0m\u001b[0;34m*\u001b[0m\u001b[0margs\u001b[0m\u001b[0;34m)\u001b[0m\u001b[0;34m\u001b[0m\u001b[0;34m\u001b[0m\u001b[0m\n\u001b[0m\u001b[1;32m    124\u001b[0m \u001b[0;34m\u001b[0m\u001b[0m\n\u001b[1;32m    125\u001b[0m         \u001b[0;32mdef\u001b[0m \u001b[0m__str__\u001b[0m\u001b[0;34m(\u001b[0m\u001b[0mself\u001b[0m\u001b[0;34m)\u001b[0m\u001b[0;34m:\u001b[0m\u001b[0;34m\u001b[0m\u001b[0;34m\u001b[0m\u001b[0m\n",
      "\u001b[0;32m~/projects/mag/dp/dp_project/venv/lib/python3.6/site-packages/essentia/standard.py\u001b[0m in \u001b[0;36mcompute\u001b[0;34m(self, *args)\u001b[0m\n\u001b[1;32m     68\u001b[0m \u001b[0;34m\u001b[0m\u001b[0m\n\u001b[1;32m     69\u001b[0m             \u001b[0;32mif\u001b[0m \u001b[0mlen\u001b[0m\u001b[0;34m(\u001b[0m\u001b[0margs\u001b[0m\u001b[0;34m)\u001b[0m \u001b[0;34m!=\u001b[0m \u001b[0mlen\u001b[0m\u001b[0;34m(\u001b[0m\u001b[0minputNames\u001b[0m\u001b[0;34m)\u001b[0m\u001b[0;34m:\u001b[0m\u001b[0;34m\u001b[0m\u001b[0;34m\u001b[0m\u001b[0m\n\u001b[0;32m---> 70\u001b[0;31m                 \u001b[0;32mraise\u001b[0m \u001b[0mValueError\u001b[0m\u001b[0;34m(\u001b[0m\u001b[0mname\u001b[0m\u001b[0;34m+\u001b[0m\u001b[0;34m'.compute requires '\u001b[0m\u001b[0;34m+\u001b[0m\u001b[0mstr\u001b[0m\u001b[0;34m(\u001b[0m\u001b[0mlen\u001b[0m\u001b[0;34m(\u001b[0m\u001b[0minputNames\u001b[0m\u001b[0;34m)\u001b[0m\u001b[0;34m)\u001b[0m\u001b[0;34m+\u001b[0m\u001b[0;34m' argument(s), '\u001b[0m\u001b[0;34m+\u001b[0m\u001b[0mstr\u001b[0m\u001b[0;34m(\u001b[0m\u001b[0mlen\u001b[0m\u001b[0;34m(\u001b[0m\u001b[0margs\u001b[0m\u001b[0;34m)\u001b[0m\u001b[0;34m)\u001b[0m\u001b[0;34m+\u001b[0m\u001b[0;34m' given'\u001b[0m\u001b[0;34m)\u001b[0m\u001b[0;34m\u001b[0m\u001b[0;34m\u001b[0m\u001b[0m\n\u001b[0m\u001b[1;32m     71\u001b[0m \u001b[0;34m\u001b[0m\u001b[0m\n\u001b[1;32m     72\u001b[0m             \u001b[0;31m# we have to make some exceptions for YamlOutput and PoolAggregator\u001b[0m\u001b[0;34m\u001b[0m\u001b[0;34m\u001b[0m\u001b[0;34m\u001b[0m\u001b[0m\n",
      "\u001b[0;31mValueError\u001b[0m: YamlOutput.compute requires 1 argument(s), 2 given"
     ]
    }
   ],
   "source": [
    "YamlOutput(filename='mfcc.json', format=\"json\")(features)"
   ]
  },
  {
   "cell_type": "code",
   "execution_count": 96,
   "metadata": {},
   "outputs": [],
   "source": [
    "with open('mfcc.json', 'r') as f:\n",
    "    data = json.load(f)"
   ]
  },
  {
   "cell_type": "code",
   "execution_count": 101,
   "metadata": {},
   "outputs": [
    {
     "data": {
      "text/plain": [
       "{'essentia': '2.1-beta6-dev',\n",
       " 'essentia_git_sha': 'v2.1_beta5-184-g344028cb',\n",
       " 'extractor': 'music 2.0'}"
      ]
     },
     "execution_count": 101,
     "metadata": {},
     "output_type": "execute_result"
    }
   ],
   "source": [
    "data['metadata']['version']"
   ]
  },
  {
   "cell_type": "code",
   "execution_count": 107,
   "metadata": {},
   "outputs": [
    {
     "data": {
      "text/plain": [
       "['113',\n",
       " '103',\n",
       " '099',\n",
       " '074',\n",
       " '090',\n",
       " '076',\n",
       " '144',\n",
       " '022',\n",
       " '107',\n",
       " '116',\n",
       " '047',\n",
       " '056',\n",
       " '148',\n",
       " '000',\n",
       " '054',\n",
       " '072',\n",
       " '126',\n",
       " '046',\n",
       " '008',\n",
       " '112',\n",
       " '109',\n",
       " '139',\n",
       " '121',\n",
       " '120',\n",
       " '045',\n",
       " '058',\n",
       " '002',\n",
       " '077',\n",
       " '021',\n",
       " '040',\n",
       " '041',\n",
       " '140',\n",
       " '009',\n",
       " '119',\n",
       " '060',\n",
       " '043',\n",
       " '092',\n",
       " '088',\n",
       " '086',\n",
       " '024',\n",
       " '055',\n",
       " '052',\n",
       " '114',\n",
       " '053',\n",
       " '010',\n",
       " '106',\n",
       " '150',\n",
       " '038',\n",
       " '016',\n",
       " '093',\n",
       " '149',\n",
       " '006',\n",
       " '094',\n",
       " '071',\n",
       " '105',\n",
       " '066',\n",
       " '020',\n",
       " '011',\n",
       " '122',\n",
       " '051',\n",
       " '152',\n",
       " '154',\n",
       " '019',\n",
       " '101',\n",
       " '035',\n",
       " '143',\n",
       " '064',\n",
       " '123',\n",
       " '129',\n",
       " '025',\n",
       " '110',\n",
       " '079',\n",
       " '082',\n",
       " '017',\n",
       " '012',\n",
       " '030',\n",
       " '081',\n",
       " '078',\n",
       " '097',\n",
       " '005',\n",
       " '065',\n",
       " '096',\n",
       " '023',\n",
       " '108',\n",
       " '124',\n",
       " '084',\n",
       " '032',\n",
       " '026',\n",
       " '128',\n",
       " '133',\n",
       " '111',\n",
       " '042',\n",
       " '033',\n",
       " '091',\n",
       " '135',\n",
       " '027',\n",
       " '067',\n",
       " '115',\n",
       " '037',\n",
       " '083',\n",
       " '028',\n",
       " '003',\n",
       " '130',\n",
       " '036',\n",
       " '146',\n",
       " '141',\n",
       " '061',\n",
       " '068',\n",
       " '014',\n",
       " '147',\n",
       " '117',\n",
       " '075',\n",
       " '059',\n",
       " '007',\n",
       " '104',\n",
       " '132',\n",
       " '031',\n",
       " '134',\n",
       " '089',\n",
       " '049',\n",
       " '118',\n",
       " '087',\n",
       " '131',\n",
       " '145',\n",
       " '073',\n",
       " '048',\n",
       " '125',\n",
       " '018',\n",
       " '085',\n",
       " '095',\n",
       " '057',\n",
       " '080',\n",
       " '015',\n",
       " '063',\n",
       " '151',\n",
       " '100',\n",
       " '044',\n",
       " '098',\n",
       " '153',\n",
       " '039',\n",
       " '142',\n",
       " '070',\n",
       " '137',\n",
       " '050',\n",
       " '127',\n",
       " '062',\n",
       " '102',\n",
       " '155',\n",
       " '034',\n",
       " '069',\n",
       " '138',\n",
       " '001',\n",
       " '004',\n",
       " '136',\n",
       " '013',\n",
       " '029']"
      ]
     },
     "execution_count": 107,
     "metadata": {},
     "output_type": "execute_result"
    }
   ],
   "source": [
    "os.listdir('../data/fma_small/')"
   ]
  },
  {
   "cell_type": "code",
   "execution_count": null,
   "metadata": {},
   "outputs": [],
   "source": []
  }
 ],
 "metadata": {
  "kernelspec": {
   "display_name": "dp_project",
   "language": "python",
   "name": "dp_project"
  },
  "language_info": {
   "codemirror_mode": {
    "name": "ipython",
    "version": 3
   },
   "file_extension": ".py",
   "mimetype": "text/x-python",
   "name": "python",
   "nbconvert_exporter": "python",
   "pygments_lexer": "ipython3",
   "version": "3.6.9"
  }
 },
 "nbformat": 4,
 "nbformat_minor": 2
}
