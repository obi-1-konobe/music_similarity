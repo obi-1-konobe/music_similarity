{
 "cells": [
  {
   "cell_type": "code",
   "execution_count": 18,
   "metadata": {},
   "outputs": [],
   "source": [
    "import pickle\n",
    "import os\n",
    "import utils\n",
    "import json"
   ]
  },
  {
   "cell_type": "code",
   "execution_count": 2,
   "metadata": {},
   "outputs": [],
   "source": [
    "main_dict = dict()"
   ]
  },
  {
   "cell_type": "code",
   "execution_count": 3,
   "metadata": {},
   "outputs": [],
   "source": [
    "list_dir = os.listdir('../data/pickles/')"
   ]
  },
  {
   "cell_type": "code",
   "execution_count": 4,
   "metadata": {},
   "outputs": [],
   "source": [
    "for dump in list_dir:\n",
    "    with open(f'../data/pickles/{dump}', 'rb') as f:\n",
    "        data = pickle.load(f)\n",
    "    main_dict.update(data)"
   ]
  },
  {
   "cell_type": "code",
   "execution_count": 13,
   "metadata": {},
   "outputs": [],
   "source": [
    "del main_dict['errors']"
   ]
  },
  {
   "cell_type": "code",
   "execution_count": 14,
   "metadata": {},
   "outputs": [
    {
     "data": {
      "text/plain": [
       "7324"
      ]
     },
     "execution_count": 14,
     "metadata": {},
     "output_type": "execute_result"
    }
   ],
   "source": [
    "len(main_dict.keys())"
   ]
  },
  {
   "cell_type": "code",
   "execution_count": 6,
   "metadata": {},
   "outputs": [
    {
     "data": {
      "text/plain": [
       "{'artist_name': 'Ed Askew',\n",
       " 'track_title': 'Baby Come Home',\n",
       " 'artist_tags': [('folk', '100'),\n",
       "  ('psychedelic folk', '66'),\n",
       "  ('psychedelic', '64'),\n",
       "  ('singer-songwriter', '56'),\n",
       "  ('experimental', '40'),\n",
       "  ('acid folk', '16'),\n",
       "  ('seen live', '14'),\n",
       "  ('psych folk', '11'),\n",
       "  ('american', '8'),\n",
       "  ('people who are freakier and folkier than motherfucking devendra banhart',\n",
       "   '8')],\n",
       " 'track_tags': [],\n",
       " 'similar_tracks': [('Ed Askew', 'MOON IN THE MIND', 1.0),\n",
       "  ('Ed Askew', 'SO', 0.928),\n",
       "  ('Simon Finn', 'Magic Moments', 0.031),\n",
       "  ('Josephine Foster', 'Wehmut', 0.017),\n",
       "  ('Josephine Foster', 'Die Schwestern', 0.016),\n",
       "  ('Robbie Basho', 'Eagle Sails the Blue Diamond Waters', 0.014),\n",
       "  ('Little Wings', 'One Two Three', 0.002),\n",
       "  ('Mark Fry', \"Ain't Got You\", 0.001),\n",
       "  ('Mark Fry', 'Walking In Paradise', 0.001),\n",
       "  ('The Incredible String Band', 'Vishangro', 0.001),\n",
       "  ('Pearls Before Swine', 'Sail Away (Album Version)', 0.001),\n",
       "  ('Pearls Before Swine', 'Mon Amour (Album Version)', 0.001),\n",
       "  ('The Incredible String Band', 'Banjo Tune', 0.001),\n",
       "  ('Mike Heron', 'Spirit Beautiful', 0.001),\n",
       "  ('Simon Finn', 'Silent City Creep', 0.001),\n",
       "  ('Dr. Strangely Strange', 'Strings In The Earth And Air', 0.001),\n",
       "  ('Fern Knight', 'Lullaby', 0.001),\n",
       "  ('Fern Knight', 'Shingle River', 0.001),\n",
       "  ('United Bible Studies', 'The Mildew Leaf', 0.001),\n",
       "  ('Linda Perhacs', 'Parallelograms', 0.001),\n",
       "  ('Dr. Strangely Strange', 'Strangely Strange But Oddly Normal', 0.001),\n",
       "  ('Donovan', 'Under the Greenwood Tree', 0.001),\n",
       "  ('Donovan', 'Lay of the Last Tinker', 0.001),\n",
       "  ('United Bible Studies', 'The Roving Ploughboy', 0.001),\n",
       "  ('Karl Blau', 'Nothing In The Way', 0.001),\n",
       "  ('Karl Blau', \"That's The Breaks\", 0.001),\n",
       "  ('Comus', 'Diana', 0.001),\n",
       "  ('The Holy Modal Rounders', 'Synergy', 0.001),\n",
       "  ('The Holy Modal Rounders', 'Impossible Groove', 0.001),\n",
       "  ('Comus', 'The Sacrifice', 0.001),\n",
       "  ('Six Organs of Admittance', 'Close to the Sky', 0.001),\n",
       "  ('Nick Castro', 'Dear Stranger', 0.001),\n",
       "  ('Nick Castro', 'No Sweeter Thing', 0.001),\n",
       "  ('Fresh Maggots', 'Rosemary Hill', 0.001),\n",
       "  ('Little Wings', 'Scuby', 0.001),\n",
       "  ('Festival', 'Even In the Light', 0.001),\n",
       "  ('Festival', 'Carnaval Mix', 0.001),\n",
       "  ('Dando Shaft', 'Coming Home To Me', 0.001),\n",
       "  ('Raed Yassin', 'I Heard This Before', 0.001),\n",
       "  ('Raed Yassin', 'The Three Quarters Of Hope', 0.001),\n",
       "  ('Espers', 'Mansfield And Cyclops', 0.001),\n",
       "  ('Weyes Blood', 'His Song', 0.001),\n",
       "  ('Weyes Blood', 'In The Isle Of Agnitio', 0.001),\n",
       "  ('Hexvessel', 'Elegy to Goyahkla', 0.001),\n",
       "  ('Tim Buckley', 'Venice Mating Call', 0.001),\n",
       "  ('Giant Skyflower Band', 'The Archangel (Hurray for the Beast)', 0.001),\n",
       "  ('Juniper Leaf', 'Pencarrow Head', 0.001),\n",
       "  ('Karlheinz Essl', 'Deviation', 0.001),\n",
       "  ('The Skygreen Leopards', 'Clouds Through Sparrows Eyes', 0.001),\n",
       "  ('Randy Burns', 'Autumn On Your Mind', 0.001),\n",
       "  ('Xenis Emputae Travelling Band', 'A Lyke Wake Dirge', 0.001),\n",
       "  ('James Howe Edwards', 'Love and Hate', 0.001),\n",
       "  ('The Golden Oaks', 'Softly Fingered Hail', 0.001),\n",
       "  ('Circulus', 'Bourée', 0.001),\n",
       "  ('Six Organs of Admittance', 'Black Needle Rhymes', 0.001),\n",
       "  ('Woods Family Creeps', 'Spike', 0.001),\n",
       "  ('Circulus', \"'til we merry meet again\", 0.001),\n",
       "  ('Golden Animals', 'Take Me Home', 0.001),\n",
       "  ('Kelli Ali', 'What to Do', 0.001),\n",
       "  ('The Iditarod', 'Dictation and Transcription', 0.001),\n",
       "  ('The Iditarod', 'The Lullaby of Spring', 0.001),\n",
       "  ('Elyse', 'Houses', 0.001),\n",
       "  ('Elyse', 'One Step Closer', 0.001),\n",
       "  ('Matt Christensen', 'The Law Kind', 0.001),\n",
       "  ('Matt Christensen', 'A Starting Song', 0.001),\n",
       "  ('友川かずき', '遊行', 0.001),\n",
       "  ('友川かずき', '彼が居た～そうだ!たこ八郎がいた', 0.001),\n",
       "  ('Text of Light', '052402 Echo 1 (Live)', 0.001),\n",
       "  ('Text of Light', '052901 Tonic 8 (Live)', 0.001),\n",
       "  ('Magic Carpet', 'Sohini', 0.001),\n",
       "  ('Magic Carpet', 'The Strange Song', 0.001),\n",
       "  ('Christina Carter', 'Hand Four', 0.001),\n",
       "  ('Christina Carter', 'Hand Three', 0.001),\n",
       "  ('The Doozer', 'Aluminium Dome', 0.001),\n",
       "  ('The Doozer', 'The Light', 0.001),\n",
       "  ('Nihil Project',\n",
       "   '(Un)Quiet Grave #2 (feat. Electronic Voice Phenomena)',\n",
       "   0.001),\n",
       "  ('Nihil Project', '& The Angels Went Two By Two', 0.001),\n",
       "  ('Third Ear Band', 'Atlantis Rising', 0.001),\n",
       "  ('三村京子', 'もうじきあんたは１人で立てるはずだ', 0.001),\n",
       "  ('Annen Berg', 'Blood Wedding', 0.001),\n",
       "  ('一ノ宮頼子', '都会の空', 0.001),\n",
       "  ('Gevende', 'IGLOO (remix)', 0.001),\n",
       "  ('Sand Snowman', 'Blue Eyed DeVille', 0.001),\n",
       "  ('Sand Snowman', 'Moth Dream Smokescreen', 0.001),\n",
       "  ('breatherholes', 'when there are 7', 0.001),\n",
       "  ('breatherholes', \"gate's not closed\", 0.001),\n",
       "  ('Tom Rapp', 'Guardian Angels', 0.001),\n",
       "  ('Tom Rapp', 'I Saw the World', 0.001),\n",
       "  ('Gkfoes vjgoaf', 'mirror mirrored', 0.001),\n",
       "  ('Gkfoes vjgoaf', 'on the mountain', 0.001),\n",
       "  ('The Copied Copied', 'I Feel So Good', 0.001),\n",
       "  ('The Copied Copied', 'Weather & Engineering', 0.001),\n",
       "  ('Arborea', 'River and Rapids', 0.001),\n",
       "  ('Gevende', 'Anonim', 0.001),\n",
       "  ('Jakob Olausson', 'Morning and Sunrise', 0.001),\n",
       "  ('Jakob Olausson', 'Riding on the Wind', 0.001),\n",
       "  ('Headdress', 'Babylon', 0.001),\n",
       "  ('Headdress', 'The Painted Desert', 0.001),\n",
       "  ('Mammatus', 'The Changing Wind', 0.001),\n",
       "  ('Birdlips', 'Giving Up', 0.001)]}"
      ]
     },
     "execution_count": 6,
     "metadata": {},
     "output_type": "execute_result"
    }
   ],
   "source": [
    "main_dict[200]"
   ]
  },
  {
   "cell_type": "code",
   "execution_count": 7,
   "metadata": {},
   "outputs": [],
   "source": [
    "tracks = utils.load('../data/fma_metadata/tracks.csv')"
   ]
  },
  {
   "cell_type": "code",
   "execution_count": 8,
   "metadata": {},
   "outputs": [],
   "source": [
    "small = tracks[tracks['set', 'subset'] <= 'small']"
   ]
  },
  {
   "cell_type": "code",
   "execution_count": 9,
   "metadata": {},
   "outputs": [],
   "source": [
    "artist_name = small['artist', 'name']\n",
    "arist_id = small['artist', 'id']\n",
    "track_title = small['track', 'title']\n",
    "track_duration = small['track', 'duration']\n",
    "track_genre = small['track', 'genre_top']"
   ]
  },
  {
   "cell_type": "code",
   "execution_count": 11,
   "metadata": {},
   "outputs": [],
   "source": [
    "# my_zip = zip(artist_name.values, track_title.values, small.index.values)\n",
    "my_zip = zip(artist_name.values, track_title.values)\n",
    "zip_list = list(my_zip)"
   ]
  },
  {
   "cell_type": "code",
   "execution_count": 15,
   "metadata": {},
   "outputs": [
    {
     "name": "stdout",
     "output_type": "stream",
     "text": [
      "1979\n"
     ]
    }
   ],
   "source": [
    "i = 0\n",
    "for idx in main_dict:\n",
    "    temp_list = list()\n",
    "    for similar in main_dict[int(idx)]['similar_tracks']:\n",
    "        query = (similar[0], similar[1])\n",
    "        if query in list(zip_list):\n",
    "            temp_list.append(similar)\n",
    "            i += 1\n",
    "    main_dict[idx]['similar_list'] = temp_list\n",
    "print(i)\n",
    "        "
   ]
  },
  {
   "cell_type": "code",
   "execution_count": 17,
   "metadata": {},
   "outputs": [
    {
     "name": "stdout",
     "output_type": "stream",
     "text": [
      "1138\n"
     ]
    }
   ],
   "source": [
    "i = 0\n",
    "for idx in main_dict:\n",
    "    if len(main_dict[idx]['similar_list']) > 0:\n",
    "        i += 1\n",
    "#         print((main_dict[idx]['artist_name'], main_dict[idx]['track_title'], main_dict[idx]['similar_list']))\n",
    "print(i)"
   ]
  },
  {
   "cell_type": "code",
   "execution_count": 23,
   "metadata": {},
   "outputs": [],
   "source": [
    "with open('main_dict.pickle', 'wb') as f:\n",
    "    pickle.dump(main_dict, f)"
   ]
  },
  {
   "cell_type": "code",
   "execution_count": null,
   "metadata": {},
   "outputs": [],
   "source": []
  }
 ],
 "metadata": {
  "kernelspec": {
   "display_name": "dp_project",
   "language": "python",
   "name": "dp_project"
  },
  "language_info": {
   "codemirror_mode": {
    "name": "ipython",
    "version": 3
   },
   "file_extension": ".py",
   "mimetype": "text/x-python",
   "name": "python",
   "nbconvert_exporter": "python",
   "pygments_lexer": "ipython3",
   "version": "3.6.9"
  }
 },
 "nbformat": 4,
 "nbformat_minor": 2
}
