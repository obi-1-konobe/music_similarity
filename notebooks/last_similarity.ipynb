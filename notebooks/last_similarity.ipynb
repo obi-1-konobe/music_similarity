{
 "cells": [
  {
   "cell_type": "code",
   "execution_count": 13,
   "metadata": {},
   "outputs": [],
   "source": [
    "import pandas as pd\n",
    "import numpy as np\n",
    "import pickle\n",
    "import random"
   ]
  },
  {
   "cell_type": "code",
   "execution_count": 204,
   "metadata": {},
   "outputs": [
    {
     "data": {
      "text/plain": [
       "(7994, 4097)"
      ]
     },
     "execution_count": 204,
     "metadata": {},
     "output_type": "execute_result"
    }
   ],
   "source": [
    "df = pd.read_csv('../data/csv/triplet_embeddings.csv')\n",
    "df.shape"
   ]
  },
  {
   "cell_type": "code",
   "execution_count": 205,
   "metadata": {},
   "outputs": [],
   "source": [
    "# for baseline\n",
    "\n",
    "# df = df.drop(df.columns[1:553], axis=1)\n",
    "# df.shape"
   ]
  },
  {
   "cell_type": "code",
   "execution_count": 206,
   "metadata": {},
   "outputs": [],
   "source": [
    "with open('../data/pickles/main_dict.pickle', 'rb') as f:\n",
    "    main_dict = pickle.load(f)"
   ]
  },
  {
   "cell_type": "code",
   "execution_count": 207,
   "metadata": {},
   "outputs": [
    {
     "data": {
      "text/html": [
       "<div>\n",
       "<style scoped>\n",
       "    .dataframe tbody tr th:only-of-type {\n",
       "        vertical-align: middle;\n",
       "    }\n",
       "\n",
       "    .dataframe tbody tr th {\n",
       "        vertical-align: top;\n",
       "    }\n",
       "\n",
       "    .dataframe thead th {\n",
       "        text-align: right;\n",
       "    }\n",
       "</style>\n",
       "<table border=\"1\" class=\"dataframe\">\n",
       "  <thead>\n",
       "    <tr style=\"text-align: right;\">\n",
       "      <th></th>\n",
       "      <th>id</th>\n",
       "      <th>artist</th>\n",
       "      <th>title</th>\n",
       "      <th>genre</th>\n",
       "      <th>track</th>\n",
       "      <th>tags</th>\n",
       "      <th>test</th>\n",
       "    </tr>\n",
       "  </thead>\n",
       "  <tbody>\n",
       "    <tr>\n",
       "      <th>4832</th>\n",
       "      <td>112317</td>\n",
       "      <td>Cloudkicker</td>\n",
       "      <td>Signal/Noise</td>\n",
       "      <td>Rock</td>\n",
       "      <td>112317.mp3</td>\n",
       "      <td>['rock', 'experimental', '10 of 10 stars', 'dj...</td>\n",
       "      <td>0</td>\n",
       "    </tr>\n",
       "    <tr>\n",
       "      <th>6631</th>\n",
       "      <td>62594</td>\n",
       "      <td>Tchakare Kanyembe</td>\n",
       "      <td>Tchakare Kanyembe track 07</td>\n",
       "      <td>International</td>\n",
       "      <td>062594.mp3</td>\n",
       "      <td>['international', 'afro-beat', 'african', 'afr...</td>\n",
       "      <td>0</td>\n",
       "    </tr>\n",
       "    <tr>\n",
       "      <th>2064</th>\n",
       "      <td>107127</td>\n",
       "      <td>Marrach</td>\n",
       "      <td>Moving Rocks</td>\n",
       "      <td>Electronic</td>\n",
       "      <td>107127.mp3</td>\n",
       "      <td>['electronic', 'trip-hop', 'dubstep']</td>\n",
       "      <td>0</td>\n",
       "    </tr>\n",
       "    <tr>\n",
       "      <th>3587</th>\n",
       "      <td>32760</td>\n",
       "      <td>Christophe Marc</td>\n",
       "      <td>Bury The Doubt</td>\n",
       "      <td>Pop</td>\n",
       "      <td>032760.mp3</td>\n",
       "      <td>['pop', 'rock', 'folk', 'christophe marc', 'fr...</td>\n",
       "      <td>0</td>\n",
       "    </tr>\n",
       "    <tr>\n",
       "      <th>592</th>\n",
       "      <td>91958</td>\n",
       "      <td>Graeme Mark</td>\n",
       "      <td>Catch The Knife</td>\n",
       "      <td>Folk</td>\n",
       "      <td>091958.mp3</td>\n",
       "      <td>['singer songwriter', 'folk', 'singer-songwrit...</td>\n",
       "      <td>0</td>\n",
       "    </tr>\n",
       "  </tbody>\n",
       "</table>\n",
       "</div>"
      ],
      "text/plain": [
       "          id             artist                       title          genre  \\\n",
       "4832  112317        Cloudkicker                Signal/Noise           Rock   \n",
       "6631   62594  Tchakare Kanyembe  Tchakare Kanyembe track 07  International   \n",
       "2064  107127            Marrach                Moving Rocks     Electronic   \n",
       "3587   32760    Christophe Marc              Bury The Doubt            Pop   \n",
       "592    91958        Graeme Mark             Catch The Knife           Folk   \n",
       "\n",
       "           track                                               tags  test  \n",
       "4832  112317.mp3  ['rock', 'experimental', '10 of 10 stars', 'dj...     0  \n",
       "6631  062594.mp3  ['international', 'afro-beat', 'african', 'afr...     0  \n",
       "2064  107127.mp3              ['electronic', 'trip-hop', 'dubstep']     0  \n",
       "3587  032760.mp3  ['pop', 'rock', 'folk', 'christophe marc', 'fr...     0  \n",
       "592   091958.mp3  ['singer songwriter', 'folk', 'singer-songwrit...     0  "
      ]
     },
     "execution_count": 207,
     "metadata": {},
     "output_type": "execute_result"
    }
   ],
   "source": [
    "df_info = pd.read_csv('../data/csv/info.csv')\n",
    "df_info.sample(5)"
   ]
  },
  {
   "cell_type": "code",
   "execution_count": 208,
   "metadata": {},
   "outputs": [],
   "source": [
    "# new_test = list()\n",
    "# while len(new_test) < 3:\n",
    "#     idx = random.choice(df_info.index)\n",
    "#     row = df_info.loc[idx]\n",
    "#     if row['test'] == 1:\n",
    "#         continue\n",
    "#     if len(eval(row['tags'])) < 10:\n",
    "#         continue\n",
    "#     if idx not in new_test:\n",
    "#         new_test.append(idx)\n",
    "        \n",
    "# for idx in new_test:\n",
    "#     df_info.loc[idx, 'test'] = 1\n",
    "\n",
    "# df_info.to_csv('../data/csv/info.csv', index=False)\n",
    "    \n"
   ]
  },
  {
   "cell_type": "code",
   "execution_count": 209,
   "metadata": {},
   "outputs": [
    {
     "data": {
      "text/plain": [
       "(100, 7)"
      ]
     },
     "execution_count": 209,
     "metadata": {},
     "output_type": "execute_result"
    }
   ],
   "source": [
    "df_info[df_info['test'] == 1].shape"
   ]
  },
  {
   "cell_type": "code",
   "execution_count": 210,
   "metadata": {},
   "outputs": [
    {
     "data": {
      "text/plain": [
       "(100, 4097)"
      ]
     },
     "execution_count": 210,
     "metadata": {},
     "output_type": "execute_result"
    }
   ],
   "source": [
    "df_test = df_info[df_info['test'] == 1][['id']].merge(df, how='left', on='id')\n",
    "df_test.shape"
   ]
  },
  {
   "cell_type": "code",
   "execution_count": 211,
   "metadata": {},
   "outputs": [
    {
     "data": {
      "text/plain": [
       "(7894, 4097)"
      ]
     },
     "execution_count": 211,
     "metadata": {},
     "output_type": "execute_result"
    }
   ],
   "source": [
    "df_train = df_info[df_info['test'] == 0][['id']].merge(df, how='left', on='id')\n",
    "df_train.dropna(inplace=True)\n",
    "df_train.shape"
   ]
  },
  {
   "cell_type": "code",
   "execution_count": 212,
   "metadata": {},
   "outputs": [],
   "source": [
    "X_train = df_train.drop(columns=['id']).values\n",
    "X_test = df_test.drop(columns=['id']).values"
   ]
  },
  {
   "cell_type": "code",
   "execution_count": 213,
   "metadata": {},
   "outputs": [],
   "source": [
    "from sklearn.preprocessing import StandardScaler\n",
    "\n",
    "scaler = StandardScaler()\n",
    "scaler.fit(X_train)\n",
    "X_train = scaler.transform(X_train)\n",
    "X_test = scaler.transform(X_test)"
   ]
  },
  {
   "cell_type": "code",
   "execution_count": 214,
   "metadata": {},
   "outputs": [
    {
     "data": {
      "text/plain": [
       "(100, 4096)"
      ]
     },
     "execution_count": 214,
     "metadata": {},
     "output_type": "execute_result"
    }
   ],
   "source": [
    "X_test.shape"
   ]
  },
  {
   "cell_type": "code",
   "execution_count": 215,
   "metadata": {},
   "outputs": [],
   "source": [
    "def count_good_recommend(query_idx, answer_list, trhold):\n",
    "    counter = 0\n",
    "    f_score = 0\n",
    "    iou = 0\n",
    "    query_id = int(df_test.iloc[query_idx].id)\n",
    "    relevant = [query_id]\n",
    "    query_tags = main_dict[query_id]['all_tags']\n",
    "    for idx in answer_list:\n",
    "        answer_id = int(df_train.iloc[idx].id)\n",
    "        answer_tags = main_dict[answer_id]['all_tags']\n",
    "        score = 0\n",
    "        \n",
    "        i = 0\n",
    "        for tag in answer_tags:\n",
    "            if tag in query_tags:\n",
    "                i += 1\n",
    "        if i == 0:\n",
    "            continue\n",
    "        \n",
    "        precision = i / len(answer_tags)\n",
    "        recall = i / len(query_tags)\n",
    "        score = 2 * precision * recall / (precision + recall)\n",
    "        f_score += score\n",
    "        \n",
    "        iou += len(set(answer_tags) & set(query_tags)) / len(set(answer_tags) | set(query_tags))\n",
    "        if score >= trhold:        \n",
    "            counter += 1\n",
    "            relevant.append(answer_id)\n",
    "    return counter, relevant, f_score, iou\n",
    "\n",
    "def count_ndcg(neighbors, relevant_list):\n",
    "    dcg = 0\n",
    "    idcg = 0\n",
    "    for i in range(len(neighbors)):\n",
    "        track = int(df_train.iloc[neighbors[i]].id)\n",
    "        if track in relevant_list:\n",
    "            dcg += 1 / np.log2(i + 2)\n",
    "        idcg += 1 / np.log2(i + 2)\n",
    "    ndcg = dcg / idcg\n",
    "    return ndcg\n",
    "\n"
   ]
  },
  {
   "cell_type": "code",
   "execution_count": 216,
   "metadata": {},
   "outputs": [
    {
     "name": "stdout",
     "output_type": "stream",
     "text": [
      "euclidean 0.14799999999999996 0.16417490763945908 0.22727481603205124 0.16471379099125097\n"
     ]
    }
   ],
   "source": [
    "from sklearn.metrics import pairwise_distances\n",
    "cnn = list()\n",
    "for dist in ['euclidean']:\n",
    "    dist_mtx = pairwise_distances(X_test, X_train, metric=dist)\n",
    "    mean_ap = 0\n",
    "    mean_f_score = 0\n",
    "    mean_iou = 0\n",
    "    ndcg = 0\n",
    "    for i in range(100):\n",
    "        arr = dist_mtx[i]\n",
    "        neighbors = arr.argsort()[:10]\n",
    "        relevant_num, relevant_list, f_score, iou = count_good_recommend(i, neighbors, trhold=0.4)\n",
    "#         print(relevant_list)\n",
    "        p_at_10 = relevant_num / 10\n",
    "        mean_f_score += f_score / 10\n",
    "        mean_iou += iou / 10\n",
    "        cnn.append(p_at_10)\n",
    "        mean_ap += p_at_10\n",
    "        ndcg += count_ndcg(neighbors, relevant_list[1:])\n",
    "    mean_f_score /= 100\n",
    "    mean_iou /= 100\n",
    "    mean_ap /= 100 \n",
    "    mean_ndcg = ndcg / 100\n",
    "    \n",
    "    print(dist, mean_ap, mean_ndcg, mean_f_score, mean_iou)"
   ]
  },
  {
   "cell_type": "code",
   "execution_count": 147,
   "metadata": {},
   "outputs": [
    {
     "name": "stdout",
     "output_type": "stream",
     "text": [
      "0.06565060303060606 0.06573704099278342 0.19637614369304376 0.11527028732447048\n"
     ]
    }
   ],
   "source": [
    "random.seed(3214)\n",
    "rand = list()\n",
    "ap = 0\n",
    "ndcg = 0\n",
    "mean_f_score = 0\n",
    "mean_iou = 0\n",
    "# for i in range(100):\n",
    "#     mean_ap = 0\n",
    "#     ndcg = 0\n",
    "for i in range(100):\n",
    "    test_track = df_test.iloc[i].id\n",
    "    test_track_genre = main_dict[int(test_track)]['genre']\n",
    "    genre_recommendations = list()\n",
    "    while len(genre_recommendations) < 10:\n",
    "        idx = random.randint(0, df_train.shape[0] - 1)\n",
    "        track = df_train.iloc[idx].id\n",
    "        track_genre = main_dict[int(track)]['genre']\n",
    "        if track_genre == test_track_genre:\n",
    "            genre_recommendations.append(idx)\n",
    "#     print(i)\n",
    "\n",
    "    relevant_num, relevant_list, f_score, iou = count_good_recommend(i, genre_recommendations, trhold=0.4)\n",
    "#     print(test_track, relevant_list)\n",
    "    mean_f_score += f_score / 10\n",
    "    mean_iou += iou / 10\n",
    "    p_at_10 = relevant_num / 10\n",
    "    rand.append(p_at_10)\n",
    "    mean_ap += p_at_10\n",
    "    ndcg += count_ndcg(genre_recommendations, relevant_list[1:])\n",
    "mean_f_score /= 100\n",
    "mean_ap /= 100 \n",
    "mean_ndcg = ndcg / 100\n",
    "mean_iou /= 100\n",
    "# ap += mean_ap\n",
    "# ndcg += mean_ndcg\n",
    "print(mean_ap, mean_ndcg, mean_f_score, mean_iou)"
   ]
  },
  {
   "cell_type": "code",
   "execution_count": 145,
   "metadata": {},
   "outputs": [
    {
     "name": "stdout",
     "output_type": "stream",
     "text": [
      "0.006030306060606656 0.006292869794644199 0.06648949175640309 0.03734771994281534\n"
     ]
    }
   ],
   "source": [
    "random.seed(3214)\n",
    "ap = 0\n",
    "ndcg = 0\n",
    "mean_f_score = 0\n",
    "mean_iou = 0\n",
    "# for i in range(100):\n",
    "#     mean_ap = 0\n",
    "#     ndcg = 0\n",
    "for i in range(100):\n",
    "    test_track = df_test.iloc[i].id\n",
    "    recommendations = list()\n",
    "    while len(recommendations) < 10:\n",
    "        idx = random.randint(0, df_train.shape[0] - 1)\n",
    "        track = df_train.iloc[idx].id\n",
    "        recommendations.append(idx)\n",
    "#     print(i)\n",
    "\n",
    "    relevant_num, relevant_list, f_score, iou = count_good_recommend(i, recommendations, trhold=0.4)\n",
    "#     print(test_track, relevant_list)\n",
    "    mean_f_score += f_score / 10\n",
    "    mean_iou += iou / 10\n",
    "    p_at_10 = relevant_num / 10\n",
    "    mean_ap += p_at_10\n",
    "    ndcg += count_ndcg(recommendations, relevant_list[1:])\n",
    "mean_f_score /= 100\n",
    "mean_ap /= 100 \n",
    "mean_ndcg = ndcg / 100\n",
    "mean_iou /= 100\n",
    "# ap += mean_ap\n",
    "# ndcg += mean_ndcg\n",
    "print(mean_ap, mean_ndcg, mean_f_score, mean_iou)"
   ]
  },
  {
   "cell_type": "code",
   "execution_count": 237,
   "metadata": {},
   "outputs": [
    {
     "data": {
      "text/plain": [
       "(0.11199999999999999, 0.14800000000000002)"
      ]
     },
     "execution_count": 237,
     "metadata": {},
     "output_type": "execute_result"
    }
   ],
   "source": [
    "np.mean(base), np.mean(cnn)"
   ]
  },
  {
   "cell_type": "code",
   "execution_count": null,
   "metadata": {},
   "outputs": [],
   "source": []
  },
  {
   "cell_type": "code",
   "execution_count": 233,
   "metadata": {},
   "outputs": [],
   "source": [
    "# for i in zip(base, cnn):\n",
    "#     print(i)"
   ]
  },
  {
   "cell_type": "code",
   "execution_count": 219,
   "metadata": {},
   "outputs": [],
   "source": [
    "from scipy.stats import ttest_ind, mannwhitneyu, shapiro\n",
    "import seaborn as sns\n",
    "import numpy as np"
   ]
  },
  {
   "cell_type": "code",
   "execution_count": 220,
   "metadata": {},
   "outputs": [
    {
     "data": {
      "text/plain": [
       "(100, 100)"
      ]
     },
     "execution_count": 220,
     "metadata": {},
     "output_type": "execute_result"
    }
   ],
   "source": [
    "len(cnn), len(base)"
   ]
  },
  {
   "cell_type": "code",
   "execution_count": 247,
   "metadata": {},
   "outputs": [
    {
     "data": {
      "text/plain": [
       "Ttest_indResult(statistic=2.6170329779813444, pvalue=0.009554422914393252)"
      ]
     },
     "execution_count": 247,
     "metadata": {},
     "output_type": "execute_result"
    }
   ],
   "source": [
    "ttest_ind(base, rand)"
   ]
  },
  {
   "cell_type": "code",
   "execution_count": 248,
   "metadata": {},
   "outputs": [
    {
     "data": {
      "text/plain": [
       "MannwhitneyuResult(statistic=4283.0, pvalue=0.026921651557702733)"
      ]
     },
     "execution_count": 248,
     "metadata": {},
     "output_type": "execute_result"
    }
   ],
   "source": [
    "mannwhitneyu(base, rand)"
   ]
  },
  {
   "cell_type": "code",
   "execution_count": 234,
   "metadata": {},
   "outputs": [
    {
     "data": {
      "text/plain": [
       "ShapiroResult(statistic=0.8392829895019531, pvalue=4.860615909763055e-09)"
      ]
     },
     "execution_count": 234,
     "metadata": {},
     "output_type": "execute_result"
    }
   ],
   "source": [
    "shapiro(cnn)"
   ]
  },
  {
   "cell_type": "code",
   "execution_count": 235,
   "metadata": {},
   "outputs": [
    {
     "data": {
      "text/plain": [
       "ShapiroResult(statistic=0.7614901065826416, pvalue=1.9053134070468047e-11)"
      ]
     },
     "execution_count": 235,
     "metadata": {},
     "output_type": "execute_result"
    }
   ],
   "source": [
    "shapiro(base)"
   ]
  },
  {
   "cell_type": "code",
   "execution_count": 244,
   "metadata": {},
   "outputs": [],
   "source": [
    "minus = [-x for x in rand]"
   ]
  },
  {
   "cell_type": "code",
   "execution_count": 251,
   "metadata": {},
   "outputs": [
    {
     "data": {
      "image/png": "[encoded data removed]",
      "text/plain": [
       "<Figure size 1296x432 with 1 Axes>"
      ]
     },
     "metadata": {
      "needs_background": "light"
     },
     "output_type": "display_data"
    }
   ],
   "source": [
    "import seaborn as sns\n",
    "\n",
    "# data = pd.DataFrame({'Baseline': base, 'CNN': rand})\n",
    "x = range(1,101)\n",
    "y1 = base\n",
    "y2 = minus\n",
    "fig, ax = plt.subplots()\n",
    "ax.bar(x, y1, width=1)\n",
    "ax.bar(x, y2, width=1)\n",
    "ax.text(45, 0.6,'T-test p-value = 0.01', fontsize=14)\n",
    "ax.text(45, 0.52,'U-test p-value = 0.02', fontsize=14)\n",
    "\n",
    "ax.set_facecolor('seashell')\n",
    "# fig.set_facecolor('floralwhite')\n",
    "fig.set_figwidth(18)    #  ширина Figure\n",
    "fig.set_figheight(6)    #  высота Figure\n",
    "plt.xlabel('Тестовые песни', fontsize=16)\n",
    "plt.ylabel('Precision@10', fontsize=16)\n",
    "plt.legend(['анализ акустич. х-к', 'случайные рекомендации'])\n",
    "plt.show()\n",
    "# plt.bar(, base)"
   ]
  },
  {
   "cell_type": "code",
   "execution_count": null,
   "metadata": {},
   "outputs": [],
   "source": []
  }
 ],
 "metadata": {
  "kernelspec": {
   "display_name": "dp_project",
   "language": "python",
   "name": "venv"
  },
  "language_info": {
   "codemirror_mode": {
    "name": "ipython",
    "version": 3
   },
   "file_extension": ".py",
   "mimetype": "text/x-python",
   "name": "python",
   "nbconvert_exporter": "python",
   "pygments_lexer": "ipython3",
   "version": "3.6.9"
  }
 },
 "nbformat": 4,
 "nbformat_minor": 4
}
