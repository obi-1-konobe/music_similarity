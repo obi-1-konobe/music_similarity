{
 "cells": [
  {
   "cell_type": "code",
   "execution_count": 1,
   "metadata": {},
   "outputs": [],
   "source": [
    "import pylast\n",
    "import pandas as pd\n",
    "import pickle"
   ]
  },
  {
   "cell_type": "code",
   "execution_count": 2,
   "metadata": {},
   "outputs": [],
   "source": [
    "API_KEY = \"80113e47bfd1c58983acc18b4d46e025\"  # this is a sample key\n",
    "API_SECRET = \"604648c3611f684b077c83df8e3a00fd\"\n",
    "username = \"obi-1-konobe\"\n",
    "password_hash = pylast.md5(\"T4s4rt!rlastfm\")\n",
    "network = pylast.LastFMNetwork(api_key=API_KEY, api_secret=API_SECRET,username=username, password_hash=password_hash)"
   ]
  },
  {
   "cell_type": "code",
   "execution_count": 3,
   "metadata": {},
   "outputs": [],
   "source": [
    "artist = network.get_artist(\"Kurt Vile\")\n",
    "track = network.get_track(artist, 'Freeway')"
   ]
  },
  {
   "cell_type": "code",
   "execution_count": 4,
   "metadata": {},
   "outputs": [],
   "source": [
    "artist_tags = artist.get_top_tags(10)\n",
    "track_tags = track.get_top_tags(10)\n",
    "similar_track = track.get_similar()"
   ]
  },
  {
   "cell_type": "code",
   "execution_count": 28,
   "metadata": {},
   "outputs": [
    {
     "data": {
      "text/plain": [
       "'Kurt Vile'"
      ]
     },
     "execution_count": 28,
     "metadata": {},
     "output_type": "execute_result"
    }
   ],
   "source": [
    "similar_track[0].item.artist.name"
   ]
  },
  {
   "cell_type": "code",
   "execution_count": 29,
   "metadata": {},
   "outputs": [
    {
     "data": {
      "text/plain": [
       "'Breathin Out'"
      ]
     },
     "execution_count": 29,
     "metadata": {},
     "output_type": "execute_result"
    }
   ],
   "source": [
    "similar_track[0].item.title"
   ]
  },
  {
   "cell_type": "code",
   "execution_count": 30,
   "metadata": {},
   "outputs": [
    {
     "data": {
      "text/plain": [
       "1.0"
      ]
     },
     "execution_count": 30,
     "metadata": {},
     "output_type": "execute_result"
    }
   ],
   "source": [
    "similar_track[0].match"
   ]
  },
  {
   "cell_type": "code",
   "execution_count": 37,
   "metadata": {},
   "outputs": [
    {
     "data": {
      "text/plain": [
       "'rock'"
      ]
     },
     "execution_count": 37,
     "metadata": {},
     "output_type": "execute_result"
    }
   ],
   "source": [
    "track_tags[0].item.name"
   ]
  },
  {
   "cell_type": "code",
   "execution_count": 38,
   "metadata": {},
   "outputs": [
    {
     "data": {
      "text/plain": [
       "'100'"
      ]
     },
     "execution_count": 38,
     "metadata": {},
     "output_type": "execute_result"
    }
   ],
   "source": [
    "track_tags[0].weight"
   ]
  },
  {
   "cell_type": "code",
   "execution_count": 42,
   "metadata": {},
   "outputs": [
    {
     "data": {
      "text/plain": [
       "TopItem(item=pylast.Tag('american', pylast.LastFMNetwork('80113e47bfd1c58983acc18b4d46e025', '604648c3611f684b077c83df8e3a00fd', 'C7xrzJUwS7JsiDDxlSeJKIkskTYDeKBr', 'obi-1-konobe', '3ef6efe738937e23bbc45ed783ed10cd')), weight='34')"
      ]
     },
     "execution_count": 42,
     "metadata": {},
     "output_type": "execute_result"
    }
   ],
   "source": [
    "track_tags[]"
   ]
  },
  {
   "cell_type": "code",
   "execution_count": 53,
   "metadata": {},
   "outputs": [
    {
     "data": {
      "text/plain": [
       "'folk rock'"
      ]
     },
     "execution_count": 53,
     "metadata": {},
     "output_type": "execute_result"
    }
   ],
   "source": [
    "artist_tags[9].item.name"
   ]
  },
  {
   "cell_type": "code",
   "execution_count": 54,
   "metadata": {},
   "outputs": [
    {
     "data": {
      "text/plain": [
       "'11'"
      ]
     },
     "execution_count": 54,
     "metadata": {},
     "output_type": "execute_result"
    }
   ],
   "source": [
    "artist_tags[9].weight"
   ]
  },
  {
   "cell_type": "code",
   "execution_count": 55,
   "metadata": {},
   "outputs": [
    {
     "data": {
      "text/plain": [
       "[('seen live', '100'),\n",
       " ('Lo-Fi', '89'),\n",
       " ('psychedelic', '77'),\n",
       " ('indie', '69'),\n",
       " ('bedroom pop', '31'),\n",
       " ('noise', '27'),\n",
       " ('singer-songwriter', '24'),\n",
       " ('folk', '22'),\n",
       " ('indie rock', '15'),\n",
       " ('folk rock', '11')]"
      ]
     },
     "execution_count": 55,
     "metadata": {},
     "output_type": "execute_result"
    }
   ],
   "source": [
    "[(elem.item.name, elem.weight) for elem in artist_tags]"
   ]
  },
  {
   "cell_type": "code",
   "execution_count": 30,
   "metadata": {},
   "outputs": [],
   "source": [
    "with open('../data/pickles/4500.pickle', 'rb') as f:\n",
    "    data = pickle.load(f)"
   ]
  },
  {
   "cell_type": "code",
   "execution_count": 31,
   "metadata": {},
   "outputs": [
    {
     "data": {
      "text/plain": [
       "4249"
      ]
     },
     "execution_count": 31,
     "metadata": {},
     "output_type": "execute_result"
    }
   ],
   "source": [
    "len(data.keys())"
   ]
  },
  {
   "cell_type": "code",
   "execution_count": 11,
   "metadata": {},
   "outputs": [
    {
     "data": {
      "text/plain": [
       "{'artist_name': 'Ed Askew',\n",
       " 'track_title': 'All I want to Do',\n",
       " 'artist_tags': [('folk', '100'),\n",
       "  ('psychedelic folk', '66'),\n",
       "  ('psychedelic', '64'),\n",
       "  ('singer-songwriter', '56'),\n",
       "  ('experimental', '40'),\n",
       "  ('acid folk', '16'),\n",
       "  ('seen live', '14'),\n",
       "  ('psych folk', '11'),\n",
       "  ('american', '8'),\n",
       "  ('people who are freakier and folkier than motherfucking devendra banhart',\n",
       "   '8')],\n",
       " 'track_tags': [],\n",
       " 'similar_tracks': [('Ed Askew', 'safe harbor', 1.0),\n",
       "  ('Ed Askew', 'A SHADOW OF CLOUDS', 1.0),\n",
       "  ('Mark Fry', 'Walking In Paradise', 0.978),\n",
       "  ('Mark Fry', \"Ain't Got You\", 0.978),\n",
       "  ('The Incredible String Band', 'Vishangro', 0.977),\n",
       "  ('Six Organs of Admittance', 'Close to the Sky', 0.974),\n",
       "  ('Pearls Before Swine', 'Sail Away (Album Version)', 0.97),\n",
       "  ('Pearls Before Swine', 'Mon Amour (Album Version)', 0.97),\n",
       "  ('The Incredible String Band', 'Banjo Tune', 0.969),\n",
       "  ('Mike Heron', 'Spirit Beautiful', 0.968),\n",
       "  ('Simon Finn', 'Silent City Creep', 0.96),\n",
       "  ('Simon Finn', \"Loiterring's Allowed\", 0.958),\n",
       "  ('Festival', 'Even In the Light', 0.955),\n",
       "  ('Festival', 'Tonight You Belong To Me', 0.955),\n",
       "  ('Dr. Strangely Strange', 'Strings In The Earth And Air', 0.953),\n",
       "  ('Fern Knight', 'Lullaby', 0.95),\n",
       "  ('Fern Knight', 'Shingle River', 0.95),\n",
       "  ('Josephine Foster', \"The Siren's Admonition\", 0.934),\n",
       "  ('The Skygreen Leopards', 'Clouds Through Sparrows Eyes', 0.929),\n",
       "  ('United Bible Studies', 'The Mildew Leaf', 0.925),\n",
       "  ('Linda Perhacs', 'Parallelograms', 0.923),\n",
       "  ('Xenis Emputae Travelling Band', 'A Lyke Wake Dirge', 0.923),\n",
       "  ('Dr. Strangely Strange', 'Strangely Strange But Oddly Normal', 0.921),\n",
       "  ('Donovan', 'Under the Greenwood Tree', 0.921),\n",
       "  ('Donovan', 'Lay of the Last Tinker', 0.92),\n",
       "  ('United Bible Studies', \"Skelly's Fireplace\", 0.907),\n",
       "  ('Six Organs of Admittance', \"Eight Cognition / All You've Left\", 0.888),\n",
       "  ('Comus', 'Diana', 0.877),\n",
       "  ('The Holy Modal Rounders', 'Sugar In The Gourd', 0.866),\n",
       "  ('The Holy Modal Rounders', 'The Cold Roll', 0.866),\n",
       "  ('Comus', 'The Sacrifice', 0.847),\n",
       "  ('Nick Castro', 'Dear Stranger', 0.846),\n",
       "  ('Nick Castro', 'The Opposite of It', 0.846),\n",
       "  ('The Copied Copied', 'I Feel So Good', 0.845),\n",
       "  ('The Copied Copied', 'White Noise Parody', 0.845),\n",
       "  ('Arborea', 'River and Rapids', 0.845),\n",
       "  ('Fresh Maggots', 'Rosemary Hill', 0.843),\n",
       "  ('Espers', 'Rosemary Lane', 0.835),\n",
       "  ('Thistletown', 'Labyrinth', 0.835),\n",
       "  ('Thistletown', 'Rosemarie', 0.835),\n",
       "  ('Dando Shaft', 'Coming Home To Me', 0.828),\n",
       "  ('Espers', 'Mansfield And Cyclops', 0.821),\n",
       "  ('Weyes Blood', 'Lost In Dreams', 0.816),\n",
       "  ('Weyes Blood', 'His Song', 0.816),\n",
       "  ('Hexvessel', 'Elegy to Goyahkla', 0.816),\n",
       "  ('Tim Buckley', 'Venice Mating Call', 0.813),\n",
       "  ('Giant Skyflower Band', 'The Archangel (Hurray for the Beast)', 0.811),\n",
       "  ('Juniper Leaf', 'Pencarrow Head', 0.811),\n",
       "  ('Randy Burns', 'Autumn On Your Mind', 0.808),\n",
       "  ('Kathleen Baird', 'Myself as the Shore', 0.806),\n",
       "  ('Kathleen Baird', 'The Last Word', 0.806),\n",
       "  ('James Howe Edwards', 'Love and Hate', 0.805),\n",
       "  ('The Golden Oaks', 'Softly Fingered Hail', 0.805),\n",
       "  ('Circulus', 'Bourée', 0.805),\n",
       "  ('Joshua Burkett', 'Be Free', 0.804),\n",
       "  ('Woods Family Creeps', 'Spike', 0.803),\n",
       "  ('Circulus', 'Body Bits Part 2', 0.801),\n",
       "  ('Golden Animals', 'Take Me Home', 0.801),\n",
       "  ('Kelli Ali', 'What to Do', 0.8),\n",
       "  ('The Iditarod', 'Dictation and Transcription', 0.795),\n",
       "  ('The Iditarod', 'compromising', 0.795),\n",
       "  ('Elyse', 'Deed I Do', 0.795),\n",
       "  ('Elyse', 'Let Me Go', 0.795),\n",
       "  ('Matt Christensen', 'The Law Kind', 0.791),\n",
       "  ('Matt Christensen', 'Starving', 0.791),\n",
       "  ('友川かずき', '遊行', 0.789),\n",
       "  ('友川かずき', '彼が居た～そうだ!たこ八郎がいた', 0.789),\n",
       "  ('Magic Carpet', 'Sohini', 0.778),\n",
       "  ('Magic Carpet', 'The Strange Song', 0.778),\n",
       "  ('Christina Carter', 'Need To Invent Travel', 0.776),\n",
       "  ('Christina Carter', 'Hand Ten', 0.776),\n",
       "  ('The Doozer', 'In the Hebrides', 0.772),\n",
       "  ('Nihil Project', 'Radha(r)', 0.767),\n",
       "  ('Nihil Project', 'Aloha Song', 0.767),\n",
       "  ('Third Ear Band', 'Atlantis Rising', 0.767),\n",
       "  ('Xenis Emputae Travelling Band', 'Bronze Codex', 0.766),\n",
       "  ('三村京子', 'もうじきあんたは１人で立てるはずだ', 0.766),\n",
       "  ('Annen Berg', 'Blood Wedding', 0.766),\n",
       "  ('一ノ宮頼子', '都会の空', 0.761),\n",
       "  ('Spires That in the Sunset Rise', 'Pouring Mind', 0.76),\n",
       "  ('Gevende', 'IGLOO (remix)', 0.759),\n",
       "  ('Sand Snowman', 'Spider By Moonlight', 0.753),\n",
       "  ('Sand Snowman', 'Ether Eyes', 0.753),\n",
       "  ('breatherholes', 'not for a little while (roky erickson)', 0.745),\n",
       "  ('breatherholes', 'to hold', 0.745),\n",
       "  ('Tom Rapp', 'Grace Street (2006 Remastered Album Version)', 0.744),\n",
       "  ('Tom Rapp', 'Translucent Carriages', 0.744),\n",
       "  ('Gkfoes vjgoaf', 'crystaline ascension', 0.743),\n",
       "  ('Gkfoes vjgoaf', 'a ritual', 0.743),\n",
       "  ('Gevende', 'Anonim', 0.741),\n",
       "  ('MV & EE With The Bummer Road', 'Solar Hill', 0.738),\n",
       "  ('一ノ宮頼子', 'ひかり', 0.737),\n",
       "  ('Jakob Olausson', 'Queen Bee (Album)', 0.731),\n",
       "  ('Jakob Olausson', 'The Wind Combs Her Hair (Album)', 0.731),\n",
       "  ('Headdress', 'The Painted Desert', 0.73),\n",
       "  ('Headdress', 'Babylon', 0.73),\n",
       "  ('Mammatus', 'The Changing Wind', 0.729),\n",
       "  ('Birdlips', 'Blades of Grass', 0.729),\n",
       "  ('Birdlips', 'Giving Up', 0.729)]}"
      ]
     },
     "execution_count": 11,
     "metadata": {},
     "output_type": "execute_result"
    }
   ],
   "source": [
    "data[194]"
   ]
  },
  {
   "cell_type": "code",
   "execution_count": 24,
   "metadata": {
    "scrolled": true
   },
   "outputs": [],
   "source": [
    "asd = dict()\n",
    "asd['{asd}'] = '{dsa}'\n",
    "with open('asd.pickle', 'wb') as f:\n",
    "    pickle.dump(asd, f, protocol=pickle.HIGHEST_PROTOCOL)"
   ]
  },
  {
   "cell_type": "code",
   "execution_count": 27,
   "metadata": {},
   "outputs": [
    {
     "ename": "TypeError",
     "evalue": "'protocol' is an invalid keyword argument for this function",
     "output_type": "error",
     "traceback": [
      "\u001b[0;31m---------------------------------------------------------------------------\u001b[0m",
      "\u001b[0;31mTypeError\u001b[0m                                 Traceback (most recent call last)",
      "\u001b[0;32m<ipython-input-27-812cad315bea>\u001b[0m in \u001b[0;36m<module>\u001b[0;34m\u001b[0m\n\u001b[1;32m      1\u001b[0m \u001b[0;32mwith\u001b[0m \u001b[0mopen\u001b[0m\u001b[0;34m(\u001b[0m\u001b[0;34m'asd.pickle'\u001b[0m\u001b[0;34m,\u001b[0m \u001b[0;34m'rb'\u001b[0m\u001b[0;34m)\u001b[0m \u001b[0;32mas\u001b[0m \u001b[0mf\u001b[0m\u001b[0;34m:\u001b[0m\u001b[0;34m\u001b[0m\u001b[0;34m\u001b[0m\u001b[0m\n\u001b[0;32m----> 2\u001b[0;31m     \u001b[0mdata\u001b[0m \u001b[0;34m=\u001b[0m \u001b[0mpickle\u001b[0m\u001b[0;34m.\u001b[0m\u001b[0mload\u001b[0m\u001b[0;34m(\u001b[0m\u001b[0mf\u001b[0m\u001b[0;34m,\u001b[0m \u001b[0mprotocol\u001b[0m\u001b[0;34m=\u001b[0m\u001b[0mpickle\u001b[0m\u001b[0;34m.\u001b[0m\u001b[0mHIGHEST_PROTOCOL\u001b[0m\u001b[0;34m)\u001b[0m\u001b[0;34m\u001b[0m\u001b[0;34m\u001b[0m\u001b[0m\n\u001b[0m",
      "\u001b[0;31mTypeError\u001b[0m: 'protocol' is an invalid keyword argument for this function"
     ]
    }
   ],
   "source": [
    "with open('asd.pickle', 'rb') as f:\n",
    "    data = pickle.load(f, protocol=pickle.HIGHEST_PROTOCOL)"
   ]
  },
  {
   "cell_type": "code",
   "execution_count": 26,
   "metadata": {},
   "outputs": [
    {
     "data": {
      "text/plain": [
       "{'{asd}': '{dsa}'}"
      ]
     },
     "execution_count": 26,
     "metadata": {},
     "output_type": "execute_result"
    }
   ],
   "source": [
    "data"
   ]
  },
  {
   "cell_type": "code",
   "execution_count": null,
   "metadata": {},
   "outputs": [],
   "source": []
  }
 ],
 "metadata": {
  "kernelspec": {
   "display_name": "dp_project",
   "language": "python",
   "name": "dp_project"
  },
  "language_info": {
   "codemirror_mode": {
    "name": "ipython",
    "version": 3
   },
   "file_extension": ".py",
   "mimetype": "text/x-python",
   "name": "python",
   "nbconvert_exporter": "python",
   "pygments_lexer": "ipython3",
   "version": "3.6.9"
  }
 },
 "nbformat": 4,
 "nbformat_minor": 2
}
